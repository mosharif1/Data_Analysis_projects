{
 "cells": [
  {
   "cell_type": "markdown",
   "metadata": {},
   "source": [
    "#importing libraries"
   ]
  },
  {
   "cell_type": "code",
   "execution_count": 92,
   "metadata": {},
   "outputs": [
    {
     "name": "stdout",
     "output_type": "stream",
     "text": [
      "Collecting seaborn\n",
      "  Downloading seaborn-0.13.0-py3-none-any.whl (294 kB)\n",
      "     ------------------------------------ 294.6/294.6 kB 444.3 kB/s eta 0:00:00\n",
      "Requirement already satisfied: numpy!=1.24.0,>=1.20 in c:\\users\\highend hp\\miniconda3\\lib\\site-packages (from seaborn) (1.25.0)\n",
      "Requirement already satisfied: pandas>=1.2 in c:\\users\\highend hp\\miniconda3\\lib\\site-packages (from seaborn) (1.5.3)\n",
      "Requirement already satisfied: matplotlib!=3.6.1,>=3.3 in c:\\users\\highend hp\\miniconda3\\lib\\site-packages (from seaborn) (3.8.2)\n",
      "Requirement already satisfied: packaging>=20.0 in c:\\users\\highend hp\\miniconda3\\lib\\site-packages (from matplotlib!=3.6.1,>=3.3->seaborn) (23.0)\n",
      "Requirement already satisfied: pillow>=8 in c:\\users\\highend hp\\miniconda3\\lib\\site-packages (from matplotlib!=3.6.1,>=3.3->seaborn) (10.1.0)\n",
      "Requirement already satisfied: contourpy>=1.0.1 in c:\\users\\highend hp\\miniconda3\\lib\\site-packages (from matplotlib!=3.6.1,>=3.3->seaborn) (1.2.0)\n",
      "Requirement already satisfied: kiwisolver>=1.3.1 in c:\\users\\highend hp\\miniconda3\\lib\\site-packages (from matplotlib!=3.6.1,>=3.3->seaborn) (1.4.5)\n",
      "Requirement already satisfied: python-dateutil>=2.7 in c:\\users\\highend hp\\miniconda3\\lib\\site-packages (from matplotlib!=3.6.1,>=3.3->seaborn) (2.8.2)\n",
      "Requirement already satisfied: pyparsing>=2.3.1 in c:\\users\\highend hp\\miniconda3\\lib\\site-packages (from matplotlib!=3.6.1,>=3.3->seaborn) (3.1.1)\n",
      "Requirement already satisfied: fonttools>=4.22.0 in c:\\users\\highend hp\\miniconda3\\lib\\site-packages (from matplotlib!=3.6.1,>=3.3->seaborn) (4.45.1)\n",
      "Requirement already satisfied: cycler>=0.10 in c:\\users\\highend hp\\miniconda3\\lib\\site-packages (from matplotlib!=3.6.1,>=3.3->seaborn) (0.12.1)\n",
      "Requirement already satisfied: pytz>=2020.1 in c:\\users\\highend hp\\miniconda3\\lib\\site-packages (from pandas>=1.2->seaborn) (2022.7)\n",
      "Requirement already satisfied: six>=1.5 in c:\\users\\highend hp\\miniconda3\\lib\\site-packages (from python-dateutil>=2.7->matplotlib!=3.6.1,>=3.3->seaborn) (1.16.0)\n",
      "Installing collected packages: seaborn\n",
      "Successfully installed seaborn-0.13.0\n",
      "Note: you may need to restart the kernel to use updated packages.\n"
     ]
    }
   ],
   "source": [
    "pip install  seaborn\n"
   ]
  },
  {
   "cell_type": "code",
   "execution_count": 1,
   "metadata": {},
   "outputs": [],
   "source": [
    "import pandas as pd\n",
    "import matplotlib. pyplot as plt\n",
    "import plotly.express as px\n",
    "import seaborn as sns"
   ]
  },
  {
   "cell_type": "code",
   "execution_count": 2,
   "metadata": {},
   "outputs": [
    {
     "data": {
      "text/html": [
       "<div>\n",
       "<style scoped>\n",
       "    .dataframe tbody tr th:only-of-type {\n",
       "        vertical-align: middle;\n",
       "    }\n",
       "\n",
       "    .dataframe tbody tr th {\n",
       "        vertical-align: top;\n",
       "    }\n",
       "\n",
       "    .dataframe thead th {\n",
       "        text-align: right;\n",
       "    }\n",
       "</style>\n",
       "<table border=\"1\" class=\"dataframe\">\n",
       "  <thead>\n",
       "    <tr style=\"text-align: right;\">\n",
       "      <th></th>\n",
       "      <th>iso_code</th>\n",
       "      <th>continent</th>\n",
       "      <th>location</th>\n",
       "      <th>date</th>\n",
       "      <th>population</th>\n",
       "      <th>total_cases</th>\n",
       "      <th>new_cases</th>\n",
       "      <th>new_cases_smoothed</th>\n",
       "      <th>total_deaths</th>\n",
       "      <th>new_deaths</th>\n",
       "      <th>...</th>\n",
       "      <th>new_deaths_smoothed_per_million</th>\n",
       "      <th>reproduction_rate</th>\n",
       "      <th>icu_patients</th>\n",
       "      <th>icu_patients_per_million</th>\n",
       "      <th>hosp_patients</th>\n",
       "      <th>hosp_patients_per_million</th>\n",
       "      <th>weekly_icu_admissions</th>\n",
       "      <th>weekly_icu_admissions_per_million</th>\n",
       "      <th>weekly_hosp_admissions</th>\n",
       "      <th>weekly_hosp_admissions_per_million</th>\n",
       "    </tr>\n",
       "  </thead>\n",
       "  <tbody>\n",
       "    <tr>\n",
       "      <th>0</th>\n",
       "      <td>AFG</td>\n",
       "      <td>Asia</td>\n",
       "      <td>Afghanistan</td>\n",
       "      <td>1/3/2020</td>\n",
       "      <td>41128772</td>\n",
       "      <td>NaN</td>\n",
       "      <td>0.0</td>\n",
       "      <td>NaN</td>\n",
       "      <td>NaN</td>\n",
       "      <td>0.0</td>\n",
       "      <td>...</td>\n",
       "      <td>NaN</td>\n",
       "      <td>NaN</td>\n",
       "      <td>NaN</td>\n",
       "      <td>NaN</td>\n",
       "      <td>NaN</td>\n",
       "      <td>NaN</td>\n",
       "      <td>NaN</td>\n",
       "      <td>NaN</td>\n",
       "      <td>NaN</td>\n",
       "      <td>NaN</td>\n",
       "    </tr>\n",
       "    <tr>\n",
       "      <th>1</th>\n",
       "      <td>AFG</td>\n",
       "      <td>Asia</td>\n",
       "      <td>Afghanistan</td>\n",
       "      <td>1/4/2020</td>\n",
       "      <td>41128772</td>\n",
       "      <td>NaN</td>\n",
       "      <td>0.0</td>\n",
       "      <td>NaN</td>\n",
       "      <td>NaN</td>\n",
       "      <td>0.0</td>\n",
       "      <td>...</td>\n",
       "      <td>NaN</td>\n",
       "      <td>NaN</td>\n",
       "      <td>NaN</td>\n",
       "      <td>NaN</td>\n",
       "      <td>NaN</td>\n",
       "      <td>NaN</td>\n",
       "      <td>NaN</td>\n",
       "      <td>NaN</td>\n",
       "      <td>NaN</td>\n",
       "      <td>NaN</td>\n",
       "    </tr>\n",
       "    <tr>\n",
       "      <th>2</th>\n",
       "      <td>AFG</td>\n",
       "      <td>Asia</td>\n",
       "      <td>Afghanistan</td>\n",
       "      <td>1/5/2020</td>\n",
       "      <td>41128772</td>\n",
       "      <td>NaN</td>\n",
       "      <td>0.0</td>\n",
       "      <td>NaN</td>\n",
       "      <td>NaN</td>\n",
       "      <td>0.0</td>\n",
       "      <td>...</td>\n",
       "      <td>NaN</td>\n",
       "      <td>NaN</td>\n",
       "      <td>NaN</td>\n",
       "      <td>NaN</td>\n",
       "      <td>NaN</td>\n",
       "      <td>NaN</td>\n",
       "      <td>NaN</td>\n",
       "      <td>NaN</td>\n",
       "      <td>NaN</td>\n",
       "      <td>NaN</td>\n",
       "    </tr>\n",
       "    <tr>\n",
       "      <th>3</th>\n",
       "      <td>AFG</td>\n",
       "      <td>Asia</td>\n",
       "      <td>Afghanistan</td>\n",
       "      <td>1/6/2020</td>\n",
       "      <td>41128772</td>\n",
       "      <td>NaN</td>\n",
       "      <td>0.0</td>\n",
       "      <td>NaN</td>\n",
       "      <td>NaN</td>\n",
       "      <td>0.0</td>\n",
       "      <td>...</td>\n",
       "      <td>NaN</td>\n",
       "      <td>NaN</td>\n",
       "      <td>NaN</td>\n",
       "      <td>NaN</td>\n",
       "      <td>NaN</td>\n",
       "      <td>NaN</td>\n",
       "      <td>NaN</td>\n",
       "      <td>NaN</td>\n",
       "      <td>NaN</td>\n",
       "      <td>NaN</td>\n",
       "    </tr>\n",
       "    <tr>\n",
       "      <th>4</th>\n",
       "      <td>AFG</td>\n",
       "      <td>Asia</td>\n",
       "      <td>Afghanistan</td>\n",
       "      <td>1/7/2020</td>\n",
       "      <td>41128772</td>\n",
       "      <td>NaN</td>\n",
       "      <td>0.0</td>\n",
       "      <td>NaN</td>\n",
       "      <td>NaN</td>\n",
       "      <td>0.0</td>\n",
       "      <td>...</td>\n",
       "      <td>NaN</td>\n",
       "      <td>NaN</td>\n",
       "      <td>NaN</td>\n",
       "      <td>NaN</td>\n",
       "      <td>NaN</td>\n",
       "      <td>NaN</td>\n",
       "      <td>NaN</td>\n",
       "      <td>NaN</td>\n",
       "      <td>NaN</td>\n",
       "      <td>NaN</td>\n",
       "    </tr>\n",
       "    <tr>\n",
       "      <th>...</th>\n",
       "      <td>...</td>\n",
       "      <td>...</td>\n",
       "      <td>...</td>\n",
       "      <td>...</td>\n",
       "      <td>...</td>\n",
       "      <td>...</td>\n",
       "      <td>...</td>\n",
       "      <td>...</td>\n",
       "      <td>...</td>\n",
       "      <td>...</td>\n",
       "      <td>...</td>\n",
       "      <td>...</td>\n",
       "      <td>...</td>\n",
       "      <td>...</td>\n",
       "      <td>...</td>\n",
       "      <td>...</td>\n",
       "      <td>...</td>\n",
       "      <td>...</td>\n",
       "      <td>...</td>\n",
       "      <td>...</td>\n",
       "      <td>...</td>\n",
       "    </tr>\n",
       "    <tr>\n",
       "      <th>332518</th>\n",
       "      <td>ZWE</td>\n",
       "      <td>Africa</td>\n",
       "      <td>Zimbabwe</td>\n",
       "      <td>8/5/2023</td>\n",
       "      <td>16320539</td>\n",
       "      <td>265693.0</td>\n",
       "      <td>0.0</td>\n",
       "      <td>0.0</td>\n",
       "      <td>5712.0</td>\n",
       "      <td>0.0</td>\n",
       "      <td>...</td>\n",
       "      <td>0.0</td>\n",
       "      <td>NaN</td>\n",
       "      <td>NaN</td>\n",
       "      <td>NaN</td>\n",
       "      <td>NaN</td>\n",
       "      <td>NaN</td>\n",
       "      <td>NaN</td>\n",
       "      <td>NaN</td>\n",
       "      <td>NaN</td>\n",
       "      <td>NaN</td>\n",
       "    </tr>\n",
       "    <tr>\n",
       "      <th>332519</th>\n",
       "      <td>ZWE</td>\n",
       "      <td>Africa</td>\n",
       "      <td>Zimbabwe</td>\n",
       "      <td>8/6/2023</td>\n",
       "      <td>16320539</td>\n",
       "      <td>265693.0</td>\n",
       "      <td>0.0</td>\n",
       "      <td>0.0</td>\n",
       "      <td>5712.0</td>\n",
       "      <td>0.0</td>\n",
       "      <td>...</td>\n",
       "      <td>0.0</td>\n",
       "      <td>NaN</td>\n",
       "      <td>NaN</td>\n",
       "      <td>NaN</td>\n",
       "      <td>NaN</td>\n",
       "      <td>NaN</td>\n",
       "      <td>NaN</td>\n",
       "      <td>NaN</td>\n",
       "      <td>NaN</td>\n",
       "      <td>NaN</td>\n",
       "    </tr>\n",
       "    <tr>\n",
       "      <th>332520</th>\n",
       "      <td>ZWE</td>\n",
       "      <td>Africa</td>\n",
       "      <td>Zimbabwe</td>\n",
       "      <td>8/7/2023</td>\n",
       "      <td>16320539</td>\n",
       "      <td>265693.0</td>\n",
       "      <td>0.0</td>\n",
       "      <td>0.0</td>\n",
       "      <td>5712.0</td>\n",
       "      <td>0.0</td>\n",
       "      <td>...</td>\n",
       "      <td>0.0</td>\n",
       "      <td>NaN</td>\n",
       "      <td>NaN</td>\n",
       "      <td>NaN</td>\n",
       "      <td>NaN</td>\n",
       "      <td>NaN</td>\n",
       "      <td>NaN</td>\n",
       "      <td>NaN</td>\n",
       "      <td>NaN</td>\n",
       "      <td>NaN</td>\n",
       "    </tr>\n",
       "    <tr>\n",
       "      <th>332521</th>\n",
       "      <td>ZWE</td>\n",
       "      <td>Africa</td>\n",
       "      <td>Zimbabwe</td>\n",
       "      <td>8/8/2023</td>\n",
       "      <td>16320539</td>\n",
       "      <td>265693.0</td>\n",
       "      <td>0.0</td>\n",
       "      <td>0.0</td>\n",
       "      <td>5712.0</td>\n",
       "      <td>0.0</td>\n",
       "      <td>...</td>\n",
       "      <td>0.0</td>\n",
       "      <td>NaN</td>\n",
       "      <td>NaN</td>\n",
       "      <td>NaN</td>\n",
       "      <td>NaN</td>\n",
       "      <td>NaN</td>\n",
       "      <td>NaN</td>\n",
       "      <td>NaN</td>\n",
       "      <td>NaN</td>\n",
       "      <td>NaN</td>\n",
       "    </tr>\n",
       "    <tr>\n",
       "      <th>332522</th>\n",
       "      <td>ZWE</td>\n",
       "      <td>Africa</td>\n",
       "      <td>Zimbabwe</td>\n",
       "      <td>8/9/2023</td>\n",
       "      <td>16320539</td>\n",
       "      <td>265693.0</td>\n",
       "      <td>0.0</td>\n",
       "      <td>0.0</td>\n",
       "      <td>5712.0</td>\n",
       "      <td>0.0</td>\n",
       "      <td>...</td>\n",
       "      <td>0.0</td>\n",
       "      <td>NaN</td>\n",
       "      <td>NaN</td>\n",
       "      <td>NaN</td>\n",
       "      <td>NaN</td>\n",
       "      <td>NaN</td>\n",
       "      <td>NaN</td>\n",
       "      <td>NaN</td>\n",
       "      <td>NaN</td>\n",
       "      <td>NaN</td>\n",
       "    </tr>\n",
       "  </tbody>\n",
       "</table>\n",
       "<p>332523 rows × 26 columns</p>\n",
       "</div>"
      ],
      "text/plain": [
       "       iso_code continent     location      date  population  total_cases  \\\n",
       "0           AFG      Asia  Afghanistan  1/3/2020    41128772          NaN   \n",
       "1           AFG      Asia  Afghanistan  1/4/2020    41128772          NaN   \n",
       "2           AFG      Asia  Afghanistan  1/5/2020    41128772          NaN   \n",
       "3           AFG      Asia  Afghanistan  1/6/2020    41128772          NaN   \n",
       "4           AFG      Asia  Afghanistan  1/7/2020    41128772          NaN   \n",
       "...         ...       ...          ...       ...         ...          ...   \n",
       "332518      ZWE    Africa     Zimbabwe  8/5/2023    16320539     265693.0   \n",
       "332519      ZWE    Africa     Zimbabwe  8/6/2023    16320539     265693.0   \n",
       "332520      ZWE    Africa     Zimbabwe  8/7/2023    16320539     265693.0   \n",
       "332521      ZWE    Africa     Zimbabwe  8/8/2023    16320539     265693.0   \n",
       "332522      ZWE    Africa     Zimbabwe  8/9/2023    16320539     265693.0   \n",
       "\n",
       "        new_cases  new_cases_smoothed  total_deaths  new_deaths  ...  \\\n",
       "0             0.0                 NaN           NaN         0.0  ...   \n",
       "1             0.0                 NaN           NaN         0.0  ...   \n",
       "2             0.0                 NaN           NaN         0.0  ...   \n",
       "3             0.0                 NaN           NaN         0.0  ...   \n",
       "4             0.0                 NaN           NaN         0.0  ...   \n",
       "...           ...                 ...           ...         ...  ...   \n",
       "332518        0.0                 0.0        5712.0         0.0  ...   \n",
       "332519        0.0                 0.0        5712.0         0.0  ...   \n",
       "332520        0.0                 0.0        5712.0         0.0  ...   \n",
       "332521        0.0                 0.0        5712.0         0.0  ...   \n",
       "332522        0.0                 0.0        5712.0         0.0  ...   \n",
       "\n",
       "        new_deaths_smoothed_per_million  reproduction_rate  icu_patients  \\\n",
       "0                                   NaN                NaN           NaN   \n",
       "1                                   NaN                NaN           NaN   \n",
       "2                                   NaN                NaN           NaN   \n",
       "3                                   NaN                NaN           NaN   \n",
       "4                                   NaN                NaN           NaN   \n",
       "...                                 ...                ...           ...   \n",
       "332518                              0.0                NaN           NaN   \n",
       "332519                              0.0                NaN           NaN   \n",
       "332520                              0.0                NaN           NaN   \n",
       "332521                              0.0                NaN           NaN   \n",
       "332522                              0.0                NaN           NaN   \n",
       "\n",
       "        icu_patients_per_million  hosp_patients  hosp_patients_per_million  \\\n",
       "0                            NaN            NaN                        NaN   \n",
       "1                            NaN            NaN                        NaN   \n",
       "2                            NaN            NaN                        NaN   \n",
       "3                            NaN            NaN                        NaN   \n",
       "4                            NaN            NaN                        NaN   \n",
       "...                          ...            ...                        ...   \n",
       "332518                       NaN            NaN                        NaN   \n",
       "332519                       NaN            NaN                        NaN   \n",
       "332520                       NaN            NaN                        NaN   \n",
       "332521                       NaN            NaN                        NaN   \n",
       "332522                       NaN            NaN                        NaN   \n",
       "\n",
       "        weekly_icu_admissions  weekly_icu_admissions_per_million  \\\n",
       "0                         NaN                                NaN   \n",
       "1                         NaN                                NaN   \n",
       "2                         NaN                                NaN   \n",
       "3                         NaN                                NaN   \n",
       "4                         NaN                                NaN   \n",
       "...                       ...                                ...   \n",
       "332518                    NaN                                NaN   \n",
       "332519                    NaN                                NaN   \n",
       "332520                    NaN                                NaN   \n",
       "332521                    NaN                                NaN   \n",
       "332522                    NaN                                NaN   \n",
       "\n",
       "        weekly_hosp_admissions  weekly_hosp_admissions_per_million  \n",
       "0                          NaN                                 NaN  \n",
       "1                          NaN                                 NaN  \n",
       "2                          NaN                                 NaN  \n",
       "3                          NaN                                 NaN  \n",
       "4                          NaN                                 NaN  \n",
       "...                        ...                                 ...  \n",
       "332518                     NaN                                 NaN  \n",
       "332519                     NaN                                 NaN  \n",
       "332520                     NaN                                 NaN  \n",
       "332521                     NaN                                 NaN  \n",
       "332522                     NaN                                 NaN  \n",
       "\n",
       "[332523 rows x 26 columns]"
      ]
     },
     "execution_count": 2,
     "metadata": {},
     "output_type": "execute_result"
    }
   ],
   "source": [
    "df=pd.read_csv('deaths.csv')\n",
    "df"
   ]
  },
  {
   "cell_type": "markdown",
   "metadata": {},
   "source": [
    "#DATA CLEANING\n",
    "## dropping unuseful columns"
   ]
  },
  {
   "cell_type": "code",
   "execution_count": 3,
   "metadata": {},
   "outputs": [
    {
     "data": {
      "text/html": [
       "<div>\n",
       "<style scoped>\n",
       "    .dataframe tbody tr th:only-of-type {\n",
       "        vertical-align: middle;\n",
       "    }\n",
       "\n",
       "    .dataframe tbody tr th {\n",
       "        vertical-align: top;\n",
       "    }\n",
       "\n",
       "    .dataframe thead th {\n",
       "        text-align: right;\n",
       "    }\n",
       "</style>\n",
       "<table border=\"1\" class=\"dataframe\">\n",
       "  <thead>\n",
       "    <tr style=\"text-align: right;\">\n",
       "      <th></th>\n",
       "      <th>iso_code</th>\n",
       "      <th>continent</th>\n",
       "      <th>location</th>\n",
       "      <th>date</th>\n",
       "      <th>population</th>\n",
       "      <th>total_cases</th>\n",
       "      <th>new_cases</th>\n",
       "      <th>total_deaths</th>\n",
       "      <th>new_deaths</th>\n",
       "    </tr>\n",
       "  </thead>\n",
       "  <tbody>\n",
       "    <tr>\n",
       "      <th>0</th>\n",
       "      <td>AFG</td>\n",
       "      <td>Asia</td>\n",
       "      <td>Afghanistan</td>\n",
       "      <td>1/3/2020</td>\n",
       "      <td>41128772</td>\n",
       "      <td>NaN</td>\n",
       "      <td>0.0</td>\n",
       "      <td>NaN</td>\n",
       "      <td>0.0</td>\n",
       "    </tr>\n",
       "    <tr>\n",
       "      <th>1</th>\n",
       "      <td>AFG</td>\n",
       "      <td>Asia</td>\n",
       "      <td>Afghanistan</td>\n",
       "      <td>1/4/2020</td>\n",
       "      <td>41128772</td>\n",
       "      <td>NaN</td>\n",
       "      <td>0.0</td>\n",
       "      <td>NaN</td>\n",
       "      <td>0.0</td>\n",
       "    </tr>\n",
       "    <tr>\n",
       "      <th>2</th>\n",
       "      <td>AFG</td>\n",
       "      <td>Asia</td>\n",
       "      <td>Afghanistan</td>\n",
       "      <td>1/5/2020</td>\n",
       "      <td>41128772</td>\n",
       "      <td>NaN</td>\n",
       "      <td>0.0</td>\n",
       "      <td>NaN</td>\n",
       "      <td>0.0</td>\n",
       "    </tr>\n",
       "    <tr>\n",
       "      <th>3</th>\n",
       "      <td>AFG</td>\n",
       "      <td>Asia</td>\n",
       "      <td>Afghanistan</td>\n",
       "      <td>1/6/2020</td>\n",
       "      <td>41128772</td>\n",
       "      <td>NaN</td>\n",
       "      <td>0.0</td>\n",
       "      <td>NaN</td>\n",
       "      <td>0.0</td>\n",
       "    </tr>\n",
       "    <tr>\n",
       "      <th>4</th>\n",
       "      <td>AFG</td>\n",
       "      <td>Asia</td>\n",
       "      <td>Afghanistan</td>\n",
       "      <td>1/7/2020</td>\n",
       "      <td>41128772</td>\n",
       "      <td>NaN</td>\n",
       "      <td>0.0</td>\n",
       "      <td>NaN</td>\n",
       "      <td>0.0</td>\n",
       "    </tr>\n",
       "    <tr>\n",
       "      <th>...</th>\n",
       "      <td>...</td>\n",
       "      <td>...</td>\n",
       "      <td>...</td>\n",
       "      <td>...</td>\n",
       "      <td>...</td>\n",
       "      <td>...</td>\n",
       "      <td>...</td>\n",
       "      <td>...</td>\n",
       "      <td>...</td>\n",
       "    </tr>\n",
       "    <tr>\n",
       "      <th>332518</th>\n",
       "      <td>ZWE</td>\n",
       "      <td>Africa</td>\n",
       "      <td>Zimbabwe</td>\n",
       "      <td>8/5/2023</td>\n",
       "      <td>16320539</td>\n",
       "      <td>265693.0</td>\n",
       "      <td>0.0</td>\n",
       "      <td>5712.0</td>\n",
       "      <td>0.0</td>\n",
       "    </tr>\n",
       "    <tr>\n",
       "      <th>332519</th>\n",
       "      <td>ZWE</td>\n",
       "      <td>Africa</td>\n",
       "      <td>Zimbabwe</td>\n",
       "      <td>8/6/2023</td>\n",
       "      <td>16320539</td>\n",
       "      <td>265693.0</td>\n",
       "      <td>0.0</td>\n",
       "      <td>5712.0</td>\n",
       "      <td>0.0</td>\n",
       "    </tr>\n",
       "    <tr>\n",
       "      <th>332520</th>\n",
       "      <td>ZWE</td>\n",
       "      <td>Africa</td>\n",
       "      <td>Zimbabwe</td>\n",
       "      <td>8/7/2023</td>\n",
       "      <td>16320539</td>\n",
       "      <td>265693.0</td>\n",
       "      <td>0.0</td>\n",
       "      <td>5712.0</td>\n",
       "      <td>0.0</td>\n",
       "    </tr>\n",
       "    <tr>\n",
       "      <th>332521</th>\n",
       "      <td>ZWE</td>\n",
       "      <td>Africa</td>\n",
       "      <td>Zimbabwe</td>\n",
       "      <td>8/8/2023</td>\n",
       "      <td>16320539</td>\n",
       "      <td>265693.0</td>\n",
       "      <td>0.0</td>\n",
       "      <td>5712.0</td>\n",
       "      <td>0.0</td>\n",
       "    </tr>\n",
       "    <tr>\n",
       "      <th>332522</th>\n",
       "      <td>ZWE</td>\n",
       "      <td>Africa</td>\n",
       "      <td>Zimbabwe</td>\n",
       "      <td>8/9/2023</td>\n",
       "      <td>16320539</td>\n",
       "      <td>265693.0</td>\n",
       "      <td>0.0</td>\n",
       "      <td>5712.0</td>\n",
       "      <td>0.0</td>\n",
       "    </tr>\n",
       "  </tbody>\n",
       "</table>\n",
       "<p>332523 rows × 9 columns</p>\n",
       "</div>"
      ],
      "text/plain": [
       "       iso_code continent     location      date  population  total_cases  \\\n",
       "0           AFG      Asia  Afghanistan  1/3/2020    41128772          NaN   \n",
       "1           AFG      Asia  Afghanistan  1/4/2020    41128772          NaN   \n",
       "2           AFG      Asia  Afghanistan  1/5/2020    41128772          NaN   \n",
       "3           AFG      Asia  Afghanistan  1/6/2020    41128772          NaN   \n",
       "4           AFG      Asia  Afghanistan  1/7/2020    41128772          NaN   \n",
       "...         ...       ...          ...       ...         ...          ...   \n",
       "332518      ZWE    Africa     Zimbabwe  8/5/2023    16320539     265693.0   \n",
       "332519      ZWE    Africa     Zimbabwe  8/6/2023    16320539     265693.0   \n",
       "332520      ZWE    Africa     Zimbabwe  8/7/2023    16320539     265693.0   \n",
       "332521      ZWE    Africa     Zimbabwe  8/8/2023    16320539     265693.0   \n",
       "332522      ZWE    Africa     Zimbabwe  8/9/2023    16320539     265693.0   \n",
       "\n",
       "        new_cases  total_deaths  new_deaths  \n",
       "0             0.0           NaN         0.0  \n",
       "1             0.0           NaN         0.0  \n",
       "2             0.0           NaN         0.0  \n",
       "3             0.0           NaN         0.0  \n",
       "4             0.0           NaN         0.0  \n",
       "...           ...           ...         ...  \n",
       "332518        0.0        5712.0         0.0  \n",
       "332519        0.0        5712.0         0.0  \n",
       "332520        0.0        5712.0         0.0  \n",
       "332521        0.0        5712.0         0.0  \n",
       "332522        0.0        5712.0         0.0  \n",
       "\n",
       "[332523 rows x 9 columns]"
      ]
     },
     "execution_count": 3,
     "metadata": {},
     "output_type": "execute_result"
    }
   ],
   "source": [
    "\n",
    "df.drop(columns=['new_cases_smoothed','new_deaths_smoothed_per_million','reproduction_rate','icu_patients','icu_patients_per_million','hosp_patients','hosp_patients_per_million','weekly_icu_admissions','weekly_icu_admissions_per_million',\n",
    "                'weekly_hosp_admissions','weekly_hosp_admissions_per_million'],inplace=True)\n",
    "df.drop(columns=['new_cases_per_million','new_cases_smoothed_per_million','total_deaths_per_million','new_deaths_per_million','total_cases_per_million','new_deaths_smoothed'],inplace=True)\n",
    "df"
   ]
  },
  {
   "cell_type": "code",
   "execution_count": 10,
   "metadata": {},
   "outputs": [
    {
     "data": {
      "text/plain": [
       "(332523, 9)"
      ]
     },
     "execution_count": 10,
     "metadata": {},
     "output_type": "execute_result"
    }
   ],
   "source": [
    "df.shape"
   ]
  },
  {
   "cell_type": "code",
   "execution_count": 14,
   "metadata": {},
   "outputs": [
    {
     "name": "stdout",
     "output_type": "stream",
     "text": [
      "<class 'pandas.core.frame.DataFrame'>\n",
      "RangeIndex: 332523 entries, 0 to 332522\n",
      "Data columns (total 9 columns):\n",
      " #   Column        Non-Null Count   Dtype         \n",
      "---  ------        --------------   -----         \n",
      " 0   iso_code      332523 non-null  object        \n",
      " 1   continent     316712 non-null  object        \n",
      " 2   location      332523 non-null  object        \n",
      " 3   date          332523 non-null  datetime64[ns]\n",
      " 4   population    332523 non-null  int64         \n",
      " 5   total_cases   295008 non-null  float64       \n",
      " 6   new_cases     323383 non-null  float64       \n",
      " 7   total_deaths  273840 non-null  float64       \n",
      " 8   new_deaths    323443 non-null  float64       \n",
      "dtypes: datetime64[ns](1), float64(4), int64(1), object(3)\n",
      "memory usage: 22.8+ MB\n"
     ]
    }
   ],
   "source": [
    "df.info()"
   ]
  },
  {
   "cell_type": "markdown",
   "metadata": {},
   "source": [
    "## cleaning data"
   ]
  },
  {
   "cell_type": "markdown",
   "metadata": {},
   "source": [
    "#changin data types"
   ]
  },
  {
   "cell_type": "markdown",
   "metadata": {},
   "source": [
    "change date column data type into datetime"
   ]
  },
  {
   "cell_type": "code",
   "execution_count": 4,
   "metadata": {},
   "outputs": [],
   "source": [
    "import datetime as dt"
   ]
  },
  {
   "cell_type": "code",
   "execution_count": 5,
   "metadata": {},
   "outputs": [],
   "source": [
    "df['date']=pd.to_datetime(df['date'])"
   ]
  },
  {
   "cell_type": "markdown",
   "metadata": {},
   "source": [
    "splitting date column into years it containg 4 years i willmake it every years own data"
   ]
  },
  {
   "cell_type": "markdown",
   "metadata": {},
   "source": [
    "2020 data"
   ]
  },
  {
   "cell_type": "code",
   "execution_count": 6,
   "metadata": {},
   "outputs": [
    {
     "data": {
      "text/html": [
       "<div>\n",
       "<style scoped>\n",
       "    .dataframe tbody tr th:only-of-type {\n",
       "        vertical-align: middle;\n",
       "    }\n",
       "\n",
       "    .dataframe tbody tr th {\n",
       "        vertical-align: top;\n",
       "    }\n",
       "\n",
       "    .dataframe thead th {\n",
       "        text-align: right;\n",
       "    }\n",
       "</style>\n",
       "<table border=\"1\" class=\"dataframe\">\n",
       "  <thead>\n",
       "    <tr style=\"text-align: right;\">\n",
       "      <th></th>\n",
       "      <th>iso_code</th>\n",
       "      <th>continent</th>\n",
       "      <th>location</th>\n",
       "      <th>date</th>\n",
       "      <th>population</th>\n",
       "      <th>total_cases</th>\n",
       "      <th>new_cases</th>\n",
       "      <th>total_deaths</th>\n",
       "      <th>new_deaths</th>\n",
       "    </tr>\n",
       "  </thead>\n",
       "  <tbody>\n",
       "    <tr>\n",
       "      <th>0</th>\n",
       "      <td>AFG</td>\n",
       "      <td>Asia</td>\n",
       "      <td>Afghanistan</td>\n",
       "      <td>2020-01-03</td>\n",
       "      <td>41128772</td>\n",
       "      <td>NaN</td>\n",
       "      <td>0.0</td>\n",
       "      <td>NaN</td>\n",
       "      <td>0.0</td>\n",
       "    </tr>\n",
       "    <tr>\n",
       "      <th>1</th>\n",
       "      <td>AFG</td>\n",
       "      <td>Asia</td>\n",
       "      <td>Afghanistan</td>\n",
       "      <td>2020-01-04</td>\n",
       "      <td>41128772</td>\n",
       "      <td>NaN</td>\n",
       "      <td>0.0</td>\n",
       "      <td>NaN</td>\n",
       "      <td>0.0</td>\n",
       "    </tr>\n",
       "    <tr>\n",
       "      <th>2</th>\n",
       "      <td>AFG</td>\n",
       "      <td>Asia</td>\n",
       "      <td>Afghanistan</td>\n",
       "      <td>2020-01-05</td>\n",
       "      <td>41128772</td>\n",
       "      <td>NaN</td>\n",
       "      <td>0.0</td>\n",
       "      <td>NaN</td>\n",
       "      <td>0.0</td>\n",
       "    </tr>\n",
       "    <tr>\n",
       "      <th>3</th>\n",
       "      <td>AFG</td>\n",
       "      <td>Asia</td>\n",
       "      <td>Afghanistan</td>\n",
       "      <td>2020-01-06</td>\n",
       "      <td>41128772</td>\n",
       "      <td>NaN</td>\n",
       "      <td>0.0</td>\n",
       "      <td>NaN</td>\n",
       "      <td>0.0</td>\n",
       "    </tr>\n",
       "    <tr>\n",
       "      <th>4</th>\n",
       "      <td>AFG</td>\n",
       "      <td>Asia</td>\n",
       "      <td>Afghanistan</td>\n",
       "      <td>2020-01-07</td>\n",
       "      <td>41128772</td>\n",
       "      <td>NaN</td>\n",
       "      <td>0.0</td>\n",
       "      <td>NaN</td>\n",
       "      <td>0.0</td>\n",
       "    </tr>\n",
       "    <tr>\n",
       "      <th>...</th>\n",
       "      <td>...</td>\n",
       "      <td>...</td>\n",
       "      <td>...</td>\n",
       "      <td>...</td>\n",
       "      <td>...</td>\n",
       "      <td>...</td>\n",
       "      <td>...</td>\n",
       "      <td>...</td>\n",
       "      <td>...</td>\n",
       "    </tr>\n",
       "    <tr>\n",
       "      <th>331567</th>\n",
       "      <td>ZWE</td>\n",
       "      <td>Africa</td>\n",
       "      <td>Zimbabwe</td>\n",
       "      <td>2020-12-27</td>\n",
       "      <td>16320539</td>\n",
       "      <td>12963.0</td>\n",
       "      <td>83.0</td>\n",
       "      <td>341.0</td>\n",
       "      <td>0.0</td>\n",
       "    </tr>\n",
       "    <tr>\n",
       "      <th>331568</th>\n",
       "      <td>ZWE</td>\n",
       "      <td>Africa</td>\n",
       "      <td>Zimbabwe</td>\n",
       "      <td>2020-12-28</td>\n",
       "      <td>16320539</td>\n",
       "      <td>13077.0</td>\n",
       "      <td>114.0</td>\n",
       "      <td>349.0</td>\n",
       "      <td>8.0</td>\n",
       "    </tr>\n",
       "    <tr>\n",
       "      <th>331569</th>\n",
       "      <td>ZWE</td>\n",
       "      <td>Africa</td>\n",
       "      <td>Zimbabwe</td>\n",
       "      <td>2020-12-29</td>\n",
       "      <td>16320539</td>\n",
       "      <td>13148.0</td>\n",
       "      <td>71.0</td>\n",
       "      <td>354.0</td>\n",
       "      <td>5.0</td>\n",
       "    </tr>\n",
       "    <tr>\n",
       "      <th>331570</th>\n",
       "      <td>ZWE</td>\n",
       "      <td>Africa</td>\n",
       "      <td>Zimbabwe</td>\n",
       "      <td>2020-12-30</td>\n",
       "      <td>16320539</td>\n",
       "      <td>13325.0</td>\n",
       "      <td>177.0</td>\n",
       "      <td>359.0</td>\n",
       "      <td>5.0</td>\n",
       "    </tr>\n",
       "    <tr>\n",
       "      <th>331571</th>\n",
       "      <td>ZWE</td>\n",
       "      <td>Africa</td>\n",
       "      <td>Zimbabwe</td>\n",
       "      <td>2020-12-31</td>\n",
       "      <td>16320539</td>\n",
       "      <td>13625.0</td>\n",
       "      <td>300.0</td>\n",
       "      <td>360.0</td>\n",
       "      <td>1.0</td>\n",
       "    </tr>\n",
       "  </tbody>\n",
       "</table>\n",
       "<p>91389 rows × 9 columns</p>\n",
       "</div>"
      ],
      "text/plain": [
       "       iso_code continent     location       date  population  total_cases  \\\n",
       "0           AFG      Asia  Afghanistan 2020-01-03    41128772          NaN   \n",
       "1           AFG      Asia  Afghanistan 2020-01-04    41128772          NaN   \n",
       "2           AFG      Asia  Afghanistan 2020-01-05    41128772          NaN   \n",
       "3           AFG      Asia  Afghanistan 2020-01-06    41128772          NaN   \n",
       "4           AFG      Asia  Afghanistan 2020-01-07    41128772          NaN   \n",
       "...         ...       ...          ...        ...         ...          ...   \n",
       "331567      ZWE    Africa     Zimbabwe 2020-12-27    16320539      12963.0   \n",
       "331568      ZWE    Africa     Zimbabwe 2020-12-28    16320539      13077.0   \n",
       "331569      ZWE    Africa     Zimbabwe 2020-12-29    16320539      13148.0   \n",
       "331570      ZWE    Africa     Zimbabwe 2020-12-30    16320539      13325.0   \n",
       "331571      ZWE    Africa     Zimbabwe 2020-12-31    16320539      13625.0   \n",
       "\n",
       "        new_cases  total_deaths  new_deaths  \n",
       "0             0.0           NaN         0.0  \n",
       "1             0.0           NaN         0.0  \n",
       "2             0.0           NaN         0.0  \n",
       "3             0.0           NaN         0.0  \n",
       "4             0.0           NaN         0.0  \n",
       "...           ...           ...         ...  \n",
       "331567       83.0         341.0         0.0  \n",
       "331568      114.0         349.0         8.0  \n",
       "331569       71.0         354.0         5.0  \n",
       "331570      177.0         359.0         5.0  \n",
       "331571      300.0         360.0         1.0  \n",
       "\n",
       "[91389 rows x 9 columns]"
      ]
     },
     "execution_count": 6,
     "metadata": {},
     "output_type": "execute_result"
    }
   ],
   "source": [
    "desired_year=2020\n",
    "data_2020=df[df['date'].dt.year==desired_year]\n",
    "data_2020"
   ]
  },
  {
   "cell_type": "markdown",
   "metadata": {},
   "source": [
    "## Analayzing only 2020 data"
   ]
  },
  {
   "cell_type": "markdown",
   "metadata": {},
   "source": [
    "### splittng date column to add month and day columns "
   ]
  },
  {
   "cell_type": "code",
   "execution_count": 7,
   "metadata": {},
   "outputs": [
    {
     "name": "stderr",
     "output_type": "stream",
     "text": [
      "C:\\Users\\HighEnd HP\\AppData\\Local\\Temp\\ipykernel_24412\\1210656304.py:1: SettingWithCopyWarning: \n",
      "A value is trying to be set on a copy of a slice from a DataFrame.\n",
      "Try using .loc[row_indexer,col_indexer] = value instead\n",
      "\n",
      "See the caveats in the documentation: https://pandas.pydata.org/pandas-docs/stable/user_guide/indexing.html#returning-a-view-versus-a-copy\n",
      "  data_2020['month']=data_2020['date'].dt.month\n",
      "C:\\Users\\HighEnd HP\\AppData\\Local\\Temp\\ipykernel_24412\\1210656304.py:2: SettingWithCopyWarning: \n",
      "A value is trying to be set on a copy of a slice from a DataFrame.\n",
      "Try using .loc[row_indexer,col_indexer] = value instead\n",
      "\n",
      "See the caveats in the documentation: https://pandas.pydata.org/pandas-docs/stable/user_guide/indexing.html#returning-a-view-versus-a-copy\n",
      "  data_2020['day']=data_2020['date'].dt.day\n"
     ]
    },
    {
     "data": {
      "text/html": [
       "<div>\n",
       "<style scoped>\n",
       "    .dataframe tbody tr th:only-of-type {\n",
       "        vertical-align: middle;\n",
       "    }\n",
       "\n",
       "    .dataframe tbody tr th {\n",
       "        vertical-align: top;\n",
       "    }\n",
       "\n",
       "    .dataframe thead th {\n",
       "        text-align: right;\n",
       "    }\n",
       "</style>\n",
       "<table border=\"1\" class=\"dataframe\">\n",
       "  <thead>\n",
       "    <tr style=\"text-align: right;\">\n",
       "      <th></th>\n",
       "      <th>iso_code</th>\n",
       "      <th>continent</th>\n",
       "      <th>location</th>\n",
       "      <th>date</th>\n",
       "      <th>population</th>\n",
       "      <th>total_cases</th>\n",
       "      <th>new_cases</th>\n",
       "      <th>total_deaths</th>\n",
       "      <th>new_deaths</th>\n",
       "      <th>month</th>\n",
       "      <th>day</th>\n",
       "    </tr>\n",
       "  </thead>\n",
       "  <tbody>\n",
       "    <tr>\n",
       "      <th>0</th>\n",
       "      <td>AFG</td>\n",
       "      <td>Asia</td>\n",
       "      <td>Afghanistan</td>\n",
       "      <td>2020-01-03</td>\n",
       "      <td>41128772</td>\n",
       "      <td>NaN</td>\n",
       "      <td>0.0</td>\n",
       "      <td>NaN</td>\n",
       "      <td>0.0</td>\n",
       "      <td>1</td>\n",
       "      <td>3</td>\n",
       "    </tr>\n",
       "    <tr>\n",
       "      <th>1</th>\n",
       "      <td>AFG</td>\n",
       "      <td>Asia</td>\n",
       "      <td>Afghanistan</td>\n",
       "      <td>2020-01-04</td>\n",
       "      <td>41128772</td>\n",
       "      <td>NaN</td>\n",
       "      <td>0.0</td>\n",
       "      <td>NaN</td>\n",
       "      <td>0.0</td>\n",
       "      <td>1</td>\n",
       "      <td>4</td>\n",
       "    </tr>\n",
       "    <tr>\n",
       "      <th>2</th>\n",
       "      <td>AFG</td>\n",
       "      <td>Asia</td>\n",
       "      <td>Afghanistan</td>\n",
       "      <td>2020-01-05</td>\n",
       "      <td>41128772</td>\n",
       "      <td>NaN</td>\n",
       "      <td>0.0</td>\n",
       "      <td>NaN</td>\n",
       "      <td>0.0</td>\n",
       "      <td>1</td>\n",
       "      <td>5</td>\n",
       "    </tr>\n",
       "    <tr>\n",
       "      <th>3</th>\n",
       "      <td>AFG</td>\n",
       "      <td>Asia</td>\n",
       "      <td>Afghanistan</td>\n",
       "      <td>2020-01-06</td>\n",
       "      <td>41128772</td>\n",
       "      <td>NaN</td>\n",
       "      <td>0.0</td>\n",
       "      <td>NaN</td>\n",
       "      <td>0.0</td>\n",
       "      <td>1</td>\n",
       "      <td>6</td>\n",
       "    </tr>\n",
       "    <tr>\n",
       "      <th>4</th>\n",
       "      <td>AFG</td>\n",
       "      <td>Asia</td>\n",
       "      <td>Afghanistan</td>\n",
       "      <td>2020-01-07</td>\n",
       "      <td>41128772</td>\n",
       "      <td>NaN</td>\n",
       "      <td>0.0</td>\n",
       "      <td>NaN</td>\n",
       "      <td>0.0</td>\n",
       "      <td>1</td>\n",
       "      <td>7</td>\n",
       "    </tr>\n",
       "    <tr>\n",
       "      <th>...</th>\n",
       "      <td>...</td>\n",
       "      <td>...</td>\n",
       "      <td>...</td>\n",
       "      <td>...</td>\n",
       "      <td>...</td>\n",
       "      <td>...</td>\n",
       "      <td>...</td>\n",
       "      <td>...</td>\n",
       "      <td>...</td>\n",
       "      <td>...</td>\n",
       "      <td>...</td>\n",
       "    </tr>\n",
       "    <tr>\n",
       "      <th>331567</th>\n",
       "      <td>ZWE</td>\n",
       "      <td>Africa</td>\n",
       "      <td>Zimbabwe</td>\n",
       "      <td>2020-12-27</td>\n",
       "      <td>16320539</td>\n",
       "      <td>12963.0</td>\n",
       "      <td>83.0</td>\n",
       "      <td>341.0</td>\n",
       "      <td>0.0</td>\n",
       "      <td>12</td>\n",
       "      <td>27</td>\n",
       "    </tr>\n",
       "    <tr>\n",
       "      <th>331568</th>\n",
       "      <td>ZWE</td>\n",
       "      <td>Africa</td>\n",
       "      <td>Zimbabwe</td>\n",
       "      <td>2020-12-28</td>\n",
       "      <td>16320539</td>\n",
       "      <td>13077.0</td>\n",
       "      <td>114.0</td>\n",
       "      <td>349.0</td>\n",
       "      <td>8.0</td>\n",
       "      <td>12</td>\n",
       "      <td>28</td>\n",
       "    </tr>\n",
       "    <tr>\n",
       "      <th>331569</th>\n",
       "      <td>ZWE</td>\n",
       "      <td>Africa</td>\n",
       "      <td>Zimbabwe</td>\n",
       "      <td>2020-12-29</td>\n",
       "      <td>16320539</td>\n",
       "      <td>13148.0</td>\n",
       "      <td>71.0</td>\n",
       "      <td>354.0</td>\n",
       "      <td>5.0</td>\n",
       "      <td>12</td>\n",
       "      <td>29</td>\n",
       "    </tr>\n",
       "    <tr>\n",
       "      <th>331570</th>\n",
       "      <td>ZWE</td>\n",
       "      <td>Africa</td>\n",
       "      <td>Zimbabwe</td>\n",
       "      <td>2020-12-30</td>\n",
       "      <td>16320539</td>\n",
       "      <td>13325.0</td>\n",
       "      <td>177.0</td>\n",
       "      <td>359.0</td>\n",
       "      <td>5.0</td>\n",
       "      <td>12</td>\n",
       "      <td>30</td>\n",
       "    </tr>\n",
       "    <tr>\n",
       "      <th>331571</th>\n",
       "      <td>ZWE</td>\n",
       "      <td>Africa</td>\n",
       "      <td>Zimbabwe</td>\n",
       "      <td>2020-12-31</td>\n",
       "      <td>16320539</td>\n",
       "      <td>13625.0</td>\n",
       "      <td>300.0</td>\n",
       "      <td>360.0</td>\n",
       "      <td>1.0</td>\n",
       "      <td>12</td>\n",
       "      <td>31</td>\n",
       "    </tr>\n",
       "  </tbody>\n",
       "</table>\n",
       "<p>91389 rows × 11 columns</p>\n",
       "</div>"
      ],
      "text/plain": [
       "       iso_code continent     location       date  population  total_cases  \\\n",
       "0           AFG      Asia  Afghanistan 2020-01-03    41128772          NaN   \n",
       "1           AFG      Asia  Afghanistan 2020-01-04    41128772          NaN   \n",
       "2           AFG      Asia  Afghanistan 2020-01-05    41128772          NaN   \n",
       "3           AFG      Asia  Afghanistan 2020-01-06    41128772          NaN   \n",
       "4           AFG      Asia  Afghanistan 2020-01-07    41128772          NaN   \n",
       "...         ...       ...          ...        ...         ...          ...   \n",
       "331567      ZWE    Africa     Zimbabwe 2020-12-27    16320539      12963.0   \n",
       "331568      ZWE    Africa     Zimbabwe 2020-12-28    16320539      13077.0   \n",
       "331569      ZWE    Africa     Zimbabwe 2020-12-29    16320539      13148.0   \n",
       "331570      ZWE    Africa     Zimbabwe 2020-12-30    16320539      13325.0   \n",
       "331571      ZWE    Africa     Zimbabwe 2020-12-31    16320539      13625.0   \n",
       "\n",
       "        new_cases  total_deaths  new_deaths  month  day  \n",
       "0             0.0           NaN         0.0      1    3  \n",
       "1             0.0           NaN         0.0      1    4  \n",
       "2             0.0           NaN         0.0      1    5  \n",
       "3             0.0           NaN         0.0      1    6  \n",
       "4             0.0           NaN         0.0      1    7  \n",
       "...           ...           ...         ...    ...  ...  \n",
       "331567       83.0         341.0         0.0     12   27  \n",
       "331568      114.0         349.0         8.0     12   28  \n",
       "331569       71.0         354.0         5.0     12   29  \n",
       "331570      177.0         359.0         5.0     12   30  \n",
       "331571      300.0         360.0         1.0     12   31  \n",
       "\n",
       "[91389 rows x 11 columns]"
      ]
     },
     "execution_count": 7,
     "metadata": {},
     "output_type": "execute_result"
    }
   ],
   "source": [
    "data_2020['month']=data_2020['date'].dt.month\n",
    "data_2020['day']=data_2020['date'].dt.day\n",
    "data_2020"
   ]
  },
  {
   "cell_type": "markdown",
   "metadata": {},
   "source": [
    "largest population countries in 2020"
   ]
  },
  {
   "cell_type": "code",
   "execution_count": 8,
   "metadata": {},
   "outputs": [
    {
     "data": {
      "text/html": [
       "<div>\n",
       "<style scoped>\n",
       "    .dataframe tbody tr th:only-of-type {\n",
       "        vertical-align: middle;\n",
       "    }\n",
       "\n",
       "    .dataframe tbody tr th {\n",
       "        vertical-align: top;\n",
       "    }\n",
       "\n",
       "    .dataframe thead th {\n",
       "        text-align: right;\n",
       "    }\n",
       "</style>\n",
       "<table border=\"1\" class=\"dataframe\">\n",
       "  <thead>\n",
       "    <tr style=\"text-align: right;\">\n",
       "      <th></th>\n",
       "      <th>location</th>\n",
       "      <th>population</th>\n",
       "    </tr>\n",
       "  </thead>\n",
       "  <tbody>\n",
       "    <tr>\n",
       "      <th>42</th>\n",
       "      <td>China</td>\n",
       "      <td>1425887360</td>\n",
       "    </tr>\n",
       "    <tr>\n",
       "      <th>96</th>\n",
       "      <td>India</td>\n",
       "      <td>1417173120</td>\n",
       "    </tr>\n",
       "    <tr>\n",
       "      <th>227</th>\n",
       "      <td>United States</td>\n",
       "      <td>338289856</td>\n",
       "    </tr>\n",
       "    <tr>\n",
       "      <th>97</th>\n",
       "      <td>Indonesia</td>\n",
       "      <td>275501344</td>\n",
       "    </tr>\n",
       "    <tr>\n",
       "      <th>160</th>\n",
       "      <td>Pakistan</td>\n",
       "      <td>235824864</td>\n",
       "    </tr>\n",
       "    <tr>\n",
       "      <th>...</th>\n",
       "      <td>...</td>\n",
       "      <td>...</td>\n",
       "    </tr>\n",
       "    <tr>\n",
       "      <th>69</th>\n",
       "      <td>Falkland Islands</td>\n",
       "      <td>3801</td>\n",
       "    </tr>\n",
       "    <tr>\n",
       "      <th>153</th>\n",
       "      <td>Niue</td>\n",
       "      <td>1952</td>\n",
       "    </tr>\n",
       "    <tr>\n",
       "      <th>215</th>\n",
       "      <td>Tokelau</td>\n",
       "      <td>1893</td>\n",
       "    </tr>\n",
       "    <tr>\n",
       "      <th>232</th>\n",
       "      <td>Vatican</td>\n",
       "      <td>808</td>\n",
       "    </tr>\n",
       "    <tr>\n",
       "      <th>168</th>\n",
       "      <td>Pitcairn</td>\n",
       "      <td>47</td>\n",
       "    </tr>\n",
       "  </tbody>\n",
       "</table>\n",
       "<p>240 rows × 2 columns</p>\n",
       "</div>"
      ],
      "text/plain": [
       "             location  population\n",
       "42              China  1425887360\n",
       "96              India  1417173120\n",
       "227     United States   338289856\n",
       "97          Indonesia   275501344\n",
       "160          Pakistan   235824864\n",
       "..                ...         ...\n",
       "69   Falkland Islands        3801\n",
       "153              Niue        1952\n",
       "215           Tokelau        1893\n",
       "232           Vatican         808\n",
       "168          Pitcairn          47\n",
       "\n",
       "[240 rows x 2 columns]"
      ]
     },
     "execution_count": 8,
     "metadata": {},
     "output_type": "execute_result"
    }
   ],
   "source": [
    "exclude_values = ['Lower middle income','Low income','European Union','World','Asia','Africa','High income','Europe','North America','South America','Upper middle income','Oceania']\n",
    "filtered_df = data_2020[~data_2020['location'].isin(exclude_values)]\n",
    "\n",
    "grouped_df = filtered_df.groupby('location')['population'].max().reset_index().sort_values(by='population',ascending=False)\n",
    "grouped_df"
   ]
  },
  {
   "cell_type": "code",
   "execution_count": 9,
   "metadata": {},
   "outputs": [
    {
     "data": {
      "application/vnd.plotly.v1+json": {
       "config": {
        "plotlyServerURL": "https://plot.ly"
       },
       "data": [
        {
         "alignmentgroup": "True",
         "bingroup": "x",
         "histfunc": "sum",
         "hovertemplate": "location=%{x}<br>sum of population=%{y}<extra></extra>",
         "legendgroup": "China",
         "marker": {
          "color": "#636efa",
          "pattern": {
           "shape": ""
          }
         },
         "name": "China",
         "offsetgroup": "China",
         "orientation": "v",
         "showlegend": true,
         "type": "histogram",
         "x": [
          "China"
         ],
         "xaxis": "x",
         "y": [
          1425887360
         ],
         "yaxis": "y"
        },
        {
         "alignmentgroup": "True",
         "bingroup": "x",
         "histfunc": "sum",
         "hovertemplate": "location=%{x}<br>sum of population=%{y}<extra></extra>",
         "legendgroup": "India",
         "marker": {
          "color": "#EF553B",
          "pattern": {
           "shape": ""
          }
         },
         "name": "India",
         "offsetgroup": "India",
         "orientation": "v",
         "showlegend": true,
         "type": "histogram",
         "x": [
          "India"
         ],
         "xaxis": "x",
         "y": [
          1417173120
         ],
         "yaxis": "y"
        },
        {
         "alignmentgroup": "True",
         "bingroup": "x",
         "histfunc": "sum",
         "hovertemplate": "location=%{x}<br>sum of population=%{y}<extra></extra>",
         "legendgroup": "United States",
         "marker": {
          "color": "#00cc96",
          "pattern": {
           "shape": ""
          }
         },
         "name": "United States",
         "offsetgroup": "United States",
         "orientation": "v",
         "showlegend": true,
         "type": "histogram",
         "x": [
          "United States"
         ],
         "xaxis": "x",
         "y": [
          338289856
         ],
         "yaxis": "y"
        },
        {
         "alignmentgroup": "True",
         "bingroup": "x",
         "histfunc": "sum",
         "hovertemplate": "location=%{x}<br>sum of population=%{y}<extra></extra>",
         "legendgroup": "Indonesia",
         "marker": {
          "color": "#ab63fa",
          "pattern": {
           "shape": ""
          }
         },
         "name": "Indonesia",
         "offsetgroup": "Indonesia",
         "orientation": "v",
         "showlegend": true,
         "type": "histogram",
         "x": [
          "Indonesia"
         ],
         "xaxis": "x",
         "y": [
          275501344
         ],
         "yaxis": "y"
        },
        {
         "alignmentgroup": "True",
         "bingroup": "x",
         "histfunc": "sum",
         "hovertemplate": "location=%{x}<br>sum of population=%{y}<extra></extra>",
         "legendgroup": "Pakistan",
         "marker": {
          "color": "#FFA15A",
          "pattern": {
           "shape": ""
          }
         },
         "name": "Pakistan",
         "offsetgroup": "Pakistan",
         "orientation": "v",
         "showlegend": true,
         "type": "histogram",
         "x": [
          "Pakistan"
         ],
         "xaxis": "x",
         "y": [
          235824864
         ],
         "yaxis": "y"
        },
        {
         "alignmentgroup": "True",
         "bingroup": "x",
         "histfunc": "sum",
         "hovertemplate": "location=%{x}<br>sum of population=%{y}<extra></extra>",
         "legendgroup": "Nigeria",
         "marker": {
          "color": "#19d3f3",
          "pattern": {
           "shape": ""
          }
         },
         "name": "Nigeria",
         "offsetgroup": "Nigeria",
         "orientation": "v",
         "showlegend": true,
         "type": "histogram",
         "x": [
          "Nigeria"
         ],
         "xaxis": "x",
         "y": [
          218541216
         ],
         "yaxis": "y"
        },
        {
         "alignmentgroup": "True",
         "bingroup": "x",
         "histfunc": "sum",
         "hovertemplate": "location=%{x}<br>sum of population=%{y}<extra></extra>",
         "legendgroup": "Brazil",
         "marker": {
          "color": "#FF6692",
          "pattern": {
           "shape": ""
          }
         },
         "name": "Brazil",
         "offsetgroup": "Brazil",
         "orientation": "v",
         "showlegend": true,
         "type": "histogram",
         "x": [
          "Brazil"
         ],
         "xaxis": "x",
         "y": [
          215313504
         ],
         "yaxis": "y"
        },
        {
         "alignmentgroup": "True",
         "bingroup": "x",
         "histfunc": "sum",
         "hovertemplate": "location=%{x}<br>sum of population=%{y}<extra></extra>",
         "legendgroup": "Bangladesh",
         "marker": {
          "color": "#B6E880",
          "pattern": {
           "shape": ""
          }
         },
         "name": "Bangladesh",
         "offsetgroup": "Bangladesh",
         "orientation": "v",
         "showlegend": true,
         "type": "histogram",
         "x": [
          "Bangladesh"
         ],
         "xaxis": "x",
         "y": [
          171186368
         ],
         "yaxis": "y"
        },
        {
         "alignmentgroup": "True",
         "bingroup": "x",
         "histfunc": "sum",
         "hovertemplate": "location=%{x}<br>sum of population=%{y}<extra></extra>",
         "legendgroup": "Russia",
         "marker": {
          "color": "#FF97FF",
          "pattern": {
           "shape": ""
          }
         },
         "name": "Russia",
         "offsetgroup": "Russia",
         "orientation": "v",
         "showlegend": true,
         "type": "histogram",
         "x": [
          "Russia"
         ],
         "xaxis": "x",
         "y": [
          144713312
         ],
         "yaxis": "y"
        },
        {
         "alignmentgroup": "True",
         "bingroup": "x",
         "histfunc": "sum",
         "hovertemplate": "location=%{x}<br>sum of population=%{y}<extra></extra>",
         "legendgroup": "Mexico",
         "marker": {
          "color": "#FECB52",
          "pattern": {
           "shape": ""
          }
         },
         "name": "Mexico",
         "offsetgroup": "Mexico",
         "orientation": "v",
         "showlegend": true,
         "type": "histogram",
         "x": [
          "Mexico"
         ],
         "xaxis": "x",
         "y": [
          127504120
         ],
         "yaxis": "y"
        },
        {
         "alignmentgroup": "True",
         "bingroup": "x",
         "histfunc": "sum",
         "hovertemplate": "location=%{x}<br>sum of population=%{y}<extra></extra>",
         "legendgroup": "Japan",
         "marker": {
          "color": "#636efa",
          "pattern": {
           "shape": ""
          }
         },
         "name": "Japan",
         "offsetgroup": "Japan",
         "orientation": "v",
         "showlegend": true,
         "type": "histogram",
         "x": [
          "Japan"
         ],
         "xaxis": "x",
         "y": [
          123951696
         ],
         "yaxis": "y"
        },
        {
         "alignmentgroup": "True",
         "bingroup": "x",
         "histfunc": "sum",
         "hovertemplate": "location=%{x}<br>sum of population=%{y}<extra></extra>",
         "legendgroup": "Ethiopia",
         "marker": {
          "color": "#EF553B",
          "pattern": {
           "shape": ""
          }
         },
         "name": "Ethiopia",
         "offsetgroup": "Ethiopia",
         "orientation": "v",
         "showlegend": true,
         "type": "histogram",
         "x": [
          "Ethiopia"
         ],
         "xaxis": "x",
         "y": [
          123379928
         ],
         "yaxis": "y"
        },
        {
         "alignmentgroup": "True",
         "bingroup": "x",
         "histfunc": "sum",
         "hovertemplate": "location=%{x}<br>sum of population=%{y}<extra></extra>",
         "legendgroup": "Philippines",
         "marker": {
          "color": "#00cc96",
          "pattern": {
           "shape": ""
          }
         },
         "name": "Philippines",
         "offsetgroup": "Philippines",
         "orientation": "v",
         "showlegend": true,
         "type": "histogram",
         "x": [
          "Philippines"
         ],
         "xaxis": "x",
         "y": [
          115559008
         ],
         "yaxis": "y"
        },
        {
         "alignmentgroup": "True",
         "bingroup": "x",
         "histfunc": "sum",
         "hovertemplate": "location=%{x}<br>sum of population=%{y}<extra></extra>",
         "legendgroup": "Egypt",
         "marker": {
          "color": "#ab63fa",
          "pattern": {
           "shape": ""
          }
         },
         "name": "Egypt",
         "offsetgroup": "Egypt",
         "orientation": "v",
         "showlegend": true,
         "type": "histogram",
         "x": [
          "Egypt"
         ],
         "xaxis": "x",
         "y": [
          110990096
         ],
         "yaxis": "y"
        },
        {
         "alignmentgroup": "True",
         "bingroup": "x",
         "histfunc": "sum",
         "hovertemplate": "location=%{x}<br>sum of population=%{y}<extra></extra>",
         "legendgroup": "Democratic Republic of Congo",
         "marker": {
          "color": "#FFA15A",
          "pattern": {
           "shape": ""
          }
         },
         "name": "Democratic Republic of Congo",
         "offsetgroup": "Democratic Republic of Congo",
         "orientation": "v",
         "showlegend": true,
         "type": "histogram",
         "x": [
          "Democratic Republic of Congo"
         ],
         "xaxis": "x",
         "y": [
          99010216
         ],
         "yaxis": "y"
        },
        {
         "alignmentgroup": "True",
         "bingroup": "x",
         "histfunc": "sum",
         "hovertemplate": "location=%{x}<br>sum of population=%{y}<extra></extra>",
         "legendgroup": "Vietnam",
         "marker": {
          "color": "#19d3f3",
          "pattern": {
           "shape": ""
          }
         },
         "name": "Vietnam",
         "offsetgroup": "Vietnam",
         "orientation": "v",
         "showlegend": true,
         "type": "histogram",
         "x": [
          "Vietnam"
         ],
         "xaxis": "x",
         "y": [
          98186856
         ],
         "yaxis": "y"
        },
        {
         "alignmentgroup": "True",
         "bingroup": "x",
         "histfunc": "sum",
         "hovertemplate": "location=%{x}<br>sum of population=%{y}<extra></extra>",
         "legendgroup": "Iran",
         "marker": {
          "color": "#FF6692",
          "pattern": {
           "shape": ""
          }
         },
         "name": "Iran",
         "offsetgroup": "Iran",
         "orientation": "v",
         "showlegend": true,
         "type": "histogram",
         "x": [
          "Iran"
         ],
         "xaxis": "x",
         "y": [
          88550568
         ],
         "yaxis": "y"
        },
        {
         "alignmentgroup": "True",
         "bingroup": "x",
         "histfunc": "sum",
         "hovertemplate": "location=%{x}<br>sum of population=%{y}<extra></extra>",
         "legendgroup": "Turkey",
         "marker": {
          "color": "#B6E880",
          "pattern": {
           "shape": ""
          }
         },
         "name": "Turkey",
         "offsetgroup": "Turkey",
         "orientation": "v",
         "showlegend": true,
         "type": "histogram",
         "x": [
          "Turkey"
         ],
         "xaxis": "x",
         "y": [
          85341248
         ],
         "yaxis": "y"
        },
        {
         "alignmentgroup": "True",
         "bingroup": "x",
         "histfunc": "sum",
         "hovertemplate": "location=%{x}<br>sum of population=%{y}<extra></extra>",
         "legendgroup": "Germany",
         "marker": {
          "color": "#FF97FF",
          "pattern": {
           "shape": ""
          }
         },
         "name": "Germany",
         "offsetgroup": "Germany",
         "orientation": "v",
         "showlegend": true,
         "type": "histogram",
         "x": [
          "Germany"
         ],
         "xaxis": "x",
         "y": [
          83369840
         ],
         "yaxis": "y"
        },
        {
         "alignmentgroup": "True",
         "bingroup": "x",
         "histfunc": "sum",
         "hovertemplate": "location=%{x}<br>sum of population=%{y}<extra></extra>",
         "legendgroup": "Thailand",
         "marker": {
          "color": "#FECB52",
          "pattern": {
           "shape": ""
          }
         },
         "name": "Thailand",
         "offsetgroup": "Thailand",
         "orientation": "v",
         "showlegend": true,
         "type": "histogram",
         "x": [
          "Thailand"
         ],
         "xaxis": "x",
         "y": [
          71697024
         ],
         "yaxis": "y"
        },
        {
         "alignmentgroup": "True",
         "bingroup": "x",
         "histfunc": "sum",
         "hovertemplate": "location=%{x}<br>sum of population=%{y}<extra></extra>",
         "legendgroup": "France",
         "marker": {
          "color": "#636efa",
          "pattern": {
           "shape": ""
          }
         },
         "name": "France",
         "offsetgroup": "France",
         "orientation": "v",
         "showlegend": true,
         "type": "histogram",
         "x": [
          "France"
         ],
         "xaxis": "x",
         "y": [
          67813000
         ],
         "yaxis": "y"
        },
        {
         "alignmentgroup": "True",
         "bingroup": "x",
         "histfunc": "sum",
         "hovertemplate": "location=%{x}<br>sum of population=%{y}<extra></extra>",
         "legendgroup": "United Kingdom",
         "marker": {
          "color": "#EF553B",
          "pattern": {
           "shape": ""
          }
         },
         "name": "United Kingdom",
         "offsetgroup": "United Kingdom",
         "orientation": "v",
         "showlegend": true,
         "type": "histogram",
         "x": [
          "United Kingdom"
         ],
         "xaxis": "x",
         "y": [
          67508936
         ],
         "yaxis": "y"
        },
        {
         "alignmentgroup": "True",
         "bingroup": "x",
         "histfunc": "sum",
         "hovertemplate": "location=%{x}<br>sum of population=%{y}<extra></extra>",
         "legendgroup": "Tanzania",
         "marker": {
          "color": "#00cc96",
          "pattern": {
           "shape": ""
          }
         },
         "name": "Tanzania",
         "offsetgroup": "Tanzania",
         "orientation": "v",
         "showlegend": true,
         "type": "histogram",
         "x": [
          "Tanzania"
         ],
         "xaxis": "x",
         "y": [
          65497752
         ],
         "yaxis": "y"
        },
        {
         "alignmentgroup": "True",
         "bingroup": "x",
         "histfunc": "sum",
         "hovertemplate": "location=%{x}<br>sum of population=%{y}<extra></extra>",
         "legendgroup": "South Africa",
         "marker": {
          "color": "#ab63fa",
          "pattern": {
           "shape": ""
          }
         },
         "name": "South Africa",
         "offsetgroup": "South Africa",
         "orientation": "v",
         "showlegend": true,
         "type": "histogram",
         "x": [
          "South Africa"
         ],
         "xaxis": "x",
         "y": [
          59893884
         ],
         "yaxis": "y"
        },
        {
         "alignmentgroup": "True",
         "bingroup": "x",
         "histfunc": "sum",
         "hovertemplate": "location=%{x}<br>sum of population=%{y}<extra></extra>",
         "legendgroup": "Italy",
         "marker": {
          "color": "#FFA15A",
          "pattern": {
           "shape": ""
          }
         },
         "name": "Italy",
         "offsetgroup": "Italy",
         "orientation": "v",
         "showlegend": true,
         "type": "histogram",
         "x": [
          "Italy"
         ],
         "xaxis": "x",
         "y": [
          59037472
         ],
         "yaxis": "y"
        },
        {
         "alignmentgroup": "True",
         "bingroup": "x",
         "histfunc": "sum",
         "hovertemplate": "location=%{x}<br>sum of population=%{y}<extra></extra>",
         "legendgroup": "England",
         "marker": {
          "color": "#19d3f3",
          "pattern": {
           "shape": ""
          }
         },
         "name": "England",
         "offsetgroup": "England",
         "orientation": "v",
         "showlegend": true,
         "type": "histogram",
         "x": [
          "England"
         ],
         "xaxis": "x",
         "y": [
          56550000
         ],
         "yaxis": "y"
        },
        {
         "alignmentgroup": "True",
         "bingroup": "x",
         "histfunc": "sum",
         "hovertemplate": "location=%{x}<br>sum of population=%{y}<extra></extra>",
         "legendgroup": "Myanmar",
         "marker": {
          "color": "#FF6692",
          "pattern": {
           "shape": ""
          }
         },
         "name": "Myanmar",
         "offsetgroup": "Myanmar",
         "orientation": "v",
         "showlegend": true,
         "type": "histogram",
         "x": [
          "Myanmar"
         ],
         "xaxis": "x",
         "y": [
          54179312
         ],
         "yaxis": "y"
        },
        {
         "alignmentgroup": "True",
         "bingroup": "x",
         "histfunc": "sum",
         "hovertemplate": "location=%{x}<br>sum of population=%{y}<extra></extra>",
         "legendgroup": "Kenya",
         "marker": {
          "color": "#B6E880",
          "pattern": {
           "shape": ""
          }
         },
         "name": "Kenya",
         "offsetgroup": "Kenya",
         "orientation": "v",
         "showlegend": true,
         "type": "histogram",
         "x": [
          "Kenya"
         ],
         "xaxis": "x",
         "y": [
          54027484
         ],
         "yaxis": "y"
        },
        {
         "alignmentgroup": "True",
         "bingroup": "x",
         "histfunc": "sum",
         "hovertemplate": "location=%{x}<br>sum of population=%{y}<extra></extra>",
         "legendgroup": "Colombia",
         "marker": {
          "color": "#FF97FF",
          "pattern": {
           "shape": ""
          }
         },
         "name": "Colombia",
         "offsetgroup": "Colombia",
         "orientation": "v",
         "showlegend": true,
         "type": "histogram",
         "x": [
          "Colombia"
         ],
         "xaxis": "x",
         "y": [
          51874028
         ],
         "yaxis": "y"
        },
        {
         "alignmentgroup": "True",
         "bingroup": "x",
         "histfunc": "sum",
         "hovertemplate": "location=%{x}<br>sum of population=%{y}<extra></extra>",
         "legendgroup": "South Korea",
         "marker": {
          "color": "#FECB52",
          "pattern": {
           "shape": ""
          }
         },
         "name": "South Korea",
         "offsetgroup": "South Korea",
         "orientation": "v",
         "showlegend": true,
         "type": "histogram",
         "x": [
          "South Korea"
         ],
         "xaxis": "x",
         "y": [
          51815808
         ],
         "yaxis": "y"
        },
        {
         "alignmentgroup": "True",
         "bingroup": "x",
         "histfunc": "sum",
         "hovertemplate": "location=%{x}<br>sum of population=%{y}<extra></extra>",
         "legendgroup": "Spain",
         "marker": {
          "color": "#636efa",
          "pattern": {
           "shape": ""
          }
         },
         "name": "Spain",
         "offsetgroup": "Spain",
         "orientation": "v",
         "showlegend": true,
         "type": "histogram",
         "x": [
          "Spain"
         ],
         "xaxis": "x",
         "y": [
          47558632
         ],
         "yaxis": "y"
        },
        {
         "alignmentgroup": "True",
         "bingroup": "x",
         "histfunc": "sum",
         "hovertemplate": "location=%{x}<br>sum of population=%{y}<extra></extra>",
         "legendgroup": "Uganda",
         "marker": {
          "color": "#EF553B",
          "pattern": {
           "shape": ""
          }
         },
         "name": "Uganda",
         "offsetgroup": "Uganda",
         "orientation": "v",
         "showlegend": true,
         "type": "histogram",
         "x": [
          "Uganda"
         ],
         "xaxis": "x",
         "y": [
          47249588
         ],
         "yaxis": "y"
        },
        {
         "alignmentgroup": "True",
         "bingroup": "x",
         "histfunc": "sum",
         "hovertemplate": "location=%{x}<br>sum of population=%{y}<extra></extra>",
         "legendgroup": "Sudan",
         "marker": {
          "color": "#00cc96",
          "pattern": {
           "shape": ""
          }
         },
         "name": "Sudan",
         "offsetgroup": "Sudan",
         "orientation": "v",
         "showlegend": true,
         "type": "histogram",
         "x": [
          "Sudan"
         ],
         "xaxis": "x",
         "y": [
          46874200
         ],
         "yaxis": "y"
        },
        {
         "alignmentgroup": "True",
         "bingroup": "x",
         "histfunc": "sum",
         "hovertemplate": "location=%{x}<br>sum of population=%{y}<extra></extra>",
         "legendgroup": "Argentina",
         "marker": {
          "color": "#ab63fa",
          "pattern": {
           "shape": ""
          }
         },
         "name": "Argentina",
         "offsetgroup": "Argentina",
         "orientation": "v",
         "showlegend": true,
         "type": "histogram",
         "x": [
          "Argentina"
         ],
         "xaxis": "x",
         "y": [
          45510324
         ],
         "yaxis": "y"
        },
        {
         "alignmentgroup": "True",
         "bingroup": "x",
         "histfunc": "sum",
         "hovertemplate": "location=%{x}<br>sum of population=%{y}<extra></extra>",
         "legendgroup": "Algeria",
         "marker": {
          "color": "#FFA15A",
          "pattern": {
           "shape": ""
          }
         },
         "name": "Algeria",
         "offsetgroup": "Algeria",
         "orientation": "v",
         "showlegend": true,
         "type": "histogram",
         "x": [
          "Algeria"
         ],
         "xaxis": "x",
         "y": [
          44903228
         ],
         "yaxis": "y"
        },
        {
         "alignmentgroup": "True",
         "bingroup": "x",
         "histfunc": "sum",
         "hovertemplate": "location=%{x}<br>sum of population=%{y}<extra></extra>",
         "legendgroup": "Iraq",
         "marker": {
          "color": "#19d3f3",
          "pattern": {
           "shape": ""
          }
         },
         "name": "Iraq",
         "offsetgroup": "Iraq",
         "orientation": "v",
         "showlegend": true,
         "type": "histogram",
         "x": [
          "Iraq"
         ],
         "xaxis": "x",
         "y": [
          44496124
         ],
         "yaxis": "y"
        },
        {
         "alignmentgroup": "True",
         "bingroup": "x",
         "histfunc": "sum",
         "hovertemplate": "location=%{x}<br>sum of population=%{y}<extra></extra>",
         "legendgroup": "Afghanistan",
         "marker": {
          "color": "#FF6692",
          "pattern": {
           "shape": ""
          }
         },
         "name": "Afghanistan",
         "offsetgroup": "Afghanistan",
         "orientation": "v",
         "showlegend": true,
         "type": "histogram",
         "x": [
          "Afghanistan"
         ],
         "xaxis": "x",
         "y": [
          41128772
         ],
         "yaxis": "y"
        },
        {
         "alignmentgroup": "True",
         "bingroup": "x",
         "histfunc": "sum",
         "hovertemplate": "location=%{x}<br>sum of population=%{y}<extra></extra>",
         "legendgroup": "Poland",
         "marker": {
          "color": "#B6E880",
          "pattern": {
           "shape": ""
          }
         },
         "name": "Poland",
         "offsetgroup": "Poland",
         "orientation": "v",
         "showlegend": true,
         "type": "histogram",
         "x": [
          "Poland"
         ],
         "xaxis": "x",
         "y": [
          39857144
         ],
         "yaxis": "y"
        },
        {
         "alignmentgroup": "True",
         "bingroup": "x",
         "histfunc": "sum",
         "hovertemplate": "location=%{x}<br>sum of population=%{y}<extra></extra>",
         "legendgroup": "Ukraine",
         "marker": {
          "color": "#FF97FF",
          "pattern": {
           "shape": ""
          }
         },
         "name": "Ukraine",
         "offsetgroup": "Ukraine",
         "orientation": "v",
         "showlegend": true,
         "type": "histogram",
         "x": [
          "Ukraine"
         ],
         "xaxis": "x",
         "y": [
          39701744
         ],
         "yaxis": "y"
        },
        {
         "alignmentgroup": "True",
         "bingroup": "x",
         "histfunc": "sum",
         "hovertemplate": "location=%{x}<br>sum of population=%{y}<extra></extra>",
         "legendgroup": "Canada",
         "marker": {
          "color": "#FECB52",
          "pattern": {
           "shape": ""
          }
         },
         "name": "Canada",
         "offsetgroup": "Canada",
         "orientation": "v",
         "showlegend": true,
         "type": "histogram",
         "x": [
          "Canada"
         ],
         "xaxis": "x",
         "y": [
          38454328
         ],
         "yaxis": "y"
        },
        {
         "alignmentgroup": "True",
         "bingroup": "x",
         "histfunc": "sum",
         "hovertemplate": "location=%{x}<br>sum of population=%{y}<extra></extra>",
         "legendgroup": "Morocco",
         "marker": {
          "color": "#636efa",
          "pattern": {
           "shape": ""
          }
         },
         "name": "Morocco",
         "offsetgroup": "Morocco",
         "orientation": "v",
         "showlegend": true,
         "type": "histogram",
         "x": [
          "Morocco"
         ],
         "xaxis": "x",
         "y": [
          37457976
         ],
         "yaxis": "y"
        },
        {
         "alignmentgroup": "True",
         "bingroup": "x",
         "histfunc": "sum",
         "hovertemplate": "location=%{x}<br>sum of population=%{y}<extra></extra>",
         "legendgroup": "Saudi Arabia",
         "marker": {
          "color": "#EF553B",
          "pattern": {
           "shape": ""
          }
         },
         "name": "Saudi Arabia",
         "offsetgroup": "Saudi Arabia",
         "orientation": "v",
         "showlegend": true,
         "type": "histogram",
         "x": [
          "Saudi Arabia"
         ],
         "xaxis": "x",
         "y": [
          36408824
         ],
         "yaxis": "y"
        },
        {
         "alignmentgroup": "True",
         "bingroup": "x",
         "histfunc": "sum",
         "hovertemplate": "location=%{x}<br>sum of population=%{y}<extra></extra>",
         "legendgroup": "Angola",
         "marker": {
          "color": "#00cc96",
          "pattern": {
           "shape": ""
          }
         },
         "name": "Angola",
         "offsetgroup": "Angola",
         "orientation": "v",
         "showlegend": true,
         "type": "histogram",
         "x": [
          "Angola"
         ],
         "xaxis": "x",
         "y": [
          35588996
         ],
         "yaxis": "y"
        },
        {
         "alignmentgroup": "True",
         "bingroup": "x",
         "histfunc": "sum",
         "hovertemplate": "location=%{x}<br>sum of population=%{y}<extra></extra>",
         "legendgroup": "Uzbekistan",
         "marker": {
          "color": "#ab63fa",
          "pattern": {
           "shape": ""
          }
         },
         "name": "Uzbekistan",
         "offsetgroup": "Uzbekistan",
         "orientation": "v",
         "showlegend": true,
         "type": "histogram",
         "x": [
          "Uzbekistan"
         ],
         "xaxis": "x",
         "y": [
          34627648
         ],
         "yaxis": "y"
        },
        {
         "alignmentgroup": "True",
         "bingroup": "x",
         "histfunc": "sum",
         "hovertemplate": "location=%{x}<br>sum of population=%{y}<extra></extra>",
         "legendgroup": "Peru",
         "marker": {
          "color": "#FFA15A",
          "pattern": {
           "shape": ""
          }
         },
         "name": "Peru",
         "offsetgroup": "Peru",
         "orientation": "v",
         "showlegend": true,
         "type": "histogram",
         "x": [
          "Peru"
         ],
         "xaxis": "x",
         "y": [
          34049588
         ],
         "yaxis": "y"
        },
        {
         "alignmentgroup": "True",
         "bingroup": "x",
         "histfunc": "sum",
         "hovertemplate": "location=%{x}<br>sum of population=%{y}<extra></extra>",
         "legendgroup": "Malaysia",
         "marker": {
          "color": "#19d3f3",
          "pattern": {
           "shape": ""
          }
         },
         "name": "Malaysia",
         "offsetgroup": "Malaysia",
         "orientation": "v",
         "showlegend": true,
         "type": "histogram",
         "x": [
          "Malaysia"
         ],
         "xaxis": "x",
         "y": [
          33938216
         ],
         "yaxis": "y"
        },
        {
         "alignmentgroup": "True",
         "bingroup": "x",
         "histfunc": "sum",
         "hovertemplate": "location=%{x}<br>sum of population=%{y}<extra></extra>",
         "legendgroup": "Yemen",
         "marker": {
          "color": "#FF6692",
          "pattern": {
           "shape": ""
          }
         },
         "name": "Yemen",
         "offsetgroup": "Yemen",
         "orientation": "v",
         "showlegend": true,
         "type": "histogram",
         "x": [
          "Yemen"
         ],
         "xaxis": "x",
         "y": [
          33696612
         ],
         "yaxis": "y"
        },
        {
         "alignmentgroup": "True",
         "bingroup": "x",
         "histfunc": "sum",
         "hovertemplate": "location=%{x}<br>sum of population=%{y}<extra></extra>",
         "legendgroup": "Ghana",
         "marker": {
          "color": "#B6E880",
          "pattern": {
           "shape": ""
          }
         },
         "name": "Ghana",
         "offsetgroup": "Ghana",
         "orientation": "v",
         "showlegend": true,
         "type": "histogram",
         "x": [
          "Ghana"
         ],
         "xaxis": "x",
         "y": [
          33475870
         ],
         "yaxis": "y"
        },
        {
         "alignmentgroup": "True",
         "bingroup": "x",
         "histfunc": "sum",
         "hovertemplate": "location=%{x}<br>sum of population=%{y}<extra></extra>",
         "legendgroup": "Mozambique",
         "marker": {
          "color": "#FF97FF",
          "pattern": {
           "shape": ""
          }
         },
         "name": "Mozambique",
         "offsetgroup": "Mozambique",
         "orientation": "v",
         "showlegend": true,
         "type": "histogram",
         "x": [
          "Mozambique"
         ],
         "xaxis": "x",
         "y": [
          32969520
         ],
         "yaxis": "y"
        },
        {
         "alignmentgroup": "True",
         "bingroup": "x",
         "histfunc": "sum",
         "hovertemplate": "location=%{x}<br>sum of population=%{y}<extra></extra>",
         "legendgroup": "Nepal",
         "marker": {
          "color": "#FECB52",
          "pattern": {
           "shape": ""
          }
         },
         "name": "Nepal",
         "offsetgroup": "Nepal",
         "orientation": "v",
         "showlegend": true,
         "type": "histogram",
         "x": [
          "Nepal"
         ],
         "xaxis": "x",
         "y": [
          30547586
         ],
         "yaxis": "y"
        },
        {
         "alignmentgroup": "True",
         "bingroup": "x",
         "histfunc": "sum",
         "hovertemplate": "location=%{x}<br>sum of population=%{y}<extra></extra>",
         "legendgroup": "Madagascar",
         "marker": {
          "color": "#636efa",
          "pattern": {
           "shape": ""
          }
         },
         "name": "Madagascar",
         "offsetgroup": "Madagascar",
         "orientation": "v",
         "showlegend": true,
         "type": "histogram",
         "x": [
          "Madagascar"
         ],
         "xaxis": "x",
         "y": [
          29611718
         ],
         "yaxis": "y"
        },
        {
         "alignmentgroup": "True",
         "bingroup": "x",
         "histfunc": "sum",
         "hovertemplate": "location=%{x}<br>sum of population=%{y}<extra></extra>",
         "legendgroup": "Venezuela",
         "marker": {
          "color": "#EF553B",
          "pattern": {
           "shape": ""
          }
         },
         "name": "Venezuela",
         "offsetgroup": "Venezuela",
         "orientation": "v",
         "showlegend": true,
         "type": "histogram",
         "x": [
          "Venezuela"
         ],
         "xaxis": "x",
         "y": [
          28301700
         ],
         "yaxis": "y"
        },
        {
         "alignmentgroup": "True",
         "bingroup": "x",
         "histfunc": "sum",
         "hovertemplate": "location=%{x}<br>sum of population=%{y}<extra></extra>",
         "legendgroup": "Cote d'Ivoire",
         "marker": {
          "color": "#00cc96",
          "pattern": {
           "shape": ""
          }
         },
         "name": "Cote d'Ivoire",
         "offsetgroup": "Cote d'Ivoire",
         "orientation": "v",
         "showlegend": true,
         "type": "histogram",
         "x": [
          "Cote d'Ivoire"
         ],
         "xaxis": "x",
         "y": [
          28160548
         ],
         "yaxis": "y"
        },
        {
         "alignmentgroup": "True",
         "bingroup": "x",
         "histfunc": "sum",
         "hovertemplate": "location=%{x}<br>sum of population=%{y}<extra></extra>",
         "legendgroup": "Cameroon",
         "marker": {
          "color": "#ab63fa",
          "pattern": {
           "shape": ""
          }
         },
         "name": "Cameroon",
         "offsetgroup": "Cameroon",
         "orientation": "v",
         "showlegend": true,
         "type": "histogram",
         "x": [
          "Cameroon"
         ],
         "xaxis": "x",
         "y": [
          27914542
         ],
         "yaxis": "y"
        },
        {
         "alignmentgroup": "True",
         "bingroup": "x",
         "histfunc": "sum",
         "hovertemplate": "location=%{x}<br>sum of population=%{y}<extra></extra>",
         "legendgroup": "Niger",
         "marker": {
          "color": "#FFA15A",
          "pattern": {
           "shape": ""
          }
         },
         "name": "Niger",
         "offsetgroup": "Niger",
         "orientation": "v",
         "showlegend": true,
         "type": "histogram",
         "x": [
          "Niger"
         ],
         "xaxis": "x",
         "y": [
          26207982
         ],
         "yaxis": "y"
        },
        {
         "alignmentgroup": "True",
         "bingroup": "x",
         "histfunc": "sum",
         "hovertemplate": "location=%{x}<br>sum of population=%{y}<extra></extra>",
         "legendgroup": "Australia",
         "marker": {
          "color": "#19d3f3",
          "pattern": {
           "shape": ""
          }
         },
         "name": "Australia",
         "offsetgroup": "Australia",
         "orientation": "v",
         "showlegend": true,
         "type": "histogram",
         "x": [
          "Australia"
         ],
         "xaxis": "x",
         "y": [
          26177410
         ],
         "yaxis": "y"
        },
        {
         "alignmentgroup": "True",
         "bingroup": "x",
         "histfunc": "sum",
         "hovertemplate": "location=%{x}<br>sum of population=%{y}<extra></extra>",
         "legendgroup": "North Korea",
         "marker": {
          "color": "#FF6692",
          "pattern": {
           "shape": ""
          }
         },
         "name": "North Korea",
         "offsetgroup": "North Korea",
         "orientation": "v",
         "showlegend": true,
         "type": "histogram",
         "x": [
          "North Korea"
         ],
         "xaxis": "x",
         "y": [
          26069416
         ],
         "yaxis": "y"
        },
        {
         "alignmentgroup": "True",
         "bingroup": "x",
         "histfunc": "sum",
         "hovertemplate": "location=%{x}<br>sum of population=%{y}<extra></extra>",
         "legendgroup": "Taiwan",
         "marker": {
          "color": "#B6E880",
          "pattern": {
           "shape": ""
          }
         },
         "name": "Taiwan",
         "offsetgroup": "Taiwan",
         "orientation": "v",
         "showlegend": true,
         "type": "histogram",
         "x": [
          "Taiwan"
         ],
         "xaxis": "x",
         "y": [
          23893396
         ],
         "yaxis": "y"
        },
        {
         "alignmentgroup": "True",
         "bingroup": "x",
         "histfunc": "sum",
         "hovertemplate": "location=%{x}<br>sum of population=%{y}<extra></extra>",
         "legendgroup": "Burkina Faso",
         "marker": {
          "color": "#FF97FF",
          "pattern": {
           "shape": ""
          }
         },
         "name": "Burkina Faso",
         "offsetgroup": "Burkina Faso",
         "orientation": "v",
         "showlegend": true,
         "type": "histogram",
         "x": [
          "Burkina Faso"
         ],
         "xaxis": "x",
         "y": [
          22673764
         ],
         "yaxis": "y"
        },
        {
         "alignmentgroup": "True",
         "bingroup": "x",
         "histfunc": "sum",
         "hovertemplate": "location=%{x}<br>sum of population=%{y}<extra></extra>",
         "legendgroup": "Mali",
         "marker": {
          "color": "#FECB52",
          "pattern": {
           "shape": ""
          }
         },
         "name": "Mali",
         "offsetgroup": "Mali",
         "orientation": "v",
         "showlegend": true,
         "type": "histogram",
         "x": [
          "Mali"
         ],
         "xaxis": "x",
         "y": [
          22593598
         ],
         "yaxis": "y"
        },
        {
         "alignmentgroup": "True",
         "bingroup": "x",
         "histfunc": "sum",
         "hovertemplate": "location=%{x}<br>sum of population=%{y}<extra></extra>",
         "legendgroup": "Syria",
         "marker": {
          "color": "#636efa",
          "pattern": {
           "shape": ""
          }
         },
         "name": "Syria",
         "offsetgroup": "Syria",
         "orientation": "v",
         "showlegend": true,
         "type": "histogram",
         "x": [
          "Syria"
         ],
         "xaxis": "x",
         "y": [
          22125242
         ],
         "yaxis": "y"
        },
        {
         "alignmentgroup": "True",
         "bingroup": "x",
         "histfunc": "sum",
         "hovertemplate": "location=%{x}<br>sum of population=%{y}<extra></extra>",
         "legendgroup": "Sri Lanka",
         "marker": {
          "color": "#EF553B",
          "pattern": {
           "shape": ""
          }
         },
         "name": "Sri Lanka",
         "offsetgroup": "Sri Lanka",
         "orientation": "v",
         "showlegend": true,
         "type": "histogram",
         "x": [
          "Sri Lanka"
         ],
         "xaxis": "x",
         "y": [
          21832150
         ],
         "yaxis": "y"
        },
        {
         "alignmentgroup": "True",
         "bingroup": "x",
         "histfunc": "sum",
         "hovertemplate": "location=%{x}<br>sum of population=%{y}<extra></extra>",
         "legendgroup": "Malawi",
         "marker": {
          "color": "#00cc96",
          "pattern": {
           "shape": ""
          }
         },
         "name": "Malawi",
         "offsetgroup": "Malawi",
         "orientation": "v",
         "showlegend": true,
         "type": "histogram",
         "x": [
          "Malawi"
         ],
         "xaxis": "x",
         "y": [
          20405318
         ],
         "yaxis": "y"
        },
        {
         "alignmentgroup": "True",
         "bingroup": "x",
         "histfunc": "sum",
         "hovertemplate": "location=%{x}<br>sum of population=%{y}<extra></extra>",
         "legendgroup": "Zambia",
         "marker": {
          "color": "#ab63fa",
          "pattern": {
           "shape": ""
          }
         },
         "name": "Zambia",
         "offsetgroup": "Zambia",
         "orientation": "v",
         "showlegend": true,
         "type": "histogram",
         "x": [
          "Zambia"
         ],
         "xaxis": "x",
         "y": [
          20017670
         ],
         "yaxis": "y"
        },
        {
         "alignmentgroup": "True",
         "bingroup": "x",
         "histfunc": "sum",
         "hovertemplate": "location=%{x}<br>sum of population=%{y}<extra></extra>",
         "legendgroup": "Romania",
         "marker": {
          "color": "#FFA15A",
          "pattern": {
           "shape": ""
          }
         },
         "name": "Romania",
         "offsetgroup": "Romania",
         "orientation": "v",
         "showlegend": true,
         "type": "histogram",
         "x": [
          "Romania"
         ],
         "xaxis": "x",
         "y": [
          19659270
         ],
         "yaxis": "y"
        },
        {
         "alignmentgroup": "True",
         "bingroup": "x",
         "histfunc": "sum",
         "hovertemplate": "location=%{x}<br>sum of population=%{y}<extra></extra>",
         "legendgroup": "Chile",
         "marker": {
          "color": "#19d3f3",
          "pattern": {
           "shape": ""
          }
         },
         "name": "Chile",
         "offsetgroup": "Chile",
         "orientation": "v",
         "showlegend": true,
         "type": "histogram",
         "x": [
          "Chile"
         ],
         "xaxis": "x",
         "y": [
          19603736
         ],
         "yaxis": "y"
        },
        {
         "alignmentgroup": "True",
         "bingroup": "x",
         "histfunc": "sum",
         "hovertemplate": "location=%{x}<br>sum of population=%{y}<extra></extra>",
         "legendgroup": "Kazakhstan",
         "marker": {
          "color": "#FF6692",
          "pattern": {
           "shape": ""
          }
         },
         "name": "Kazakhstan",
         "offsetgroup": "Kazakhstan",
         "orientation": "v",
         "showlegend": true,
         "type": "histogram",
         "x": [
          "Kazakhstan"
         ],
         "xaxis": "x",
         "y": [
          19397998
         ],
         "yaxis": "y"
        },
        {
         "alignmentgroup": "True",
         "bingroup": "x",
         "histfunc": "sum",
         "hovertemplate": "location=%{x}<br>sum of population=%{y}<extra></extra>",
         "legendgroup": "Ecuador",
         "marker": {
          "color": "#B6E880",
          "pattern": {
           "shape": ""
          }
         },
         "name": "Ecuador",
         "offsetgroup": "Ecuador",
         "orientation": "v",
         "showlegend": true,
         "type": "histogram",
         "x": [
          "Ecuador"
         ],
         "xaxis": "x",
         "y": [
          18001002
         ],
         "yaxis": "y"
        },
        {
         "alignmentgroup": "True",
         "bingroup": "x",
         "histfunc": "sum",
         "hovertemplate": "location=%{x}<br>sum of population=%{y}<extra></extra>",
         "legendgroup": "Guatemala",
         "marker": {
          "color": "#FF97FF",
          "pattern": {
           "shape": ""
          }
         },
         "name": "Guatemala",
         "offsetgroup": "Guatemala",
         "orientation": "v",
         "showlegend": true,
         "type": "histogram",
         "x": [
          "Guatemala"
         ],
         "xaxis": "x",
         "y": [
          17843914
         ],
         "yaxis": "y"
        },
        {
         "alignmentgroup": "True",
         "bingroup": "x",
         "histfunc": "sum",
         "hovertemplate": "location=%{x}<br>sum of population=%{y}<extra></extra>",
         "legendgroup": "Chad",
         "marker": {
          "color": "#FECB52",
          "pattern": {
           "shape": ""
          }
         },
         "name": "Chad",
         "offsetgroup": "Chad",
         "orientation": "v",
         "showlegend": true,
         "type": "histogram",
         "x": [
          "Chad"
         ],
         "xaxis": "x",
         "y": [
          17723312
         ],
         "yaxis": "y"
        },
        {
         "alignmentgroup": "True",
         "bingroup": "x",
         "histfunc": "sum",
         "hovertemplate": "location=%{x}<br>sum of population=%{y}<extra></extra>",
         "legendgroup": "Somalia",
         "marker": {
          "color": "#636efa",
          "pattern": {
           "shape": ""
          }
         },
         "name": "Somalia",
         "offsetgroup": "Somalia",
         "orientation": "v",
         "showlegend": true,
         "type": "histogram",
         "x": [
          "Somalia"
         ],
         "xaxis": "x",
         "y": [
          17597508
         ],
         "yaxis": "y"
        },
        {
         "alignmentgroup": "True",
         "bingroup": "x",
         "histfunc": "sum",
         "hovertemplate": "location=%{x}<br>sum of population=%{y}<extra></extra>",
         "legendgroup": "Netherlands",
         "marker": {
          "color": "#EF553B",
          "pattern": {
           "shape": ""
          }
         },
         "name": "Netherlands",
         "offsetgroup": "Netherlands",
         "orientation": "v",
         "showlegend": true,
         "type": "histogram",
         "x": [
          "Netherlands"
         ],
         "xaxis": "x",
         "y": [
          17564020
         ],
         "yaxis": "y"
        },
        {
         "alignmentgroup": "True",
         "bingroup": "x",
         "histfunc": "sum",
         "hovertemplate": "location=%{x}<br>sum of population=%{y}<extra></extra>",
         "legendgroup": "Senegal",
         "marker": {
          "color": "#00cc96",
          "pattern": {
           "shape": ""
          }
         },
         "name": "Senegal",
         "offsetgroup": "Senegal",
         "orientation": "v",
         "showlegend": true,
         "type": "histogram",
         "x": [
          "Senegal"
         ],
         "xaxis": "x",
         "y": [
          17316452
         ],
         "yaxis": "y"
        },
        {
         "alignmentgroup": "True",
         "bingroup": "x",
         "histfunc": "sum",
         "hovertemplate": "location=%{x}<br>sum of population=%{y}<extra></extra>",
         "legendgroup": "Cambodia",
         "marker": {
          "color": "#ab63fa",
          "pattern": {
           "shape": ""
          }
         },
         "name": "Cambodia",
         "offsetgroup": "Cambodia",
         "orientation": "v",
         "showlegend": true,
         "type": "histogram",
         "x": [
          "Cambodia"
         ],
         "xaxis": "x",
         "y": [
          16767851
         ],
         "yaxis": "y"
        },
        {
         "alignmentgroup": "True",
         "bingroup": "x",
         "histfunc": "sum",
         "hovertemplate": "location=%{x}<br>sum of population=%{y}<extra></extra>",
         "legendgroup": "Zimbabwe",
         "marker": {
          "color": "#FFA15A",
          "pattern": {
           "shape": ""
          }
         },
         "name": "Zimbabwe",
         "offsetgroup": "Zimbabwe",
         "orientation": "v",
         "showlegend": true,
         "type": "histogram",
         "x": [
          "Zimbabwe"
         ],
         "xaxis": "x",
         "y": [
          16320539
         ],
         "yaxis": "y"
        },
        {
         "alignmentgroup": "True",
         "bingroup": "x",
         "histfunc": "sum",
         "hovertemplate": "location=%{x}<br>sum of population=%{y}<extra></extra>",
         "legendgroup": "Guinea",
         "marker": {
          "color": "#19d3f3",
          "pattern": {
           "shape": ""
          }
         },
         "name": "Guinea",
         "offsetgroup": "Guinea",
         "orientation": "v",
         "showlegend": true,
         "type": "histogram",
         "x": [
          "Guinea"
         ],
         "xaxis": "x",
         "y": [
          13859349
         ],
         "yaxis": "y"
        },
        {
         "alignmentgroup": "True",
         "bingroup": "x",
         "histfunc": "sum",
         "hovertemplate": "location=%{x}<br>sum of population=%{y}<extra></extra>",
         "legendgroup": "Rwanda",
         "marker": {
          "color": "#FF6692",
          "pattern": {
           "shape": ""
          }
         },
         "name": "Rwanda",
         "offsetgroup": "Rwanda",
         "orientation": "v",
         "showlegend": true,
         "type": "histogram",
         "x": [
          "Rwanda"
         ],
         "xaxis": "x",
         "y": [
          13776702
         ],
         "yaxis": "y"
        },
        {
         "alignmentgroup": "True",
         "bingroup": "x",
         "histfunc": "sum",
         "hovertemplate": "location=%{x}<br>sum of population=%{y}<extra></extra>",
         "legendgroup": "Benin",
         "marker": {
          "color": "#B6E880",
          "pattern": {
           "shape": ""
          }
         },
         "name": "Benin",
         "offsetgroup": "Benin",
         "orientation": "v",
         "showlegend": true,
         "type": "histogram",
         "x": [
          "Benin"
         ],
         "xaxis": "x",
         "y": [
          13352864
         ],
         "yaxis": "y"
        },
        {
         "alignmentgroup": "True",
         "bingroup": "x",
         "histfunc": "sum",
         "hovertemplate": "location=%{x}<br>sum of population=%{y}<extra></extra>",
         "legendgroup": "Burundi",
         "marker": {
          "color": "#FF97FF",
          "pattern": {
           "shape": ""
          }
         },
         "name": "Burundi",
         "offsetgroup": "Burundi",
         "orientation": "v",
         "showlegend": true,
         "type": "histogram",
         "x": [
          "Burundi"
         ],
         "xaxis": "x",
         "y": [
          12889583
         ],
         "yaxis": "y"
        },
        {
         "alignmentgroup": "True",
         "bingroup": "x",
         "histfunc": "sum",
         "hovertemplate": "location=%{x}<br>sum of population=%{y}<extra></extra>",
         "legendgroup": "Tunisia",
         "marker": {
          "color": "#FECB52",
          "pattern": {
           "shape": ""
          }
         },
         "name": "Tunisia",
         "offsetgroup": "Tunisia",
         "orientation": "v",
         "showlegend": true,
         "type": "histogram",
         "x": [
          "Tunisia"
         ],
         "xaxis": "x",
         "y": [
          12356116
         ],
         "yaxis": "y"
        },
        {
         "alignmentgroup": "True",
         "bingroup": "x",
         "histfunc": "sum",
         "hovertemplate": "location=%{x}<br>sum of population=%{y}<extra></extra>",
         "legendgroup": "Bolivia",
         "marker": {
          "color": "#636efa",
          "pattern": {
           "shape": ""
          }
         },
         "name": "Bolivia",
         "offsetgroup": "Bolivia",
         "orientation": "v",
         "showlegend": true,
         "type": "histogram",
         "x": [
          "Bolivia"
         ],
         "xaxis": "x",
         "y": [
          12224114
         ],
         "yaxis": "y"
        },
        {
         "alignmentgroup": "True",
         "bingroup": "x",
         "histfunc": "sum",
         "hovertemplate": "location=%{x}<br>sum of population=%{y}<extra></extra>",
         "legendgroup": "Belgium",
         "marker": {
          "color": "#EF553B",
          "pattern": {
           "shape": ""
          }
         },
         "name": "Belgium",
         "offsetgroup": "Belgium",
         "orientation": "v",
         "showlegend": true,
         "type": "histogram",
         "x": [
          "Belgium"
         ],
         "xaxis": "x",
         "y": [
          11655923
         ],
         "yaxis": "y"
        },
        {
         "alignmentgroup": "True",
         "bingroup": "x",
         "histfunc": "sum",
         "hovertemplate": "location=%{x}<br>sum of population=%{y}<extra></extra>",
         "legendgroup": "Haiti",
         "marker": {
          "color": "#00cc96",
          "pattern": {
           "shape": ""
          }
         },
         "name": "Haiti",
         "offsetgroup": "Haiti",
         "orientation": "v",
         "showlegend": true,
         "type": "histogram",
         "x": [
          "Haiti"
         ],
         "xaxis": "x",
         "y": [
          11585003
         ],
         "yaxis": "y"
        },
        {
         "alignmentgroup": "True",
         "bingroup": "x",
         "histfunc": "sum",
         "hovertemplate": "location=%{x}<br>sum of population=%{y}<extra></extra>",
         "legendgroup": "Jordan",
         "marker": {
          "color": "#ab63fa",
          "pattern": {
           "shape": ""
          }
         },
         "name": "Jordan",
         "offsetgroup": "Jordan",
         "orientation": "v",
         "showlegend": true,
         "type": "histogram",
         "x": [
          "Jordan"
         ],
         "xaxis": "x",
         "y": [
          11285875
         ],
         "yaxis": "y"
        },
        {
         "alignmentgroup": "True",
         "bingroup": "x",
         "histfunc": "sum",
         "hovertemplate": "location=%{x}<br>sum of population=%{y}<extra></extra>",
         "legendgroup": "Dominican Republic",
         "marker": {
          "color": "#FFA15A",
          "pattern": {
           "shape": ""
          }
         },
         "name": "Dominican Republic",
         "offsetgroup": "Dominican Republic",
         "orientation": "v",
         "showlegend": true,
         "type": "histogram",
         "x": [
          "Dominican Republic"
         ],
         "xaxis": "x",
         "y": [
          11228821
         ],
         "yaxis": "y"
        },
        {
         "alignmentgroup": "True",
         "bingroup": "x",
         "histfunc": "sum",
         "hovertemplate": "location=%{x}<br>sum of population=%{y}<extra></extra>",
         "legendgroup": "Cuba",
         "marker": {
          "color": "#19d3f3",
          "pattern": {
           "shape": ""
          }
         },
         "name": "Cuba",
         "offsetgroup": "Cuba",
         "orientation": "v",
         "showlegend": true,
         "type": "histogram",
         "x": [
          "Cuba"
         ],
         "xaxis": "x",
         "y": [
          11212198
         ],
         "yaxis": "y"
        },
        {
         "alignmentgroup": "True",
         "bingroup": "x",
         "histfunc": "sum",
         "hovertemplate": "location=%{x}<br>sum of population=%{y}<extra></extra>",
         "legendgroup": "South Sudan",
         "marker": {
          "color": "#FF6692",
          "pattern": {
           "shape": ""
          }
         },
         "name": "South Sudan",
         "offsetgroup": "South Sudan",
         "orientation": "v",
         "showlegend": true,
         "type": "histogram",
         "x": [
          "South Sudan"
         ],
         "xaxis": "x",
         "y": [
          10913172
         ],
         "yaxis": "y"
        },
        {
         "alignmentgroup": "True",
         "bingroup": "x",
         "histfunc": "sum",
         "hovertemplate": "location=%{x}<br>sum of population=%{y}<extra></extra>",
         "legendgroup": "Sweden",
         "marker": {
          "color": "#B6E880",
          "pattern": {
           "shape": ""
          }
         },
         "name": "Sweden",
         "offsetgroup": "Sweden",
         "orientation": "v",
         "showlegend": true,
         "type": "histogram",
         "x": [
          "Sweden"
         ],
         "xaxis": "x",
         "y": [
          10549349
         ],
         "yaxis": "y"
        },
        {
         "alignmentgroup": "True",
         "bingroup": "x",
         "histfunc": "sum",
         "hovertemplate": "location=%{x}<br>sum of population=%{y}<extra></extra>",
         "legendgroup": "Czechia",
         "marker": {
          "color": "#FF97FF",
          "pattern": {
           "shape": ""
          }
         },
         "name": "Czechia",
         "offsetgroup": "Czechia",
         "orientation": "v",
         "showlegend": true,
         "type": "histogram",
         "x": [
          "Czechia"
         ],
         "xaxis": "x",
         "y": [
          10493990
         ],
         "yaxis": "y"
        },
        {
         "alignmentgroup": "True",
         "bingroup": "x",
         "histfunc": "sum",
         "hovertemplate": "location=%{x}<br>sum of population=%{y}<extra></extra>",
         "legendgroup": "Honduras",
         "marker": {
          "color": "#FECB52",
          "pattern": {
           "shape": ""
          }
         },
         "name": "Honduras",
         "offsetgroup": "Honduras",
         "orientation": "v",
         "showlegend": true,
         "type": "histogram",
         "x": [
          "Honduras"
         ],
         "xaxis": "x",
         "y": [
          10432858
         ],
         "yaxis": "y"
        },
        {
         "alignmentgroup": "True",
         "bingroup": "x",
         "histfunc": "sum",
         "hovertemplate": "location=%{x}<br>sum of population=%{y}<extra></extra>",
         "legendgroup": "Greece",
         "marker": {
          "color": "#636efa",
          "pattern": {
           "shape": ""
          }
         },
         "name": "Greece",
         "offsetgroup": "Greece",
         "orientation": "v",
         "showlegend": true,
         "type": "histogram",
         "x": [
          "Greece"
         ],
         "xaxis": "x",
         "y": [
          10384972
         ],
         "yaxis": "y"
        },
        {
         "alignmentgroup": "True",
         "bingroup": "x",
         "histfunc": "sum",
         "hovertemplate": "location=%{x}<br>sum of population=%{y}<extra></extra>",
         "legendgroup": "Azerbaijan",
         "marker": {
          "color": "#EF553B",
          "pattern": {
           "shape": ""
          }
         },
         "name": "Azerbaijan",
         "offsetgroup": "Azerbaijan",
         "orientation": "v",
         "showlegend": true,
         "type": "histogram",
         "x": [
          "Azerbaijan"
         ],
         "xaxis": "x",
         "y": [
          10358078
         ],
         "yaxis": "y"
        },
        {
         "alignmentgroup": "True",
         "bingroup": "x",
         "histfunc": "sum",
         "hovertemplate": "location=%{x}<br>sum of population=%{y}<extra></extra>",
         "legendgroup": "Portugal",
         "marker": {
          "color": "#00cc96",
          "pattern": {
           "shape": ""
          }
         },
         "name": "Portugal",
         "offsetgroup": "Portugal",
         "orientation": "v",
         "showlegend": true,
         "type": "histogram",
         "x": [
          "Portugal"
         ],
         "xaxis": "x",
         "y": [
          10270857
         ],
         "yaxis": "y"
        },
        {
         "alignmentgroup": "True",
         "bingroup": "x",
         "histfunc": "sum",
         "hovertemplate": "location=%{x}<br>sum of population=%{y}<extra></extra>",
         "legendgroup": "Papua New Guinea",
         "marker": {
          "color": "#ab63fa",
          "pattern": {
           "shape": ""
          }
         },
         "name": "Papua New Guinea",
         "offsetgroup": "Papua New Guinea",
         "orientation": "v",
         "showlegend": true,
         "type": "histogram",
         "x": [
          "Papua New Guinea"
         ],
         "xaxis": "x",
         "y": [
          10142625
         ],
         "yaxis": "y"
        },
        {
         "alignmentgroup": "True",
         "bingroup": "x",
         "histfunc": "sum",
         "hovertemplate": "location=%{x}<br>sum of population=%{y}<extra></extra>",
         "legendgroup": "Hungary",
         "marker": {
          "color": "#FFA15A",
          "pattern": {
           "shape": ""
          }
         },
         "name": "Hungary",
         "offsetgroup": "Hungary",
         "orientation": "v",
         "showlegend": true,
         "type": "histogram",
         "x": [
          "Hungary"
         ],
         "xaxis": "x",
         "y": [
          9967304
         ],
         "yaxis": "y"
        },
        {
         "alignmentgroup": "True",
         "bingroup": "x",
         "histfunc": "sum",
         "hovertemplate": "location=%{x}<br>sum of population=%{y}<extra></extra>",
         "legendgroup": "Tajikistan",
         "marker": {
          "color": "#19d3f3",
          "pattern": {
           "shape": ""
          }
         },
         "name": "Tajikistan",
         "offsetgroup": "Tajikistan",
         "orientation": "v",
         "showlegend": true,
         "type": "histogram",
         "x": [
          "Tajikistan"
         ],
         "xaxis": "x",
         "y": [
          9952789
         ],
         "yaxis": "y"
        },
        {
         "alignmentgroup": "True",
         "bingroup": "x",
         "histfunc": "sum",
         "hovertemplate": "location=%{x}<br>sum of population=%{y}<extra></extra>",
         "legendgroup": "Belarus",
         "marker": {
          "color": "#FF6692",
          "pattern": {
           "shape": ""
          }
         },
         "name": "Belarus",
         "offsetgroup": "Belarus",
         "orientation": "v",
         "showlegend": true,
         "type": "histogram",
         "x": [
          "Belarus"
         ],
         "xaxis": "x",
         "y": [
          9534956
         ],
         "yaxis": "y"
        },
        {
         "alignmentgroup": "True",
         "bingroup": "x",
         "histfunc": "sum",
         "hovertemplate": "location=%{x}<br>sum of population=%{y}<extra></extra>",
         "legendgroup": "Israel",
         "marker": {
          "color": "#B6E880",
          "pattern": {
           "shape": ""
          }
         },
         "name": "Israel",
         "offsetgroup": "Israel",
         "orientation": "v",
         "showlegend": true,
         "type": "histogram",
         "x": [
          "Israel"
         ],
         "xaxis": "x",
         "y": [
          9449000
         ],
         "yaxis": "y"
        },
        {
         "alignmentgroup": "True",
         "bingroup": "x",
         "histfunc": "sum",
         "hovertemplate": "location=%{x}<br>sum of population=%{y}<extra></extra>",
         "legendgroup": "United Arab Emirates",
         "marker": {
          "color": "#FF97FF",
          "pattern": {
           "shape": ""
          }
         },
         "name": "United Arab Emirates",
         "offsetgroup": "United Arab Emirates",
         "orientation": "v",
         "showlegend": true,
         "type": "histogram",
         "x": [
          "United Arab Emirates"
         ],
         "xaxis": "x",
         "y": [
          9441138
         ],
         "yaxis": "y"
        },
        {
         "alignmentgroup": "True",
         "bingroup": "x",
         "histfunc": "sum",
         "hovertemplate": "location=%{x}<br>sum of population=%{y}<extra></extra>",
         "legendgroup": "Austria",
         "marker": {
          "color": "#FECB52",
          "pattern": {
           "shape": ""
          }
         },
         "name": "Austria",
         "offsetgroup": "Austria",
         "orientation": "v",
         "showlegend": true,
         "type": "histogram",
         "x": [
          "Austria"
         ],
         "xaxis": "x",
         "y": [
          8939617
         ],
         "yaxis": "y"
        },
        {
         "alignmentgroup": "True",
         "bingroup": "x",
         "histfunc": "sum",
         "hovertemplate": "location=%{x}<br>sum of population=%{y}<extra></extra>",
         "legendgroup": "Togo",
         "marker": {
          "color": "#636efa",
          "pattern": {
           "shape": ""
          }
         },
         "name": "Togo",
         "offsetgroup": "Togo",
         "orientation": "v",
         "showlegend": true,
         "type": "histogram",
         "x": [
          "Togo"
         ],
         "xaxis": "x",
         "y": [
          8848700
         ],
         "yaxis": "y"
        },
        {
         "alignmentgroup": "True",
         "bingroup": "x",
         "histfunc": "sum",
         "hovertemplate": "location=%{x}<br>sum of population=%{y}<extra></extra>",
         "legendgroup": "Switzerland",
         "marker": {
          "color": "#EF553B",
          "pattern": {
           "shape": ""
          }
         },
         "name": "Switzerland",
         "offsetgroup": "Switzerland",
         "orientation": "v",
         "showlegend": true,
         "type": "histogram",
         "x": [
          "Switzerland"
         ],
         "xaxis": "x",
         "y": [
          8740471
         ],
         "yaxis": "y"
        },
        {
         "alignmentgroup": "True",
         "bingroup": "x",
         "histfunc": "sum",
         "hovertemplate": "location=%{x}<br>sum of population=%{y}<extra></extra>",
         "legendgroup": "Sierra Leone",
         "marker": {
          "color": "#00cc96",
          "pattern": {
           "shape": ""
          }
         },
         "name": "Sierra Leone",
         "offsetgroup": "Sierra Leone",
         "orientation": "v",
         "showlegend": true,
         "type": "histogram",
         "x": [
          "Sierra Leone"
         ],
         "xaxis": "x",
         "y": [
          8605723
         ],
         "yaxis": "y"
        },
        {
         "alignmentgroup": "True",
         "bingroup": "x",
         "histfunc": "sum",
         "hovertemplate": "location=%{x}<br>sum of population=%{y}<extra></extra>",
         "legendgroup": "Laos",
         "marker": {
          "color": "#ab63fa",
          "pattern": {
           "shape": ""
          }
         },
         "name": "Laos",
         "offsetgroup": "Laos",
         "orientation": "v",
         "showlegend": true,
         "type": "histogram",
         "x": [
          "Laos"
         ],
         "xaxis": "x",
         "y": [
          7529477
         ],
         "yaxis": "y"
        },
        {
         "alignmentgroup": "True",
         "bingroup": "x",
         "histfunc": "sum",
         "hovertemplate": "location=%{x}<br>sum of population=%{y}<extra></extra>",
         "legendgroup": "Hong Kong",
         "marker": {
          "color": "#FFA15A",
          "pattern": {
           "shape": ""
          }
         },
         "name": "Hong Kong",
         "offsetgroup": "Hong Kong",
         "orientation": "v",
         "showlegend": true,
         "type": "histogram",
         "x": [
          "Hong Kong"
         ],
         "xaxis": "x",
         "y": [
          7488863
         ],
         "yaxis": "y"
        },
        {
         "alignmentgroup": "True",
         "bingroup": "x",
         "histfunc": "sum",
         "hovertemplate": "location=%{x}<br>sum of population=%{y}<extra></extra>",
         "legendgroup": "Nicaragua",
         "marker": {
          "color": "#19d3f3",
          "pattern": {
           "shape": ""
          }
         },
         "name": "Nicaragua",
         "offsetgroup": "Nicaragua",
         "orientation": "v",
         "showlegend": true,
         "type": "histogram",
         "x": [
          "Nicaragua"
         ],
         "xaxis": "x",
         "y": [
          6948395
         ],
         "yaxis": "y"
        },
        {
         "alignmentgroup": "True",
         "bingroup": "x",
         "histfunc": "sum",
         "hovertemplate": "location=%{x}<br>sum of population=%{y}<extra></extra>",
         "legendgroup": "Serbia",
         "marker": {
          "color": "#FF6692",
          "pattern": {
           "shape": ""
          }
         },
         "name": "Serbia",
         "offsetgroup": "Serbia",
         "orientation": "v",
         "showlegend": true,
         "type": "histogram",
         "x": [
          "Serbia"
         ],
         "xaxis": "x",
         "y": [
          6871547
         ],
         "yaxis": "y"
        },
        {
         "alignmentgroup": "True",
         "bingroup": "x",
         "histfunc": "sum",
         "hovertemplate": "location=%{x}<br>sum of population=%{y}<extra></extra>",
         "legendgroup": "Libya",
         "marker": {
          "color": "#B6E880",
          "pattern": {
           "shape": ""
          }
         },
         "name": "Libya",
         "offsetgroup": "Libya",
         "orientation": "v",
         "showlegend": true,
         "type": "histogram",
         "x": [
          "Libya"
         ],
         "xaxis": "x",
         "y": [
          6812344
         ],
         "yaxis": "y"
        },
        {
         "alignmentgroup": "True",
         "bingroup": "x",
         "histfunc": "sum",
         "hovertemplate": "location=%{x}<br>sum of population=%{y}<extra></extra>",
         "legendgroup": "Bulgaria",
         "marker": {
          "color": "#FF97FF",
          "pattern": {
           "shape": ""
          }
         },
         "name": "Bulgaria",
         "offsetgroup": "Bulgaria",
         "orientation": "v",
         "showlegend": true,
         "type": "histogram",
         "x": [
          "Bulgaria"
         ],
         "xaxis": "x",
         "y": [
          6781955
         ],
         "yaxis": "y"
        },
        {
         "alignmentgroup": "True",
         "bingroup": "x",
         "histfunc": "sum",
         "hovertemplate": "location=%{x}<br>sum of population=%{y}<extra></extra>",
         "legendgroup": "Paraguay",
         "marker": {
          "color": "#FECB52",
          "pattern": {
           "shape": ""
          }
         },
         "name": "Paraguay",
         "offsetgroup": "Paraguay",
         "orientation": "v",
         "showlegend": true,
         "type": "histogram",
         "x": [
          "Paraguay"
         ],
         "xaxis": "x",
         "y": [
          6780745
         ],
         "yaxis": "y"
        },
        {
         "alignmentgroup": "True",
         "bingroup": "x",
         "histfunc": "sum",
         "hovertemplate": "location=%{x}<br>sum of population=%{y}<extra></extra>",
         "legendgroup": "Kyrgyzstan",
         "marker": {
          "color": "#636efa",
          "pattern": {
           "shape": ""
          }
         },
         "name": "Kyrgyzstan",
         "offsetgroup": "Kyrgyzstan",
         "orientation": "v",
         "showlegend": true,
         "type": "histogram",
         "x": [
          "Kyrgyzstan"
         ],
         "xaxis": "x",
         "y": [
          6630621
         ],
         "yaxis": "y"
        },
        {
         "alignmentgroup": "True",
         "bingroup": "x",
         "histfunc": "sum",
         "hovertemplate": "location=%{x}<br>sum of population=%{y}<extra></extra>",
         "legendgroup": "Turkmenistan",
         "marker": {
          "color": "#EF553B",
          "pattern": {
           "shape": ""
          }
         },
         "name": "Turkmenistan",
         "offsetgroup": "Turkmenistan",
         "orientation": "v",
         "showlegend": true,
         "type": "histogram",
         "x": [
          "Turkmenistan"
         ],
         "xaxis": "x",
         "y": [
          6430777
         ],
         "yaxis": "y"
        },
        {
         "alignmentgroup": "True",
         "bingroup": "x",
         "histfunc": "sum",
         "hovertemplate": "location=%{x}<br>sum of population=%{y}<extra></extra>",
         "legendgroup": "El Salvador",
         "marker": {
          "color": "#00cc96",
          "pattern": {
           "shape": ""
          }
         },
         "name": "El Salvador",
         "offsetgroup": "El Salvador",
         "orientation": "v",
         "showlegend": true,
         "type": "histogram",
         "x": [
          "El Salvador"
         ],
         "xaxis": "x",
         "y": [
          6336393
         ],
         "yaxis": "y"
        },
        {
         "alignmentgroup": "True",
         "bingroup": "x",
         "histfunc": "sum",
         "hovertemplate": "location=%{x}<br>sum of population=%{y}<extra></extra>",
         "legendgroup": "Congo",
         "marker": {
          "color": "#ab63fa",
          "pattern": {
           "shape": ""
          }
         },
         "name": "Congo",
         "offsetgroup": "Congo",
         "orientation": "v",
         "showlegend": true,
         "type": "histogram",
         "x": [
          "Congo"
         ],
         "xaxis": "x",
         "y": [
          5970430
         ],
         "yaxis": "y"
        },
        {
         "alignmentgroup": "True",
         "bingroup": "x",
         "histfunc": "sum",
         "hovertemplate": "location=%{x}<br>sum of population=%{y}<extra></extra>",
         "legendgroup": "Denmark",
         "marker": {
          "color": "#FFA15A",
          "pattern": {
           "shape": ""
          }
         },
         "name": "Denmark",
         "offsetgroup": "Denmark",
         "orientation": "v",
         "showlegend": true,
         "type": "histogram",
         "x": [
          "Denmark"
         ],
         "xaxis": "x",
         "y": [
          5882259
         ],
         "yaxis": "y"
        },
        {
         "alignmentgroup": "True",
         "bingroup": "x",
         "histfunc": "sum",
         "hovertemplate": "location=%{x}<br>sum of population=%{y}<extra></extra>",
         "legendgroup": "Slovakia",
         "marker": {
          "color": "#19d3f3",
          "pattern": {
           "shape": ""
          }
         },
         "name": "Slovakia",
         "offsetgroup": "Slovakia",
         "orientation": "v",
         "showlegend": true,
         "type": "histogram",
         "x": [
          "Slovakia"
         ],
         "xaxis": "x",
         "y": [
          5643455
         ],
         "yaxis": "y"
        },
        {
         "alignmentgroup": "True",
         "bingroup": "x",
         "histfunc": "sum",
         "hovertemplate": "location=%{x}<br>sum of population=%{y}<extra></extra>",
         "legendgroup": "Singapore",
         "marker": {
          "color": "#FF6692",
          "pattern": {
           "shape": ""
          }
         },
         "name": "Singapore",
         "offsetgroup": "Singapore",
         "orientation": "v",
         "showlegend": true,
         "type": "histogram",
         "x": [
          "Singapore"
         ],
         "xaxis": "x",
         "y": [
          5637022
         ],
         "yaxis": "y"
        },
        {
         "alignmentgroup": "True",
         "bingroup": "x",
         "histfunc": "sum",
         "hovertemplate": "location=%{x}<br>sum of population=%{y}<extra></extra>",
         "legendgroup": "Central African Republic",
         "marker": {
          "color": "#B6E880",
          "pattern": {
           "shape": ""
          }
         },
         "name": "Central African Republic",
         "offsetgroup": "Central African Republic",
         "orientation": "v",
         "showlegend": true,
         "type": "histogram",
         "x": [
          "Central African Republic"
         ],
         "xaxis": "x",
         "y": [
          5579148
         ],
         "yaxis": "y"
        },
        {
         "alignmentgroup": "True",
         "bingroup": "x",
         "histfunc": "sum",
         "hovertemplate": "location=%{x}<br>sum of population=%{y}<extra></extra>",
         "legendgroup": "Finland",
         "marker": {
          "color": "#FF97FF",
          "pattern": {
           "shape": ""
          }
         },
         "name": "Finland",
         "offsetgroup": "Finland",
         "orientation": "v",
         "showlegend": true,
         "type": "histogram",
         "x": [
          "Finland"
         ],
         "xaxis": "x",
         "y": [
          5540745
         ],
         "yaxis": "y"
        },
        {
         "alignmentgroup": "True",
         "bingroup": "x",
         "histfunc": "sum",
         "hovertemplate": "location=%{x}<br>sum of population=%{y}<extra></extra>",
         "legendgroup": "Lebanon",
         "marker": {
          "color": "#FECB52",
          "pattern": {
           "shape": ""
          }
         },
         "name": "Lebanon",
         "offsetgroup": "Lebanon",
         "orientation": "v",
         "showlegend": true,
         "type": "histogram",
         "x": [
          "Lebanon"
         ],
         "xaxis": "x",
         "y": [
          5489744
         ],
         "yaxis": "y"
        },
        {
         "alignmentgroup": "True",
         "bingroup": "x",
         "histfunc": "sum",
         "hovertemplate": "location=%{x}<br>sum of population=%{y}<extra></extra>",
         "legendgroup": "Scotland",
         "marker": {
          "color": "#636efa",
          "pattern": {
           "shape": ""
          }
         },
         "name": "Scotland",
         "offsetgroup": "Scotland",
         "orientation": "v",
         "showlegend": true,
         "type": "histogram",
         "x": [
          "Scotland"
         ],
         "xaxis": "x",
         "y": [
          5466000
         ],
         "yaxis": "y"
        },
        {
         "alignmentgroup": "True",
         "bingroup": "x",
         "histfunc": "sum",
         "hovertemplate": "location=%{x}<br>sum of population=%{y}<extra></extra>",
         "legendgroup": "Norway",
         "marker": {
          "color": "#EF553B",
          "pattern": {
           "shape": ""
          }
         },
         "name": "Norway",
         "offsetgroup": "Norway",
         "orientation": "v",
         "showlegend": true,
         "type": "histogram",
         "x": [
          "Norway"
         ],
         "xaxis": "x",
         "y": [
          5434324
         ],
         "yaxis": "y"
        },
        {
         "alignmentgroup": "True",
         "bingroup": "x",
         "histfunc": "sum",
         "hovertemplate": "location=%{x}<br>sum of population=%{y}<extra></extra>",
         "legendgroup": "Liberia",
         "marker": {
          "color": "#00cc96",
          "pattern": {
           "shape": ""
          }
         },
         "name": "Liberia",
         "offsetgroup": "Liberia",
         "orientation": "v",
         "showlegend": true,
         "type": "histogram",
         "x": [
          "Liberia"
         ],
         "xaxis": "x",
         "y": [
          5302690
         ],
         "yaxis": "y"
        },
        {
         "alignmentgroup": "True",
         "bingroup": "x",
         "histfunc": "sum",
         "hovertemplate": "location=%{x}<br>sum of population=%{y}<extra></extra>",
         "legendgroup": "Palestine",
         "marker": {
          "color": "#ab63fa",
          "pattern": {
           "shape": ""
          }
         },
         "name": "Palestine",
         "offsetgroup": "Palestine",
         "orientation": "v",
         "showlegend": true,
         "type": "histogram",
         "x": [
          "Palestine"
         ],
         "xaxis": "x",
         "y": [
          5250076
         ],
         "yaxis": "y"
        },
        {
         "alignmentgroup": "True",
         "bingroup": "x",
         "histfunc": "sum",
         "hovertemplate": "location=%{x}<br>sum of population=%{y}<extra></extra>",
         "legendgroup": "New Zealand",
         "marker": {
          "color": "#FFA15A",
          "pattern": {
           "shape": ""
          }
         },
         "name": "New Zealand",
         "offsetgroup": "New Zealand",
         "orientation": "v",
         "showlegend": true,
         "type": "histogram",
         "x": [
          "New Zealand"
         ],
         "xaxis": "x",
         "y": [
          5185289
         ],
         "yaxis": "y"
        },
        {
         "alignmentgroup": "True",
         "bingroup": "x",
         "histfunc": "sum",
         "hovertemplate": "location=%{x}<br>sum of population=%{y}<extra></extra>",
         "legendgroup": "Costa Rica",
         "marker": {
          "color": "#19d3f3",
          "pattern": {
           "shape": ""
          }
         },
         "name": "Costa Rica",
         "offsetgroup": "Costa Rica",
         "orientation": "v",
         "showlegend": true,
         "type": "histogram",
         "x": [
          "Costa Rica"
         ],
         "xaxis": "x",
         "y": [
          5180836
         ],
         "yaxis": "y"
        },
        {
         "alignmentgroup": "True",
         "bingroup": "x",
         "histfunc": "sum",
         "hovertemplate": "location=%{x}<br>sum of population=%{y}<extra></extra>",
         "legendgroup": "Ireland",
         "marker": {
          "color": "#FF6692",
          "pattern": {
           "shape": ""
          }
         },
         "name": "Ireland",
         "offsetgroup": "Ireland",
         "orientation": "v",
         "showlegend": true,
         "type": "histogram",
         "x": [
          "Ireland"
         ],
         "xaxis": "x",
         "y": [
          5023108
         ],
         "yaxis": "y"
        },
        {
         "alignmentgroup": "True",
         "bingroup": "x",
         "histfunc": "sum",
         "hovertemplate": "location=%{x}<br>sum of population=%{y}<extra></extra>",
         "legendgroup": "Mauritania",
         "marker": {
          "color": "#B6E880",
          "pattern": {
           "shape": ""
          }
         },
         "name": "Mauritania",
         "offsetgroup": "Mauritania",
         "orientation": "v",
         "showlegend": true,
         "type": "histogram",
         "x": [
          "Mauritania"
         ],
         "xaxis": "x",
         "y": [
          4736146
         ],
         "yaxis": "y"
        },
        {
         "alignmentgroup": "True",
         "bingroup": "x",
         "histfunc": "sum",
         "hovertemplate": "location=%{x}<br>sum of population=%{y}<extra></extra>",
         "legendgroup": "Oman",
         "marker": {
          "color": "#FF97FF",
          "pattern": {
           "shape": ""
          }
         },
         "name": "Oman",
         "offsetgroup": "Oman",
         "orientation": "v",
         "showlegend": true,
         "type": "histogram",
         "x": [
          "Oman"
         ],
         "xaxis": "x",
         "y": [
          4576300
         ],
         "yaxis": "y"
        },
        {
         "alignmentgroup": "True",
         "bingroup": "x",
         "histfunc": "sum",
         "hovertemplate": "location=%{x}<br>sum of population=%{y}<extra></extra>",
         "legendgroup": "Panama",
         "marker": {
          "color": "#FECB52",
          "pattern": {
           "shape": ""
          }
         },
         "name": "Panama",
         "offsetgroup": "Panama",
         "orientation": "v",
         "showlegend": true,
         "type": "histogram",
         "x": [
          "Panama"
         ],
         "xaxis": "x",
         "y": [
          4408582
         ],
         "yaxis": "y"
        },
        {
         "alignmentgroup": "True",
         "bingroup": "x",
         "histfunc": "sum",
         "hovertemplate": "location=%{x}<br>sum of population=%{y}<extra></extra>",
         "legendgroup": "Kuwait",
         "marker": {
          "color": "#636efa",
          "pattern": {
           "shape": ""
          }
         },
         "name": "Kuwait",
         "offsetgroup": "Kuwait",
         "orientation": "v",
         "showlegend": true,
         "type": "histogram",
         "x": [
          "Kuwait"
         ],
         "xaxis": "x",
         "y": [
          4268886
         ],
         "yaxis": "y"
        },
        {
         "alignmentgroup": "True",
         "bingroup": "x",
         "histfunc": "sum",
         "hovertemplate": "location=%{x}<br>sum of population=%{y}<extra></extra>",
         "legendgroup": "Croatia",
         "marker": {
          "color": "#EF553B",
          "pattern": {
           "shape": ""
          }
         },
         "name": "Croatia",
         "offsetgroup": "Croatia",
         "orientation": "v",
         "showlegend": true,
         "type": "histogram",
         "x": [
          "Croatia"
         ],
         "xaxis": "x",
         "y": [
          4030361
         ],
         "yaxis": "y"
        },
        {
         "alignmentgroup": "True",
         "bingroup": "x",
         "histfunc": "sum",
         "hovertemplate": "location=%{x}<br>sum of population=%{y}<extra></extra>",
         "legendgroup": "Georgia",
         "marker": {
          "color": "#00cc96",
          "pattern": {
           "shape": ""
          }
         },
         "name": "Georgia",
         "offsetgroup": "Georgia",
         "orientation": "v",
         "showlegend": true,
         "type": "histogram",
         "x": [
          "Georgia"
         ],
         "xaxis": "x",
         "y": [
          3744385
         ],
         "yaxis": "y"
        },
        {
         "alignmentgroup": "True",
         "bingroup": "x",
         "histfunc": "sum",
         "hovertemplate": "location=%{x}<br>sum of population=%{y}<extra></extra>",
         "legendgroup": "Eritrea",
         "marker": {
          "color": "#ab63fa",
          "pattern": {
           "shape": ""
          }
         },
         "name": "Eritrea",
         "offsetgroup": "Eritrea",
         "orientation": "v",
         "showlegend": true,
         "type": "histogram",
         "x": [
          "Eritrea"
         ],
         "xaxis": "x",
         "y": [
          3684041
         ],
         "yaxis": "y"
        },
        {
         "alignmentgroup": "True",
         "bingroup": "x",
         "histfunc": "sum",
         "hovertemplate": "location=%{x}<br>sum of population=%{y}<extra></extra>",
         "legendgroup": "Uruguay",
         "marker": {
          "color": "#FFA15A",
          "pattern": {
           "shape": ""
          }
         },
         "name": "Uruguay",
         "offsetgroup": "Uruguay",
         "orientation": "v",
         "showlegend": true,
         "type": "histogram",
         "x": [
          "Uruguay"
         ],
         "xaxis": "x",
         "y": [
          3422796
         ],
         "yaxis": "y"
        },
        {
         "alignmentgroup": "True",
         "bingroup": "x",
         "histfunc": "sum",
         "hovertemplate": "location=%{x}<br>sum of population=%{y}<extra></extra>",
         "legendgroup": "Mongolia",
         "marker": {
          "color": "#19d3f3",
          "pattern": {
           "shape": ""
          }
         },
         "name": "Mongolia",
         "offsetgroup": "Mongolia",
         "orientation": "v",
         "showlegend": true,
         "type": "histogram",
         "x": [
          "Mongolia"
         ],
         "xaxis": "x",
         "y": [
          3398373
         ],
         "yaxis": "y"
        },
        {
         "alignmentgroup": "True",
         "bingroup": "x",
         "histfunc": "sum",
         "hovertemplate": "location=%{x}<br>sum of population=%{y}<extra></extra>",
         "legendgroup": "Moldova",
         "marker": {
          "color": "#FF6692",
          "pattern": {
           "shape": ""
          }
         },
         "name": "Moldova",
         "offsetgroup": "Moldova",
         "orientation": "v",
         "showlegend": true,
         "type": "histogram",
         "x": [
          "Moldova"
         ],
         "xaxis": "x",
         "y": [
          3272993
         ],
         "yaxis": "y"
        },
        {
         "alignmentgroup": "True",
         "bingroup": "x",
         "histfunc": "sum",
         "hovertemplate": "location=%{x}<br>sum of population=%{y}<extra></extra>",
         "legendgroup": "Puerto Rico",
         "marker": {
          "color": "#B6E880",
          "pattern": {
           "shape": ""
          }
         },
         "name": "Puerto Rico",
         "offsetgroup": "Puerto Rico",
         "orientation": "v",
         "showlegend": true,
         "type": "histogram",
         "x": [
          "Puerto Rico"
         ],
         "xaxis": "x",
         "y": [
          3252412
         ],
         "yaxis": "y"
        },
        {
         "alignmentgroup": "True",
         "bingroup": "x",
         "histfunc": "sum",
         "hovertemplate": "location=%{x}<br>sum of population=%{y}<extra></extra>",
         "legendgroup": "Bosnia and Herzegovina",
         "marker": {
          "color": "#FF97FF",
          "pattern": {
           "shape": ""
          }
         },
         "name": "Bosnia and Herzegovina",
         "offsetgroup": "Bosnia and Herzegovina",
         "orientation": "v",
         "showlegend": true,
         "type": "histogram",
         "x": [
          "Bosnia and Herzegovina"
         ],
         "xaxis": "x",
         "y": [
          3233530
         ],
         "yaxis": "y"
        },
        {
         "alignmentgroup": "True",
         "bingroup": "x",
         "histfunc": "sum",
         "hovertemplate": "location=%{x}<br>sum of population=%{y}<extra></extra>",
         "legendgroup": "Wales",
         "marker": {
          "color": "#FECB52",
          "pattern": {
           "shape": ""
          }
         },
         "name": "Wales",
         "offsetgroup": "Wales",
         "orientation": "v",
         "showlegend": true,
         "type": "histogram",
         "x": [
          "Wales"
         ],
         "xaxis": "x",
         "y": [
          3170000
         ],
         "yaxis": "y"
        },
        {
         "alignmentgroup": "True",
         "bingroup": "x",
         "histfunc": "sum",
         "hovertemplate": "location=%{x}<br>sum of population=%{y}<extra></extra>",
         "legendgroup": "Albania",
         "marker": {
          "color": "#636efa",
          "pattern": {
           "shape": ""
          }
         },
         "name": "Albania",
         "offsetgroup": "Albania",
         "orientation": "v",
         "showlegend": true,
         "type": "histogram",
         "x": [
          "Albania"
         ],
         "xaxis": "x",
         "y": [
          2842318
         ],
         "yaxis": "y"
        },
        {
         "alignmentgroup": "True",
         "bingroup": "x",
         "histfunc": "sum",
         "hovertemplate": "location=%{x}<br>sum of population=%{y}<extra></extra>",
         "legendgroup": "Jamaica",
         "marker": {
          "color": "#EF553B",
          "pattern": {
           "shape": ""
          }
         },
         "name": "Jamaica",
         "offsetgroup": "Jamaica",
         "orientation": "v",
         "showlegend": true,
         "type": "histogram",
         "x": [
          "Jamaica"
         ],
         "xaxis": "x",
         "y": [
          2827382
         ],
         "yaxis": "y"
        },
        {
         "alignmentgroup": "True",
         "bingroup": "x",
         "histfunc": "sum",
         "hovertemplate": "location=%{x}<br>sum of population=%{y}<extra></extra>",
         "legendgroup": "Armenia",
         "marker": {
          "color": "#00cc96",
          "pattern": {
           "shape": ""
          }
         },
         "name": "Armenia",
         "offsetgroup": "Armenia",
         "orientation": "v",
         "showlegend": true,
         "type": "histogram",
         "x": [
          "Armenia"
         ],
         "xaxis": "x",
         "y": [
          2780472
         ],
         "yaxis": "y"
        },
        {
         "alignmentgroup": "True",
         "bingroup": "x",
         "histfunc": "sum",
         "hovertemplate": "location=%{x}<br>sum of population=%{y}<extra></extra>",
         "legendgroup": "Lithuania",
         "marker": {
          "color": "#ab63fa",
          "pattern": {
           "shape": ""
          }
         },
         "name": "Lithuania",
         "offsetgroup": "Lithuania",
         "orientation": "v",
         "showlegend": true,
         "type": "histogram",
         "x": [
          "Lithuania"
         ],
         "xaxis": "x",
         "y": [
          2750058
         ],
         "yaxis": "y"
        },
        {
         "alignmentgroup": "True",
         "bingroup": "x",
         "histfunc": "sum",
         "hovertemplate": "location=%{x}<br>sum of population=%{y}<extra></extra>",
         "legendgroup": "Gambia",
         "marker": {
          "color": "#FFA15A",
          "pattern": {
           "shape": ""
          }
         },
         "name": "Gambia",
         "offsetgroup": "Gambia",
         "orientation": "v",
         "showlegend": true,
         "type": "histogram",
         "x": [
          "Gambia"
         ],
         "xaxis": "x",
         "y": [
          2705995
         ],
         "yaxis": "y"
        },
        {
         "alignmentgroup": "True",
         "bingroup": "x",
         "histfunc": "sum",
         "hovertemplate": "location=%{x}<br>sum of population=%{y}<extra></extra>",
         "legendgroup": "Qatar",
         "marker": {
          "color": "#19d3f3",
          "pattern": {
           "shape": ""
          }
         },
         "name": "Qatar",
         "offsetgroup": "Qatar",
         "orientation": "v",
         "showlegend": true,
         "type": "histogram",
         "x": [
          "Qatar"
         ],
         "xaxis": "x",
         "y": [
          2695131
         ],
         "yaxis": "y"
        },
        {
         "alignmentgroup": "True",
         "bingroup": "x",
         "histfunc": "sum",
         "hovertemplate": "location=%{x}<br>sum of population=%{y}<extra></extra>",
         "legendgroup": "Botswana",
         "marker": {
          "color": "#FF6692",
          "pattern": {
           "shape": ""
          }
         },
         "name": "Botswana",
         "offsetgroup": "Botswana",
         "orientation": "v",
         "showlegend": true,
         "type": "histogram",
         "x": [
          "Botswana"
         ],
         "xaxis": "x",
         "y": [
          2630300
         ],
         "yaxis": "y"
        },
        {
         "alignmentgroup": "True",
         "bingroup": "x",
         "histfunc": "sum",
         "hovertemplate": "location=%{x}<br>sum of population=%{y}<extra></extra>",
         "legendgroup": "Namibia",
         "marker": {
          "color": "#B6E880",
          "pattern": {
           "shape": ""
          }
         },
         "name": "Namibia",
         "offsetgroup": "Namibia",
         "orientation": "v",
         "showlegend": true,
         "type": "histogram",
         "x": [
          "Namibia"
         ],
         "xaxis": "x",
         "y": [
          2567024
         ],
         "yaxis": "y"
        },
        {
         "alignmentgroup": "True",
         "bingroup": "x",
         "histfunc": "sum",
         "hovertemplate": "location=%{x}<br>sum of population=%{y}<extra></extra>",
         "legendgroup": "Gabon",
         "marker": {
          "color": "#FF97FF",
          "pattern": {
           "shape": ""
          }
         },
         "name": "Gabon",
         "offsetgroup": "Gabon",
         "orientation": "v",
         "showlegend": true,
         "type": "histogram",
         "x": [
          "Gabon"
         ],
         "xaxis": "x",
         "y": [
          2388997
         ],
         "yaxis": "y"
        },
        {
         "alignmentgroup": "True",
         "bingroup": "x",
         "histfunc": "sum",
         "hovertemplate": "location=%{x}<br>sum of population=%{y}<extra></extra>",
         "legendgroup": "Lesotho",
         "marker": {
          "color": "#FECB52",
          "pattern": {
           "shape": ""
          }
         },
         "name": "Lesotho",
         "offsetgroup": "Lesotho",
         "orientation": "v",
         "showlegend": true,
         "type": "histogram",
         "x": [
          "Lesotho"
         ],
         "xaxis": "x",
         "y": [
          2305826
         ],
         "yaxis": "y"
        },
        {
         "alignmentgroup": "True",
         "bingroup": "x",
         "histfunc": "sum",
         "hovertemplate": "location=%{x}<br>sum of population=%{y}<extra></extra>",
         "legendgroup": "Slovenia",
         "marker": {
          "color": "#636efa",
          "pattern": {
           "shape": ""
          }
         },
         "name": "Slovenia",
         "offsetgroup": "Slovenia",
         "orientation": "v",
         "showlegend": true,
         "type": "histogram",
         "x": [
          "Slovenia"
         ],
         "xaxis": "x",
         "y": [
          2119843
         ],
         "yaxis": "y"
        },
        {
         "alignmentgroup": "True",
         "bingroup": "x",
         "histfunc": "sum",
         "hovertemplate": "location=%{x}<br>sum of population=%{y}<extra></extra>",
         "legendgroup": "Guinea-Bissau",
         "marker": {
          "color": "#EF553B",
          "pattern": {
           "shape": ""
          }
         },
         "name": "Guinea-Bissau",
         "offsetgroup": "Guinea-Bissau",
         "orientation": "v",
         "showlegend": true,
         "type": "histogram",
         "x": [
          "Guinea-Bissau"
         ],
         "xaxis": "x",
         "y": [
          2105580
         ],
         "yaxis": "y"
        },
        {
         "alignmentgroup": "True",
         "bingroup": "x",
         "histfunc": "sum",
         "hovertemplate": "location=%{x}<br>sum of population=%{y}<extra></extra>",
         "legendgroup": "North Macedonia",
         "marker": {
          "color": "#00cc96",
          "pattern": {
           "shape": ""
          }
         },
         "name": "North Macedonia",
         "offsetgroup": "North Macedonia",
         "orientation": "v",
         "showlegend": true,
         "type": "histogram",
         "x": [
          "North Macedonia"
         ],
         "xaxis": "x",
         "y": [
          2093606
         ],
         "yaxis": "y"
        },
        {
         "alignmentgroup": "True",
         "bingroup": "x",
         "histfunc": "sum",
         "hovertemplate": "location=%{x}<br>sum of population=%{y}<extra></extra>",
         "legendgroup": "Northern Ireland",
         "marker": {
          "color": "#ab63fa",
          "pattern": {
           "shape": ""
          }
         },
         "name": "Northern Ireland",
         "offsetgroup": "Northern Ireland",
         "orientation": "v",
         "showlegend": true,
         "type": "histogram",
         "x": [
          "Northern Ireland"
         ],
         "xaxis": "x",
         "y": [
          1896000
         ],
         "yaxis": "y"
        },
        {
         "alignmentgroup": "True",
         "bingroup": "x",
         "histfunc": "sum",
         "hovertemplate": "location=%{x}<br>sum of population=%{y}<extra></extra>",
         "legendgroup": "Latvia",
         "marker": {
          "color": "#FFA15A",
          "pattern": {
           "shape": ""
          }
         },
         "name": "Latvia",
         "offsetgroup": "Latvia",
         "orientation": "v",
         "showlegend": true,
         "type": "histogram",
         "x": [
          "Latvia"
         ],
         "xaxis": "x",
         "y": [
          1850654
         ],
         "yaxis": "y"
        },
        {
         "alignmentgroup": "True",
         "bingroup": "x",
         "histfunc": "sum",
         "hovertemplate": "location=%{x}<br>sum of population=%{y}<extra></extra>",
         "legendgroup": "Kosovo",
         "marker": {
          "color": "#19d3f3",
          "pattern": {
           "shape": ""
          }
         },
         "name": "Kosovo",
         "offsetgroup": "Kosovo",
         "orientation": "v",
         "showlegend": true,
         "type": "histogram",
         "x": [
          "Kosovo"
         ],
         "xaxis": "x",
         "y": [
          1782115
         ],
         "yaxis": "y"
        },
        {
         "alignmentgroup": "True",
         "bingroup": "x",
         "histfunc": "sum",
         "hovertemplate": "location=%{x}<br>sum of population=%{y}<extra></extra>",
         "legendgroup": "Equatorial Guinea",
         "marker": {
          "color": "#FF6692",
          "pattern": {
           "shape": ""
          }
         },
         "name": "Equatorial Guinea",
         "offsetgroup": "Equatorial Guinea",
         "orientation": "v",
         "showlegend": true,
         "type": "histogram",
         "x": [
          "Equatorial Guinea"
         ],
         "xaxis": "x",
         "y": [
          1674916
         ],
         "yaxis": "y"
        },
        {
         "alignmentgroup": "True",
         "bingroup": "x",
         "histfunc": "sum",
         "hovertemplate": "location=%{x}<br>sum of population=%{y}<extra></extra>",
         "legendgroup": "Trinidad and Tobago",
         "marker": {
          "color": "#B6E880",
          "pattern": {
           "shape": ""
          }
         },
         "name": "Trinidad and Tobago",
         "offsetgroup": "Trinidad and Tobago",
         "orientation": "v",
         "showlegend": true,
         "type": "histogram",
         "x": [
          "Trinidad and Tobago"
         ],
         "xaxis": "x",
         "y": [
          1531043
         ],
         "yaxis": "y"
        },
        {
         "alignmentgroup": "True",
         "bingroup": "x",
         "histfunc": "sum",
         "hovertemplate": "location=%{x}<br>sum of population=%{y}<extra></extra>",
         "legendgroup": "Bahrain",
         "marker": {
          "color": "#FF97FF",
          "pattern": {
           "shape": ""
          }
         },
         "name": "Bahrain",
         "offsetgroup": "Bahrain",
         "orientation": "v",
         "showlegend": true,
         "type": "histogram",
         "x": [
          "Bahrain"
         ],
         "xaxis": "x",
         "y": [
          1472237
         ],
         "yaxis": "y"
        },
        {
         "alignmentgroup": "True",
         "bingroup": "x",
         "histfunc": "sum",
         "hovertemplate": "location=%{x}<br>sum of population=%{y}<extra></extra>",
         "legendgroup": "Timor",
         "marker": {
          "color": "#FECB52",
          "pattern": {
           "shape": ""
          }
         },
         "name": "Timor",
         "offsetgroup": "Timor",
         "orientation": "v",
         "showlegend": true,
         "type": "histogram",
         "x": [
          "Timor"
         ],
         "xaxis": "x",
         "y": [
          1341298
         ],
         "yaxis": "y"
        },
        {
         "alignmentgroup": "True",
         "bingroup": "x",
         "histfunc": "sum",
         "hovertemplate": "location=%{x}<br>sum of population=%{y}<extra></extra>",
         "legendgroup": "Estonia",
         "marker": {
          "color": "#636efa",
          "pattern": {
           "shape": ""
          }
         },
         "name": "Estonia",
         "offsetgroup": "Estonia",
         "orientation": "v",
         "showlegend": true,
         "type": "histogram",
         "x": [
          "Estonia"
         ],
         "xaxis": "x",
         "y": [
          1326064
         ],
         "yaxis": "y"
        },
        {
         "alignmentgroup": "True",
         "bingroup": "x",
         "histfunc": "sum",
         "hovertemplate": "location=%{x}<br>sum of population=%{y}<extra></extra>",
         "legendgroup": "Mauritius",
         "marker": {
          "color": "#EF553B",
          "pattern": {
           "shape": ""
          }
         },
         "name": "Mauritius",
         "offsetgroup": "Mauritius",
         "orientation": "v",
         "showlegend": true,
         "type": "histogram",
         "x": [
          "Mauritius"
         ],
         "xaxis": "x",
         "y": [
          1299478
         ],
         "yaxis": "y"
        },
        {
         "alignmentgroup": "True",
         "bingroup": "x",
         "histfunc": "sum",
         "hovertemplate": "location=%{x}<br>sum of population=%{y}<extra></extra>",
         "legendgroup": "Eswatini",
         "marker": {
          "color": "#00cc96",
          "pattern": {
           "shape": ""
          }
         },
         "name": "Eswatini",
         "offsetgroup": "Eswatini",
         "orientation": "v",
         "showlegend": true,
         "type": "histogram",
         "x": [
          "Eswatini"
         ],
         "xaxis": "x",
         "y": [
          1201680
         ],
         "yaxis": "y"
        },
        {
         "alignmentgroup": "True",
         "bingroup": "x",
         "histfunc": "sum",
         "hovertemplate": "location=%{x}<br>sum of population=%{y}<extra></extra>",
         "legendgroup": "Djibouti",
         "marker": {
          "color": "#ab63fa",
          "pattern": {
           "shape": ""
          }
         },
         "name": "Djibouti",
         "offsetgroup": "Djibouti",
         "orientation": "v",
         "showlegend": true,
         "type": "histogram",
         "x": [
          "Djibouti"
         ],
         "xaxis": "x",
         "y": [
          1120851
         ],
         "yaxis": "y"
        },
        {
         "alignmentgroup": "True",
         "bingroup": "x",
         "histfunc": "sum",
         "hovertemplate": "location=%{x}<br>sum of population=%{y}<extra></extra>",
         "legendgroup": "Reunion",
         "marker": {
          "color": "#FFA15A",
          "pattern": {
           "shape": ""
          }
         },
         "name": "Reunion",
         "offsetgroup": "Reunion",
         "orientation": "v",
         "showlegend": true,
         "type": "histogram",
         "x": [
          "Reunion"
         ],
         "xaxis": "x",
         "y": [
          974062
         ],
         "yaxis": "y"
        },
        {
         "alignmentgroup": "True",
         "bingroup": "x",
         "histfunc": "sum",
         "hovertemplate": "location=%{x}<br>sum of population=%{y}<extra></extra>",
         "legendgroup": "Fiji",
         "marker": {
          "color": "#19d3f3",
          "pattern": {
           "shape": ""
          }
         },
         "name": "Fiji",
         "offsetgroup": "Fiji",
         "orientation": "v",
         "showlegend": true,
         "type": "histogram",
         "x": [
          "Fiji"
         ],
         "xaxis": "x",
         "y": [
          929769
         ],
         "yaxis": "y"
        },
        {
         "alignmentgroup": "True",
         "bingroup": "x",
         "histfunc": "sum",
         "hovertemplate": "location=%{x}<br>sum of population=%{y}<extra></extra>",
         "legendgroup": "Cyprus",
         "marker": {
          "color": "#FF6692",
          "pattern": {
           "shape": ""
          }
         },
         "name": "Cyprus",
         "offsetgroup": "Cyprus",
         "orientation": "v",
         "showlegend": true,
         "type": "histogram",
         "x": [
          "Cyprus"
         ],
         "xaxis": "x",
         "y": [
          896007
         ],
         "yaxis": "y"
        },
        {
         "alignmentgroup": "True",
         "bingroup": "x",
         "histfunc": "sum",
         "hovertemplate": "location=%{x}<br>sum of population=%{y}<extra></extra>",
         "legendgroup": "Comoros",
         "marker": {
          "color": "#B6E880",
          "pattern": {
           "shape": ""
          }
         },
         "name": "Comoros",
         "offsetgroup": "Comoros",
         "orientation": "v",
         "showlegend": true,
         "type": "histogram",
         "x": [
          "Comoros"
         ],
         "xaxis": "x",
         "y": [
          836783
         ],
         "yaxis": "y"
        },
        {
         "alignmentgroup": "True",
         "bingroup": "x",
         "histfunc": "sum",
         "hovertemplate": "location=%{x}<br>sum of population=%{y}<extra></extra>",
         "legendgroup": "Guyana",
         "marker": {
          "color": "#FF97FF",
          "pattern": {
           "shape": ""
          }
         },
         "name": "Guyana",
         "offsetgroup": "Guyana",
         "orientation": "v",
         "showlegend": true,
         "type": "histogram",
         "x": [
          "Guyana"
         ],
         "xaxis": "x",
         "y": [
          808727
         ],
         "yaxis": "y"
        },
        {
         "alignmentgroup": "True",
         "bingroup": "x",
         "histfunc": "sum",
         "hovertemplate": "location=%{x}<br>sum of population=%{y}<extra></extra>",
         "legendgroup": "Bhutan",
         "marker": {
          "color": "#FECB52",
          "pattern": {
           "shape": ""
          }
         },
         "name": "Bhutan",
         "offsetgroup": "Bhutan",
         "orientation": "v",
         "showlegend": true,
         "type": "histogram",
         "x": [
          "Bhutan"
         ],
         "xaxis": "x",
         "y": [
          782457
         ],
         "yaxis": "y"
        },
        {
         "alignmentgroup": "True",
         "bingroup": "x",
         "histfunc": "sum",
         "hovertemplate": "location=%{x}<br>sum of population=%{y}<extra></extra>",
         "legendgroup": "Solomon Islands",
         "marker": {
          "color": "#636efa",
          "pattern": {
           "shape": ""
          }
         },
         "name": "Solomon Islands",
         "offsetgroup": "Solomon Islands",
         "orientation": "v",
         "showlegend": true,
         "type": "histogram",
         "x": [
          "Solomon Islands"
         ],
         "xaxis": "x",
         "y": [
          724272
         ],
         "yaxis": "y"
        },
        {
         "alignmentgroup": "True",
         "bingroup": "x",
         "histfunc": "sum",
         "hovertemplate": "location=%{x}<br>sum of population=%{y}<extra></extra>",
         "legendgroup": "Luxembourg",
         "marker": {
          "color": "#EF553B",
          "pattern": {
           "shape": ""
          }
         },
         "name": "Luxembourg",
         "offsetgroup": "Luxembourg",
         "orientation": "v",
         "showlegend": true,
         "type": "histogram",
         "x": [
          "Luxembourg"
         ],
         "xaxis": "x",
         "y": [
          647601
         ],
         "yaxis": "y"
        },
        {
         "alignmentgroup": "True",
         "bingroup": "x",
         "histfunc": "sum",
         "hovertemplate": "location=%{x}<br>sum of population=%{y}<extra></extra>",
         "legendgroup": "Montenegro",
         "marker": {
          "color": "#00cc96",
          "pattern": {
           "shape": ""
          }
         },
         "name": "Montenegro",
         "offsetgroup": "Montenegro",
         "orientation": "v",
         "showlegend": true,
         "type": "histogram",
         "x": [
          "Montenegro"
         ],
         "xaxis": "x",
         "y": [
          627082
         ],
         "yaxis": "y"
        },
        {
         "alignmentgroup": "True",
         "bingroup": "x",
         "histfunc": "sum",
         "hovertemplate": "location=%{x}<br>sum of population=%{y}<extra></extra>",
         "legendgroup": "Suriname",
         "marker": {
          "color": "#ab63fa",
          "pattern": {
           "shape": ""
          }
         },
         "name": "Suriname",
         "offsetgroup": "Suriname",
         "orientation": "v",
         "showlegend": true,
         "type": "histogram",
         "x": [
          "Suriname"
         ],
         "xaxis": "x",
         "y": [
          618046
         ],
         "yaxis": "y"
        },
        {
         "alignmentgroup": "True",
         "bingroup": "x",
         "histfunc": "sum",
         "hovertemplate": "location=%{x}<br>sum of population=%{y}<extra></extra>",
         "legendgroup": "Cape Verde",
         "marker": {
          "color": "#FFA15A",
          "pattern": {
           "shape": ""
          }
         },
         "name": "Cape Verde",
         "offsetgroup": "Cape Verde",
         "orientation": "v",
         "showlegend": true,
         "type": "histogram",
         "x": [
          "Cape Verde"
         ],
         "xaxis": "x",
         "y": [
          593162
         ],
         "yaxis": "y"
        },
        {
         "alignmentgroup": "True",
         "bingroup": "x",
         "histfunc": "sum",
         "hovertemplate": "location=%{x}<br>sum of population=%{y}<extra></extra>",
         "legendgroup": "Malta",
         "marker": {
          "color": "#19d3f3",
          "pattern": {
           "shape": ""
          }
         },
         "name": "Malta",
         "offsetgroup": "Malta",
         "orientation": "v",
         "showlegend": true,
         "type": "histogram",
         "x": [
          "Malta"
         ],
         "xaxis": "x",
         "y": [
          533293
         ],
         "yaxis": "y"
        },
        {
         "alignmentgroup": "True",
         "bingroup": "x",
         "histfunc": "sum",
         "hovertemplate": "location=%{x}<br>sum of population=%{y}<extra></extra>",
         "legendgroup": "Maldives",
         "marker": {
          "color": "#FF6692",
          "pattern": {
           "shape": ""
          }
         },
         "name": "Maldives",
         "offsetgroup": "Maldives",
         "orientation": "v",
         "showlegend": true,
         "type": "histogram",
         "x": [
          "Maldives"
         ],
         "xaxis": "x",
         "y": [
          523798
         ],
         "yaxis": "y"
        },
        {
         "alignmentgroup": "True",
         "bingroup": "x",
         "histfunc": "sum",
         "hovertemplate": "location=%{x}<br>sum of population=%{y}<extra></extra>",
         "legendgroup": "Brunei",
         "marker": {
          "color": "#B6E880",
          "pattern": {
           "shape": ""
          }
         },
         "name": "Brunei",
         "offsetgroup": "Brunei",
         "orientation": "v",
         "showlegend": true,
         "type": "histogram",
         "x": [
          "Brunei"
         ],
         "xaxis": "x",
         "y": [
          449002
         ],
         "yaxis": "y"
        },
        {
         "alignmentgroup": "True",
         "bingroup": "x",
         "histfunc": "sum",
         "hovertemplate": "location=%{x}<br>sum of population=%{y}<extra></extra>",
         "legendgroup": "Bahamas",
         "marker": {
          "color": "#FF97FF",
          "pattern": {
           "shape": ""
          }
         },
         "name": "Bahamas",
         "offsetgroup": "Bahamas",
         "orientation": "v",
         "showlegend": true,
         "type": "histogram",
         "x": [
          "Bahamas"
         ],
         "xaxis": "x",
         "y": [
          409989
         ],
         "yaxis": "y"
        },
        {
         "alignmentgroup": "True",
         "bingroup": "x",
         "histfunc": "sum",
         "hovertemplate": "location=%{x}<br>sum of population=%{y}<extra></extra>",
         "legendgroup": "Belize",
         "marker": {
          "color": "#FECB52",
          "pattern": {
           "shape": ""
          }
         },
         "name": "Belize",
         "offsetgroup": "Belize",
         "orientation": "v",
         "showlegend": true,
         "type": "histogram",
         "x": [
          "Belize"
         ],
         "xaxis": "x",
         "y": [
          405285
         ],
         "yaxis": "y"
        },
        {
         "alignmentgroup": "True",
         "bingroup": "x",
         "histfunc": "sum",
         "hovertemplate": "location=%{x}<br>sum of population=%{y}<extra></extra>",
         "legendgroup": "Guadeloupe",
         "marker": {
          "color": "#636efa",
          "pattern": {
           "shape": ""
          }
         },
         "name": "Guadeloupe",
         "offsetgroup": "Guadeloupe",
         "orientation": "v",
         "showlegend": true,
         "type": "histogram",
         "x": [
          "Guadeloupe"
         ],
         "xaxis": "x",
         "y": [
          395762
         ],
         "yaxis": "y"
        },
        {
         "alignmentgroup": "True",
         "bingroup": "x",
         "histfunc": "sum",
         "hovertemplate": "location=%{x}<br>sum of population=%{y}<extra></extra>",
         "legendgroup": "Iceland",
         "marker": {
          "color": "#EF553B",
          "pattern": {
           "shape": ""
          }
         },
         "name": "Iceland",
         "offsetgroup": "Iceland",
         "orientation": "v",
         "showlegend": true,
         "type": "histogram",
         "x": [
          "Iceland"
         ],
         "xaxis": "x",
         "y": [
          372903
         ],
         "yaxis": "y"
        },
        {
         "alignmentgroup": "True",
         "bingroup": "x",
         "histfunc": "sum",
         "hovertemplate": "location=%{x}<br>sum of population=%{y}<extra></extra>",
         "legendgroup": "Martinique",
         "marker": {
          "color": "#00cc96",
          "pattern": {
           "shape": ""
          }
         },
         "name": "Martinique",
         "offsetgroup": "Martinique",
         "orientation": "v",
         "showlegend": true,
         "type": "histogram",
         "x": [
          "Martinique"
         ],
         "xaxis": "x",
         "y": [
          367512
         ],
         "yaxis": "y"
        },
        {
         "alignmentgroup": "True",
         "bingroup": "x",
         "histfunc": "sum",
         "hovertemplate": "location=%{x}<br>sum of population=%{y}<extra></extra>",
         "legendgroup": "Vanuatu",
         "marker": {
          "color": "#ab63fa",
          "pattern": {
           "shape": ""
          }
         },
         "name": "Vanuatu",
         "offsetgroup": "Vanuatu",
         "orientation": "v",
         "showlegend": true,
         "type": "histogram",
         "x": [
          "Vanuatu"
         ],
         "xaxis": "x",
         "y": [
          326744
         ],
         "yaxis": "y"
        },
        {
         "alignmentgroup": "True",
         "bingroup": "x",
         "histfunc": "sum",
         "hovertemplate": "location=%{x}<br>sum of population=%{y}<extra></extra>",
         "legendgroup": "Mayotte",
         "marker": {
          "color": "#FFA15A",
          "pattern": {
           "shape": ""
          }
         },
         "name": "Mayotte",
         "offsetgroup": "Mayotte",
         "orientation": "v",
         "showlegend": true,
         "type": "histogram",
         "x": [
          "Mayotte"
         ],
         "xaxis": "x",
         "y": [
          326113
         ],
         "yaxis": "y"
        },
        {
         "alignmentgroup": "True",
         "bingroup": "x",
         "histfunc": "sum",
         "hovertemplate": "location=%{x}<br>sum of population=%{y}<extra></extra>",
         "legendgroup": "French Polynesia",
         "marker": {
          "color": "#19d3f3",
          "pattern": {
           "shape": ""
          }
         },
         "name": "French Polynesia",
         "offsetgroup": "French Polynesia",
         "orientation": "v",
         "showlegend": true,
         "type": "histogram",
         "x": [
          "French Polynesia"
         ],
         "xaxis": "x",
         "y": [
          306292
         ],
         "yaxis": "y"
        },
        {
         "alignmentgroup": "True",
         "bingroup": "x",
         "histfunc": "sum",
         "hovertemplate": "location=%{x}<br>sum of population=%{y}<extra></extra>",
         "legendgroup": "French Guiana",
         "marker": {
          "color": "#FF6692",
          "pattern": {
           "shape": ""
          }
         },
         "name": "French Guiana",
         "offsetgroup": "French Guiana",
         "orientation": "v",
         "showlegend": true,
         "type": "histogram",
         "x": [
          "French Guiana"
         ],
         "xaxis": "x",
         "y": [
          304568
         ],
         "yaxis": "y"
        },
        {
         "alignmentgroup": "True",
         "bingroup": "x",
         "histfunc": "sum",
         "hovertemplate": "location=%{x}<br>sum of population=%{y}<extra></extra>",
         "legendgroup": "New Caledonia",
         "marker": {
          "color": "#B6E880",
          "pattern": {
           "shape": ""
          }
         },
         "name": "New Caledonia",
         "offsetgroup": "New Caledonia",
         "orientation": "v",
         "showlegend": true,
         "type": "histogram",
         "x": [
          "New Caledonia"
         ],
         "xaxis": "x",
         "y": [
          289959
         ],
         "yaxis": "y"
        },
        {
         "alignmentgroup": "True",
         "bingroup": "x",
         "histfunc": "sum",
         "hovertemplate": "location=%{x}<br>sum of population=%{y}<extra></extra>",
         "legendgroup": "Barbados",
         "marker": {
          "color": "#FF97FF",
          "pattern": {
           "shape": ""
          }
         },
         "name": "Barbados",
         "offsetgroup": "Barbados",
         "orientation": "v",
         "showlegend": true,
         "type": "histogram",
         "x": [
          "Barbados"
         ],
         "xaxis": "x",
         "y": [
          281646
         ],
         "yaxis": "y"
        },
        {
         "alignmentgroup": "True",
         "bingroup": "x",
         "histfunc": "sum",
         "hovertemplate": "location=%{x}<br>sum of population=%{y}<extra></extra>",
         "legendgroup": "Sao Tome and Principe",
         "marker": {
          "color": "#FECB52",
          "pattern": {
           "shape": ""
          }
         },
         "name": "Sao Tome and Principe",
         "offsetgroup": "Sao Tome and Principe",
         "orientation": "v",
         "showlegend": true,
         "type": "histogram",
         "x": [
          "Sao Tome and Principe"
         ],
         "xaxis": "x",
         "y": [
          227393
         ],
         "yaxis": "y"
        },
        {
         "alignmentgroup": "True",
         "bingroup": "x",
         "histfunc": "sum",
         "hovertemplate": "location=%{x}<br>sum of population=%{y}<extra></extra>",
         "legendgroup": "Samoa",
         "marker": {
          "color": "#636efa",
          "pattern": {
           "shape": ""
          }
         },
         "name": "Samoa",
         "offsetgroup": "Samoa",
         "orientation": "v",
         "showlegend": true,
         "type": "histogram",
         "x": [
          "Samoa"
         ],
         "xaxis": "x",
         "y": [
          222390
         ],
         "yaxis": "y"
        },
        {
         "alignmentgroup": "True",
         "bingroup": "x",
         "histfunc": "sum",
         "hovertemplate": "location=%{x}<br>sum of population=%{y}<extra></extra>",
         "legendgroup": "Curacao",
         "marker": {
          "color": "#EF553B",
          "pattern": {
           "shape": ""
          }
         },
         "name": "Curacao",
         "offsetgroup": "Curacao",
         "orientation": "v",
         "showlegend": true,
         "type": "histogram",
         "x": [
          "Curacao"
         ],
         "xaxis": "x",
         "y": [
          191173
         ],
         "yaxis": "y"
        },
        {
         "alignmentgroup": "True",
         "bingroup": "x",
         "histfunc": "sum",
         "hovertemplate": "location=%{x}<br>sum of population=%{y}<extra></extra>",
         "legendgroup": "Saint Lucia",
         "marker": {
          "color": "#00cc96",
          "pattern": {
           "shape": ""
          }
         },
         "name": "Saint Lucia",
         "offsetgroup": "Saint Lucia",
         "orientation": "v",
         "showlegend": true,
         "type": "histogram",
         "x": [
          "Saint Lucia"
         ],
         "xaxis": "x",
         "y": [
          179872
         ],
         "yaxis": "y"
        },
        {
         "alignmentgroup": "True",
         "bingroup": "x",
         "histfunc": "sum",
         "hovertemplate": "location=%{x}<br>sum of population=%{y}<extra></extra>",
         "legendgroup": "Guam",
         "marker": {
          "color": "#ab63fa",
          "pattern": {
           "shape": ""
          }
         },
         "name": "Guam",
         "offsetgroup": "Guam",
         "orientation": "v",
         "showlegend": true,
         "type": "histogram",
         "x": [
          "Guam"
         ],
         "xaxis": "x",
         "y": [
          171783
         ],
         "yaxis": "y"
        },
        {
         "alignmentgroup": "True",
         "bingroup": "x",
         "histfunc": "sum",
         "hovertemplate": "location=%{x}<br>sum of population=%{y}<extra></extra>",
         "legendgroup": "Kiribati",
         "marker": {
          "color": "#FFA15A",
          "pattern": {
           "shape": ""
          }
         },
         "name": "Kiribati",
         "offsetgroup": "Kiribati",
         "orientation": "v",
         "showlegend": true,
         "type": "histogram",
         "x": [
          "Kiribati"
         ],
         "xaxis": "x",
         "y": [
          131237
         ],
         "yaxis": "y"
        },
        {
         "alignmentgroup": "True",
         "bingroup": "x",
         "histfunc": "sum",
         "hovertemplate": "location=%{x}<br>sum of population=%{y}<extra></extra>",
         "legendgroup": "Grenada",
         "marker": {
          "color": "#19d3f3",
          "pattern": {
           "shape": ""
          }
         },
         "name": "Grenada",
         "offsetgroup": "Grenada",
         "orientation": "v",
         "showlegend": true,
         "type": "histogram",
         "x": [
          "Grenada"
         ],
         "xaxis": "x",
         "y": [
          125459
         ],
         "yaxis": "y"
        },
        {
         "alignmentgroup": "True",
         "bingroup": "x",
         "histfunc": "sum",
         "hovertemplate": "location=%{x}<br>sum of population=%{y}<extra></extra>",
         "legendgroup": "Micronesia (country)",
         "marker": {
          "color": "#FF6692",
          "pattern": {
           "shape": ""
          }
         },
         "name": "Micronesia (country)",
         "offsetgroup": "Micronesia (country)",
         "orientation": "v",
         "showlegend": true,
         "type": "histogram",
         "x": [
          "Micronesia (country)"
         ],
         "xaxis": "x",
         "y": [
          114178
         ],
         "yaxis": "y"
        },
        {
         "alignmentgroup": "True",
         "bingroup": "x",
         "histfunc": "sum",
         "hovertemplate": "location=%{x}<br>sum of population=%{y}<extra></extra>",
         "legendgroup": "Jersey",
         "marker": {
          "color": "#B6E880",
          "pattern": {
           "shape": ""
          }
         },
         "name": "Jersey",
         "offsetgroup": "Jersey",
         "orientation": "v",
         "showlegend": true,
         "type": "histogram",
         "x": [
          "Jersey"
         ],
         "xaxis": "x",
         "y": [
          110796
         ],
         "yaxis": "y"
        },
        {
         "alignmentgroup": "True",
         "bingroup": "x",
         "histfunc": "sum",
         "hovertemplate": "location=%{x}<br>sum of population=%{y}<extra></extra>",
         "legendgroup": "Seychelles",
         "marker": {
          "color": "#FF97FF",
          "pattern": {
           "shape": ""
          }
         },
         "name": "Seychelles",
         "offsetgroup": "Seychelles",
         "orientation": "v",
         "showlegend": true,
         "type": "histogram",
         "x": [
          "Seychelles"
         ],
         "xaxis": "x",
         "y": [
          107135
         ],
         "yaxis": "y"
        },
        {
         "alignmentgroup": "True",
         "bingroup": "x",
         "histfunc": "sum",
         "hovertemplate": "location=%{x}<br>sum of population=%{y}<extra></extra>",
         "legendgroup": "Tonga",
         "marker": {
          "color": "#FECB52",
          "pattern": {
           "shape": ""
          }
         },
         "name": "Tonga",
         "offsetgroup": "Tonga",
         "orientation": "v",
         "showlegend": true,
         "type": "histogram",
         "x": [
          "Tonga"
         ],
         "xaxis": "x",
         "y": [
          106867
         ],
         "yaxis": "y"
        },
        {
         "alignmentgroup": "True",
         "bingroup": "x",
         "histfunc": "sum",
         "hovertemplate": "location=%{x}<br>sum of population=%{y}<extra></extra>",
         "legendgroup": "Aruba",
         "marker": {
          "color": "#636efa",
          "pattern": {
           "shape": ""
          }
         },
         "name": "Aruba",
         "offsetgroup": "Aruba",
         "orientation": "v",
         "showlegend": true,
         "type": "histogram",
         "x": [
          "Aruba"
         ],
         "xaxis": "x",
         "y": [
          106459
         ],
         "yaxis": "y"
        },
        {
         "alignmentgroup": "True",
         "bingroup": "x",
         "histfunc": "sum",
         "hovertemplate": "location=%{x}<br>sum of population=%{y}<extra></extra>",
         "legendgroup": "Saint Vincent and the Grenadines",
         "marker": {
          "color": "#EF553B",
          "pattern": {
           "shape": ""
          }
         },
         "name": "Saint Vincent and the Grenadines",
         "offsetgroup": "Saint Vincent and the Grenadines",
         "orientation": "v",
         "showlegend": true,
         "type": "histogram",
         "x": [
          "Saint Vincent and the Grenadines"
         ],
         "xaxis": "x",
         "y": [
          103959
         ],
         "yaxis": "y"
        },
        {
         "alignmentgroup": "True",
         "bingroup": "x",
         "histfunc": "sum",
         "hovertemplate": "location=%{x}<br>sum of population=%{y}<extra></extra>",
         "legendgroup": "United States Virgin Islands",
         "marker": {
          "color": "#00cc96",
          "pattern": {
           "shape": ""
          }
         },
         "name": "United States Virgin Islands",
         "offsetgroup": "United States Virgin Islands",
         "orientation": "v",
         "showlegend": true,
         "type": "histogram",
         "x": [
          "United States Virgin Islands"
         ],
         "xaxis": "x",
         "y": [
          99479
         ],
         "yaxis": "y"
        },
        {
         "alignmentgroup": "True",
         "bingroup": "x",
         "histfunc": "sum",
         "hovertemplate": "location=%{x}<br>sum of population=%{y}<extra></extra>",
         "legendgroup": "Antigua and Barbuda",
         "marker": {
          "color": "#ab63fa",
          "pattern": {
           "shape": ""
          }
         },
         "name": "Antigua and Barbuda",
         "offsetgroup": "Antigua and Barbuda",
         "orientation": "v",
         "showlegend": true,
         "type": "histogram",
         "x": [
          "Antigua and Barbuda"
         ],
         "xaxis": "x",
         "y": [
          93772
         ],
         "yaxis": "y"
        },
        {
         "alignmentgroup": "True",
         "bingroup": "x",
         "histfunc": "sum",
         "hovertemplate": "location=%{x}<br>sum of population=%{y}<extra></extra>",
         "legendgroup": "Isle of Man",
         "marker": {
          "color": "#FFA15A",
          "pattern": {
           "shape": ""
          }
         },
         "name": "Isle of Man",
         "offsetgroup": "Isle of Man",
         "orientation": "v",
         "showlegend": true,
         "type": "histogram",
         "x": [
          "Isle of Man"
         ],
         "xaxis": "x",
         "y": [
          84534
         ],
         "yaxis": "y"
        },
        {
         "alignmentgroup": "True",
         "bingroup": "x",
         "histfunc": "sum",
         "hovertemplate": "location=%{x}<br>sum of population=%{y}<extra></extra>",
         "legendgroup": "Andorra",
         "marker": {
          "color": "#19d3f3",
          "pattern": {
           "shape": ""
          }
         },
         "name": "Andorra",
         "offsetgroup": "Andorra",
         "orientation": "v",
         "showlegend": true,
         "type": "histogram",
         "x": [
          "Andorra"
         ],
         "xaxis": "x",
         "y": [
          79843
         ],
         "yaxis": "y"
        },
        {
         "alignmentgroup": "True",
         "bingroup": "x",
         "histfunc": "sum",
         "hovertemplate": "location=%{x}<br>sum of population=%{y}<extra></extra>",
         "legendgroup": "Dominica",
         "marker": {
          "color": "#FF6692",
          "pattern": {
           "shape": ""
          }
         },
         "name": "Dominica",
         "offsetgroup": "Dominica",
         "orientation": "v",
         "showlegend": true,
         "type": "histogram",
         "x": [
          "Dominica"
         ],
         "xaxis": "x",
         "y": [
          72758
         ],
         "yaxis": "y"
        },
        {
         "alignmentgroup": "True",
         "bingroup": "x",
         "histfunc": "sum",
         "hovertemplate": "location=%{x}<br>sum of population=%{y}<extra></extra>",
         "legendgroup": "Cayman Islands",
         "marker": {
          "color": "#B6E880",
          "pattern": {
           "shape": ""
          }
         },
         "name": "Cayman Islands",
         "offsetgroup": "Cayman Islands",
         "orientation": "v",
         "showlegend": true,
         "type": "histogram",
         "x": [
          "Cayman Islands"
         ],
         "xaxis": "x",
         "y": [
          68722
         ],
         "yaxis": "y"
        },
        {
         "alignmentgroup": "True",
         "bingroup": "x",
         "histfunc": "sum",
         "hovertemplate": "location=%{x}<br>sum of population=%{y}<extra></extra>",
         "legendgroup": "Bermuda",
         "marker": {
          "color": "#FF97FF",
          "pattern": {
           "shape": ""
          }
         },
         "name": "Bermuda",
         "offsetgroup": "Bermuda",
         "orientation": "v",
         "showlegend": true,
         "type": "histogram",
         "x": [
          "Bermuda"
         ],
         "xaxis": "x",
         "y": [
          64207
         ],
         "yaxis": "y"
        },
        {
         "alignmentgroup": "True",
         "bingroup": "x",
         "histfunc": "sum",
         "hovertemplate": "location=%{x}<br>sum of population=%{y}<extra></extra>",
         "legendgroup": "Guernsey",
         "marker": {
          "color": "#FECB52",
          "pattern": {
           "shape": ""
          }
         },
         "name": "Guernsey",
         "offsetgroup": "Guernsey",
         "orientation": "v",
         "showlegend": true,
         "type": "histogram",
         "x": [
          "Guernsey"
         ],
         "xaxis": "x",
         "y": [
          63329
         ],
         "yaxis": "y"
        },
        {
         "alignmentgroup": "True",
         "bingroup": "x",
         "histfunc": "sum",
         "hovertemplate": "location=%{x}<br>sum of population=%{y}<extra></extra>",
         "legendgroup": "Greenland",
         "marker": {
          "color": "#636efa",
          "pattern": {
           "shape": ""
          }
         },
         "name": "Greenland",
         "offsetgroup": "Greenland",
         "orientation": "v",
         "showlegend": true,
         "type": "histogram",
         "x": [
          "Greenland"
         ],
         "xaxis": "x",
         "y": [
          56494
         ],
         "yaxis": "y"
        },
        {
         "alignmentgroup": "True",
         "bingroup": "x",
         "histfunc": "sum",
         "hovertemplate": "location=%{x}<br>sum of population=%{y}<extra></extra>",
         "legendgroup": "Faeroe Islands",
         "marker": {
          "color": "#EF553B",
          "pattern": {
           "shape": ""
          }
         },
         "name": "Faeroe Islands",
         "offsetgroup": "Faeroe Islands",
         "orientation": "v",
         "showlegend": true,
         "type": "histogram",
         "x": [
          "Faeroe Islands"
         ],
         "xaxis": "x",
         "y": [
          53117
         ],
         "yaxis": "y"
        },
        {
         "alignmentgroup": "True",
         "bingroup": "x",
         "histfunc": "sum",
         "hovertemplate": "location=%{x}<br>sum of population=%{y}<extra></extra>",
         "legendgroup": "Northern Mariana Islands",
         "marker": {
          "color": "#00cc96",
          "pattern": {
           "shape": ""
          }
         },
         "name": "Northern Mariana Islands",
         "offsetgroup": "Northern Mariana Islands",
         "orientation": "v",
         "showlegend": true,
         "type": "histogram",
         "x": [
          "Northern Mariana Islands"
         ],
         "xaxis": "x",
         "y": [
          49574
         ],
         "yaxis": "y"
        },
        {
         "alignmentgroup": "True",
         "bingroup": "x",
         "histfunc": "sum",
         "hovertemplate": "location=%{x}<br>sum of population=%{y}<extra></extra>",
         "legendgroup": "Saint Kitts and Nevis",
         "marker": {
          "color": "#ab63fa",
          "pattern": {
           "shape": ""
          }
         },
         "name": "Saint Kitts and Nevis",
         "offsetgroup": "Saint Kitts and Nevis",
         "orientation": "v",
         "showlegend": true,
         "type": "histogram",
         "x": [
          "Saint Kitts and Nevis"
         ],
         "xaxis": "x",
         "y": [
          47681
         ],
         "yaxis": "y"
        },
        {
         "alignmentgroup": "True",
         "bingroup": "x",
         "histfunc": "sum",
         "hovertemplate": "location=%{x}<br>sum of population=%{y}<extra></extra>",
         "legendgroup": "Turks and Caicos Islands",
         "marker": {
          "color": "#FFA15A",
          "pattern": {
           "shape": ""
          }
         },
         "name": "Turks and Caicos Islands",
         "offsetgroup": "Turks and Caicos Islands",
         "orientation": "v",
         "showlegend": true,
         "type": "histogram",
         "x": [
          "Turks and Caicos Islands"
         ],
         "xaxis": "x",
         "y": [
          45726
         ],
         "yaxis": "y"
        },
        {
         "alignmentgroup": "True",
         "bingroup": "x",
         "histfunc": "sum",
         "hovertemplate": "location=%{x}<br>sum of population=%{y}<extra></extra>",
         "legendgroup": "American Samoa",
         "marker": {
          "color": "#19d3f3",
          "pattern": {
           "shape": ""
          }
         },
         "name": "American Samoa",
         "offsetgroup": "American Samoa",
         "orientation": "v",
         "showlegend": true,
         "type": "histogram",
         "x": [
          "American Samoa"
         ],
         "xaxis": "x",
         "y": [
          44295
         ],
         "yaxis": "y"
        },
        {
         "alignmentgroup": "True",
         "bingroup": "x",
         "histfunc": "sum",
         "hovertemplate": "location=%{x}<br>sum of population=%{y}<extra></extra>",
         "legendgroup": "Sint Maarten (Dutch part)",
         "marker": {
          "color": "#FF6692",
          "pattern": {
           "shape": ""
          }
         },
         "name": "Sint Maarten (Dutch part)",
         "offsetgroup": "Sint Maarten (Dutch part)",
         "orientation": "v",
         "showlegend": true,
         "type": "histogram",
         "x": [
          "Sint Maarten (Dutch part)"
         ],
         "xaxis": "x",
         "y": [
          44192
         ],
         "yaxis": "y"
        },
        {
         "alignmentgroup": "True",
         "bingroup": "x",
         "histfunc": "sum",
         "hovertemplate": "location=%{x}<br>sum of population=%{y}<extra></extra>",
         "legendgroup": "Marshall Islands",
         "marker": {
          "color": "#B6E880",
          "pattern": {
           "shape": ""
          }
         },
         "name": "Marshall Islands",
         "offsetgroup": "Marshall Islands",
         "orientation": "v",
         "showlegend": true,
         "type": "histogram",
         "x": [
          "Marshall Islands"
         ],
         "xaxis": "x",
         "y": [
          41593
         ],
         "yaxis": "y"
        },
        {
         "alignmentgroup": "True",
         "bingroup": "x",
         "histfunc": "sum",
         "hovertemplate": "location=%{x}<br>sum of population=%{y}<extra></extra>",
         "legendgroup": "Liechtenstein",
         "marker": {
          "color": "#FF97FF",
          "pattern": {
           "shape": ""
          }
         },
         "name": "Liechtenstein",
         "offsetgroup": "Liechtenstein",
         "orientation": "v",
         "showlegend": true,
         "type": "histogram",
         "x": [
          "Liechtenstein"
         ],
         "xaxis": "x",
         "y": [
          39355
         ],
         "yaxis": "y"
        },
        {
         "alignmentgroup": "True",
         "bingroup": "x",
         "histfunc": "sum",
         "hovertemplate": "location=%{x}<br>sum of population=%{y}<extra></extra>",
         "legendgroup": "Monaco",
         "marker": {
          "color": "#FECB52",
          "pattern": {
           "shape": ""
          }
         },
         "name": "Monaco",
         "offsetgroup": "Monaco",
         "orientation": "v",
         "showlegend": true,
         "type": "histogram",
         "x": [
          "Monaco"
         ],
         "xaxis": "x",
         "y": [
          36491
         ],
         "yaxis": "y"
        },
        {
         "alignmentgroup": "True",
         "bingroup": "x",
         "histfunc": "sum",
         "hovertemplate": "location=%{x}<br>sum of population=%{y}<extra></extra>",
         "legendgroup": "San Marino",
         "marker": {
          "color": "#636efa",
          "pattern": {
           "shape": ""
          }
         },
         "name": "San Marino",
         "offsetgroup": "San Marino",
         "orientation": "v",
         "showlegend": true,
         "type": "histogram",
         "x": [
          "San Marino"
         ],
         "xaxis": "x",
         "y": [
          33690
         ],
         "yaxis": "y"
        },
        {
         "alignmentgroup": "True",
         "bingroup": "x",
         "histfunc": "sum",
         "hovertemplate": "location=%{x}<br>sum of population=%{y}<extra></extra>",
         "legendgroup": "Gibraltar",
         "marker": {
          "color": "#EF553B",
          "pattern": {
           "shape": ""
          }
         },
         "name": "Gibraltar",
         "offsetgroup": "Gibraltar",
         "orientation": "v",
         "showlegend": true,
         "type": "histogram",
         "x": [
          "Gibraltar"
         ],
         "xaxis": "x",
         "y": [
          32677
         ],
         "yaxis": "y"
        },
        {
         "alignmentgroup": "True",
         "bingroup": "x",
         "histfunc": "sum",
         "hovertemplate": "location=%{x}<br>sum of population=%{y}<extra></extra>",
         "legendgroup": "Saint Martin (French part)",
         "marker": {
          "color": "#00cc96",
          "pattern": {
           "shape": ""
          }
         },
         "name": "Saint Martin (French part)",
         "offsetgroup": "Saint Martin (French part)",
         "orientation": "v",
         "showlegend": true,
         "type": "histogram",
         "x": [
          "Saint Martin (French part)"
         ],
         "xaxis": "x",
         "y": [
          31816
         ],
         "yaxis": "y"
        },
        {
         "alignmentgroup": "True",
         "bingroup": "x",
         "histfunc": "sum",
         "hovertemplate": "location=%{x}<br>sum of population=%{y}<extra></extra>",
         "legendgroup": "British Virgin Islands",
         "marker": {
          "color": "#ab63fa",
          "pattern": {
           "shape": ""
          }
         },
         "name": "British Virgin Islands",
         "offsetgroup": "British Virgin Islands",
         "orientation": "v",
         "showlegend": true,
         "type": "histogram",
         "x": [
          "British Virgin Islands"
         ],
         "xaxis": "x",
         "y": [
          31332
         ],
         "yaxis": "y"
        },
        {
         "alignmentgroup": "True",
         "bingroup": "x",
         "histfunc": "sum",
         "hovertemplate": "location=%{x}<br>sum of population=%{y}<extra></extra>",
         "legendgroup": "Bonaire Sint Eustatius and Saba",
         "marker": {
          "color": "#FFA15A",
          "pattern": {
           "shape": ""
          }
         },
         "name": "Bonaire Sint Eustatius and Saba",
         "offsetgroup": "Bonaire Sint Eustatius and Saba",
         "orientation": "v",
         "showlegend": true,
         "type": "histogram",
         "x": [
          "Bonaire Sint Eustatius and Saba"
         ],
         "xaxis": "x",
         "y": [
          27052
         ],
         "yaxis": "y"
        },
        {
         "alignmentgroup": "True",
         "bingroup": "x",
         "histfunc": "sum",
         "hovertemplate": "location=%{x}<br>sum of population=%{y}<extra></extra>",
         "legendgroup": "Palau",
         "marker": {
          "color": "#19d3f3",
          "pattern": {
           "shape": ""
          }
         },
         "name": "Palau",
         "offsetgroup": "Palau",
         "orientation": "v",
         "showlegend": true,
         "type": "histogram",
         "x": [
          "Palau"
         ],
         "xaxis": "x",
         "y": [
          18084
         ],
         "yaxis": "y"
        },
        {
         "alignmentgroup": "True",
         "bingroup": "x",
         "histfunc": "sum",
         "hovertemplate": "location=%{x}<br>sum of population=%{y}<extra></extra>",
         "legendgroup": "Cook Islands",
         "marker": {
          "color": "#FF6692",
          "pattern": {
           "shape": ""
          }
         },
         "name": "Cook Islands",
         "offsetgroup": "Cook Islands",
         "orientation": "v",
         "showlegend": true,
         "type": "histogram",
         "x": [
          "Cook Islands"
         ],
         "xaxis": "x",
         "y": [
          17032
         ],
         "yaxis": "y"
        },
        {
         "alignmentgroup": "True",
         "bingroup": "x",
         "histfunc": "sum",
         "hovertemplate": "location=%{x}<br>sum of population=%{y}<extra></extra>",
         "legendgroup": "Anguilla",
         "marker": {
          "color": "#B6E880",
          "pattern": {
           "shape": ""
          }
         },
         "name": "Anguilla",
         "offsetgroup": "Anguilla",
         "orientation": "v",
         "showlegend": true,
         "type": "histogram",
         "x": [
          "Anguilla"
         ],
         "xaxis": "x",
         "y": [
          15877
         ],
         "yaxis": "y"
        },
        {
         "alignmentgroup": "True",
         "bingroup": "x",
         "histfunc": "sum",
         "hovertemplate": "location=%{x}<br>sum of population=%{y}<extra></extra>",
         "legendgroup": "Nauru",
         "marker": {
          "color": "#FF97FF",
          "pattern": {
           "shape": ""
          }
         },
         "name": "Nauru",
         "offsetgroup": "Nauru",
         "orientation": "v",
         "showlegend": true,
         "type": "histogram",
         "x": [
          "Nauru"
         ],
         "xaxis": "x",
         "y": [
          12691
         ],
         "yaxis": "y"
        },
        {
         "alignmentgroup": "True",
         "bingroup": "x",
         "histfunc": "sum",
         "hovertemplate": "location=%{x}<br>sum of population=%{y}<extra></extra>",
         "legendgroup": "Wallis and Futuna",
         "marker": {
          "color": "#FECB52",
          "pattern": {
           "shape": ""
          }
         },
         "name": "Wallis and Futuna",
         "offsetgroup": "Wallis and Futuna",
         "orientation": "v",
         "showlegend": true,
         "type": "histogram",
         "x": [
          "Wallis and Futuna"
         ],
         "xaxis": "x",
         "y": [
          11596
         ],
         "yaxis": "y"
        },
        {
         "alignmentgroup": "True",
         "bingroup": "x",
         "histfunc": "sum",
         "hovertemplate": "location=%{x}<br>sum of population=%{y}<extra></extra>",
         "legendgroup": "Tuvalu",
         "marker": {
          "color": "#636efa",
          "pattern": {
           "shape": ""
          }
         },
         "name": "Tuvalu",
         "offsetgroup": "Tuvalu",
         "orientation": "v",
         "showlegend": true,
         "type": "histogram",
         "x": [
          "Tuvalu"
         ],
         "xaxis": "x",
         "y": [
          11335
         ],
         "yaxis": "y"
        },
        {
         "alignmentgroup": "True",
         "bingroup": "x",
         "histfunc": "sum",
         "hovertemplate": "location=%{x}<br>sum of population=%{y}<extra></extra>",
         "legendgroup": "Saint Barthelemy",
         "marker": {
          "color": "#EF553B",
          "pattern": {
           "shape": ""
          }
         },
         "name": "Saint Barthelemy",
         "offsetgroup": "Saint Barthelemy",
         "orientation": "v",
         "showlegend": true,
         "type": "histogram",
         "x": [
          "Saint Barthelemy"
         ],
         "xaxis": "x",
         "y": [
          10994
         ],
         "yaxis": "y"
        },
        {
         "alignmentgroup": "True",
         "bingroup": "x",
         "histfunc": "sum",
         "hovertemplate": "location=%{x}<br>sum of population=%{y}<extra></extra>",
         "legendgroup": "Saint Pierre and Miquelon",
         "marker": {
          "color": "#00cc96",
          "pattern": {
           "shape": ""
          }
         },
         "name": "Saint Pierre and Miquelon",
         "offsetgroup": "Saint Pierre and Miquelon",
         "orientation": "v",
         "showlegend": true,
         "type": "histogram",
         "x": [
          "Saint Pierre and Miquelon"
         ],
         "xaxis": "x",
         "y": [
          5885
         ],
         "yaxis": "y"
        },
        {
         "alignmentgroup": "True",
         "bingroup": "x",
         "histfunc": "sum",
         "hovertemplate": "location=%{x}<br>sum of population=%{y}<extra></extra>",
         "legendgroup": "Saint Helena",
         "marker": {
          "color": "#ab63fa",
          "pattern": {
           "shape": ""
          }
         },
         "name": "Saint Helena",
         "offsetgroup": "Saint Helena",
         "orientation": "v",
         "showlegend": true,
         "type": "histogram",
         "x": [
          "Saint Helena"
         ],
         "xaxis": "x",
         "y": [
          5401
         ],
         "yaxis": "y"
        },
        {
         "alignmentgroup": "True",
         "bingroup": "x",
         "histfunc": "sum",
         "hovertemplate": "location=%{x}<br>sum of population=%{y}<extra></extra>",
         "legendgroup": "Montserrat",
         "marker": {
          "color": "#FFA15A",
          "pattern": {
           "shape": ""
          }
         },
         "name": "Montserrat",
         "offsetgroup": "Montserrat",
         "orientation": "v",
         "showlegend": true,
         "type": "histogram",
         "x": [
          "Montserrat"
         ],
         "xaxis": "x",
         "y": [
          4413
         ],
         "yaxis": "y"
        },
        {
         "alignmentgroup": "True",
         "bingroup": "x",
         "histfunc": "sum",
         "hovertemplate": "location=%{x}<br>sum of population=%{y}<extra></extra>",
         "legendgroup": "Falkland Islands",
         "marker": {
          "color": "#19d3f3",
          "pattern": {
           "shape": ""
          }
         },
         "name": "Falkland Islands",
         "offsetgroup": "Falkland Islands",
         "orientation": "v",
         "showlegend": true,
         "type": "histogram",
         "x": [
          "Falkland Islands"
         ],
         "xaxis": "x",
         "y": [
          3801
         ],
         "yaxis": "y"
        },
        {
         "alignmentgroup": "True",
         "bingroup": "x",
         "histfunc": "sum",
         "hovertemplate": "location=%{x}<br>sum of population=%{y}<extra></extra>",
         "legendgroup": "Niue",
         "marker": {
          "color": "#FF6692",
          "pattern": {
           "shape": ""
          }
         },
         "name": "Niue",
         "offsetgroup": "Niue",
         "orientation": "v",
         "showlegend": true,
         "type": "histogram",
         "x": [
          "Niue"
         ],
         "xaxis": "x",
         "y": [
          1952
         ],
         "yaxis": "y"
        },
        {
         "alignmentgroup": "True",
         "bingroup": "x",
         "histfunc": "sum",
         "hovertemplate": "location=%{x}<br>sum of population=%{y}<extra></extra>",
         "legendgroup": "Tokelau",
         "marker": {
          "color": "#B6E880",
          "pattern": {
           "shape": ""
          }
         },
         "name": "Tokelau",
         "offsetgroup": "Tokelau",
         "orientation": "v",
         "showlegend": true,
         "type": "histogram",
         "x": [
          "Tokelau"
         ],
         "xaxis": "x",
         "y": [
          1893
         ],
         "yaxis": "y"
        },
        {
         "alignmentgroup": "True",
         "bingroup": "x",
         "histfunc": "sum",
         "hovertemplate": "location=%{x}<br>sum of population=%{y}<extra></extra>",
         "legendgroup": "Vatican",
         "marker": {
          "color": "#FF97FF",
          "pattern": {
           "shape": ""
          }
         },
         "name": "Vatican",
         "offsetgroup": "Vatican",
         "orientation": "v",
         "showlegend": true,
         "type": "histogram",
         "x": [
          "Vatican"
         ],
         "xaxis": "x",
         "y": [
          808
         ],
         "yaxis": "y"
        },
        {
         "alignmentgroup": "True",
         "bingroup": "x",
         "histfunc": "sum",
         "hovertemplate": "location=%{x}<br>sum of population=%{y}<extra></extra>",
         "legendgroup": "Pitcairn",
         "marker": {
          "color": "#FECB52",
          "pattern": {
           "shape": ""
          }
         },
         "name": "Pitcairn",
         "offsetgroup": "Pitcairn",
         "orientation": "v",
         "showlegend": true,
         "type": "histogram",
         "x": [
          "Pitcairn"
         ],
         "xaxis": "x",
         "y": [
          47
         ],
         "yaxis": "y"
        }
       ],
       "layout": {
        "barmode": "relative",
        "legend": {
         "title": {
          "text": "location"
         },
         "tracegroupgap": 0
        },
        "margin": {
         "t": 60
        },
        "template": {
         "data": {
          "bar": [
           {
            "error_x": {
             "color": "#2a3f5f"
            },
            "error_y": {
             "color": "#2a3f5f"
            },
            "marker": {
             "line": {
              "color": "#E5ECF6",
              "width": 0.5
             },
             "pattern": {
              "fillmode": "overlay",
              "size": 10,
              "solidity": 0.2
             }
            },
            "type": "bar"
           }
          ],
          "barpolar": [
           {
            "marker": {
             "line": {
              "color": "#E5ECF6",
              "width": 0.5
             },
             "pattern": {
              "fillmode": "overlay",
              "size": 10,
              "solidity": 0.2
             }
            },
            "type": "barpolar"
           }
          ],
          "carpet": [
           {
            "aaxis": {
             "endlinecolor": "#2a3f5f",
             "gridcolor": "white",
             "linecolor": "white",
             "minorgridcolor": "white",
             "startlinecolor": "#2a3f5f"
            },
            "baxis": {
             "endlinecolor": "#2a3f5f",
             "gridcolor": "white",
             "linecolor": "white",
             "minorgridcolor": "white",
             "startlinecolor": "#2a3f5f"
            },
            "type": "carpet"
           }
          ],
          "choropleth": [
           {
            "colorbar": {
             "outlinewidth": 0,
             "ticks": ""
            },
            "type": "choropleth"
           }
          ],
          "contour": [
           {
            "colorbar": {
             "outlinewidth": 0,
             "ticks": ""
            },
            "colorscale": [
             [
              0,
              "#0d0887"
             ],
             [
              0.1111111111111111,
              "#46039f"
             ],
             [
              0.2222222222222222,
              "#7201a8"
             ],
             [
              0.3333333333333333,
              "#9c179e"
             ],
             [
              0.4444444444444444,
              "#bd3786"
             ],
             [
              0.5555555555555556,
              "#d8576b"
             ],
             [
              0.6666666666666666,
              "#ed7953"
             ],
             [
              0.7777777777777778,
              "#fb9f3a"
             ],
             [
              0.8888888888888888,
              "#fdca26"
             ],
             [
              1,
              "#f0f921"
             ]
            ],
            "type": "contour"
           }
          ],
          "contourcarpet": [
           {
            "colorbar": {
             "outlinewidth": 0,
             "ticks": ""
            },
            "type": "contourcarpet"
           }
          ],
          "heatmap": [
           {
            "colorbar": {
             "outlinewidth": 0,
             "ticks": ""
            },
            "colorscale": [
             [
              0,
              "#0d0887"
             ],
             [
              0.1111111111111111,
              "#46039f"
             ],
             [
              0.2222222222222222,
              "#7201a8"
             ],
             [
              0.3333333333333333,
              "#9c179e"
             ],
             [
              0.4444444444444444,
              "#bd3786"
             ],
             [
              0.5555555555555556,
              "#d8576b"
             ],
             [
              0.6666666666666666,
              "#ed7953"
             ],
             [
              0.7777777777777778,
              "#fb9f3a"
             ],
             [
              0.8888888888888888,
              "#fdca26"
             ],
             [
              1,
              "#f0f921"
             ]
            ],
            "type": "heatmap"
           }
          ],
          "heatmapgl": [
           {
            "colorbar": {
             "outlinewidth": 0,
             "ticks": ""
            },
            "colorscale": [
             [
              0,
              "#0d0887"
             ],
             [
              0.1111111111111111,
              "#46039f"
             ],
             [
              0.2222222222222222,
              "#7201a8"
             ],
             [
              0.3333333333333333,
              "#9c179e"
             ],
             [
              0.4444444444444444,
              "#bd3786"
             ],
             [
              0.5555555555555556,
              "#d8576b"
             ],
             [
              0.6666666666666666,
              "#ed7953"
             ],
             [
              0.7777777777777778,
              "#fb9f3a"
             ],
             [
              0.8888888888888888,
              "#fdca26"
             ],
             [
              1,
              "#f0f921"
             ]
            ],
            "type": "heatmapgl"
           }
          ],
          "histogram": [
           {
            "marker": {
             "pattern": {
              "fillmode": "overlay",
              "size": 10,
              "solidity": 0.2
             }
            },
            "type": "histogram"
           }
          ],
          "histogram2d": [
           {
            "colorbar": {
             "outlinewidth": 0,
             "ticks": ""
            },
            "colorscale": [
             [
              0,
              "#0d0887"
             ],
             [
              0.1111111111111111,
              "#46039f"
             ],
             [
              0.2222222222222222,
              "#7201a8"
             ],
             [
              0.3333333333333333,
              "#9c179e"
             ],
             [
              0.4444444444444444,
              "#bd3786"
             ],
             [
              0.5555555555555556,
              "#d8576b"
             ],
             [
              0.6666666666666666,
              "#ed7953"
             ],
             [
              0.7777777777777778,
              "#fb9f3a"
             ],
             [
              0.8888888888888888,
              "#fdca26"
             ],
             [
              1,
              "#f0f921"
             ]
            ],
            "type": "histogram2d"
           }
          ],
          "histogram2dcontour": [
           {
            "colorbar": {
             "outlinewidth": 0,
             "ticks": ""
            },
            "colorscale": [
             [
              0,
              "#0d0887"
             ],
             [
              0.1111111111111111,
              "#46039f"
             ],
             [
              0.2222222222222222,
              "#7201a8"
             ],
             [
              0.3333333333333333,
              "#9c179e"
             ],
             [
              0.4444444444444444,
              "#bd3786"
             ],
             [
              0.5555555555555556,
              "#d8576b"
             ],
             [
              0.6666666666666666,
              "#ed7953"
             ],
             [
              0.7777777777777778,
              "#fb9f3a"
             ],
             [
              0.8888888888888888,
              "#fdca26"
             ],
             [
              1,
              "#f0f921"
             ]
            ],
            "type": "histogram2dcontour"
           }
          ],
          "mesh3d": [
           {
            "colorbar": {
             "outlinewidth": 0,
             "ticks": ""
            },
            "type": "mesh3d"
           }
          ],
          "parcoords": [
           {
            "line": {
             "colorbar": {
              "outlinewidth": 0,
              "ticks": ""
             }
            },
            "type": "parcoords"
           }
          ],
          "pie": [
           {
            "automargin": true,
            "type": "pie"
           }
          ],
          "scatter": [
           {
            "fillpattern": {
             "fillmode": "overlay",
             "size": 10,
             "solidity": 0.2
            },
            "type": "scatter"
           }
          ],
          "scatter3d": [
           {
            "line": {
             "colorbar": {
              "outlinewidth": 0,
              "ticks": ""
             }
            },
            "marker": {
             "colorbar": {
              "outlinewidth": 0,
              "ticks": ""
             }
            },
            "type": "scatter3d"
           }
          ],
          "scattercarpet": [
           {
            "marker": {
             "colorbar": {
              "outlinewidth": 0,
              "ticks": ""
             }
            },
            "type": "scattercarpet"
           }
          ],
          "scattergeo": [
           {
            "marker": {
             "colorbar": {
              "outlinewidth": 0,
              "ticks": ""
             }
            },
            "type": "scattergeo"
           }
          ],
          "scattergl": [
           {
            "marker": {
             "colorbar": {
              "outlinewidth": 0,
              "ticks": ""
             }
            },
            "type": "scattergl"
           }
          ],
          "scattermapbox": [
           {
            "marker": {
             "colorbar": {
              "outlinewidth": 0,
              "ticks": ""
             }
            },
            "type": "scattermapbox"
           }
          ],
          "scatterpolar": [
           {
            "marker": {
             "colorbar": {
              "outlinewidth": 0,
              "ticks": ""
             }
            },
            "type": "scatterpolar"
           }
          ],
          "scatterpolargl": [
           {
            "marker": {
             "colorbar": {
              "outlinewidth": 0,
              "ticks": ""
             }
            },
            "type": "scatterpolargl"
           }
          ],
          "scatterternary": [
           {
            "marker": {
             "colorbar": {
              "outlinewidth": 0,
              "ticks": ""
             }
            },
            "type": "scatterternary"
           }
          ],
          "surface": [
           {
            "colorbar": {
             "outlinewidth": 0,
             "ticks": ""
            },
            "colorscale": [
             [
              0,
              "#0d0887"
             ],
             [
              0.1111111111111111,
              "#46039f"
             ],
             [
              0.2222222222222222,
              "#7201a8"
             ],
             [
              0.3333333333333333,
              "#9c179e"
             ],
             [
              0.4444444444444444,
              "#bd3786"
             ],
             [
              0.5555555555555556,
              "#d8576b"
             ],
             [
              0.6666666666666666,
              "#ed7953"
             ],
             [
              0.7777777777777778,
              "#fb9f3a"
             ],
             [
              0.8888888888888888,
              "#fdca26"
             ],
             [
              1,
              "#f0f921"
             ]
            ],
            "type": "surface"
           }
          ],
          "table": [
           {
            "cells": {
             "fill": {
              "color": "#EBF0F8"
             },
             "line": {
              "color": "white"
             }
            },
            "header": {
             "fill": {
              "color": "#C8D4E3"
             },
             "line": {
              "color": "white"
             }
            },
            "type": "table"
           }
          ]
         },
         "layout": {
          "annotationdefaults": {
           "arrowcolor": "#2a3f5f",
           "arrowhead": 0,
           "arrowwidth": 1
          },
          "autotypenumbers": "strict",
          "coloraxis": {
           "colorbar": {
            "outlinewidth": 0,
            "ticks": ""
           }
          },
          "colorscale": {
           "diverging": [
            [
             0,
             "#8e0152"
            ],
            [
             0.1,
             "#c51b7d"
            ],
            [
             0.2,
             "#de77ae"
            ],
            [
             0.3,
             "#f1b6da"
            ],
            [
             0.4,
             "#fde0ef"
            ],
            [
             0.5,
             "#f7f7f7"
            ],
            [
             0.6,
             "#e6f5d0"
            ],
            [
             0.7,
             "#b8e186"
            ],
            [
             0.8,
             "#7fbc41"
            ],
            [
             0.9,
             "#4d9221"
            ],
            [
             1,
             "#276419"
            ]
           ],
           "sequential": [
            [
             0,
             "#0d0887"
            ],
            [
             0.1111111111111111,
             "#46039f"
            ],
            [
             0.2222222222222222,
             "#7201a8"
            ],
            [
             0.3333333333333333,
             "#9c179e"
            ],
            [
             0.4444444444444444,
             "#bd3786"
            ],
            [
             0.5555555555555556,
             "#d8576b"
            ],
            [
             0.6666666666666666,
             "#ed7953"
            ],
            [
             0.7777777777777778,
             "#fb9f3a"
            ],
            [
             0.8888888888888888,
             "#fdca26"
            ],
            [
             1,
             "#f0f921"
            ]
           ],
           "sequentialminus": [
            [
             0,
             "#0d0887"
            ],
            [
             0.1111111111111111,
             "#46039f"
            ],
            [
             0.2222222222222222,
             "#7201a8"
            ],
            [
             0.3333333333333333,
             "#9c179e"
            ],
            [
             0.4444444444444444,
             "#bd3786"
            ],
            [
             0.5555555555555556,
             "#d8576b"
            ],
            [
             0.6666666666666666,
             "#ed7953"
            ],
            [
             0.7777777777777778,
             "#fb9f3a"
            ],
            [
             0.8888888888888888,
             "#fdca26"
            ],
            [
             1,
             "#f0f921"
            ]
           ]
          },
          "colorway": [
           "#636efa",
           "#EF553B",
           "#00cc96",
           "#ab63fa",
           "#FFA15A",
           "#19d3f3",
           "#FF6692",
           "#B6E880",
           "#FF97FF",
           "#FECB52"
          ],
          "font": {
           "color": "#2a3f5f"
          },
          "geo": {
           "bgcolor": "white",
           "lakecolor": "white",
           "landcolor": "#E5ECF6",
           "showlakes": true,
           "showland": true,
           "subunitcolor": "white"
          },
          "hoverlabel": {
           "align": "left"
          },
          "hovermode": "closest",
          "mapbox": {
           "style": "light"
          },
          "paper_bgcolor": "white",
          "plot_bgcolor": "#E5ECF6",
          "polar": {
           "angularaxis": {
            "gridcolor": "white",
            "linecolor": "white",
            "ticks": ""
           },
           "bgcolor": "#E5ECF6",
           "radialaxis": {
            "gridcolor": "white",
            "linecolor": "white",
            "ticks": ""
           }
          },
          "scene": {
           "xaxis": {
            "backgroundcolor": "#E5ECF6",
            "gridcolor": "white",
            "gridwidth": 2,
            "linecolor": "white",
            "showbackground": true,
            "ticks": "",
            "zerolinecolor": "white"
           },
           "yaxis": {
            "backgroundcolor": "#E5ECF6",
            "gridcolor": "white",
            "gridwidth": 2,
            "linecolor": "white",
            "showbackground": true,
            "ticks": "",
            "zerolinecolor": "white"
           },
           "zaxis": {
            "backgroundcolor": "#E5ECF6",
            "gridcolor": "white",
            "gridwidth": 2,
            "linecolor": "white",
            "showbackground": true,
            "ticks": "",
            "zerolinecolor": "white"
           }
          },
          "shapedefaults": {
           "line": {
            "color": "#2a3f5f"
           }
          },
          "ternary": {
           "aaxis": {
            "gridcolor": "white",
            "linecolor": "white",
            "ticks": ""
           },
           "baxis": {
            "gridcolor": "white",
            "linecolor": "white",
            "ticks": ""
           },
           "bgcolor": "#E5ECF6",
           "caxis": {
            "gridcolor": "white",
            "linecolor": "white",
            "ticks": ""
           }
          },
          "title": {
           "x": 0.05
          },
          "xaxis": {
           "automargin": true,
           "gridcolor": "white",
           "linecolor": "white",
           "ticks": "",
           "title": {
            "standoff": 15
           },
           "zerolinecolor": "white",
           "zerolinewidth": 2
          },
          "yaxis": {
           "automargin": true,
           "gridcolor": "white",
           "linecolor": "white",
           "ticks": "",
           "title": {
            "standoff": 15
           },
           "zerolinecolor": "white",
           "zerolinewidth": 2
          }
         }
        },
        "xaxis": {
         "anchor": "y",
         "categoryarray": [
          "China",
          "India",
          "United States",
          "Indonesia",
          "Pakistan",
          "Nigeria",
          "Brazil",
          "Bangladesh",
          "Russia",
          "Mexico",
          "Japan",
          "Ethiopia",
          "Philippines",
          "Egypt",
          "Democratic Republic of Congo",
          "Vietnam",
          "Iran",
          "Turkey",
          "Germany",
          "Thailand",
          "France",
          "United Kingdom",
          "Tanzania",
          "South Africa",
          "Italy",
          "England",
          "Myanmar",
          "Kenya",
          "Colombia",
          "South Korea",
          "Spain",
          "Uganda",
          "Sudan",
          "Argentina",
          "Algeria",
          "Iraq",
          "Afghanistan",
          "Poland",
          "Ukraine",
          "Canada",
          "Morocco",
          "Saudi Arabia",
          "Angola",
          "Uzbekistan",
          "Peru",
          "Malaysia",
          "Yemen",
          "Ghana",
          "Mozambique",
          "Nepal",
          "Madagascar",
          "Venezuela",
          "Cote d'Ivoire",
          "Cameroon",
          "Niger",
          "Australia",
          "North Korea",
          "Taiwan",
          "Burkina Faso",
          "Mali",
          "Syria",
          "Sri Lanka",
          "Malawi",
          "Zambia",
          "Romania",
          "Chile",
          "Kazakhstan",
          "Ecuador",
          "Guatemala",
          "Chad",
          "Somalia",
          "Netherlands",
          "Senegal",
          "Cambodia",
          "Zimbabwe",
          "Guinea",
          "Rwanda",
          "Benin",
          "Burundi",
          "Tunisia",
          "Bolivia",
          "Belgium",
          "Haiti",
          "Jordan",
          "Dominican Republic",
          "Cuba",
          "South Sudan",
          "Sweden",
          "Czechia",
          "Honduras",
          "Greece",
          "Azerbaijan",
          "Portugal",
          "Papua New Guinea",
          "Hungary",
          "Tajikistan",
          "Belarus",
          "Israel",
          "United Arab Emirates",
          "Austria",
          "Togo",
          "Switzerland",
          "Sierra Leone",
          "Laos",
          "Hong Kong",
          "Nicaragua",
          "Serbia",
          "Libya",
          "Bulgaria",
          "Paraguay",
          "Kyrgyzstan",
          "Turkmenistan",
          "El Salvador",
          "Congo",
          "Denmark",
          "Slovakia",
          "Singapore",
          "Central African Republic",
          "Finland",
          "Lebanon",
          "Scotland",
          "Norway",
          "Liberia",
          "Palestine",
          "New Zealand",
          "Costa Rica",
          "Ireland",
          "Mauritania",
          "Oman",
          "Panama",
          "Kuwait",
          "Croatia",
          "Georgia",
          "Eritrea",
          "Uruguay",
          "Mongolia",
          "Moldova",
          "Puerto Rico",
          "Bosnia and Herzegovina",
          "Wales",
          "Albania",
          "Jamaica",
          "Armenia",
          "Lithuania",
          "Gambia",
          "Qatar",
          "Botswana",
          "Namibia",
          "Gabon",
          "Lesotho",
          "Slovenia",
          "Guinea-Bissau",
          "North Macedonia",
          "Northern Ireland",
          "Latvia",
          "Kosovo",
          "Equatorial Guinea",
          "Trinidad and Tobago",
          "Bahrain",
          "Timor",
          "Estonia",
          "Mauritius",
          "Eswatini",
          "Djibouti",
          "Reunion",
          "Fiji",
          "Cyprus",
          "Comoros",
          "Guyana",
          "Bhutan",
          "Solomon Islands",
          "Luxembourg",
          "Montenegro",
          "Suriname",
          "Cape Verde",
          "Malta",
          "Maldives",
          "Brunei",
          "Bahamas",
          "Belize",
          "Guadeloupe",
          "Iceland",
          "Martinique",
          "Vanuatu",
          "Mayotte",
          "French Polynesia",
          "French Guiana",
          "New Caledonia",
          "Barbados",
          "Sao Tome and Principe",
          "Samoa",
          "Curacao",
          "Saint Lucia",
          "Guam",
          "Kiribati",
          "Grenada",
          "Micronesia (country)",
          "Jersey",
          "Seychelles",
          "Tonga",
          "Aruba",
          "Saint Vincent and the Grenadines",
          "United States Virgin Islands",
          "Antigua and Barbuda",
          "Isle of Man",
          "Andorra",
          "Dominica",
          "Cayman Islands",
          "Bermuda",
          "Guernsey",
          "Greenland",
          "Faeroe Islands",
          "Northern Mariana Islands",
          "Saint Kitts and Nevis",
          "Turks and Caicos Islands",
          "American Samoa",
          "Sint Maarten (Dutch part)",
          "Marshall Islands",
          "Liechtenstein",
          "Monaco",
          "San Marino",
          "Gibraltar",
          "Saint Martin (French part)",
          "British Virgin Islands",
          "Bonaire Sint Eustatius and Saba",
          "Palau",
          "Cook Islands",
          "Anguilla",
          "Nauru",
          "Wallis and Futuna",
          "Tuvalu",
          "Saint Barthelemy",
          "Saint Pierre and Miquelon",
          "Saint Helena",
          "Montserrat",
          "Falkland Islands",
          "Niue",
          "Tokelau",
          "Vatican",
          "Pitcairn"
         ],
         "categoryorder": "array",
         "domain": [
          0,
          1
         ],
         "title": {
          "text": "location"
         }
        },
        "yaxis": {
         "anchor": "x",
         "domain": [
          0,
          1
         ],
         "title": {
          "text": "sum of population"
         }
        }
       }
      }
     },
     "metadata": {},
     "output_type": "display_data"
    }
   ],
   "source": [
    "px.histogram(grouped_df,x='location',y='population',color='location')"
   ]
  },
  {
   "cell_type": "markdown",
   "metadata": {},
   "source": [
    "## most country affected covid19 in 2020"
   ]
  },
  {
   "cell_type": "code",
   "execution_count": 10,
   "metadata": {},
   "outputs": [
    {
     "data": {
      "text/html": [
       "<div>\n",
       "<style scoped>\n",
       "    .dataframe tbody tr th:only-of-type {\n",
       "        vertical-align: middle;\n",
       "    }\n",
       "\n",
       "    .dataframe tbody tr th {\n",
       "        vertical-align: top;\n",
       "    }\n",
       "\n",
       "    .dataframe thead th {\n",
       "        text-align: right;\n",
       "    }\n",
       "</style>\n",
       "<table border=\"1\" class=\"dataframe\">\n",
       "  <thead>\n",
       "    <tr style=\"text-align: right;\">\n",
       "      <th></th>\n",
       "      <th>location</th>\n",
       "      <th>total_cases</th>\n",
       "    </tr>\n",
       "  </thead>\n",
       "  <tbody>\n",
       "    <tr>\n",
       "      <th>227</th>\n",
       "      <td>United States</td>\n",
       "      <td>19577585.0</td>\n",
       "    </tr>\n",
       "    <tr>\n",
       "      <th>96</th>\n",
       "      <td>India</td>\n",
       "      <td>10266674.0</td>\n",
       "    </tr>\n",
       "    <tr>\n",
       "      <th>28</th>\n",
       "      <td>Brazil</td>\n",
       "      <td>7563551.0</td>\n",
       "    </tr>\n",
       "    <tr>\n",
       "      <th>175</th>\n",
       "      <td>Russia</td>\n",
       "      <td>3159297.0</td>\n",
       "    </tr>\n",
       "    <tr>\n",
       "      <th>226</th>\n",
       "      <td>United Kingdom</td>\n",
       "      <td>2563561.0</td>\n",
       "    </tr>\n",
       "    <tr>\n",
       "      <th>...</th>\n",
       "      <td>...</td>\n",
       "      <td>...</td>\n",
       "    </tr>\n",
       "    <tr>\n",
       "      <th>215</th>\n",
       "      <td>Tokelau</td>\n",
       "      <td>NaN</td>\n",
       "    </tr>\n",
       "    <tr>\n",
       "      <th>216</th>\n",
       "      <td>Tonga</td>\n",
       "      <td>NaN</td>\n",
       "    </tr>\n",
       "    <tr>\n",
       "      <th>220</th>\n",
       "      <td>Turkmenistan</td>\n",
       "      <td>NaN</td>\n",
       "    </tr>\n",
       "    <tr>\n",
       "      <th>222</th>\n",
       "      <td>Tuvalu</td>\n",
       "      <td>NaN</td>\n",
       "    </tr>\n",
       "    <tr>\n",
       "      <th>235</th>\n",
       "      <td>Wales</td>\n",
       "      <td>NaN</td>\n",
       "    </tr>\n",
       "  </tbody>\n",
       "</table>\n",
       "<p>240 rows × 2 columns</p>\n",
       "</div>"
      ],
      "text/plain": [
       "           location  total_cases\n",
       "227   United States   19577585.0\n",
       "96            India   10266674.0\n",
       "28           Brazil    7563551.0\n",
       "175          Russia    3159297.0\n",
       "226  United Kingdom    2563561.0\n",
       "..              ...          ...\n",
       "215         Tokelau          NaN\n",
       "216           Tonga          NaN\n",
       "220    Turkmenistan          NaN\n",
       "222          Tuvalu          NaN\n",
       "235           Wales          NaN\n",
       "\n",
       "[240 rows x 2 columns]"
      ]
     },
     "execution_count": 10,
     "metadata": {},
     "output_type": "execute_result"
    }
   ],
   "source": [
    "exclude_values = ['Lower middle income','Low income','European Union','World','Asia','Africa','High income','Europe','North America','South America','Upper middle income','Oceania']\n",
    "filtered_df = data_2020[~data_2020['location'].isin(exclude_values)]\n",
    "\n",
    "grouped_df = filtered_df.groupby('location')['total_cases'].max().reset_index().sort_values(by='total_cases',ascending=False)\n",
    "grouped_df"
   ]
  },
  {
   "cell_type": "markdown",
   "metadata": {},
   "source": [
    "we see that usa is the most country who got effected covid19 around 19million people found covid 19"
   ]
  },
  {
   "cell_type": "markdown",
   "metadata": {},
   "source": [
    "EXPLORATORY DATA ANALYSIS ON MOST COUNTRY EFFECTED BY COVID19 IN 2020"
   ]
  },
  {
   "cell_type": "code",
   "execution_count": 11,
   "metadata": {},
   "outputs": [
    {
     "data": {
      "application/vnd.plotly.v1+json": {
       "config": {
        "plotlyServerURL": "https://plot.ly"
       },
       "data": [
        {
         "alignmentgroup": "True",
         "hovertemplate": "location=%{x}<br>total_cases=%{text}<extra></extra>",
         "legendgroup": "United States",
         "marker": {
          "color": "#636efa",
          "pattern": {
           "shape": ""
          }
         },
         "name": "United States",
         "offsetgroup": "United States",
         "orientation": "v",
         "showlegend": true,
         "text": [
          19577585
         ],
         "textposition": "outside",
         "type": "bar",
         "x": [
          "United States"
         ],
         "xaxis": "x",
         "y": [
          19577585
         ],
         "yaxis": "y"
        },
        {
         "alignmentgroup": "True",
         "hovertemplate": "location=%{x}<br>total_cases=%{text}<extra></extra>",
         "legendgroup": "India",
         "marker": {
          "color": "#EF553B",
          "pattern": {
           "shape": ""
          }
         },
         "name": "India",
         "offsetgroup": "India",
         "orientation": "v",
         "showlegend": true,
         "text": [
          10266674
         ],
         "textposition": "outside",
         "type": "bar",
         "x": [
          "India"
         ],
         "xaxis": "x",
         "y": [
          10266674
         ],
         "yaxis": "y"
        },
        {
         "alignmentgroup": "True",
         "hovertemplate": "location=%{x}<br>total_cases=%{text}<extra></extra>",
         "legendgroup": "Brazil",
         "marker": {
          "color": "#00cc96",
          "pattern": {
           "shape": ""
          }
         },
         "name": "Brazil",
         "offsetgroup": "Brazil",
         "orientation": "v",
         "showlegend": true,
         "text": [
          7563551
         ],
         "textposition": "outside",
         "type": "bar",
         "x": [
          "Brazil"
         ],
         "xaxis": "x",
         "y": [
          7563551
         ],
         "yaxis": "y"
        },
        {
         "alignmentgroup": "True",
         "hovertemplate": "location=%{x}<br>total_cases=%{text}<extra></extra>",
         "legendgroup": "Russia",
         "marker": {
          "color": "#ab63fa",
          "pattern": {
           "shape": ""
          }
         },
         "name": "Russia",
         "offsetgroup": "Russia",
         "orientation": "v",
         "showlegend": true,
         "text": [
          3159297
         ],
         "textposition": "outside",
         "type": "bar",
         "x": [
          "Russia"
         ],
         "xaxis": "x",
         "y": [
          3159297
         ],
         "yaxis": "y"
        },
        {
         "alignmentgroup": "True",
         "hovertemplate": "location=%{x}<br>total_cases=%{text}<extra></extra>",
         "legendgroup": "United Kingdom",
         "marker": {
          "color": "#FFA15A",
          "pattern": {
           "shape": ""
          }
         },
         "name": "United Kingdom",
         "offsetgroup": "United Kingdom",
         "orientation": "v",
         "showlegend": true,
         "text": [
          2563561
         ],
         "textposition": "outside",
         "type": "bar",
         "x": [
          "United Kingdom"
         ],
         "xaxis": "x",
         "y": [
          2563561
         ],
         "yaxis": "y"
        },
        {
         "alignmentgroup": "True",
         "hovertemplate": "location=%{x}<br>total_cases=%{text}<extra></extra>",
         "legendgroup": "France",
         "marker": {
          "color": "#19d3f3",
          "pattern": {
           "shape": ""
          }
         },
         "name": "France",
         "offsetgroup": "France",
         "orientation": "v",
         "showlegend": true,
         "text": [
          2338258
         ],
         "textposition": "outside",
         "type": "bar",
         "x": [
          "France"
         ],
         "xaxis": "x",
         "y": [
          2338258
         ],
         "yaxis": "y"
        },
        {
         "alignmentgroup": "True",
         "hovertemplate": "location=%{x}<br>total_cases=%{text}<extra></extra>",
         "legendgroup": "Turkey",
         "marker": {
          "color": "#FF6692",
          "pattern": {
           "shape": ""
          }
         },
         "name": "Turkey",
         "offsetgroup": "Turkey",
         "orientation": "v",
         "showlegend": true,
         "text": [
          2194272
         ],
         "textposition": "outside",
         "type": "bar",
         "x": [
          "Turkey"
         ],
         "xaxis": "x",
         "y": [
          2194272
         ],
         "yaxis": "y"
        },
        {
         "alignmentgroup": "True",
         "hovertemplate": "location=%{x}<br>total_cases=%{text}<extra></extra>",
         "legendgroup": "Italy",
         "marker": {
          "color": "#B6E880",
          "pattern": {
           "shape": ""
          }
         },
         "name": "Italy",
         "offsetgroup": "Italy",
         "orientation": "v",
         "showlegend": true,
         "text": [
          2083689
         ],
         "textposition": "outside",
         "type": "bar",
         "x": [
          "Italy"
         ],
         "xaxis": "x",
         "y": [
          2083689
         ],
         "yaxis": "y"
        },
        {
         "alignmentgroup": "True",
         "hovertemplate": "location=%{x}<br>total_cases=%{text}<extra></extra>",
         "legendgroup": "Spain",
         "marker": {
          "color": "#FF97FF",
          "pattern": {
           "shape": ""
          }
         },
         "name": "Spain",
         "offsetgroup": "Spain",
         "orientation": "v",
         "showlegend": true,
         "text": [
          1919549
         ],
         "textposition": "outside",
         "type": "bar",
         "x": [
          "Spain"
         ],
         "xaxis": "x",
         "y": [
          1919549
         ],
         "yaxis": "y"
        },
        {
         "alignmentgroup": "True",
         "hovertemplate": "location=%{x}<br>total_cases=%{text}<extra></extra>",
         "legendgroup": "Argentina",
         "marker": {
          "color": "#FECB52",
          "pattern": {
           "shape": ""
          }
         },
         "name": "Argentina",
         "offsetgroup": "Argentina",
         "orientation": "v",
         "showlegend": true,
         "text": [
          1674319
         ],
         "textposition": "outside",
         "type": "bar",
         "x": [
          "Argentina"
         ],
         "xaxis": "x",
         "y": [
          1674319
         ],
         "yaxis": "y"
        },
        {
         "alignmentgroup": "True",
         "hovertemplate": "location=%{x}<br>total_cases=%{text}<extra></extra>",
         "legendgroup": "Germany",
         "marker": {
          "color": "#636efa",
          "pattern": {
           "shape": ""
          }
         },
         "name": "Germany",
         "offsetgroup": "Germany",
         "orientation": "v",
         "showlegend": true,
         "text": [
          1660178
         ],
         "textposition": "outside",
         "type": "bar",
         "x": [
          "Germany"
         ],
         "xaxis": "x",
         "y": [
          1660178
         ],
         "yaxis": "y"
        },
        {
         "alignmentgroup": "True",
         "hovertemplate": "location=%{x}<br>total_cases=%{text}<extra></extra>",
         "legendgroup": "Colombia",
         "marker": {
          "color": "#EF553B",
          "pattern": {
           "shape": ""
          }
         },
         "name": "Colombia",
         "offsetgroup": "Colombia",
         "orientation": "v",
         "showlegend": true,
         "text": [
          1614822
         ],
         "textposition": "outside",
         "type": "bar",
         "x": [
          "Colombia"
         ],
         "xaxis": "x",
         "y": [
          1614822
         ],
         "yaxis": "y"
        },
        {
         "alignmentgroup": "True",
         "hovertemplate": "location=%{x}<br>total_cases=%{text}<extra></extra>",
         "legendgroup": "Mexico",
         "marker": {
          "color": "#00cc96",
          "pattern": {
           "shape": ""
          }
         },
         "name": "Mexico",
         "offsetgroup": "Mexico",
         "orientation": "v",
         "showlegend": true,
         "text": [
          1496067
         ],
         "textposition": "outside",
         "type": "bar",
         "x": [
          "Mexico"
         ],
         "xaxis": "x",
         "y": [
          1496067
         ],
         "yaxis": "y"
        },
        {
         "alignmentgroup": "True",
         "hovertemplate": "location=%{x}<br>total_cases=%{text}<extra></extra>",
         "legendgroup": "Poland",
         "marker": {
          "color": "#ab63fa",
          "pattern": {
           "shape": ""
          }
         },
         "name": "Poland",
         "offsetgroup": "Poland",
         "orientation": "v",
         "showlegend": true,
         "text": [
          1297400
         ],
         "textposition": "outside",
         "type": "bar",
         "x": [
          "Poland"
         ],
         "xaxis": "x",
         "y": [
          1297400
         ],
         "yaxis": "y"
        },
        {
         "alignmentgroup": "True",
         "hovertemplate": "location=%{x}<br>total_cases=%{text}<extra></extra>",
         "legendgroup": "Iran",
         "marker": {
          "color": "#FFA15A",
          "pattern": {
           "shape": ""
          }
         },
         "name": "Iran",
         "offsetgroup": "Iran",
         "orientation": "v",
         "showlegend": true,
         "text": [
          1218753
         ],
         "textposition": "outside",
         "type": "bar",
         "x": [
          "Iran"
         ],
         "xaxis": "x",
         "y": [
          1218753
         ],
         "yaxis": "y"
        },
        {
         "alignmentgroup": "True",
         "hovertemplate": "location=%{x}<br>total_cases=%{text}<extra></extra>",
         "legendgroup": "South Africa",
         "marker": {
          "color": "#19d3f3",
          "pattern": {
           "shape": ""
          }
         },
         "name": "South Africa",
         "offsetgroup": "South Africa",
         "orientation": "v",
         "showlegend": true,
         "text": [
          1039161
         ],
         "textposition": "outside",
         "type": "bar",
         "x": [
          "South Africa"
         ],
         "xaxis": "x",
         "y": [
          1039161
         ],
         "yaxis": "y"
        },
        {
         "alignmentgroup": "True",
         "hovertemplate": "location=%{x}<br>total_cases=%{text}<extra></extra>",
         "legendgroup": "Peru",
         "marker": {
          "color": "#FF6692",
          "pattern": {
           "shape": ""
          }
         },
         "name": "Peru",
         "offsetgroup": "Peru",
         "orientation": "v",
         "showlegend": true,
         "text": [
          1010496
         ],
         "textposition": "outside",
         "type": "bar",
         "x": [
          "Peru"
         ],
         "xaxis": "x",
         "y": [
          1010496
         ],
         "yaxis": "y"
        },
        {
         "alignmentgroup": "True",
         "hovertemplate": "location=%{x}<br>total_cases=%{text}<extra></extra>",
         "legendgroup": "Ukraine",
         "marker": {
          "color": "#B6E880",
          "pattern": {
           "shape": ""
          }
         },
         "name": "Ukraine",
         "offsetgroup": "Ukraine",
         "orientation": "v",
         "showlegend": true,
         "text": [
          988108
         ],
         "textposition": "outside",
         "type": "bar",
         "x": [
          "Ukraine"
         ],
         "xaxis": "x",
         "y": [
          988108
         ],
         "yaxis": "y"
        },
        {
         "alignmentgroup": "True",
         "hovertemplate": "location=%{x}<br>total_cases=%{text}<extra></extra>",
         "legendgroup": "Netherlands",
         "marker": {
          "color": "#FF97FF",
          "pattern": {
           "shape": ""
          }
         },
         "name": "Netherlands",
         "offsetgroup": "Netherlands",
         "orientation": "v",
         "showlegend": true,
         "text": [
          773198
         ],
         "textposition": "outside",
         "type": "bar",
         "x": [
          "Netherlands"
         ],
         "xaxis": "x",
         "y": [
          773198
         ],
         "yaxis": "y"
        },
        {
         "alignmentgroup": "True",
         "hovertemplate": "location=%{x}<br>total_cases=%{text}<extra></extra>",
         "legendgroup": "Indonesia",
         "marker": {
          "color": "#FECB52",
          "pattern": {
           "shape": ""
          }
         },
         "name": "Indonesia",
         "offsetgroup": "Indonesia",
         "orientation": "v",
         "showlegend": true,
         "text": [
          743198
         ],
         "textposition": "outside",
         "type": "bar",
         "x": [
          "Indonesia"
         ],
         "xaxis": "x",
         "y": [
          743198
         ],
         "yaxis": "y"
        },
        {
         "alignmentgroup": "True",
         "hovertemplate": "location=%{x}<br>total_cases=%{text}<extra></extra>",
         "legendgroup": "Czechia",
         "marker": {
          "color": "#636efa",
          "pattern": {
           "shape": ""
          }
         },
         "name": "Czechia",
         "offsetgroup": "Czechia",
         "orientation": "v",
         "showlegend": true,
         "text": [
          723576
         ],
         "textposition": "outside",
         "type": "bar",
         "x": [
          "Czechia"
         ],
         "xaxis": "x",
         "y": [
          723576
         ],
         "yaxis": "y"
        },
        {
         "alignmentgroup": "True",
         "hovertemplate": "location=%{x}<br>total_cases=%{text}<extra></extra>",
         "legendgroup": "Belgium",
         "marker": {
          "color": "#EF553B",
          "pattern": {
           "shape": ""
          }
         },
         "name": "Belgium",
         "offsetgroup": "Belgium",
         "orientation": "v",
         "showlegend": true,
         "text": [
          645277
         ],
         "textposition": "outside",
         "type": "bar",
         "x": [
          "Belgium"
         ],
         "xaxis": "x",
         "y": [
          645277
         ],
         "yaxis": "y"
        },
        {
         "alignmentgroup": "True",
         "hovertemplate": "location=%{x}<br>total_cases=%{text}<extra></extra>",
         "legendgroup": "Romania",
         "marker": {
          "color": "#00cc96",
          "pattern": {
           "shape": ""
          }
         },
         "name": "Romania",
         "offsetgroup": "Romania",
         "orientation": "v",
         "showlegend": true,
         "text": [
          627941
         ],
         "textposition": "outside",
         "type": "bar",
         "x": [
          "Romania"
         ],
         "xaxis": "x",
         "y": [
          627941
         ],
         "yaxis": "y"
        },
        {
         "alignmentgroup": "True",
         "hovertemplate": "location=%{x}<br>total_cases=%{text}<extra></extra>",
         "legendgroup": "Chile",
         "marker": {
          "color": "#ab63fa",
          "pattern": {
           "shape": ""
          }
         },
         "name": "Chile",
         "offsetgroup": "Chile",
         "orientation": "v",
         "showlegend": true,
         "text": [
          605950
         ],
         "textposition": "outside",
         "type": "bar",
         "x": [
          "Chile"
         ],
         "xaxis": "x",
         "y": [
          605950
         ],
         "yaxis": "y"
        },
        {
         "alignmentgroup": "True",
         "hovertemplate": "location=%{x}<br>total_cases=%{text}<extra></extra>",
         "legendgroup": "Iraq",
         "marker": {
          "color": "#FFA15A",
          "pattern": {
           "shape": ""
          }
         },
         "name": "Iraq",
         "offsetgroup": "Iraq",
         "orientation": "v",
         "showlegend": true,
         "text": [
          594442
         ],
         "textposition": "outside",
         "type": "bar",
         "x": [
          "Iraq"
         ],
         "xaxis": "x",
         "y": [
          594442
         ],
         "yaxis": "y"
        },
        {
         "alignmentgroup": "True",
         "hovertemplate": "location=%{x}<br>total_cases=%{text}<extra></extra>",
         "legendgroup": "Canada",
         "marker": {
          "color": "#19d3f3",
          "pattern": {
           "shape": ""
          }
         },
         "name": "Canada",
         "offsetgroup": "Canada",
         "orientation": "v",
         "showlegend": true,
         "text": [
          565504
         ],
         "textposition": "outside",
         "type": "bar",
         "x": [
          "Canada"
         ],
         "xaxis": "x",
         "y": [
          565504
         ],
         "yaxis": "y"
        },
        {
         "alignmentgroup": "True",
         "hovertemplate": "location=%{x}<br>total_cases=%{text}<extra></extra>",
         "legendgroup": "Bangladesh",
         "marker": {
          "color": "#FF6692",
          "pattern": {
           "shape": ""
          }
         },
         "name": "Bangladesh",
         "offsetgroup": "Bangladesh",
         "orientation": "v",
         "showlegend": true,
         "text": [
          513510
         ],
         "textposition": "outside",
         "type": "bar",
         "x": [
          "Bangladesh"
         ],
         "xaxis": "x",
         "y": [
          513510
         ],
         "yaxis": "y"
        },
        {
         "alignmentgroup": "True",
         "hovertemplate": "location=%{x}<br>total_cases=%{text}<extra></extra>",
         "legendgroup": "Pakistan",
         "marker": {
          "color": "#B6E880",
          "pattern": {
           "shape": ""
          }
         },
         "name": "Pakistan",
         "offsetgroup": "Pakistan",
         "orientation": "v",
         "showlegend": true,
         "text": [
          477240
         ],
         "textposition": "outside",
         "type": "bar",
         "x": [
          "Pakistan"
         ],
         "xaxis": "x",
         "y": [
          477240
         ],
         "yaxis": "y"
        },
        {
         "alignmentgroup": "True",
         "hovertemplate": "location=%{x}<br>total_cases=%{text}<extra></extra>",
         "legendgroup": "Philippines",
         "marker": {
          "color": "#FF97FF",
          "pattern": {
           "shape": ""
          }
         },
         "name": "Philippines",
         "offsetgroup": "Philippines",
         "orientation": "v",
         "showlegend": true,
         "text": [
          472523
         ],
         "textposition": "outside",
         "type": "bar",
         "x": [
          "Philippines"
         ],
         "xaxis": "x",
         "y": [
          472523
         ],
         "yaxis": "y"
        },
        {
         "alignmentgroup": "True",
         "hovertemplate": "location=%{x}<br>total_cases=%{text}<extra></extra>",
         "legendgroup": "Switzerland",
         "marker": {
          "color": "#FECB52",
          "pattern": {
           "shape": ""
          }
         },
         "name": "Switzerland",
         "offsetgroup": "Switzerland",
         "orientation": "v",
         "showlegend": true,
         "text": [
          451142
         ],
         "textposition": "outside",
         "type": "bar",
         "x": [
          "Switzerland"
         ],
         "xaxis": "x",
         "y": [
          451142
         ],
         "yaxis": "y"
        },
        {
         "alignmentgroup": "True",
         "hovertemplate": "location=%{x}<br>total_cases=%{text}<extra></extra>",
         "legendgroup": "Sweden",
         "marker": {
          "color": "#636efa",
          "pattern": {
           "shape": ""
          }
         },
         "name": "Sweden",
         "offsetgroup": "Sweden",
         "orientation": "v",
         "showlegend": true,
         "text": [
          447759
         ],
         "textposition": "outside",
         "type": "bar",
         "x": [
          "Sweden"
         ],
         "xaxis": "x",
         "y": [
          447759
         ],
         "yaxis": "y"
        },
        {
         "alignmentgroup": "True",
         "hovertemplate": "location=%{x}<br>total_cases=%{text}<extra></extra>",
         "legendgroup": "Morocco",
         "marker": {
          "color": "#EF553B",
          "pattern": {
           "shape": ""
          }
         },
         "name": "Morocco",
         "offsetgroup": "Morocco",
         "orientation": "v",
         "showlegend": true,
         "text": [
          437332
         ],
         "textposition": "outside",
         "type": "bar",
         "x": [
          "Morocco"
         ],
         "xaxis": "x",
         "y": [
          437332
         ],
         "yaxis": "y"
        },
        {
         "alignmentgroup": "True",
         "hovertemplate": "location=%{x}<br>total_cases=%{text}<extra></extra>",
         "legendgroup": "Israel",
         "marker": {
          "color": "#00cc96",
          "pattern": {
           "shape": ""
          }
         },
         "name": "Israel",
         "offsetgroup": "Israel",
         "orientation": "v",
         "showlegend": true,
         "text": [
          419661
         ],
         "textposition": "outside",
         "type": "bar",
         "x": [
          "Israel"
         ],
         "xaxis": "x",
         "y": [
          419661
         ],
         "yaxis": "y"
        },
        {
         "alignmentgroup": "True",
         "hovertemplate": "location=%{x}<br>total_cases=%{text}<extra></extra>",
         "legendgroup": "Portugal",
         "marker": {
          "color": "#ab63fa",
          "pattern": {
           "shape": ""
          }
         },
         "name": "Portugal",
         "offsetgroup": "Portugal",
         "orientation": "v",
         "showlegend": true,
         "text": [
          377542
         ],
         "textposition": "outside",
         "type": "bar",
         "x": [
          "Portugal"
         ],
         "xaxis": "x",
         "y": [
          377542
         ],
         "yaxis": "y"
        },
        {
         "alignmentgroup": "True",
         "hovertemplate": "location=%{x}<br>total_cases=%{text}<extra></extra>",
         "legendgroup": "Saudi Arabia",
         "marker": {
          "color": "#FFA15A",
          "pattern": {
           "shape": ""
          }
         },
         "name": "Saudi Arabia",
         "offsetgroup": "Saudi Arabia",
         "orientation": "v",
         "showlegend": true,
         "text": [
          362601
         ],
         "textposition": "outside",
         "type": "bar",
         "x": [
          "Saudi Arabia"
         ],
         "xaxis": "x",
         "y": [
          362601
         ],
         "yaxis": "y"
        },
        {
         "alignmentgroup": "True",
         "hovertemplate": "location=%{x}<br>total_cases=%{text}<extra></extra>",
         "legendgroup": "Austria",
         "marker": {
          "color": "#19d3f3",
          "pattern": {
           "shape": ""
          }
         },
         "name": "Austria",
         "offsetgroup": "Austria",
         "orientation": "v",
         "showlegend": true,
         "text": [
          352657
         ],
         "textposition": "outside",
         "type": "bar",
         "x": [
          "Austria"
         ],
         "xaxis": "x",
         "y": [
          352657
         ],
         "yaxis": "y"
        },
        {
         "alignmentgroup": "True",
         "hovertemplate": "location=%{x}<br>total_cases=%{text}<extra></extra>",
         "legendgroup": "Serbia",
         "marker": {
          "color": "#FF6692",
          "pattern": {
           "shape": ""
          }
         },
         "name": "Serbia",
         "offsetgroup": "Serbia",
         "orientation": "v",
         "showlegend": true,
         "text": [
          334991
         ],
         "textposition": "outside",
         "type": "bar",
         "x": [
          "Serbia"
         ],
         "xaxis": "x",
         "y": [
          334991
         ],
         "yaxis": "y"
        },
        {
         "alignmentgroup": "True",
         "hovertemplate": "location=%{x}<br>total_cases=%{text}<extra></extra>",
         "legendgroup": "Hungary",
         "marker": {
          "color": "#B6E880",
          "pattern": {
           "shape": ""
          }
         },
         "name": "Hungary",
         "offsetgroup": "Hungary",
         "orientation": "v",
         "showlegend": true,
         "text": [
          322514
         ],
         "textposition": "outside",
         "type": "bar",
         "x": [
          "Hungary"
         ],
         "xaxis": "x",
         "y": [
          322514
         ],
         "yaxis": "y"
        },
        {
         "alignmentgroup": "True",
         "hovertemplate": "location=%{x}<br>total_cases=%{text}<extra></extra>",
         "legendgroup": "Jordan",
         "marker": {
          "color": "#FF97FF",
          "pattern": {
           "shape": ""
          }
         },
         "name": "Jordan",
         "offsetgroup": "Jordan",
         "orientation": "v",
         "showlegend": true,
         "text": [
          293067
         ],
         "textposition": "outside",
         "type": "bar",
         "x": [
          "Jordan"
         ],
         "xaxis": "x",
         "y": [
          293067
         ],
         "yaxis": "y"
        },
        {
         "alignmentgroup": "True",
         "hovertemplate": "location=%{x}<br>total_cases=%{text}<extra></extra>",
         "legendgroup": "Nepal",
         "marker": {
          "color": "#FECB52",
          "pattern": {
           "shape": ""
          }
         },
         "name": "Nepal",
         "offsetgroup": "Nepal",
         "orientation": "v",
         "showlegend": true,
         "text": [
          260593
         ],
         "textposition": "outside",
         "type": "bar",
         "x": [
          "Nepal"
         ],
         "xaxis": "x",
         "y": [
          260593
         ],
         "yaxis": "y"
        },
        {
         "alignmentgroup": "True",
         "hovertemplate": "location=%{x}<br>total_cases=%{text}<extra></extra>",
         "legendgroup": "Panama",
         "marker": {
          "color": "#636efa",
          "pattern": {
           "shape": ""
          }
         },
         "name": "Panama",
         "offsetgroup": "Panama",
         "orientation": "v",
         "showlegend": true,
         "text": [
          238279
         ],
         "textposition": "outside",
         "type": "bar",
         "x": [
          "Panama"
         ],
         "xaxis": "x",
         "y": [
          238279
         ],
         "yaxis": "y"
        },
        {
         "alignmentgroup": "True",
         "hovertemplate": "location=%{x}<br>total_cases=%{text}<extra></extra>",
         "legendgroup": "Japan",
         "marker": {
          "color": "#EF553B",
          "pattern": {
           "shape": ""
          }
         },
         "name": "Japan",
         "offsetgroup": "Japan",
         "orientation": "v",
         "showlegend": true,
         "text": [
          230304
         ],
         "textposition": "outside",
         "type": "bar",
         "x": [
          "Japan"
         ],
         "xaxis": "x",
         "y": [
          230304
         ],
         "yaxis": "y"
        },
        {
         "alignmentgroup": "True",
         "hovertemplate": "location=%{x}<br>total_cases=%{text}<extra></extra>",
         "legendgroup": "Georgia",
         "marker": {
          "color": "#00cc96",
          "pattern": {
           "shape": ""
          }
         },
         "name": "Georgia",
         "offsetgroup": "Georgia",
         "orientation": "v",
         "showlegend": true,
         "text": [
          227420
         ],
         "textposition": "outside",
         "type": "bar",
         "x": [
          "Georgia"
         ],
         "xaxis": "x",
         "y": [
          227420
         ],
         "yaxis": "y"
        },
        {
         "alignmentgroup": "True",
         "hovertemplate": "location=%{x}<br>total_cases=%{text}<extra></extra>",
         "legendgroup": "Azerbaijan",
         "marker": {
          "color": "#ab63fa",
          "pattern": {
           "shape": ""
          }
         },
         "name": "Azerbaijan",
         "offsetgroup": "Azerbaijan",
         "orientation": "v",
         "showlegend": true,
         "text": [
          216584
         ],
         "textposition": "outside",
         "type": "bar",
         "x": [
          "Azerbaijan"
         ],
         "xaxis": "x",
         "y": [
          216584
         ],
         "yaxis": "y"
        },
        {
         "alignmentgroup": "True",
         "hovertemplate": "location=%{x}<br>total_cases=%{text}<extra></extra>",
         "legendgroup": "Ecuador",
         "marker": {
          "color": "#FFA15A",
          "pattern": {
           "shape": ""
          }
         },
         "name": "Ecuador",
         "offsetgroup": "Ecuador",
         "orientation": "v",
         "showlegend": true,
         "text": [
          211512
         ],
         "textposition": "outside",
         "type": "bar",
         "x": [
          "Ecuador"
         ],
         "xaxis": "x",
         "y": [
          211512
         ],
         "yaxis": "y"
        },
        {
         "alignmentgroup": "True",
         "hovertemplate": "location=%{x}<br>total_cases=%{text}<extra></extra>",
         "legendgroup": "Croatia",
         "marker": {
          "color": "#19d3f3",
          "pattern": {
           "shape": ""
          }
         },
         "name": "Croatia",
         "offsetgroup": "Croatia",
         "orientation": "v",
         "showlegend": true,
         "text": [
          208446
         ],
         "textposition": "outside",
         "type": "bar",
         "x": [
          "Croatia"
         ],
         "xaxis": "x",
         "y": [
          208446
         ],
         "yaxis": "y"
        },
        {
         "alignmentgroup": "True",
         "hovertemplate": "location=%{x}<br>total_cases=%{text}<extra></extra>",
         "legendgroup": "United Arab Emirates",
         "marker": {
          "color": "#FF6692",
          "pattern": {
           "shape": ""
          }
         },
         "name": "United Arab Emirates",
         "offsetgroup": "United Arab Emirates",
         "orientation": "v",
         "showlegend": true,
         "text": [
          206092
         ],
         "textposition": "outside",
         "type": "bar",
         "x": [
          "United Arab Emirates"
         ],
         "xaxis": "x",
         "y": [
          206092
         ],
         "yaxis": "y"
        },
        {
         "alignmentgroup": "True",
         "hovertemplate": "location=%{x}<br>total_cases=%{text}<extra></extra>",
         "legendgroup": "Kazakhstan",
         "marker": {
          "color": "#B6E880",
          "pattern": {
           "shape": ""
          }
         },
         "name": "Kazakhstan",
         "offsetgroup": "Kazakhstan",
         "orientation": "v",
         "showlegend": true,
         "text": [
          200443
         ],
         "textposition": "outside",
         "type": "bar",
         "x": [
          "Kazakhstan"
         ],
         "xaxis": "x",
         "y": [
          200443
         ],
         "yaxis": "y"
        },
        {
         "alignmentgroup": "True",
         "hovertemplate": "location=%{x}<br>total_cases=%{text}<extra></extra>",
         "legendgroup": "Bulgaria",
         "marker": {
          "color": "#FF97FF",
          "pattern": {
           "shape": ""
          }
         },
         "name": "Bulgaria",
         "offsetgroup": "Bulgaria",
         "orientation": "v",
         "showlegend": true,
         "text": [
          197384
         ],
         "textposition": "outside",
         "type": "bar",
         "x": [
          "Bulgaria"
         ],
         "xaxis": "x",
         "y": [
          197384
         ],
         "yaxis": "y"
        },
        {
         "alignmentgroup": "True",
         "hovertemplate": "location=%{x}<br>total_cases=%{text}<extra></extra>",
         "legendgroup": "Belarus",
         "marker": {
          "color": "#FECB52",
          "pattern": {
           "shape": ""
          }
         },
         "name": "Belarus",
         "offsetgroup": "Belarus",
         "orientation": "v",
         "showlegend": true,
         "text": [
          192361
         ],
         "textposition": "outside",
         "type": "bar",
         "x": [
          "Belarus"
         ],
         "xaxis": "x",
         "y": [
          192361
         ],
         "yaxis": "y"
        },
        {
         "alignmentgroup": "True",
         "hovertemplate": "location=%{x}<br>total_cases=%{text}<extra></extra>",
         "legendgroup": "Slovakia",
         "marker": {
          "color": "#636efa",
          "pattern": {
           "shape": ""
          }
         },
         "name": "Slovakia",
         "offsetgroup": "Slovakia",
         "orientation": "v",
         "showlegend": true,
         "text": [
          179543
         ],
         "textposition": "outside",
         "type": "bar",
         "x": [
          "Slovakia"
         ],
         "xaxis": "x",
         "y": [
          179543
         ],
         "yaxis": "y"
        },
        {
         "alignmentgroup": "True",
         "hovertemplate": "location=%{x}<br>total_cases=%{text}<extra></extra>",
         "legendgroup": "Lebanon",
         "marker": {
          "color": "#EF553B",
          "pattern": {
           "shape": ""
          }
         },
         "name": "Lebanon",
         "offsetgroup": "Lebanon",
         "orientation": "v",
         "showlegend": true,
         "text": [
          177996
         ],
         "textposition": "outside",
         "type": "bar",
         "x": [
          "Lebanon"
         ],
         "xaxis": "x",
         "y": [
          177996
         ],
         "yaxis": "y"
        },
        {
         "alignmentgroup": "True",
         "hovertemplate": "location=%{x}<br>total_cases=%{text}<extra></extra>",
         "legendgroup": "Dominican Republic",
         "marker": {
          "color": "#00cc96",
          "pattern": {
           "shape": ""
          }
         },
         "name": "Dominican Republic",
         "offsetgroup": "Dominican Republic",
         "orientation": "v",
         "showlegend": true,
         "text": [
          169579
         ],
         "textposition": "outside",
         "type": "bar",
         "x": [
          "Dominican Republic"
         ],
         "xaxis": "x",
         "y": [
          169579
         ],
         "yaxis": "y"
        },
        {
         "alignmentgroup": "True",
         "hovertemplate": "location=%{x}<br>total_cases=%{text}<extra></extra>",
         "legendgroup": "Costa Rica",
         "marker": {
          "color": "#ab63fa",
          "pattern": {
           "shape": ""
          }
         },
         "name": "Costa Rica",
         "offsetgroup": "Costa Rica",
         "orientation": "v",
         "showlegend": true,
         "text": [
          166799
         ],
         "textposition": "outside",
         "type": "bar",
         "x": [
          "Costa Rica"
         ],
         "xaxis": "x",
         "y": [
          166799
         ],
         "yaxis": "y"
        },
        {
         "alignmentgroup": "True",
         "hovertemplate": "location=%{x}<br>total_cases=%{text}<extra></extra>",
         "legendgroup": "Denmark",
         "marker": {
          "color": "#FFA15A",
          "pattern": {
           "shape": ""
          }
         },
         "name": "Denmark",
         "offsetgroup": "Denmark",
         "orientation": "v",
         "showlegend": true,
         "text": [
          161230
         ],
         "textposition": "outside",
         "type": "bar",
         "x": [
          "Denmark"
         ],
         "xaxis": "x",
         "y": [
          161230
         ],
         "yaxis": "y"
        },
        {
         "alignmentgroup": "True",
         "hovertemplate": "location=%{x}<br>total_cases=%{text}<extra></extra>",
         "legendgroup": "Armenia",
         "marker": {
          "color": "#19d3f3",
          "pattern": {
           "shape": ""
          }
         },
         "name": "Armenia",
         "offsetgroup": "Armenia",
         "orientation": "v",
         "showlegend": true,
         "text": [
          159409
         ],
         "textposition": "outside",
         "type": "bar",
         "x": [
          "Armenia"
         ],
         "xaxis": "x",
         "y": [
          159409
         ],
         "yaxis": "y"
        },
        {
         "alignmentgroup": "True",
         "hovertemplate": "location=%{x}<br>total_cases=%{text}<extra></extra>",
         "legendgroup": "Bolivia",
         "marker": {
          "color": "#FF6692",
          "pattern": {
           "shape": ""
          }
         },
         "name": "Bolivia",
         "offsetgroup": "Bolivia",
         "orientation": "v",
         "showlegend": true,
         "text": [
          156887
         ],
         "textposition": "outside",
         "type": "bar",
         "x": [
          "Bolivia"
         ],
         "xaxis": "x",
         "y": [
          156887
         ],
         "yaxis": "y"
        },
        {
         "alignmentgroup": "True",
         "hovertemplate": "location=%{x}<br>total_cases=%{text}<extra></extra>",
         "legendgroup": "Palestine",
         "marker": {
          "color": "#B6E880",
          "pattern": {
           "shape": ""
          }
         },
         "name": "Palestine",
         "offsetgroup": "Palestine",
         "orientation": "v",
         "showlegend": true,
         "text": [
          154097
         ],
         "textposition": "outside",
         "type": "bar",
         "x": [
          "Palestine"
         ],
         "xaxis": "x",
         "y": [
          154097
         ],
         "yaxis": "y"
        },
        {
         "alignmentgroup": "True",
         "hovertemplate": "location=%{x}<br>total_cases=%{text}<extra></extra>",
         "legendgroup": "Kuwait",
         "marker": {
          "color": "#FF97FF",
          "pattern": {
           "shape": ""
          }
         },
         "name": "Kuwait",
         "offsetgroup": "Kuwait",
         "orientation": "v",
         "showlegend": true,
         "text": [
          150298
         ],
         "textposition": "outside",
         "type": "bar",
         "x": [
          "Kuwait"
         ],
         "xaxis": "x",
         "y": [
          150298
         ],
         "yaxis": "y"
        },
        {
         "alignmentgroup": "True",
         "hovertemplate": "location=%{x}<br>total_cases=%{text}<extra></extra>",
         "legendgroup": "Lithuania",
         "marker": {
          "color": "#FECB52",
          "pattern": {
           "shape": ""
          }
         },
         "name": "Lithuania",
         "offsetgroup": "Lithuania",
         "orientation": "v",
         "showlegend": true,
         "text": [
          145051
         ],
         "textposition": "outside",
         "type": "bar",
         "x": [
          "Lithuania"
         ],
         "xaxis": "x",
         "y": [
          145051
         ],
         "yaxis": "y"
        },
        {
         "alignmentgroup": "True",
         "hovertemplate": "location=%{x}<br>total_cases=%{text}<extra></extra>",
         "legendgroup": "Moldova",
         "marker": {
          "color": "#636efa",
          "pattern": {
           "shape": ""
          }
         },
         "name": "Moldova",
         "offsetgroup": "Moldova",
         "orientation": "v",
         "showlegend": true,
         "text": [
          143841
         ],
         "textposition": "outside",
         "type": "bar",
         "x": [
          "Moldova"
         ],
         "xaxis": "x",
         "y": [
          143841
         ],
         "yaxis": "y"
        },
        {
         "alignmentgroup": "True",
         "hovertemplate": "location=%{x}<br>total_cases=%{text}<extra></extra>",
         "legendgroup": "Qatar",
         "marker": {
          "color": "#EF553B",
          "pattern": {
           "shape": ""
          }
         },
         "name": "Qatar",
         "offsetgroup": "Qatar",
         "orientation": "v",
         "showlegend": true,
         "text": [
          143621
         ],
         "textposition": "outside",
         "type": "bar",
         "x": [
          "Qatar"
         ],
         "xaxis": "x",
         "y": [
          143621
         ],
         "yaxis": "y"
        },
        {
         "alignmentgroup": "True",
         "hovertemplate": "location=%{x}<br>total_cases=%{text}<extra></extra>",
         "legendgroup": "Greece",
         "marker": {
          "color": "#00cc96",
          "pattern": {
           "shape": ""
          }
         },
         "name": "Greece",
         "offsetgroup": "Greece",
         "orientation": "v",
         "showlegend": true,
         "text": [
          139582
         ],
         "textposition": "outside",
         "type": "bar",
         "x": [
          "Greece"
         ],
         "xaxis": "x",
         "y": [
          139582
         ],
         "yaxis": "y"
        },
        {
         "alignmentgroup": "True",
         "hovertemplate": "location=%{x}<br>total_cases=%{text}<extra></extra>",
         "legendgroup": "Tunisia",
         "marker": {
          "color": "#ab63fa",
          "pattern": {
           "shape": ""
          }
         },
         "name": "Tunisia",
         "offsetgroup": "Tunisia",
         "orientation": "v",
         "showlegend": true,
         "text": [
          137216
         ],
         "textposition": "outside",
         "type": "bar",
         "x": [
          "Tunisia"
         ],
         "xaxis": "x",
         "y": [
          137216
         ],
         "yaxis": "y"
        },
        {
         "alignmentgroup": "True",
         "hovertemplate": "location=%{x}<br>total_cases=%{text}<extra></extra>",
         "legendgroup": "Guatemala",
         "marker": {
          "color": "#FFA15A",
          "pattern": {
           "shape": ""
          }
         },
         "name": "Guatemala",
         "offsetgroup": "Guatemala",
         "orientation": "v",
         "showlegend": true,
         "text": [
          137166
         ],
         "textposition": "outside",
         "type": "bar",
         "x": [
          "Guatemala"
         ],
         "xaxis": "x",
         "y": [
          137166
         ],
         "yaxis": "y"
        },
        {
         "alignmentgroup": "True",
         "hovertemplate": "location=%{x}<br>total_cases=%{text}<extra></extra>",
         "legendgroup": "Egypt",
         "marker": {
          "color": "#19d3f3",
          "pattern": {
           "shape": ""
          }
         },
         "name": "Egypt",
         "offsetgroup": "Egypt",
         "orientation": "v",
         "showlegend": true,
         "text": [
          136644
         ],
         "textposition": "outside",
         "type": "bar",
         "x": [
          "Egypt"
         ],
         "xaxis": "x",
         "y": [
          136644
         ],
         "yaxis": "y"
        },
        {
         "alignmentgroup": "True",
         "hovertemplate": "location=%{x}<br>total_cases=%{text}<extra></extra>",
         "legendgroup": "Oman",
         "marker": {
          "color": "#FF6692",
          "pattern": {
           "shape": ""
          }
         },
         "name": "Oman",
         "offsetgroup": "Oman",
         "orientation": "v",
         "showlegend": true,
         "text": [
          128719
         ],
         "textposition": "outside",
         "type": "bar",
         "x": [
          "Oman"
         ],
         "xaxis": "x",
         "y": [
          128719
         ],
         "yaxis": "y"
        },
        {
         "alignmentgroup": "True",
         "hovertemplate": "location=%{x}<br>total_cases=%{text}<extra></extra>",
         "legendgroup": "Myanmar",
         "marker": {
          "color": "#B6E880",
          "pattern": {
           "shape": ""
          }
         },
         "name": "Myanmar",
         "offsetgroup": "Myanmar",
         "orientation": "v",
         "showlegend": true,
         "text": [
          124630
         ],
         "textposition": "outside",
         "type": "bar",
         "x": [
          "Myanmar"
         ],
         "xaxis": "x",
         "y": [
          124630
         ],
         "yaxis": "y"
        },
        {
         "alignmentgroup": "True",
         "hovertemplate": "location=%{x}<br>total_cases=%{text}<extra></extra>",
         "legendgroup": "Ethiopia",
         "marker": {
          "color": "#FF97FF",
          "pattern": {
           "shape": ""
          }
         },
         "name": "Ethiopia",
         "offsetgroup": "Ethiopia",
         "orientation": "v",
         "showlegend": true,
         "text": [
          123856
         ],
         "textposition": "outside",
         "type": "bar",
         "x": [
          "Ethiopia"
         ],
         "xaxis": "x",
         "y": [
          123856
         ],
         "yaxis": "y"
        },
        {
         "alignmentgroup": "True",
         "hovertemplate": "location=%{x}<br>total_cases=%{text}<extra></extra>",
         "legendgroup": "Honduras",
         "marker": {
          "color": "#FECB52",
          "pattern": {
           "shape": ""
          }
         },
         "name": "Honduras",
         "offsetgroup": "Honduras",
         "orientation": "v",
         "showlegend": true,
         "text": [
          120912
         ],
         "textposition": "outside",
         "type": "bar",
         "x": [
          "Honduras"
         ],
         "xaxis": "x",
         "y": [
          120912
         ],
         "yaxis": "y"
        },
        {
         "alignmentgroup": "True",
         "hovertemplate": "location=%{x}<br>total_cases=%{text}<extra></extra>",
         "legendgroup": "Slovenia",
         "marker": {
          "color": "#636efa",
          "pattern": {
           "shape": ""
          }
         },
         "name": "Slovenia",
         "offsetgroup": "Slovenia",
         "orientation": "v",
         "showlegend": true,
         "text": [
          115411
         ],
         "textposition": "outside",
         "type": "bar",
         "x": [
          "Slovenia"
         ],
         "xaxis": "x",
         "y": [
          115411
         ],
         "yaxis": "y"
        },
        {
         "alignmentgroup": "True",
         "hovertemplate": "location=%{x}<br>total_cases=%{text}<extra></extra>",
         "legendgroup": "Venezuela",
         "marker": {
          "color": "#EF553B",
          "pattern": {
           "shape": ""
          }
         },
         "name": "Venezuela",
         "offsetgroup": "Venezuela",
         "orientation": "v",
         "showlegend": true,
         "text": [
          112861
         ],
         "textposition": "outside",
         "type": "bar",
         "x": [
          "Venezuela"
         ],
         "xaxis": "x",
         "y": [
          112861
         ],
         "yaxis": "y"
        },
        {
         "alignmentgroup": "True",
         "hovertemplate": "location=%{x}<br>total_cases=%{text}<extra></extra>",
         "legendgroup": "Bosnia and Herzegovina",
         "marker": {
          "color": "#00cc96",
          "pattern": {
           "shape": ""
          }
         },
         "name": "Bosnia and Herzegovina",
         "offsetgroup": "Bosnia and Herzegovina",
         "orientation": "v",
         "showlegend": true,
         "text": [
          110985
         ],
         "textposition": "outside",
         "type": "bar",
         "x": [
          "Bosnia and Herzegovina"
         ],
         "xaxis": "x",
         "y": [
          110985
         ],
         "yaxis": "y"
        },
        {
         "alignmentgroup": "True",
         "hovertemplate": "location=%{x}<br>total_cases=%{text}<extra></extra>",
         "legendgroup": "Malaysia",
         "marker": {
          "color": "#ab63fa",
          "pattern": {
           "shape": ""
          }
         },
         "name": "Malaysia",
         "offsetgroup": "Malaysia",
         "orientation": "v",
         "showlegend": true,
         "text": [
          110485
         ],
         "textposition": "outside",
         "type": "bar",
         "x": [
          "Malaysia"
         ],
         "xaxis": "x",
         "y": [
          110485
         ],
         "yaxis": "y"
        },
        {
         "alignmentgroup": "True",
         "hovertemplate": "location=%{x}<br>total_cases=%{text}<extra></extra>",
         "legendgroup": "Paraguay",
         "marker": {
          "color": "#FFA15A",
          "pattern": {
           "shape": ""
          }
         },
         "name": "Paraguay",
         "offsetgroup": "Paraguay",
         "orientation": "v",
         "showlegend": true,
         "text": [
          106136
         ],
         "textposition": "outside",
         "type": "bar",
         "x": [
          "Paraguay"
         ],
         "xaxis": "x",
         "y": [
          106136
         ],
         "yaxis": "y"
        },
        {
         "alignmentgroup": "True",
         "hovertemplate": "location=%{x}<br>total_cases=%{text}<extra></extra>",
         "legendgroup": "Libya",
         "marker": {
          "color": "#19d3f3",
          "pattern": {
           "shape": ""
          }
         },
         "name": "Libya",
         "offsetgroup": "Libya",
         "orientation": "v",
         "showlegend": true,
         "text": [
          99935
         ],
         "textposition": "outside",
         "type": "bar",
         "x": [
          "Libya"
         ],
         "xaxis": "x",
         "y": [
          99935
         ],
         "yaxis": "y"
        },
        {
         "alignmentgroup": "True",
         "hovertemplate": "location=%{x}<br>total_cases=%{text}<extra></extra>",
         "legendgroup": "Algeria",
         "marker": {
          "color": "#FF6692",
          "pattern": {
           "shape": ""
          }
         },
         "name": "Algeria",
         "offsetgroup": "Algeria",
         "orientation": "v",
         "showlegend": true,
         "text": [
          99311
         ],
         "textposition": "outside",
         "type": "bar",
         "x": [
          "Algeria"
         ],
         "xaxis": "x",
         "y": [
          99311
         ],
         "yaxis": "y"
        },
        {
         "alignmentgroup": "True",
         "hovertemplate": "location=%{x}<br>total_cases=%{text}<extra></extra>",
         "legendgroup": "China",
         "marker": {
          "color": "#B6E880",
          "pattern": {
           "shape": ""
          }
         },
         "name": "China",
         "offsetgroup": "China",
         "orientation": "v",
         "showlegend": true,
         "text": [
          96673
         ],
         "textposition": "outside",
         "type": "bar",
         "x": [
          "China"
         ],
         "xaxis": "x",
         "y": [
          96673
         ],
         "yaxis": "y"
        },
        {
         "alignmentgroup": "True",
         "hovertemplate": "location=%{x}<br>total_cases=%{text}<extra></extra>",
         "legendgroup": "Kenya",
         "marker": {
          "color": "#FF97FF",
          "pattern": {
           "shape": ""
          }
         },
         "name": "Kenya",
         "offsetgroup": "Kenya",
         "orientation": "v",
         "showlegend": true,
         "text": [
          96251
         ],
         "textposition": "outside",
         "type": "bar",
         "x": [
          "Kenya"
         ],
         "xaxis": "x",
         "y": [
          96251
         ],
         "yaxis": "y"
        },
        {
         "alignmentgroup": "True",
         "hovertemplate": "location=%{x}<br>total_cases=%{text}<extra></extra>",
         "legendgroup": "Bahrain",
         "marker": {
          "color": "#FECB52",
          "pattern": {
           "shape": ""
          }
         },
         "name": "Bahrain",
         "offsetgroup": "Bahrain",
         "orientation": "v",
         "showlegend": true,
         "text": [
          92425
         ],
         "textposition": "outside",
         "type": "bar",
         "x": [
          "Bahrain"
         ],
         "xaxis": "x",
         "y": [
          92425
         ],
         "yaxis": "y"
        },
        {
         "alignmentgroup": "True",
         "hovertemplate": "location=%{x}<br>total_cases=%{text}<extra></extra>",
         "legendgroup": "Ireland",
         "marker": {
          "color": "#636efa",
          "pattern": {
           "shape": ""
          }
         },
         "name": "Ireland",
         "offsetgroup": "Ireland",
         "orientation": "v",
         "showlegend": true,
         "text": [
          89517
         ],
         "textposition": "outside",
         "type": "bar",
         "x": [
          "Ireland"
         ],
         "xaxis": "x",
         "y": [
          89517
         ],
         "yaxis": "y"
        },
        {
         "alignmentgroup": "True",
         "hovertemplate": "location=%{x}<br>total_cases=%{text}<extra></extra>",
         "legendgroup": "Nigeria",
         "marker": {
          "color": "#EF553B",
          "pattern": {
           "shape": ""
          }
         },
         "name": "Nigeria",
         "offsetgroup": "Nigeria",
         "orientation": "v",
         "showlegend": true,
         "text": [
          86576
         ],
         "textposition": "outside",
         "type": "bar",
         "x": [
          "Nigeria"
         ],
         "xaxis": "x",
         "y": [
          86576
         ],
         "yaxis": "y"
        },
        {
         "alignmentgroup": "True",
         "hovertemplate": "location=%{x}<br>total_cases=%{text}<extra></extra>",
         "legendgroup": "Puerto Rico",
         "marker": {
          "color": "#00cc96",
          "pattern": {
           "shape": ""
          }
         },
         "name": "Puerto Rico",
         "offsetgroup": "Puerto Rico",
         "orientation": "v",
         "showlegend": true,
         "text": [
          84661
         ],
         "textposition": "outside",
         "type": "bar",
         "x": [
          "Puerto Rico"
         ],
         "xaxis": "x",
         "y": [
          84661
         ],
         "yaxis": "y"
        },
        {
         "alignmentgroup": "True",
         "hovertemplate": "location=%{x}<br>total_cases=%{text}<extra></extra>",
         "legendgroup": "North Macedonia",
         "marker": {
          "color": "#ab63fa",
          "pattern": {
           "shape": ""
          }
         },
         "name": "North Macedonia",
         "offsetgroup": "North Macedonia",
         "orientation": "v",
         "showlegend": true,
         "text": [
          81796
         ],
         "textposition": "outside",
         "type": "bar",
         "x": [
          "North Macedonia"
         ],
         "xaxis": "x",
         "y": [
          81796
         ],
         "yaxis": "y"
        },
        {
         "alignmentgroup": "True",
         "hovertemplate": "location=%{x}<br>total_cases=%{text}<extra></extra>",
         "legendgroup": "South Korea",
         "marker": {
          "color": "#FFA15A",
          "pattern": {
           "shape": ""
          }
         },
         "name": "South Korea",
         "offsetgroup": "South Korea",
         "orientation": "v",
         "showlegend": true,
         "text": [
          60722
         ],
         "textposition": "outside",
         "type": "bar",
         "x": [
          "South Korea"
         ],
         "xaxis": "x",
         "y": [
          60722
         ],
         "yaxis": "y"
        },
        {
         "alignmentgroup": "True",
         "hovertemplate": "location=%{x}<br>total_cases=%{text}<extra></extra>",
         "legendgroup": "Singapore",
         "marker": {
          "color": "#19d3f3",
          "pattern": {
           "shape": ""
          }
         },
         "name": "Singapore",
         "offsetgroup": "Singapore",
         "orientation": "v",
         "showlegend": true,
         "text": [
          58569
         ],
         "textposition": "outside",
         "type": "bar",
         "x": [
          "Singapore"
         ],
         "xaxis": "x",
         "y": [
          58569
         ],
         "yaxis": "y"
        },
        {
         "alignmentgroup": "True",
         "hovertemplate": "location=%{x}<br>total_cases=%{text}<extra></extra>",
         "legendgroup": "Albania",
         "marker": {
          "color": "#FF6692",
          "pattern": {
           "shape": ""
          }
         },
         "name": "Albania",
         "offsetgroup": "Albania",
         "orientation": "v",
         "showlegend": true,
         "text": [
          57146
         ],
         "textposition": "outside",
         "type": "bar",
         "x": [
          "Albania"
         ],
         "xaxis": "x",
         "y": [
          57146
         ],
         "yaxis": "y"
        },
        {
         "alignmentgroup": "True",
         "hovertemplate": "location=%{x}<br>total_cases=%{text}<extra></extra>",
         "legendgroup": "Ghana",
         "marker": {
          "color": "#B6E880",
          "pattern": {
           "shape": ""
          }
         },
         "name": "Ghana",
         "offsetgroup": "Ghana",
         "orientation": "v",
         "showlegend": true,
         "text": [
          55064
         ],
         "textposition": "outside",
         "type": "bar",
         "x": [
          "Ghana"
         ],
         "xaxis": "x",
         "y": [
          55064
         ],
         "yaxis": "y"
        },
        {
         "alignmentgroup": "True",
         "hovertemplate": "location=%{x}<br>total_cases=%{text}<extra></extra>",
         "legendgroup": "Afghanistan",
         "marker": {
          "color": "#FF97FF",
          "pattern": {
           "shape": ""
          }
         },
         "name": "Afghanistan",
         "offsetgroup": "Afghanistan",
         "orientation": "v",
         "showlegend": true,
         "text": [
          52330
         ],
         "textposition": "outside",
         "type": "bar",
         "x": [
          "Afghanistan"
         ],
         "xaxis": "x",
         "y": [
          52330
         ],
         "yaxis": "y"
        },
        {
         "alignmentgroup": "True",
         "hovertemplate": "location=%{x}<br>total_cases=%{text}<extra></extra>",
         "legendgroup": "Kosovo",
         "marker": {
          "color": "#FECB52",
          "pattern": {
           "shape": ""
          }
         },
         "name": "Kosovo",
         "offsetgroup": "Kosovo",
         "orientation": "v",
         "showlegend": true,
         "text": [
          51101
         ],
         "textposition": "outside",
         "type": "bar",
         "x": [
          "Kosovo"
         ],
         "xaxis": "x",
         "y": [
          51101
         ],
         "yaxis": "y"
        },
        {
         "alignmentgroup": "True",
         "hovertemplate": "location=%{x}<br>total_cases=%{text}<extra></extra>",
         "legendgroup": "Norway",
         "marker": {
          "color": "#636efa",
          "pattern": {
           "shape": ""
          }
         },
         "name": "Norway",
         "offsetgroup": "Norway",
         "orientation": "v",
         "showlegend": true,
         "text": [
          49785
         ],
         "textposition": "outside",
         "type": "bar",
         "x": [
          "Norway"
         ],
         "xaxis": "x",
         "y": [
          49785
         ],
         "yaxis": "y"
        },
        {
         "alignmentgroup": "True",
         "hovertemplate": "location=%{x}<br>total_cases=%{text}<extra></extra>",
         "legendgroup": "El Salvador",
         "marker": {
          "color": "#EF553B",
          "pattern": {
           "shape": ""
          }
         },
         "name": "El Salvador",
         "offsetgroup": "El Salvador",
         "orientation": "v",
         "showlegend": true,
         "text": [
          45960
         ],
         "textposition": "outside",
         "type": "bar",
         "x": [
          "El Salvador"
         ],
         "xaxis": "x",
         "y": [
          45960
         ],
         "yaxis": "y"
        },
        {
         "alignmentgroup": "True",
         "hovertemplate": "location=%{x}<br>total_cases=%{text}<extra></extra>",
         "legendgroup": "Sri Lanka",
         "marker": {
          "color": "#00cc96",
          "pattern": {
           "shape": ""
          }
         },
         "name": "Sri Lanka",
         "offsetgroup": "Sri Lanka",
         "orientation": "v",
         "showlegend": true,
         "text": [
          43299
         ],
         "textposition": "outside",
         "type": "bar",
         "x": [
          "Sri Lanka"
         ],
         "xaxis": "x",
         "y": [
          43299
         ],
         "yaxis": "y"
        },
        {
         "alignmentgroup": "True",
         "hovertemplate": "location=%{x}<br>total_cases=%{text}<extra></extra>",
         "legendgroup": "Luxembourg",
         "marker": {
          "color": "#ab63fa",
          "pattern": {
           "shape": ""
          }
         },
         "name": "Luxembourg",
         "offsetgroup": "Luxembourg",
         "orientation": "v",
         "showlegend": true,
         "text": [
          38383
         ],
         "textposition": "outside",
         "type": "bar",
         "x": [
          "Luxembourg"
         ],
         "xaxis": "x",
         "y": [
          38383
         ],
         "yaxis": "y"
        },
        {
         "alignmentgroup": "True",
         "hovertemplate": "location=%{x}<br>total_cases=%{text}<extra></extra>",
         "legendgroup": "Latvia",
         "marker": {
          "color": "#FFA15A",
          "pattern": {
           "shape": ""
          }
         },
         "name": "Latvia",
         "offsetgroup": "Latvia",
         "orientation": "v",
         "showlegend": true,
         "text": [
          36330
         ],
         "textposition": "outside",
         "type": "bar",
         "x": [
          "Latvia"
         ],
         "xaxis": "x",
         "y": [
          36330
         ],
         "yaxis": "y"
        },
        {
         "alignmentgroup": "True",
         "hovertemplate": "location=%{x}<br>total_cases=%{text}<extra></extra>",
         "legendgroup": "Finland",
         "marker": {
          "color": "#19d3f3",
          "pattern": {
           "shape": ""
          }
         },
         "name": "Finland",
         "offsetgroup": "Finland",
         "orientation": "v",
         "showlegend": true,
         "text": [
          36172
         ],
         "textposition": "outside",
         "type": "bar",
         "x": [
          "Finland"
         ],
         "xaxis": "x",
         "y": [
          36172
         ],
         "yaxis": "y"
        },
        {
         "alignmentgroup": "True",
         "hovertemplate": "location=%{x}<br>total_cases=%{text}<extra></extra>",
         "legendgroup": "Uganda",
         "marker": {
          "color": "#FF6692",
          "pattern": {
           "shape": ""
          }
         },
         "name": "Uganda",
         "offsetgroup": "Uganda",
         "orientation": "v",
         "showlegend": true,
         "text": [
          35220
         ],
         "textposition": "outside",
         "type": "bar",
         "x": [
          "Uganda"
         ],
         "xaxis": "x",
         "y": [
          35220
         ],
         "yaxis": "y"
        },
        {
         "alignmentgroup": "True",
         "hovertemplate": "location=%{x}<br>total_cases=%{text}<extra></extra>",
         "legendgroup": "Montenegro",
         "marker": {
          "color": "#B6E880",
          "pattern": {
           "shape": ""
          }
         },
         "name": "Montenegro",
         "offsetgroup": "Montenegro",
         "orientation": "v",
         "showlegend": true,
         "text": [
          35210
         ],
         "textposition": "outside",
         "type": "bar",
         "x": [
          "Montenegro"
         ],
         "xaxis": "x",
         "y": [
          35210
         ],
         "yaxis": "y"
        },
        {
         "alignmentgroup": "True",
         "hovertemplate": "location=%{x}<br>total_cases=%{text}<extra></extra>",
         "legendgroup": "Estonia",
         "marker": {
          "color": "#FF97FF",
          "pattern": {
           "shape": ""
          }
         },
         "name": "Estonia",
         "offsetgroup": "Estonia",
         "orientation": "v",
         "showlegend": true,
         "text": [
          31031
         ],
         "textposition": "outside",
         "type": "bar",
         "x": [
          "Estonia"
         ],
         "xaxis": "x",
         "y": [
          31031
         ],
         "yaxis": "y"
        },
        {
         "alignmentgroup": "True",
         "hovertemplate": "location=%{x}<br>total_cases=%{text}<extra></extra>",
         "legendgroup": "Australia",
         "marker": {
          "color": "#FECB52",
          "pattern": {
           "shape": ""
          }
         },
         "name": "Australia",
         "offsetgroup": "Australia",
         "orientation": "v",
         "showlegend": true,
         "text": [
          28381
         ],
         "textposition": "outside",
         "type": "bar",
         "x": [
          "Australia"
         ],
         "xaxis": "x",
         "y": [
          28381
         ],
         "yaxis": "y"
        },
        {
         "alignmentgroup": "True",
         "hovertemplate": "location=%{x}<br>total_cases=%{text}<extra></extra>",
         "legendgroup": "Cameroon",
         "marker": {
          "color": "#636efa",
          "pattern": {
           "shape": ""
          }
         },
         "name": "Cameroon",
         "offsetgroup": "Cameroon",
         "orientation": "v",
         "showlegend": true,
         "text": [
          26848
         ],
         "textposition": "outside",
         "type": "bar",
         "x": [
          "Cameroon"
         ],
         "xaxis": "x",
         "y": [
          26848
         ],
         "yaxis": "y"
        },
        {
         "alignmentgroup": "True",
         "hovertemplate": "location=%{x}<br>total_cases=%{text}<extra></extra>",
         "legendgroup": "Sudan",
         "marker": {
          "color": "#EF553B",
          "pattern": {
           "shape": ""
          }
         },
         "name": "Sudan",
         "offsetgroup": "Sudan",
         "orientation": "v",
         "showlegend": true,
         "text": [
          25500
         ],
         "textposition": "outside",
         "type": "bar",
         "x": [
          "Sudan"
         ],
         "xaxis": "x",
         "y": [
          25500
         ],
         "yaxis": "y"
        },
        {
         "alignmentgroup": "True",
         "hovertemplate": "location=%{x}<br>total_cases=%{text}<extra></extra>",
         "legendgroup": "Namibia",
         "marker": {
          "color": "#00cc96",
          "pattern": {
           "shape": ""
          }
         },
         "name": "Namibia",
         "offsetgroup": "Namibia",
         "orientation": "v",
         "showlegend": true,
         "text": [
          23932
         ],
         "textposition": "outside",
         "type": "bar",
         "x": [
          "Namibia"
         ],
         "xaxis": "x",
         "y": [
          23932
         ],
         "yaxis": "y"
        },
        {
         "alignmentgroup": "True",
         "hovertemplate": "location=%{x}<br>total_cases=%{text}<extra></extra>",
         "legendgroup": "Cyprus",
         "marker": {
          "color": "#ab63fa",
          "pattern": {
           "shape": ""
          }
         },
         "name": "Cyprus",
         "offsetgroup": "Cyprus",
         "orientation": "v",
         "showlegend": true,
         "text": [
          22347
         ],
         "textposition": "outside",
         "type": "bar",
         "x": [
          "Cyprus"
         ],
         "xaxis": "x",
         "y": [
          22347
         ],
         "yaxis": "y"
        },
        {
         "alignmentgroup": "True",
         "hovertemplate": "location=%{x}<br>total_cases=%{text}<extra></extra>",
         "legendgroup": "Cote d'Ivoire",
         "marker": {
          "color": "#FFA15A",
          "pattern": {
           "shape": ""
          }
         },
         "name": "Cote d'Ivoire",
         "offsetgroup": "Cote d'Ivoire",
         "orientation": "v",
         "showlegend": true,
         "text": [
          22250
         ],
         "textposition": "outside",
         "type": "bar",
         "x": [
          "Cote d'Ivoire"
         ],
         "xaxis": "x",
         "y": [
          22250
         ],
         "yaxis": "y"
        },
        {
         "alignmentgroup": "True",
         "hovertemplate": "location=%{x}<br>total_cases=%{text}<extra></extra>",
         "legendgroup": "Zambia",
         "marker": {
          "color": "#19d3f3",
          "pattern": {
           "shape": ""
          }
         },
         "name": "Zambia",
         "offsetgroup": "Zambia",
         "orientation": "v",
         "showlegend": true,
         "text": [
          20462
         ],
         "textposition": "outside",
         "type": "bar",
         "x": [
          "Zambia"
         ],
         "xaxis": "x",
         "y": [
          20462
         ],
         "yaxis": "y"
        },
        {
         "alignmentgroup": "True",
         "hovertemplate": "location=%{x}<br>total_cases=%{text}<extra></extra>",
         "legendgroup": "Senegal",
         "marker": {
          "color": "#FF6692",
          "pattern": {
           "shape": ""
          }
         },
         "name": "Senegal",
         "offsetgroup": "Senegal",
         "orientation": "v",
         "showlegend": true,
         "text": [
          18945
         ],
         "textposition": "outside",
         "type": "bar",
         "x": [
          "Senegal"
         ],
         "xaxis": "x",
         "y": [
          18945
         ],
         "yaxis": "y"
        },
        {
         "alignmentgroup": "True",
         "hovertemplate": "location=%{x}<br>total_cases=%{text}<extra></extra>",
         "legendgroup": "Mozambique",
         "marker": {
          "color": "#B6E880",
          "pattern": {
           "shape": ""
          }
         },
         "name": "Mozambique",
         "offsetgroup": "Mozambique",
         "orientation": "v",
         "showlegend": true,
         "text": [
          18485
         ],
         "textposition": "outside",
         "type": "bar",
         "x": [
          "Mozambique"
         ],
         "xaxis": "x",
         "y": [
          18485
         ],
         "yaxis": "y"
        },
        {
         "alignmentgroup": "True",
         "hovertemplate": "location=%{x}<br>total_cases=%{text}<extra></extra>",
         "legendgroup": "Uruguay",
         "marker": {
          "color": "#FF97FF",
          "pattern": {
           "shape": ""
          }
         },
         "name": "Uruguay",
         "offsetgroup": "Uruguay",
         "orientation": "v",
         "showlegend": true,
         "text": [
          17962
         ],
         "textposition": "outside",
         "type": "bar",
         "x": [
          "Uruguay"
         ],
         "xaxis": "x",
         "y": [
          17962
         ],
         "yaxis": "y"
        },
        {
         "alignmentgroup": "True",
         "hovertemplate": "location=%{x}<br>total_cases=%{text}<extra></extra>",
         "legendgroup": "Madagascar",
         "marker": {
          "color": "#FECB52",
          "pattern": {
           "shape": ""
          }
         },
         "name": "Madagascar",
         "offsetgroup": "Madagascar",
         "orientation": "v",
         "showlegend": true,
         "text": [
          17714
         ],
         "textposition": "outside",
         "type": "bar",
         "x": [
          "Madagascar"
         ],
         "xaxis": "x",
         "y": [
          17714
         ],
         "yaxis": "y"
        },
        {
         "alignmentgroup": "True",
         "hovertemplate": "location=%{x}<br>total_cases=%{text}<extra></extra>",
         "legendgroup": "Democratic Republic of Congo",
         "marker": {
          "color": "#636efa",
          "pattern": {
           "shape": ""
          }
         },
         "name": "Democratic Republic of Congo",
         "offsetgroup": "Democratic Republic of Congo",
         "orientation": "v",
         "showlegend": true,
         "text": [
          17657
         ],
         "textposition": "outside",
         "type": "bar",
         "x": [
          "Democratic Republic of Congo"
         ],
         "xaxis": "x",
         "y": [
          17657
         ],
         "yaxis": "y"
        },
        {
         "alignmentgroup": "True",
         "hovertemplate": "location=%{x}<br>total_cases=%{text}<extra></extra>",
         "legendgroup": "Angola",
         "marker": {
          "color": "#EF553B",
          "pattern": {
           "shape": ""
          }
         },
         "name": "Angola",
         "offsetgroup": "Angola",
         "orientation": "v",
         "showlegend": true,
         "text": [
          17433
         ],
         "textposition": "outside",
         "type": "bar",
         "x": [
          "Angola"
         ],
         "xaxis": "x",
         "y": [
          17433
         ],
         "yaxis": "y"
        },
        {
         "alignmentgroup": "True",
         "hovertemplate": "location=%{x}<br>total_cases=%{text}<extra></extra>",
         "legendgroup": "French Polynesia",
         "marker": {
          "color": "#00cc96",
          "pattern": {
           "shape": ""
          }
         },
         "name": "French Polynesia",
         "offsetgroup": "French Polynesia",
         "orientation": "v",
         "showlegend": true,
         "text": [
          16851
         ],
         "textposition": "outside",
         "type": "bar",
         "x": [
          "French Polynesia"
         ],
         "xaxis": "x",
         "y": [
          16851
         ],
         "yaxis": "y"
        },
        {
         "alignmentgroup": "True",
         "hovertemplate": "location=%{x}<br>total_cases=%{text}<extra></extra>",
         "legendgroup": "Botswana",
         "marker": {
          "color": "#ab63fa",
          "pattern": {
           "shape": ""
          }
         },
         "name": "Botswana",
         "offsetgroup": "Botswana",
         "orientation": "v",
         "showlegend": true,
         "text": [
          14637
         ],
         "textposition": "outside",
         "type": "bar",
         "x": [
          "Botswana"
         ],
         "xaxis": "x",
         "y": [
          14637
         ],
         "yaxis": "y"
        },
        {
         "alignmentgroup": "True",
         "hovertemplate": "location=%{x}<br>total_cases=%{text}<extra></extra>",
         "legendgroup": "Mauritania",
         "marker": {
          "color": "#FFA15A",
          "pattern": {
           "shape": ""
          }
         },
         "name": "Mauritania",
         "offsetgroup": "Mauritania",
         "orientation": "v",
         "showlegend": true,
         "text": [
          14191
         ],
         "textposition": "outside",
         "type": "bar",
         "x": [
          "Mauritania"
         ],
         "xaxis": "x",
         "y": [
          14191
         ],
         "yaxis": "y"
        },
        {
         "alignmentgroup": "True",
         "hovertemplate": "location=%{x}<br>total_cases=%{text}<extra></extra>",
         "legendgroup": "Maldives",
         "marker": {
          "color": "#19d3f3",
          "pattern": {
           "shape": ""
          }
         },
         "name": "Maldives",
         "offsetgroup": "Maldives",
         "orientation": "v",
         "showlegend": true,
         "text": [
          13757
         ],
         "textposition": "outside",
         "type": "bar",
         "x": [
          "Maldives"
         ],
         "xaxis": "x",
         "y": [
          13757
         ],
         "yaxis": "y"
        },
        {
         "alignmentgroup": "True",
         "hovertemplate": "location=%{x}<br>total_cases=%{text}<extra></extra>",
         "legendgroup": "Guinea",
         "marker": {
          "color": "#FF6692",
          "pattern": {
           "shape": ""
          }
         },
         "name": "Guinea",
         "offsetgroup": "Guinea",
         "orientation": "v",
         "showlegend": true,
         "text": [
          13722
         ],
         "textposition": "outside",
         "type": "bar",
         "x": [
          "Guinea"
         ],
         "xaxis": "x",
         "y": [
          13722
         ],
         "yaxis": "y"
        },
        {
         "alignmentgroup": "True",
         "hovertemplate": "location=%{x}<br>total_cases=%{text}<extra></extra>",
         "legendgroup": "Tajikistan",
         "marker": {
          "color": "#B6E880",
          "pattern": {
           "shape": ""
          }
         },
         "name": "Tajikistan",
         "offsetgroup": "Tajikistan",
         "orientation": "v",
         "showlegend": true,
         "text": [
          13665
         ],
         "textposition": "outside",
         "type": "bar",
         "x": [
          "Tajikistan"
         ],
         "xaxis": "x",
         "y": [
          13665
         ],
         "yaxis": "y"
        },
        {
         "alignmentgroup": "True",
         "hovertemplate": "location=%{x}<br>total_cases=%{text}<extra></extra>",
         "legendgroup": "Zimbabwe",
         "marker": {
          "color": "#FF97FF",
          "pattern": {
           "shape": ""
          }
         },
         "name": "Zimbabwe",
         "offsetgroup": "Zimbabwe",
         "orientation": "v",
         "showlegend": true,
         "text": [
          13625
         ],
         "textposition": "outside",
         "type": "bar",
         "x": [
          "Zimbabwe"
         ],
         "xaxis": "x",
         "y": [
          13625
         ],
         "yaxis": "y"
        },
        {
         "alignmentgroup": "True",
         "hovertemplate": "location=%{x}<br>total_cases=%{text}<extra></extra>",
         "legendgroup": "French Guiana",
         "marker": {
          "color": "#FECB52",
          "pattern": {
           "shape": ""
          }
         },
         "name": "French Guiana",
         "offsetgroup": "French Guiana",
         "orientation": "v",
         "showlegend": true,
         "text": [
          13045
         ],
         "textposition": "outside",
         "type": "bar",
         "x": [
          "French Guiana"
         ],
         "xaxis": "x",
         "y": [
          13045
         ],
         "yaxis": "y"
        },
        {
         "alignmentgroup": "True",
         "hovertemplate": "location=%{x}<br>total_cases=%{text}<extra></extra>",
         "legendgroup": "Jamaica",
         "marker": {
          "color": "#636efa",
          "pattern": {
           "shape": ""
          }
         },
         "name": "Jamaica",
         "offsetgroup": "Jamaica",
         "orientation": "v",
         "showlegend": true,
         "text": [
          12793
         ],
         "textposition": "outside",
         "type": "bar",
         "x": [
          "Jamaica"
         ],
         "xaxis": "x",
         "y": [
          12793
         ],
         "yaxis": "y"
        },
        {
         "alignmentgroup": "True",
         "hovertemplate": "location=%{x}<br>total_cases=%{text}<extra></extra>",
         "legendgroup": "Malta",
         "marker": {
          "color": "#EF553B",
          "pattern": {
           "shape": ""
          }
         },
         "name": "Malta",
         "offsetgroup": "Malta",
         "orientation": "v",
         "showlegend": true,
         "text": [
          12616
         ],
         "textposition": "outside",
         "type": "bar",
         "x": [
          "Malta"
         ],
         "xaxis": "x",
         "y": [
          12616
         ],
         "yaxis": "y"
        },
        {
         "alignmentgroup": "True",
         "hovertemplate": "location=%{x}<br>total_cases=%{text}<extra></extra>",
         "legendgroup": "Cape Verde",
         "marker": {
          "color": "#00cc96",
          "pattern": {
           "shape": ""
          }
         },
         "name": "Cape Verde",
         "offsetgroup": "Cape Verde",
         "orientation": "v",
         "showlegend": true,
         "text": [
          11793
         ],
         "textposition": "outside",
         "type": "bar",
         "x": [
          "Cape Verde"
         ],
         "xaxis": "x",
         "y": [
          11793
         ],
         "yaxis": "y"
        },
        {
         "alignmentgroup": "True",
         "hovertemplate": "location=%{x}<br>total_cases=%{text}<extra></extra>",
         "legendgroup": "Cuba",
         "marker": {
          "color": "#ab63fa",
          "pattern": {
           "shape": ""
          }
         },
         "name": "Cuba",
         "offsetgroup": "Cuba",
         "orientation": "v",
         "showlegend": true,
         "text": [
          11687
         ],
         "textposition": "outside",
         "type": "bar",
         "x": [
          "Cuba"
         ],
         "xaxis": "x",
         "y": [
          11687
         ],
         "yaxis": "y"
        },
        {
         "alignmentgroup": "True",
         "hovertemplate": "location=%{x}<br>total_cases=%{text}<extra></extra>",
         "legendgroup": "Syria",
         "marker": {
          "color": "#FFA15A",
          "pattern": {
           "shape": ""
          }
         },
         "name": "Syria",
         "offsetgroup": "Syria",
         "orientation": "v",
         "showlegend": true,
         "text": [
          11344
         ],
         "textposition": "outside",
         "type": "bar",
         "x": [
          "Syria"
         ],
         "xaxis": "x",
         "y": [
          11344
         ],
         "yaxis": "y"
        },
        {
         "alignmentgroup": "True",
         "hovertemplate": "location=%{x}<br>total_cases=%{text}<extra></extra>",
         "legendgroup": "Belize",
         "marker": {
          "color": "#19d3f3",
          "pattern": {
           "shape": ""
          }
         },
         "name": "Belize",
         "offsetgroup": "Belize",
         "orientation": "v",
         "showlegend": true,
         "text": [
          10668
         ],
         "textposition": "outside",
         "type": "bar",
         "x": [
          "Belize"
         ],
         "xaxis": "x",
         "y": [
          10668
         ],
         "yaxis": "y"
        },
        {
         "alignmentgroup": "True",
         "hovertemplate": "location=%{x}<br>total_cases=%{text}<extra></extra>",
         "legendgroup": "Haiti",
         "marker": {
          "color": "#FF6692",
          "pattern": {
           "shape": ""
          }
         },
         "name": "Haiti",
         "offsetgroup": "Haiti",
         "orientation": "v",
         "showlegend": true,
         "text": [
          9999
         ],
         "textposition": "outside",
         "type": "bar",
         "x": [
          "Haiti"
         ],
         "xaxis": "x",
         "y": [
          9999
         ],
         "yaxis": "y"
        },
        {
         "alignmentgroup": "True",
         "hovertemplate": "location=%{x}<br>total_cases=%{text}<extra></extra>",
         "legendgroup": "Gabon",
         "marker": {
          "color": "#B6E880",
          "pattern": {
           "shape": ""
          }
         },
         "name": "Gabon",
         "offsetgroup": "Gabon",
         "orientation": "v",
         "showlegend": true,
         "text": [
          9571
         ],
         "textposition": "outside",
         "type": "bar",
         "x": [
          "Gabon"
         ],
         "xaxis": "x",
         "y": [
          9571
         ],
         "yaxis": "y"
        },
        {
         "alignmentgroup": "True",
         "hovertemplate": "location=%{x}<br>total_cases=%{text}<extra></extra>",
         "legendgroup": "Eswatini",
         "marker": {
          "color": "#FF97FF",
          "pattern": {
           "shape": ""
          }
         },
         "name": "Eswatini",
         "offsetgroup": "Eswatini",
         "orientation": "v",
         "showlegend": true,
         "text": [
          9144
         ],
         "textposition": "outside",
         "type": "bar",
         "x": [
          "Eswatini"
         ],
         "xaxis": "x",
         "y": [
          9144
         ],
         "yaxis": "y"
        },
        {
         "alignmentgroup": "True",
         "hovertemplate": "location=%{x}<br>total_cases=%{text}<extra></extra>",
         "legendgroup": "Reunion",
         "marker": {
          "color": "#FECB52",
          "pattern": {
           "shape": ""
          }
         },
         "name": "Reunion",
         "offsetgroup": "Reunion",
         "orientation": "v",
         "showlegend": true,
         "text": [
          8972
         ],
         "textposition": "outside",
         "type": "bar",
         "x": [
          "Reunion"
         ],
         "xaxis": "x",
         "y": [
          8972
         ],
         "yaxis": "y"
        },
        {
         "alignmentgroup": "True",
         "hovertemplate": "location=%{x}<br>total_cases=%{text}<extra></extra>",
         "legendgroup": "Guadeloupe",
         "marker": {
          "color": "#636efa",
          "pattern": {
           "shape": ""
          }
         },
         "name": "Guadeloupe",
         "offsetgroup": "Guadeloupe",
         "orientation": "v",
         "showlegend": true,
         "text": [
          8620
         ],
         "textposition": "outside",
         "type": "bar",
         "x": [
          "Guadeloupe"
         ],
         "xaxis": "x",
         "y": [
          8620
         ],
         "yaxis": "y"
        },
        {
         "alignmentgroup": "True",
         "hovertemplate": "location=%{x}<br>total_cases=%{text}<extra></extra>",
         "legendgroup": "Rwanda",
         "marker": {
          "color": "#EF553B",
          "pattern": {
           "shape": ""
          }
         },
         "name": "Rwanda",
         "offsetgroup": "Rwanda",
         "orientation": "v",
         "showlegend": true,
         "text": [
          8250
         ],
         "textposition": "outside",
         "type": "bar",
         "x": [
          "Rwanda"
         ],
         "xaxis": "x",
         "y": [
          8250
         ],
         "yaxis": "y"
        },
        {
         "alignmentgroup": "True",
         "hovertemplate": "location=%{x}<br>total_cases=%{text}<extra></extra>",
         "legendgroup": "Andorra",
         "marker": {
          "color": "#00cc96",
          "pattern": {
           "shape": ""
          }
         },
         "name": "Andorra",
         "offsetgroup": "Andorra",
         "orientation": "v",
         "showlegend": true,
         "text": [
          7983
         ],
         "textposition": "outside",
         "type": "bar",
         "x": [
          "Andorra"
         ],
         "xaxis": "x",
         "y": [
          7983
         ],
         "yaxis": "y"
        },
        {
         "alignmentgroup": "True",
         "hovertemplate": "location=%{x}<br>total_cases=%{text}<extra></extra>",
         "legendgroup": "Bahamas",
         "marker": {
          "color": "#ab63fa",
          "pattern": {
           "shape": ""
          }
         },
         "name": "Bahamas",
         "offsetgroup": "Bahamas",
         "orientation": "v",
         "showlegend": true,
         "text": [
          7857
         ],
         "textposition": "outside",
         "type": "bar",
         "x": [
          "Bahamas"
         ],
         "xaxis": "x",
         "y": [
          7857
         ],
         "yaxis": "y"
        },
        {
         "alignmentgroup": "True",
         "hovertemplate": "location=%{x}<br>total_cases=%{text}<extra></extra>",
         "legendgroup": "Trinidad and Tobago",
         "marker": {
          "color": "#FFA15A",
          "pattern": {
           "shape": ""
          }
         },
         "name": "Trinidad and Tobago",
         "offsetgroup": "Trinidad and Tobago",
         "orientation": "v",
         "showlegend": true,
         "text": [
          7132
         ],
         "textposition": "outside",
         "type": "bar",
         "x": [
          "Trinidad and Tobago"
         ],
         "xaxis": "x",
         "y": [
          7132
         ],
         "yaxis": "y"
        },
        {
         "alignmentgroup": "True",
         "hovertemplate": "location=%{x}<br>total_cases=%{text}<extra></extra>",
         "legendgroup": "Guam",
         "marker": {
          "color": "#19d3f3",
          "pattern": {
           "shape": ""
          }
         },
         "name": "Guam",
         "offsetgroup": "Guam",
         "orientation": "v",
         "showlegend": true,
         "text": [
          7129
         ],
         "textposition": "outside",
         "type": "bar",
         "x": [
          "Guam"
         ],
         "xaxis": "x",
         "y": [
          7129
         ],
         "yaxis": "y"
        },
        {
         "alignmentgroup": "True",
         "hovertemplate": "location=%{x}<br>total_cases=%{text}<extra></extra>",
         "legendgroup": "Mali",
         "marker": {
          "color": "#FF6692",
          "pattern": {
           "shape": ""
          }
         },
         "name": "Mali",
         "offsetgroup": "Mali",
         "orientation": "v",
         "showlegend": true,
         "text": [
          7029
         ],
         "textposition": "outside",
         "type": "bar",
         "x": [
          "Mali"
         ],
         "xaxis": "x",
         "y": [
          7029
         ],
         "yaxis": "y"
        },
        {
         "alignmentgroup": "True",
         "hovertemplate": "location=%{x}<br>total_cases=%{text}<extra></extra>",
         "legendgroup": "Thailand",
         "marker": {
          "color": "#B6E880",
          "pattern": {
           "shape": ""
          }
         },
         "name": "Thailand",
         "offsetgroup": "Thailand",
         "orientation": "v",
         "showlegend": true,
         "text": [
          6884
         ],
         "textposition": "outside",
         "type": "bar",
         "x": [
          "Thailand"
         ],
         "xaxis": "x",
         "y": [
          6884
         ],
         "yaxis": "y"
        },
        {
         "alignmentgroup": "True",
         "hovertemplate": "location=%{x}<br>total_cases=%{text}<extra></extra>",
         "legendgroup": "Burkina Faso",
         "marker": {
          "color": "#FF97FF",
          "pattern": {
           "shape": ""
          }
         },
         "name": "Burkina Faso",
         "offsetgroup": "Burkina Faso",
         "orientation": "v",
         "showlegend": true,
         "text": [
          6707
         ],
         "textposition": "outside",
         "type": "bar",
         "x": [
          "Burkina Faso"
         ],
         "xaxis": "x",
         "y": [
          6707
         ],
         "yaxis": "y"
        },
        {
         "alignmentgroup": "True",
         "hovertemplate": "location=%{x}<br>total_cases=%{text}<extra></extra>",
         "legendgroup": "Malawi",
         "marker": {
          "color": "#FECB52",
          "pattern": {
           "shape": ""
          }
         },
         "name": "Malawi",
         "offsetgroup": "Malawi",
         "orientation": "v",
         "showlegend": true,
         "text": [
          6471
         ],
         "textposition": "outside",
         "type": "bar",
         "x": [
          "Malawi"
         ],
         "xaxis": "x",
         "y": [
          6471
         ],
         "yaxis": "y"
        },
        {
         "alignmentgroup": "True",
         "hovertemplate": "location=%{x}<br>total_cases=%{text}<extra></extra>",
         "legendgroup": "Congo",
         "marker": {
          "color": "#636efa",
          "pattern": {
           "shape": ""
          }
         },
         "name": "Congo",
         "offsetgroup": "Congo",
         "orientation": "v",
         "showlegend": true,
         "text": [
          6431
         ],
         "textposition": "outside",
         "type": "bar",
         "x": [
          "Congo"
         ],
         "xaxis": "x",
         "y": [
          6431
         ],
         "yaxis": "y"
        },
        {
         "alignmentgroup": "True",
         "hovertemplate": "location=%{x}<br>total_cases=%{text}<extra></extra>",
         "legendgroup": "Guyana",
         "marker": {
          "color": "#EF553B",
          "pattern": {
           "shape": ""
          }
         },
         "name": "Guyana",
         "offsetgroup": "Guyana",
         "orientation": "v",
         "showlegend": true,
         "text": [
          6301
         ],
         "textposition": "outside",
         "type": "bar",
         "x": [
          "Guyana"
         ],
         "xaxis": "x",
         "y": [
          6301
         ],
         "yaxis": "y"
        },
        {
         "alignmentgroup": "True",
         "hovertemplate": "location=%{x}<br>total_cases=%{text}<extra></extra>",
         "legendgroup": "Suriname",
         "marker": {
          "color": "#00cc96",
          "pattern": {
           "shape": ""
          }
         },
         "name": "Suriname",
         "offsetgroup": "Suriname",
         "orientation": "v",
         "showlegend": true,
         "text": [
          6098
         ],
         "textposition": "outside",
         "type": "bar",
         "x": [
          "Suriname"
         ],
         "xaxis": "x",
         "y": [
          6098
         ],
         "yaxis": "y"
        },
        {
         "alignmentgroup": "True",
         "hovertemplate": "location=%{x}<br>total_cases=%{text}<extra></extra>",
         "legendgroup": "Martinique",
         "marker": {
          "color": "#ab63fa",
          "pattern": {
           "shape": ""
          }
         },
         "name": "Martinique",
         "offsetgroup": "Martinique",
         "orientation": "v",
         "showlegend": true,
         "text": [
          6072
         ],
         "textposition": "outside",
         "type": "bar",
         "x": [
          "Martinique"
         ],
         "xaxis": "x",
         "y": [
          6072
         ],
         "yaxis": "y"
        },
        {
         "alignmentgroup": "True",
         "hovertemplate": "location=%{x}<br>total_cases=%{text}<extra></extra>",
         "legendgroup": "Mayotte",
         "marker": {
          "color": "#FFA15A",
          "pattern": {
           "shape": ""
          }
         },
         "name": "Mayotte",
         "offsetgroup": "Mayotte",
         "orientation": "v",
         "showlegend": true,
         "text": [
          5890
         ],
         "textposition": "outside",
         "type": "bar",
         "x": [
          "Mayotte"
         ],
         "xaxis": "x",
         "y": [
          5890
         ],
         "yaxis": "y"
        },
        {
         "alignmentgroup": "True",
         "hovertemplate": "location=%{x}<br>total_cases=%{text}<extra></extra>",
         "legendgroup": "Djibouti",
         "marker": {
          "color": "#19d3f3",
          "pattern": {
           "shape": ""
          }
         },
         "name": "Djibouti",
         "offsetgroup": "Djibouti",
         "orientation": "v",
         "showlegend": true,
         "text": [
          5824
         ],
         "textposition": "outside",
         "type": "bar",
         "x": [
          "Djibouti"
         ],
         "xaxis": "x",
         "y": [
          5824
         ],
         "yaxis": "y"
        },
        {
         "alignmentgroup": "True",
         "hovertemplate": "location=%{x}<br>total_cases=%{text}<extra></extra>",
         "legendgroup": "Central African Republic",
         "marker": {
          "color": "#FF6692",
          "pattern": {
           "shape": ""
          }
         },
         "name": "Central African Republic",
         "offsetgroup": "Central African Republic",
         "orientation": "v",
         "showlegend": true,
         "text": [
          5818
         ],
         "textposition": "outside",
         "type": "bar",
         "x": [
          "Central African Republic"
         ],
         "xaxis": "x",
         "y": [
          5818
         ],
         "yaxis": "y"
        },
        {
         "alignmentgroup": "True",
         "hovertemplate": "location=%{x}<br>total_cases=%{text}<extra></extra>",
         "legendgroup": "Iceland",
         "marker": {
          "color": "#B6E880",
          "pattern": {
           "shape": ""
          }
         },
         "name": "Iceland",
         "offsetgroup": "Iceland",
         "orientation": "v",
         "showlegend": true,
         "text": [
          5743
         ],
         "textposition": "outside",
         "type": "bar",
         "x": [
          "Iceland"
         ],
         "xaxis": "x",
         "y": [
          5743
         ],
         "yaxis": "y"
        },
        {
         "alignmentgroup": "True",
         "hovertemplate": "location=%{x}<br>total_cases=%{text}<extra></extra>",
         "legendgroup": "Aruba",
         "marker": {
          "color": "#FF97FF",
          "pattern": {
           "shape": ""
          }
         },
         "name": "Aruba",
         "offsetgroup": "Aruba",
         "orientation": "v",
         "showlegend": true,
         "text": [
          5373
         ],
         "textposition": "outside",
         "type": "bar",
         "x": [
          "Aruba"
         ],
         "xaxis": "x",
         "y": [
          5373
         ],
         "yaxis": "y"
        },
        {
         "alignmentgroup": "True",
         "hovertemplate": "location=%{x}<br>total_cases=%{text}<extra></extra>",
         "legendgroup": "Equatorial Guinea",
         "marker": {
          "color": "#FECB52",
          "pattern": {
           "shape": ""
          }
         },
         "name": "Equatorial Guinea",
         "offsetgroup": "Equatorial Guinea",
         "orientation": "v",
         "showlegend": true,
         "text": [
          5277
         ],
         "textposition": "outside",
         "type": "bar",
         "x": [
          "Equatorial Guinea"
         ],
         "xaxis": "x",
         "y": [
          5277
         ],
         "yaxis": "y"
        },
        {
         "alignmentgroup": "True",
         "hovertemplate": "location=%{x}<br>total_cases=%{text}<extra></extra>",
         "legendgroup": "Nicaragua",
         "marker": {
          "color": "#636efa",
          "pattern": {
           "shape": ""
          }
         },
         "name": "Nicaragua",
         "offsetgroup": "Nicaragua",
         "orientation": "v",
         "showlegend": true,
         "text": [
          4829
         ],
         "textposition": "outside",
         "type": "bar",
         "x": [
          "Nicaragua"
         ],
         "xaxis": "x",
         "y": [
          4829
         ],
         "yaxis": "y"
        },
        {
         "alignmentgroup": "True",
         "hovertemplate": "location=%{x}<br>total_cases=%{text}<extra></extra>",
         "legendgroup": "Somalia",
         "marker": {
          "color": "#EF553B",
          "pattern": {
           "shape": ""
          }
         },
         "name": "Somalia",
         "offsetgroup": "Somalia",
         "orientation": "v",
         "showlegend": true,
         "text": [
          4714
         ],
         "textposition": "outside",
         "type": "bar",
         "x": [
          "Somalia"
         ],
         "xaxis": "x",
         "y": [
          4714
         ],
         "yaxis": "y"
        },
        {
         "alignmentgroup": "True",
         "hovertemplate": "location=%{x}<br>total_cases=%{text}<extra></extra>",
         "legendgroup": "Curacao",
         "marker": {
          "color": "#00cc96",
          "pattern": {
           "shape": ""
          }
         },
         "name": "Curacao",
         "offsetgroup": "Curacao",
         "orientation": "v",
         "showlegend": true,
         "text": [
          4179
         ],
         "textposition": "outside",
         "type": "bar",
         "x": [
          "Curacao"
         ],
         "xaxis": "x",
         "y": [
          4179
         ],
         "yaxis": "y"
        },
        {
         "alignmentgroup": "True",
         "hovertemplate": "location=%{x}<br>total_cases=%{text}<extra></extra>",
         "legendgroup": "Gambia",
         "marker": {
          "color": "#ab63fa",
          "pattern": {
           "shape": ""
          }
         },
         "name": "Gambia",
         "offsetgroup": "Gambia",
         "orientation": "v",
         "showlegend": true,
         "text": [
          3800
         ],
         "textposition": "outside",
         "type": "bar",
         "x": [
          "Gambia"
         ],
         "xaxis": "x",
         "y": [
          3800
         ],
         "yaxis": "y"
        },
        {
         "alignmentgroup": "True",
         "hovertemplate": "location=%{x}<br>total_cases=%{text}<extra></extra>",
         "legendgroup": "Togo",
         "marker": {
          "color": "#FFA15A",
          "pattern": {
           "shape": ""
          }
         },
         "name": "Togo",
         "offsetgroup": "Togo",
         "orientation": "v",
         "showlegend": true,
         "text": [
          3611
         ],
         "textposition": "outside",
         "type": "bar",
         "x": [
          "Togo"
         ],
         "xaxis": "x",
         "y": [
          3611
         ],
         "yaxis": "y"
        },
        {
         "alignmentgroup": "True",
         "hovertemplate": "location=%{x}<br>total_cases=%{text}<extra></extra>",
         "legendgroup": "South Sudan",
         "marker": {
          "color": "#19d3f3",
          "pattern": {
           "shape": ""
          }
         },
         "name": "South Sudan",
         "offsetgroup": "South Sudan",
         "orientation": "v",
         "showlegend": true,
         "text": [
          3540
         ],
         "textposition": "outside",
         "type": "bar",
         "x": [
          "South Sudan"
         ],
         "xaxis": "x",
         "y": [
          3540
         ],
         "yaxis": "y"
        },
        {
         "alignmentgroup": "True",
         "hovertemplate": "location=%{x}<br>total_cases=%{text}<extra></extra>",
         "legendgroup": "Benin",
         "marker": {
          "color": "#FF6692",
          "pattern": {
           "shape": ""
          }
         },
         "name": "Benin",
         "offsetgroup": "Benin",
         "orientation": "v",
         "showlegend": true,
         "text": [
          3251
         ],
         "textposition": "outside",
         "type": "bar",
         "x": [
          "Benin"
         ],
         "xaxis": "x",
         "y": [
          3251
         ],
         "yaxis": "y"
        },
        {
         "alignmentgroup": "True",
         "hovertemplate": "location=%{x}<br>total_cases=%{text}<extra></extra>",
         "legendgroup": "Niger",
         "marker": {
          "color": "#B6E880",
          "pattern": {
           "shape": ""
          }
         },
         "name": "Niger",
         "offsetgroup": "Niger",
         "orientation": "v",
         "showlegend": true,
         "text": [
          3208
         ],
         "textposition": "outside",
         "type": "bar",
         "x": [
          "Niger"
         ],
         "xaxis": "x",
         "y": [
          3208
         ],
         "yaxis": "y"
        },
        {
         "alignmentgroup": "True",
         "hovertemplate": "location=%{x}<br>total_cases=%{text}<extra></extra>",
         "legendgroup": "Jersey",
         "marker": {
          "color": "#FF97FF",
          "pattern": {
           "shape": ""
          }
         },
         "name": "Jersey",
         "offsetgroup": "Jersey",
         "orientation": "v",
         "showlegend": true,
         "text": [
          2727
         ],
         "textposition": "outside",
         "type": "bar",
         "x": [
          "Jersey"
         ],
         "xaxis": "x",
         "y": [
          2727
         ],
         "yaxis": "y"
        },
        {
         "alignmentgroup": "True",
         "hovertemplate": "location=%{x}<br>total_cases=%{text}<extra></extra>",
         "legendgroup": "Sierra Leone",
         "marker": {
          "color": "#FECB52",
          "pattern": {
           "shape": ""
          }
         },
         "name": "Sierra Leone",
         "offsetgroup": "Sierra Leone",
         "orientation": "v",
         "showlegend": true,
         "text": [
          2583
         ],
         "textposition": "outside",
         "type": "bar",
         "x": [
          "Sierra Leone"
         ],
         "xaxis": "x",
         "y": [
          2583
         ],
         "yaxis": "y"
        },
        {
         "alignmentgroup": "True",
         "hovertemplate": "location=%{x}<br>total_cases=%{text}<extra></extra>",
         "legendgroup": "Lesotho",
         "marker": {
          "color": "#636efa",
          "pattern": {
           "shape": ""
          }
         },
         "name": "Lesotho",
         "offsetgroup": "Lesotho",
         "orientation": "v",
         "showlegend": true,
         "text": [
          2577
         ],
         "textposition": "outside",
         "type": "bar",
         "x": [
          "Lesotho"
         ],
         "xaxis": "x",
         "y": [
          2577
         ],
         "yaxis": "y"
        },
        {
         "alignmentgroup": "True",
         "hovertemplate": "location=%{x}<br>total_cases=%{text}<extra></extra>",
         "legendgroup": "Guinea-Bissau",
         "marker": {
          "color": "#EF553B",
          "pattern": {
           "shape": ""
          }
         },
         "name": "Guinea-Bissau",
         "offsetgroup": "Guinea-Bissau",
         "orientation": "v",
         "showlegend": true,
         "text": [
          2452
         ],
         "textposition": "outside",
         "type": "bar",
         "x": [
          "Guinea-Bissau"
         ],
         "xaxis": "x",
         "y": [
          2452
         ],
         "yaxis": "y"
        },
        {
         "alignmentgroup": "True",
         "hovertemplate": "location=%{x}<br>total_cases=%{text}<extra></extra>",
         "legendgroup": "San Marino",
         "marker": {
          "color": "#00cc96",
          "pattern": {
           "shape": ""
          }
         },
         "name": "San Marino",
         "offsetgroup": "San Marino",
         "orientation": "v",
         "showlegend": true,
         "text": [
          2401
         ],
         "textposition": "outside",
         "type": "bar",
         "x": [
          "San Marino"
         ],
         "xaxis": "x",
         "y": [
          2401
         ],
         "yaxis": "y"
        },
        {
         "alignmentgroup": "True",
         "hovertemplate": "location=%{x}<br>total_cases=%{text}<extra></extra>",
         "legendgroup": "Liechtenstein",
         "marker": {
          "color": "#ab63fa",
          "pattern": {
           "shape": ""
          }
         },
         "name": "Liechtenstein",
         "offsetgroup": "Liechtenstein",
         "orientation": "v",
         "showlegend": true,
         "text": [
          2223
         ],
         "textposition": "outside",
         "type": "bar",
         "x": [
          "Liechtenstein"
         ],
         "xaxis": "x",
         "y": [
          2223
         ],
         "yaxis": "y"
        },
        {
         "alignmentgroup": "True",
         "hovertemplate": "location=%{x}<br>total_cases=%{text}<extra></extra>",
         "legendgroup": "Yemen",
         "marker": {
          "color": "#FFA15A",
          "pattern": {
           "shape": ""
          }
         },
         "name": "Yemen",
         "offsetgroup": "Yemen",
         "orientation": "v",
         "showlegend": true,
         "text": [
          2101
         ],
         "textposition": "outside",
         "type": "bar",
         "x": [
          "Yemen"
         ],
         "xaxis": "x",
         "y": [
          2101
         ],
         "yaxis": "y"
        },
        {
         "alignmentgroup": "True",
         "hovertemplate": "location=%{x}<br>total_cases=%{text}<extra></extra>",
         "legendgroup": "Chad",
         "marker": {
          "color": "#19d3f3",
          "pattern": {
           "shape": ""
          }
         },
         "name": "Chad",
         "offsetgroup": "Chad",
         "orientation": "v",
         "showlegend": true,
         "text": [
          2077
         ],
         "textposition": "outside",
         "type": "bar",
         "x": [
          "Chad"
         ],
         "xaxis": "x",
         "y": [
          2077
         ],
         "yaxis": "y"
        },
        {
         "alignmentgroup": "True",
         "hovertemplate": "location=%{x}<br>total_cases=%{text}<extra></extra>",
         "legendgroup": "United States Virgin Islands",
         "marker": {
          "color": "#FF6692",
          "pattern": {
           "shape": ""
          }
         },
         "name": "United States Virgin Islands",
         "offsetgroup": "United States Virgin Islands",
         "orientation": "v",
         "showlegend": true,
         "text": [
          2010
         ],
         "textposition": "outside",
         "type": "bar",
         "x": [
          "United States Virgin Islands"
         ],
         "xaxis": "x",
         "y": [
          2010
         ],
         "yaxis": "y"
        },
        {
         "alignmentgroup": "True",
         "hovertemplate": "location=%{x}<br>total_cases=%{text}<extra></extra>",
         "legendgroup": "Liberia",
         "marker": {
          "color": "#B6E880",
          "pattern": {
           "shape": ""
          }
         },
         "name": "Liberia",
         "offsetgroup": "Liberia",
         "orientation": "v",
         "showlegend": true,
         "text": [
          1854
         ],
         "textposition": "outside",
         "type": "bar",
         "x": [
          "Liberia"
         ],
         "xaxis": "x",
         "y": [
          1854
         ],
         "yaxis": "y"
        },
        {
         "alignmentgroup": "True",
         "hovertemplate": "location=%{x}<br>total_cases=%{text}<extra></extra>",
         "legendgroup": "New Zealand",
         "marker": {
          "color": "#FF97FF",
          "pattern": {
           "shape": ""
          }
         },
         "name": "New Zealand",
         "offsetgroup": "New Zealand",
         "orientation": "v",
         "showlegend": true,
         "text": [
          1807
         ],
         "textposition": "outside",
         "type": "bar",
         "x": [
          "New Zealand"
         ],
         "xaxis": "x",
         "y": [
          1807
         ],
         "yaxis": "y"
        },
        {
         "alignmentgroup": "True",
         "hovertemplate": "location=%{x}<br>total_cases=%{text}<extra></extra>",
         "legendgroup": "Gibraltar",
         "marker": {
          "color": "#FECB52",
          "pattern": {
           "shape": ""
          }
         },
         "name": "Gibraltar",
         "offsetgroup": "Gibraltar",
         "orientation": "v",
         "showlegend": true,
         "text": [
          1785
         ],
         "textposition": "outside",
         "type": "bar",
         "x": [
          "Gibraltar"
         ],
         "xaxis": "x",
         "y": [
          1785
         ],
         "yaxis": "y"
        },
        {
         "alignmentgroup": "True",
         "hovertemplate": "location=%{x}<br>total_cases=%{text}<extra></extra>",
         "legendgroup": "Vietnam",
         "marker": {
          "color": "#636efa",
          "pattern": {
           "shape": ""
          }
         },
         "name": "Vietnam",
         "offsetgroup": "Vietnam",
         "orientation": "v",
         "showlegend": true,
         "text": [
          1456
         ],
         "textposition": "outside",
         "type": "bar",
         "x": [
          "Vietnam"
         ],
         "xaxis": "x",
         "y": [
          1456
         ],
         "yaxis": "y"
        },
        {
         "alignmentgroup": "True",
         "hovertemplate": "location=%{x}<br>total_cases=%{text}<extra></extra>",
         "legendgroup": "Sint Maarten (Dutch part)",
         "marker": {
          "color": "#EF553B",
          "pattern": {
           "shape": ""
          }
         },
         "name": "Sint Maarten (Dutch part)",
         "offsetgroup": "Sint Maarten (Dutch part)",
         "orientation": "v",
         "showlegend": true,
         "text": [
          1423
         ],
         "textposition": "outside",
         "type": "bar",
         "x": [
          "Sint Maarten (Dutch part)"
         ],
         "xaxis": "x",
         "y": [
          1423
         ],
         "yaxis": "y"
        },
        {
         "alignmentgroup": "True",
         "hovertemplate": "location=%{x}<br>total_cases=%{text}<extra></extra>",
         "legendgroup": "Eritrea",
         "marker": {
          "color": "#00cc96",
          "pattern": {
           "shape": ""
          }
         },
         "name": "Eritrea",
         "offsetgroup": "Eritrea",
         "orientation": "v",
         "showlegend": true,
         "text": [
          1252
         ],
         "textposition": "outside",
         "type": "bar",
         "x": [
          "Eritrea"
         ],
         "xaxis": "x",
         "y": [
          1252
         ],
         "yaxis": "y"
        },
        {
         "alignmentgroup": "True",
         "hovertemplate": "location=%{x}<br>total_cases=%{text}<extra></extra>",
         "legendgroup": "Mongolia",
         "marker": {
          "color": "#ab63fa",
          "pattern": {
           "shape": ""
          }
         },
         "name": "Mongolia",
         "offsetgroup": "Mongolia",
         "orientation": "v",
         "showlegend": true,
         "text": [
          1215
         ],
         "textposition": "outside",
         "type": "bar",
         "x": [
          "Mongolia"
         ],
         "xaxis": "x",
         "y": [
          1215
         ],
         "yaxis": "y"
        },
        {
         "alignmentgroup": "True",
         "hovertemplate": "location=%{x}<br>total_cases=%{text}<extra></extra>",
         "legendgroup": "Sao Tome and Principe",
         "marker": {
          "color": "#FFA15A",
          "pattern": {
           "shape": ""
          }
         },
         "name": "Sao Tome and Principe",
         "offsetgroup": "Sao Tome and Principe",
         "orientation": "v",
         "showlegend": true,
         "text": [
          1014
         ],
         "textposition": "outside",
         "type": "bar",
         "x": [
          "Sao Tome and Principe"
         ],
         "xaxis": "x",
         "y": [
          1014
         ],
         "yaxis": "y"
        },
        {
         "alignmentgroup": "True",
         "hovertemplate": "location=%{x}<br>total_cases=%{text}<extra></extra>",
         "legendgroup": "Saint Martin (French part)",
         "marker": {
          "color": "#19d3f3",
          "pattern": {
           "shape": ""
          }
         },
         "name": "Saint Martin (French part)",
         "offsetgroup": "Saint Martin (French part)",
         "orientation": "v",
         "showlegend": true,
         "text": [
          986
         ],
         "textposition": "outside",
         "type": "bar",
         "x": [
          "Saint Martin (French part)"
         ],
         "xaxis": "x",
         "y": [
          986
         ],
         "yaxis": "y"
        },
        {
         "alignmentgroup": "True",
         "hovertemplate": "location=%{x}<br>total_cases=%{text}<extra></extra>",
         "legendgroup": "Turks and Caicos Islands",
         "marker": {
          "color": "#FF6692",
          "pattern": {
           "shape": ""
          }
         },
         "name": "Turks and Caicos Islands",
         "offsetgroup": "Turks and Caicos Islands",
         "orientation": "v",
         "showlegend": true,
         "text": [
          865
         ],
         "textposition": "outside",
         "type": "bar",
         "x": [
          "Turks and Caicos Islands"
         ],
         "xaxis": "x",
         "y": [
          865
         ],
         "yaxis": "y"
        },
        {
         "alignmentgroup": "True",
         "hovertemplate": "location=%{x}<br>total_cases=%{text}<extra></extra>",
         "legendgroup": "Burundi",
         "marker": {
          "color": "#B6E880",
          "pattern": {
           "shape": ""
          }
         },
         "name": "Burundi",
         "offsetgroup": "Burundi",
         "orientation": "v",
         "showlegend": true,
         "text": [
          818
         ],
         "textposition": "outside",
         "type": "bar",
         "x": [
          "Burundi"
         ],
         "xaxis": "x",
         "y": [
          818
         ],
         "yaxis": "y"
        },
        {
         "alignmentgroup": "True",
         "hovertemplate": "location=%{x}<br>total_cases=%{text}<extra></extra>",
         "legendgroup": "Papua New Guinea",
         "marker": {
          "color": "#FF97FF",
          "pattern": {
           "shape": ""
          }
         },
         "name": "Papua New Guinea",
         "offsetgroup": "Papua New Guinea",
         "orientation": "v",
         "showlegend": true,
         "text": [
          780
         ],
         "textposition": "outside",
         "type": "bar",
         "x": [
          "Papua New Guinea"
         ],
         "xaxis": "x",
         "y": [
          780
         ],
         "yaxis": "y"
        },
        {
         "alignmentgroup": "True",
         "hovertemplate": "location=%{x}<br>total_cases=%{text}<extra></extra>",
         "legendgroup": "Monaco",
         "marker": {
          "color": "#FECB52",
          "pattern": {
           "shape": ""
          }
         },
         "name": "Monaco",
         "offsetgroup": "Monaco",
         "orientation": "v",
         "showlegend": true,
         "text": [
          726
         ],
         "textposition": "outside",
         "type": "bar",
         "x": [
          "Monaco"
         ],
         "xaxis": "x",
         "y": [
          726
         ],
         "yaxis": "y"
        },
        {
         "alignmentgroup": "True",
         "hovertemplate": "location=%{x}<br>total_cases=%{text}<extra></extra>",
         "legendgroup": "Comoros",
         "marker": {
          "color": "#636efa",
          "pattern": {
           "shape": ""
          }
         },
         "name": "Comoros",
         "offsetgroup": "Comoros",
         "orientation": "v",
         "showlegend": true,
         "text": [
          695
         ],
         "textposition": "outside",
         "type": "bar",
         "x": [
          "Comoros"
         ],
         "xaxis": "x",
         "y": [
          695
         ],
         "yaxis": "y"
        },
        {
         "alignmentgroup": "True",
         "hovertemplate": "location=%{x}<br>total_cases=%{text}<extra></extra>",
         "legendgroup": "Bhutan",
         "marker": {
          "color": "#EF553B",
          "pattern": {
           "shape": ""
          }
         },
         "name": "Bhutan",
         "offsetgroup": "Bhutan",
         "orientation": "v",
         "showlegend": true,
         "text": [
          670
         ],
         "textposition": "outside",
         "type": "bar",
         "x": [
          "Bhutan"
         ],
         "xaxis": "x",
         "y": [
          670
         ],
         "yaxis": "y"
        },
        {
         "alignmentgroup": "True",
         "hovertemplate": "location=%{x}<br>total_cases=%{text}<extra></extra>",
         "legendgroup": "Faeroe Islands",
         "marker": {
          "color": "#00cc96",
          "pattern": {
           "shape": ""
          }
         },
         "name": "Faeroe Islands",
         "offsetgroup": "Faeroe Islands",
         "orientation": "v",
         "showlegend": true,
         "text": [
          608
         ],
         "textposition": "outside",
         "type": "bar",
         "x": [
          "Faeroe Islands"
         ],
         "xaxis": "x",
         "y": [
          608
         ],
         "yaxis": "y"
        },
        {
         "alignmentgroup": "True",
         "hovertemplate": "location=%{x}<br>total_cases=%{text}<extra></extra>",
         "legendgroup": "Bermuda",
         "marker": {
          "color": "#ab63fa",
          "pattern": {
           "shape": ""
          }
         },
         "name": "Bermuda",
         "offsetgroup": "Bermuda",
         "orientation": "v",
         "showlegend": true,
         "text": [
          595
         ],
         "textposition": "outside",
         "type": "bar",
         "x": [
          "Bermuda"
         ],
         "xaxis": "x",
         "y": [
          595
         ],
         "yaxis": "y"
        },
        {
         "alignmentgroup": "True",
         "hovertemplate": "location=%{x}<br>total_cases=%{text}<extra></extra>",
         "legendgroup": "Mauritius",
         "marker": {
          "color": "#FFA15A",
          "pattern": {
           "shape": ""
          }
         },
         "name": "Mauritius",
         "offsetgroup": "Mauritius",
         "orientation": "v",
         "showlegend": true,
         "text": [
          527
         ],
         "textposition": "outside",
         "type": "bar",
         "x": [
          "Mauritius"
         ],
         "xaxis": "x",
         "y": [
          527
         ],
         "yaxis": "y"
        },
        {
         "alignmentgroup": "True",
         "hovertemplate": "location=%{x}<br>total_cases=%{text}<extra></extra>",
         "legendgroup": "Tanzania",
         "marker": {
          "color": "#19d3f3",
          "pattern": {
           "shape": ""
          }
         },
         "name": "Tanzania",
         "offsetgroup": "Tanzania",
         "orientation": "v",
         "showlegend": true,
         "text": [
          509
         ],
         "textposition": "outside",
         "type": "bar",
         "x": [
          "Tanzania"
         ],
         "xaxis": "x",
         "y": [
          509
         ],
         "yaxis": "y"
        },
        {
         "alignmentgroup": "True",
         "hovertemplate": "location=%{x}<br>total_cases=%{text}<extra></extra>",
         "legendgroup": "Isle of Man",
         "marker": {
          "color": "#FF6692",
          "pattern": {
           "shape": ""
          }
         },
         "name": "Isle of Man",
         "offsetgroup": "Isle of Man",
         "orientation": "v",
         "showlegend": true,
         "text": [
          379
         ],
         "textposition": "outside",
         "type": "bar",
         "x": [
          "Isle of Man"
         ],
         "xaxis": "x",
         "y": [
          379
         ],
         "yaxis": "y"
        },
        {
         "alignmentgroup": "True",
         "hovertemplate": "location=%{x}<br>total_cases=%{text}<extra></extra>",
         "legendgroup": "Barbados",
         "marker": {
          "color": "#B6E880",
          "pattern": {
           "shape": ""
          }
         },
         "name": "Barbados",
         "offsetgroup": "Barbados",
         "orientation": "v",
         "showlegend": true,
         "text": [
          372
         ],
         "textposition": "outside",
         "type": "bar",
         "x": [
          "Barbados"
         ],
         "xaxis": "x",
         "y": [
          372
         ],
         "yaxis": "y"
        },
        {
         "alignmentgroup": "True",
         "hovertemplate": "location=%{x}<br>total_cases=%{text}<extra></extra>",
         "legendgroup": "Cambodia",
         "marker": {
          "color": "#FF97FF",
          "pattern": {
           "shape": ""
          }
         },
         "name": "Cambodia",
         "offsetgroup": "Cambodia",
         "orientation": "v",
         "showlegend": true,
         "text": [
          366
         ],
         "textposition": "outside",
         "type": "bar",
         "x": [
          "Cambodia"
         ],
         "xaxis": "x",
         "y": [
          366
         ],
         "yaxis": "y"
        },
        {
         "alignmentgroup": "True",
         "hovertemplate": "location=%{x}<br>total_cases=%{text}<extra></extra>",
         "legendgroup": "Saint Lucia",
         "marker": {
          "color": "#FECB52",
          "pattern": {
           "shape": ""
          }
         },
         "name": "Saint Lucia",
         "offsetgroup": "Saint Lucia",
         "orientation": "v",
         "showlegend": true,
         "text": [
          340
         ],
         "textposition": "outside",
         "type": "bar",
         "x": [
          "Saint Lucia"
         ],
         "xaxis": "x",
         "y": [
          340
         ],
         "yaxis": "y"
        },
        {
         "alignmentgroup": "True",
         "hovertemplate": "location=%{x}<br>total_cases=%{text}<extra></extra>",
         "legendgroup": "Cayman Islands",
         "marker": {
          "color": "#636efa",
          "pattern": {
           "shape": ""
          }
         },
         "name": "Cayman Islands",
         "offsetgroup": "Cayman Islands",
         "orientation": "v",
         "showlegend": true,
         "text": [
          326
         ],
         "textposition": "outside",
         "type": "bar",
         "x": [
          "Cayman Islands"
         ],
         "xaxis": "x",
         "y": [
          326
         ],
         "yaxis": "y"
        },
        {
         "alignmentgroup": "True",
         "hovertemplate": "location=%{x}<br>total_cases=%{text}<extra></extra>",
         "legendgroup": "Guernsey",
         "marker": {
          "color": "#EF553B",
          "pattern": {
           "shape": ""
          }
         },
         "name": "Guernsey",
         "offsetgroup": "Guernsey",
         "orientation": "v",
         "showlegend": true,
         "text": [
          298
         ],
         "textposition": "outside",
         "type": "bar",
         "x": [
          "Guernsey"
         ],
         "xaxis": "x",
         "y": [
          298
         ],
         "yaxis": "y"
        },
        {
         "alignmentgroup": "True",
         "hovertemplate": "location=%{x}<br>total_cases=%{text}<extra></extra>",
         "legendgroup": "Seychelles",
         "marker": {
          "color": "#00cc96",
          "pattern": {
           "shape": ""
          }
         },
         "name": "Seychelles",
         "offsetgroup": "Seychelles",
         "orientation": "v",
         "showlegend": true,
         "text": [
          226
         ],
         "textposition": "outside",
         "type": "bar",
         "x": [
          "Seychelles"
         ],
         "xaxis": "x",
         "y": [
          226
         ],
         "yaxis": "y"
        },
        {
         "alignmentgroup": "True",
         "hovertemplate": "location=%{x}<br>total_cases=%{text}<extra></extra>",
         "legendgroup": "Saint Barthelemy",
         "marker": {
          "color": "#ab63fa",
          "pattern": {
           "shape": ""
          }
         },
         "name": "Saint Barthelemy",
         "offsetgroup": "Saint Barthelemy",
         "orientation": "v",
         "showlegend": true,
         "text": [
          189
         ],
         "textposition": "outside",
         "type": "bar",
         "x": [
          "Saint Barthelemy"
         ],
         "xaxis": "x",
         "y": [
          189
         ],
         "yaxis": "y"
        },
        {
         "alignmentgroup": "True",
         "hovertemplate": "location=%{x}<br>total_cases=%{text}<extra></extra>",
         "legendgroup": "Bonaire Sint Eustatius and Saba",
         "marker": {
          "color": "#FFA15A",
          "pattern": {
           "shape": ""
          }
         },
         "name": "Bonaire Sint Eustatius and Saba",
         "offsetgroup": "Bonaire Sint Eustatius and Saba",
         "orientation": "v",
         "showlegend": true,
         "text": [
          186
         ],
         "textposition": "outside",
         "type": "bar",
         "x": [
          "Bonaire Sint Eustatius and Saba"
         ],
         "xaxis": "x",
         "y": [
          186
         ],
         "yaxis": "y"
        },
        {
         "alignmentgroup": "True",
         "hovertemplate": "location=%{x}<br>total_cases=%{text}<extra></extra>",
         "legendgroup": "Antigua and Barbuda",
         "marker": {
          "color": "#19d3f3",
          "pattern": {
           "shape": ""
          }
         },
         "name": "Antigua and Barbuda",
         "offsetgroup": "Antigua and Barbuda",
         "orientation": "v",
         "showlegend": true,
         "text": [
          158
         ],
         "textposition": "outside",
         "type": "bar",
         "x": [
          "Antigua and Barbuda"
         ],
         "xaxis": "x",
         "y": [
          158
         ],
         "yaxis": "y"
        },
        {
         "alignmentgroup": "True",
         "hovertemplate": "location=%{x}<br>total_cases=%{text}<extra></extra>",
         "legendgroup": "Brunei",
         "marker": {
          "color": "#FF6692",
          "pattern": {
           "shape": ""
          }
         },
         "name": "Brunei",
         "offsetgroup": "Brunei",
         "orientation": "v",
         "showlegend": true,
         "text": [
          157
         ],
         "textposition": "outside",
         "type": "bar",
         "x": [
          "Brunei"
         ],
         "xaxis": "x",
         "y": [
          157
         ],
         "yaxis": "y"
        },
        {
         "alignmentgroup": "True",
         "hovertemplate": "location=%{x}<br>total_cases=%{text}<extra></extra>",
         "legendgroup": "Grenada",
         "marker": {
          "color": "#B6E880",
          "pattern": {
           "shape": ""
          }
         },
         "name": "Grenada",
         "offsetgroup": "Grenada",
         "orientation": "v",
         "showlegend": true,
         "text": [
          128
         ],
         "textposition": "outside",
         "type": "bar",
         "x": [
          "Grenada"
         ],
         "xaxis": "x",
         "y": [
          128
         ],
         "yaxis": "y"
        },
        {
         "alignmentgroup": "True",
         "hovertemplate": "location=%{x}<br>total_cases=%{text}<extra></extra>",
         "legendgroup": "Northern Mariana Islands",
         "marker": {
          "color": "#FF97FF",
          "pattern": {
           "shape": ""
          }
         },
         "name": "Northern Mariana Islands",
         "offsetgroup": "Northern Mariana Islands",
         "orientation": "v",
         "showlegend": true,
         "text": [
          122
         ],
         "textposition": "outside",
         "type": "bar",
         "x": [
          "Northern Mariana Islands"
         ],
         "xaxis": "x",
         "y": [
          122
         ],
         "yaxis": "y"
        },
        {
         "alignmentgroup": "True",
         "hovertemplate": "location=%{x}<br>total_cases=%{text}<extra></extra>",
         "legendgroup": "Saint Vincent and the Grenadines",
         "marker": {
          "color": "#FECB52",
          "pattern": {
           "shape": ""
          }
         },
         "name": "Saint Vincent and the Grenadines",
         "offsetgroup": "Saint Vincent and the Grenadines",
         "orientation": "v",
         "showlegend": true,
         "text": [
          115
         ],
         "textposition": "outside",
         "type": "bar",
         "x": [
          "Saint Vincent and the Grenadines"
         ],
         "xaxis": "x",
         "y": [
          115
         ],
         "yaxis": "y"
        },
        {
         "alignmentgroup": "True",
         "hovertemplate": "location=%{x}<br>total_cases=%{text}<extra></extra>",
         "legendgroup": "Dominica",
         "marker": {
          "color": "#636efa",
          "pattern": {
           "shape": ""
          }
         },
         "name": "Dominica",
         "offsetgroup": "Dominica",
         "orientation": "v",
         "showlegend": true,
         "text": [
          96
         ],
         "textposition": "outside",
         "type": "bar",
         "x": [
          "Dominica"
         ],
         "xaxis": "x",
         "y": [
          96
         ],
         "yaxis": "y"
        },
        {
         "alignmentgroup": "True",
         "hovertemplate": "location=%{x}<br>total_cases=%{text}<extra></extra>",
         "legendgroup": "British Virgin Islands",
         "marker": {
          "color": "#EF553B",
          "pattern": {
           "shape": ""
          }
         },
         "name": "British Virgin Islands",
         "offsetgroup": "British Virgin Islands",
         "orientation": "v",
         "showlegend": true,
         "text": [
          93
         ],
         "textposition": "outside",
         "type": "bar",
         "x": [
          "British Virgin Islands"
         ],
         "xaxis": "x",
         "y": [
          93
         ],
         "yaxis": "y"
        },
        {
         "alignmentgroup": "True",
         "hovertemplate": "location=%{x}<br>total_cases=%{text}<extra></extra>",
         "legendgroup": "Fiji",
         "marker": {
          "color": "#00cc96",
          "pattern": {
           "shape": ""
          }
         },
         "name": "Fiji",
         "offsetgroup": "Fiji",
         "orientation": "v",
         "showlegend": true,
         "text": [
          49
         ],
         "textposition": "outside",
         "type": "bar",
         "x": [
          "Fiji"
         ],
         "xaxis": "x",
         "y": [
          49
         ],
         "yaxis": "y"
        },
        {
         "alignmentgroup": "True",
         "hovertemplate": "location=%{x}<br>total_cases=%{text}<extra></extra>",
         "legendgroup": "Timor",
         "marker": {
          "color": "#ab63fa",
          "pattern": {
           "shape": ""
          }
         },
         "name": "Timor",
         "offsetgroup": "Timor",
         "orientation": "v",
         "showlegend": true,
         "text": [
          44
         ],
         "textposition": "outside",
         "type": "bar",
         "x": [
          "Timor"
         ],
         "xaxis": "x",
         "y": [
          44
         ],
         "yaxis": "y"
        },
        {
         "alignmentgroup": "True",
         "hovertemplate": "location=%{x}<br>total_cases=%{text}<extra></extra>",
         "legendgroup": "Laos",
         "marker": {
          "color": "#FFA15A",
          "pattern": {
           "shape": ""
          }
         },
         "name": "Laos",
         "offsetgroup": "Laos",
         "orientation": "v",
         "showlegend": true,
         "text": [
          41
         ],
         "textposition": "outside",
         "type": "bar",
         "x": [
          "Laos"
         ],
         "xaxis": "x",
         "y": [
          41
         ],
         "yaxis": "y"
        },
        {
         "alignmentgroup": "True",
         "hovertemplate": "location=%{x}<br>total_cases=%{text}<extra></extra>",
         "legendgroup": "New Caledonia",
         "marker": {
          "color": "#19d3f3",
          "pattern": {
           "shape": ""
          }
         },
         "name": "New Caledonia",
         "offsetgroup": "New Caledonia",
         "orientation": "v",
         "showlegend": true,
         "text": [
          38
         ],
         "textposition": "outside",
         "type": "bar",
         "x": [
          "New Caledonia"
         ],
         "xaxis": "x",
         "y": [
          38
         ],
         "yaxis": "y"
        },
        {
         "alignmentgroup": "True",
         "hovertemplate": "location=%{x}<br>total_cases=%{text}<extra></extra>",
         "legendgroup": "Saint Kitts and Nevis",
         "marker": {
          "color": "#FF6692",
          "pattern": {
           "shape": ""
          }
         },
         "name": "Saint Kitts and Nevis",
         "offsetgroup": "Saint Kitts and Nevis",
         "orientation": "v",
         "showlegend": true,
         "text": [
          32
         ],
         "textposition": "outside",
         "type": "bar",
         "x": [
          "Saint Kitts and Nevis"
         ],
         "xaxis": "x",
         "y": [
          32
         ],
         "yaxis": "y"
        },
        {
         "alignmentgroup": "True",
         "hovertemplate": "location=%{x}<br>total_cases=%{text}<extra></extra>",
         "legendgroup": "Falkland Islands",
         "marker": {
          "color": "#B6E880",
          "pattern": {
           "shape": ""
          }
         },
         "name": "Falkland Islands",
         "offsetgroup": "Falkland Islands",
         "orientation": "v",
         "showlegend": true,
         "text": [
          29
         ],
         "textposition": "outside",
         "type": "bar",
         "x": [
          "Falkland Islands"
         ],
         "xaxis": "x",
         "y": [
          29
         ],
         "yaxis": "y"
        },
        {
         "alignmentgroup": "True",
         "hovertemplate": "location=%{x}<br>total_cases=%{text}<extra></extra>",
         "legendgroup": "Greenland",
         "marker": {
          "color": "#FF97FF",
          "pattern": {
           "shape": ""
          }
         },
         "name": "Greenland",
         "offsetgroup": "Greenland",
         "orientation": "v",
         "showlegend": true,
         "text": [
          27
         ],
         "textposition": "outside",
         "type": "bar",
         "x": [
          "Greenland"
         ],
         "xaxis": "x",
         "y": [
          27
         ],
         "yaxis": "y"
        },
        {
         "alignmentgroup": "True",
         "hovertemplate": "location=%{x}<br>total_cases=%{text}<extra></extra>",
         "legendgroup": "Vatican",
         "marker": {
          "color": "#FECB52",
          "pattern": {
           "shape": ""
          }
         },
         "name": "Vatican",
         "offsetgroup": "Vatican",
         "orientation": "v",
         "showlegend": true,
         "text": [
          26
         ],
         "textposition": "outside",
         "type": "bar",
         "x": [
          "Vatican"
         ],
         "xaxis": "x",
         "y": [
          26
         ],
         "yaxis": "y"
        },
        {
         "alignmentgroup": "True",
         "hovertemplate": "location=%{x}<br>total_cases=%{text}<extra></extra>",
         "legendgroup": "Solomon Islands",
         "marker": {
          "color": "#636efa",
          "pattern": {
           "shape": ""
          }
         },
         "name": "Solomon Islands",
         "offsetgroup": "Solomon Islands",
         "orientation": "v",
         "showlegend": true,
         "text": [
          17
         ],
         "textposition": "outside",
         "type": "bar",
         "x": [
          "Solomon Islands"
         ],
         "xaxis": "x",
         "y": [
          17
         ],
         "yaxis": "y"
        },
        {
         "alignmentgroup": "True",
         "hovertemplate": "location=%{x}<br>total_cases=%{text}<extra></extra>",
         "legendgroup": "Saint Pierre and Miquelon",
         "marker": {
          "color": "#EF553B",
          "pattern": {
           "shape": ""
          }
         },
         "name": "Saint Pierre and Miquelon",
         "offsetgroup": "Saint Pierre and Miquelon",
         "orientation": "v",
         "showlegend": true,
         "text": [
          16
         ],
         "textposition": "outside",
         "type": "bar",
         "x": [
          "Saint Pierre and Miquelon"
         ],
         "xaxis": "x",
         "y": [
          16
         ],
         "yaxis": "y"
        },
        {
         "alignmentgroup": "True",
         "hovertemplate": "location=%{x}<br>total_cases=%{text}<extra></extra>",
         "legendgroup": "Anguilla",
         "marker": {
          "color": "#00cc96",
          "pattern": {
           "shape": ""
          }
         },
         "name": "Anguilla",
         "offsetgroup": "Anguilla",
         "orientation": "v",
         "showlegend": true,
         "text": [
          13
         ],
         "textposition": "outside",
         "type": "bar",
         "x": [
          "Anguilla"
         ],
         "xaxis": "x",
         "y": [
          13
         ],
         "yaxis": "y"
        },
        {
         "alignmentgroup": "True",
         "hovertemplate": "location=%{x}<br>total_cases=%{text}<extra></extra>",
         "legendgroup": "Montserrat",
         "marker": {
          "color": "#ab63fa",
          "pattern": {
           "shape": ""
          }
         },
         "name": "Montserrat",
         "offsetgroup": "Montserrat",
         "orientation": "v",
         "showlegend": true,
         "text": [
          13
         ],
         "textposition": "outside",
         "type": "bar",
         "x": [
          "Montserrat"
         ],
         "xaxis": "x",
         "y": [
          13
         ],
         "yaxis": "y"
        },
        {
         "alignmentgroup": "True",
         "hovertemplate": "location=%{x}<br>total_cases=%{text}<extra></extra>",
         "legendgroup": "Uzbekistan",
         "marker": {
          "color": "#FFA15A",
          "pattern": {
           "shape": ""
          }
         },
         "name": "Uzbekistan",
         "offsetgroup": "Uzbekistan",
         "orientation": "v",
         "showlegend": true,
         "text": [
          9
         ],
         "textposition": "outside",
         "type": "bar",
         "x": [
          "Uzbekistan"
         ],
         "xaxis": "x",
         "y": [
          9
         ],
         "yaxis": "y"
        },
        {
         "alignmentgroup": "True",
         "hovertemplate": "location=%{x}<br>total_cases=%{text}<extra></extra>",
         "legendgroup": "Wallis and Futuna",
         "marker": {
          "color": "#19d3f3",
          "pattern": {
           "shape": ""
          }
         },
         "name": "Wallis and Futuna",
         "offsetgroup": "Wallis and Futuna",
         "orientation": "v",
         "showlegend": true,
         "text": [
          4
         ],
         "textposition": "outside",
         "type": "bar",
         "x": [
          "Wallis and Futuna"
         ],
         "xaxis": "x",
         "y": [
          4
         ],
         "yaxis": "y"
        },
        {
         "alignmentgroup": "True",
         "hovertemplate": "location=%{x}<br>total_cases=%{text}<extra></extra>",
         "legendgroup": "Marshall Islands",
         "marker": {
          "color": "#FF6692",
          "pattern": {
           "shape": ""
          }
         },
         "name": "Marshall Islands",
         "offsetgroup": "Marshall Islands",
         "orientation": "v",
         "showlegend": true,
         "text": [
          4
         ],
         "textposition": "outside",
         "type": "bar",
         "x": [
          "Marshall Islands"
         ],
         "xaxis": "x",
         "y": [
          4
         ],
         "yaxis": "y"
        },
        {
         "alignmentgroup": "True",
         "hovertemplate": "location=%{x}<br>total_cases=%{text}<extra></extra>",
         "legendgroup": "Vanuatu",
         "marker": {
          "color": "#B6E880",
          "pattern": {
           "shape": ""
          }
         },
         "name": "Vanuatu",
         "offsetgroup": "Vanuatu",
         "orientation": "v",
         "showlegend": true,
         "text": [
          1
         ],
         "textposition": "outside",
         "type": "bar",
         "x": [
          "Vanuatu"
         ],
         "xaxis": "x",
         "y": [
          1
         ],
         "yaxis": "y"
        },
        {
         "alignmentgroup": "True",
         "hovertemplate": "location=%{x}<br>total_cases=%{text}<extra></extra>",
         "legendgroup": "Samoa",
         "marker": {
          "color": "#FF97FF",
          "pattern": {
           "shape": ""
          }
         },
         "name": "Samoa",
         "offsetgroup": "Samoa",
         "orientation": "v",
         "showlegend": true,
         "text": [
          1
         ],
         "textposition": "outside",
         "type": "bar",
         "x": [
          "Samoa"
         ],
         "xaxis": "x",
         "y": [
          1
         ],
         "yaxis": "y"
        },
        {
         "alignmentgroup": "True",
         "hovertemplate": "location=%{x}<br>total_cases=%{text}<extra></extra>",
         "legendgroup": "American Samoa",
         "marker": {
          "color": "#FECB52",
          "pattern": {
           "shape": ""
          }
         },
         "name": "American Samoa",
         "offsetgroup": "American Samoa",
         "orientation": "v",
         "showlegend": true,
         "text": [
          null
         ],
         "textposition": "outside",
         "type": "bar",
         "x": [
          "American Samoa"
         ],
         "xaxis": "x",
         "y": [
          null
         ],
         "yaxis": "y"
        },
        {
         "alignmentgroup": "True",
         "hovertemplate": "location=%{x}<br>total_cases=%{text}<extra></extra>",
         "legendgroup": "Cook Islands",
         "marker": {
          "color": "#636efa",
          "pattern": {
           "shape": ""
          }
         },
         "name": "Cook Islands",
         "offsetgroup": "Cook Islands",
         "orientation": "v",
         "showlegend": true,
         "text": [
          null
         ],
         "textposition": "outside",
         "type": "bar",
         "x": [
          "Cook Islands"
         ],
         "xaxis": "x",
         "y": [
          null
         ],
         "yaxis": "y"
        },
        {
         "alignmentgroup": "True",
         "hovertemplate": "location=%{x}<br>total_cases=%{text}<extra></extra>",
         "legendgroup": "England",
         "marker": {
          "color": "#EF553B",
          "pattern": {
           "shape": ""
          }
         },
         "name": "England",
         "offsetgroup": "England",
         "orientation": "v",
         "showlegend": true,
         "text": [
          null
         ],
         "textposition": "outside",
         "type": "bar",
         "x": [
          "England"
         ],
         "xaxis": "x",
         "y": [
          null
         ],
         "yaxis": "y"
        },
        {
         "alignmentgroup": "True",
         "hovertemplate": "location=%{x}<br>total_cases=%{text}<extra></extra>",
         "legendgroup": "Hong Kong",
         "marker": {
          "color": "#00cc96",
          "pattern": {
           "shape": ""
          }
         },
         "name": "Hong Kong",
         "offsetgroup": "Hong Kong",
         "orientation": "v",
         "showlegend": true,
         "text": [
          null
         ],
         "textposition": "outside",
         "type": "bar",
         "x": [
          "Hong Kong"
         ],
         "xaxis": "x",
         "y": [
          null
         ],
         "yaxis": "y"
        },
        {
         "alignmentgroup": "True",
         "hovertemplate": "location=%{x}<br>total_cases=%{text}<extra></extra>",
         "legendgroup": "Kiribati",
         "marker": {
          "color": "#ab63fa",
          "pattern": {
           "shape": ""
          }
         },
         "name": "Kiribati",
         "offsetgroup": "Kiribati",
         "orientation": "v",
         "showlegend": true,
         "text": [
          null
         ],
         "textposition": "outside",
         "type": "bar",
         "x": [
          "Kiribati"
         ],
         "xaxis": "x",
         "y": [
          null
         ],
         "yaxis": "y"
        },
        {
         "alignmentgroup": "True",
         "hovertemplate": "location=%{x}<br>total_cases=%{text}<extra></extra>",
         "legendgroup": "Kyrgyzstan",
         "marker": {
          "color": "#FFA15A",
          "pattern": {
           "shape": ""
          }
         },
         "name": "Kyrgyzstan",
         "offsetgroup": "Kyrgyzstan",
         "orientation": "v",
         "showlegend": true,
         "text": [
          null
         ],
         "textposition": "outside",
         "type": "bar",
         "x": [
          "Kyrgyzstan"
         ],
         "xaxis": "x",
         "y": [
          null
         ],
         "yaxis": "y"
        },
        {
         "alignmentgroup": "True",
         "hovertemplate": "location=%{x}<br>total_cases=%{text}<extra></extra>",
         "legendgroup": "Micronesia (country)",
         "marker": {
          "color": "#19d3f3",
          "pattern": {
           "shape": ""
          }
         },
         "name": "Micronesia (country)",
         "offsetgroup": "Micronesia (country)",
         "orientation": "v",
         "showlegend": true,
         "text": [
          null
         ],
         "textposition": "outside",
         "type": "bar",
         "x": [
          "Micronesia (country)"
         ],
         "xaxis": "x",
         "y": [
          null
         ],
         "yaxis": "y"
        },
        {
         "alignmentgroup": "True",
         "hovertemplate": "location=%{x}<br>total_cases=%{text}<extra></extra>",
         "legendgroup": "Nauru",
         "marker": {
          "color": "#FF6692",
          "pattern": {
           "shape": ""
          }
         },
         "name": "Nauru",
         "offsetgroup": "Nauru",
         "orientation": "v",
         "showlegend": true,
         "text": [
          null
         ],
         "textposition": "outside",
         "type": "bar",
         "x": [
          "Nauru"
         ],
         "xaxis": "x",
         "y": [
          null
         ],
         "yaxis": "y"
        },
        {
         "alignmentgroup": "True",
         "hovertemplate": "location=%{x}<br>total_cases=%{text}<extra></extra>",
         "legendgroup": "Niue",
         "marker": {
          "color": "#B6E880",
          "pattern": {
           "shape": ""
          }
         },
         "name": "Niue",
         "offsetgroup": "Niue",
         "orientation": "v",
         "showlegend": true,
         "text": [
          null
         ],
         "textposition": "outside",
         "type": "bar",
         "x": [
          "Niue"
         ],
         "xaxis": "x",
         "y": [
          null
         ],
         "yaxis": "y"
        },
        {
         "alignmentgroup": "True",
         "hovertemplate": "location=%{x}<br>total_cases=%{text}<extra></extra>",
         "legendgroup": "North Korea",
         "marker": {
          "color": "#FF97FF",
          "pattern": {
           "shape": ""
          }
         },
         "name": "North Korea",
         "offsetgroup": "North Korea",
         "orientation": "v",
         "showlegend": true,
         "text": [
          null
         ],
         "textposition": "outside",
         "type": "bar",
         "x": [
          "North Korea"
         ],
         "xaxis": "x",
         "y": [
          null
         ],
         "yaxis": "y"
        },
        {
         "alignmentgroup": "True",
         "hovertemplate": "location=%{x}<br>total_cases=%{text}<extra></extra>",
         "legendgroup": "Northern Ireland",
         "marker": {
          "color": "#FECB52",
          "pattern": {
           "shape": ""
          }
         },
         "name": "Northern Ireland",
         "offsetgroup": "Northern Ireland",
         "orientation": "v",
         "showlegend": true,
         "text": [
          null
         ],
         "textposition": "outside",
         "type": "bar",
         "x": [
          "Northern Ireland"
         ],
         "xaxis": "x",
         "y": [
          null
         ],
         "yaxis": "y"
        },
        {
         "alignmentgroup": "True",
         "hovertemplate": "location=%{x}<br>total_cases=%{text}<extra></extra>",
         "legendgroup": "Palau",
         "marker": {
          "color": "#636efa",
          "pattern": {
           "shape": ""
          }
         },
         "name": "Palau",
         "offsetgroup": "Palau",
         "orientation": "v",
         "showlegend": true,
         "text": [
          null
         ],
         "textposition": "outside",
         "type": "bar",
         "x": [
          "Palau"
         ],
         "xaxis": "x",
         "y": [
          null
         ],
         "yaxis": "y"
        },
        {
         "alignmentgroup": "True",
         "hovertemplate": "location=%{x}<br>total_cases=%{text}<extra></extra>",
         "legendgroup": "Pitcairn",
         "marker": {
          "color": "#EF553B",
          "pattern": {
           "shape": ""
          }
         },
         "name": "Pitcairn",
         "offsetgroup": "Pitcairn",
         "orientation": "v",
         "showlegend": true,
         "text": [
          null
         ],
         "textposition": "outside",
         "type": "bar",
         "x": [
          "Pitcairn"
         ],
         "xaxis": "x",
         "y": [
          null
         ],
         "yaxis": "y"
        },
        {
         "alignmentgroup": "True",
         "hovertemplate": "location=%{x}<br>total_cases=%{text}<extra></extra>",
         "legendgroup": "Saint Helena",
         "marker": {
          "color": "#00cc96",
          "pattern": {
           "shape": ""
          }
         },
         "name": "Saint Helena",
         "offsetgroup": "Saint Helena",
         "orientation": "v",
         "showlegend": true,
         "text": [
          null
         ],
         "textposition": "outside",
         "type": "bar",
         "x": [
          "Saint Helena"
         ],
         "xaxis": "x",
         "y": [
          null
         ],
         "yaxis": "y"
        },
        {
         "alignmentgroup": "True",
         "hovertemplate": "location=%{x}<br>total_cases=%{text}<extra></extra>",
         "legendgroup": "Scotland",
         "marker": {
          "color": "#ab63fa",
          "pattern": {
           "shape": ""
          }
         },
         "name": "Scotland",
         "offsetgroup": "Scotland",
         "orientation": "v",
         "showlegend": true,
         "text": [
          null
         ],
         "textposition": "outside",
         "type": "bar",
         "x": [
          "Scotland"
         ],
         "xaxis": "x",
         "y": [
          null
         ],
         "yaxis": "y"
        },
        {
         "alignmentgroup": "True",
         "hovertemplate": "location=%{x}<br>total_cases=%{text}<extra></extra>",
         "legendgroup": "Taiwan",
         "marker": {
          "color": "#FFA15A",
          "pattern": {
           "shape": ""
          }
         },
         "name": "Taiwan",
         "offsetgroup": "Taiwan",
         "orientation": "v",
         "showlegend": true,
         "text": [
          null
         ],
         "textposition": "outside",
         "type": "bar",
         "x": [
          "Taiwan"
         ],
         "xaxis": "x",
         "y": [
          null
         ],
         "yaxis": "y"
        },
        {
         "alignmentgroup": "True",
         "hovertemplate": "location=%{x}<br>total_cases=%{text}<extra></extra>",
         "legendgroup": "Tokelau",
         "marker": {
          "color": "#19d3f3",
          "pattern": {
           "shape": ""
          }
         },
         "name": "Tokelau",
         "offsetgroup": "Tokelau",
         "orientation": "v",
         "showlegend": true,
         "text": [
          null
         ],
         "textposition": "outside",
         "type": "bar",
         "x": [
          "Tokelau"
         ],
         "xaxis": "x",
         "y": [
          null
         ],
         "yaxis": "y"
        },
        {
         "alignmentgroup": "True",
         "hovertemplate": "location=%{x}<br>total_cases=%{text}<extra></extra>",
         "legendgroup": "Tonga",
         "marker": {
          "color": "#FF6692",
          "pattern": {
           "shape": ""
          }
         },
         "name": "Tonga",
         "offsetgroup": "Tonga",
         "orientation": "v",
         "showlegend": true,
         "text": [
          null
         ],
         "textposition": "outside",
         "type": "bar",
         "x": [
          "Tonga"
         ],
         "xaxis": "x",
         "y": [
          null
         ],
         "yaxis": "y"
        },
        {
         "alignmentgroup": "True",
         "hovertemplate": "location=%{x}<br>total_cases=%{text}<extra></extra>",
         "legendgroup": "Turkmenistan",
         "marker": {
          "color": "#B6E880",
          "pattern": {
           "shape": ""
          }
         },
         "name": "Turkmenistan",
         "offsetgroup": "Turkmenistan",
         "orientation": "v",
         "showlegend": true,
         "text": [
          null
         ],
         "textposition": "outside",
         "type": "bar",
         "x": [
          "Turkmenistan"
         ],
         "xaxis": "x",
         "y": [
          null
         ],
         "yaxis": "y"
        },
        {
         "alignmentgroup": "True",
         "hovertemplate": "location=%{x}<br>total_cases=%{text}<extra></extra>",
         "legendgroup": "Tuvalu",
         "marker": {
          "color": "#FF97FF",
          "pattern": {
           "shape": ""
          }
         },
         "name": "Tuvalu",
         "offsetgroup": "Tuvalu",
         "orientation": "v",
         "showlegend": true,
         "text": [
          null
         ],
         "textposition": "outside",
         "type": "bar",
         "x": [
          "Tuvalu"
         ],
         "xaxis": "x",
         "y": [
          null
         ],
         "yaxis": "y"
        },
        {
         "alignmentgroup": "True",
         "hovertemplate": "location=%{x}<br>total_cases=%{text}<extra></extra>",
         "legendgroup": "Wales",
         "marker": {
          "color": "#FECB52",
          "pattern": {
           "shape": ""
          }
         },
         "name": "Wales",
         "offsetgroup": "Wales",
         "orientation": "v",
         "showlegend": true,
         "text": [
          null
         ],
         "textposition": "outside",
         "type": "bar",
         "x": [
          "Wales"
         ],
         "xaxis": "x",
         "y": [
          null
         ],
         "yaxis": "y"
        }
       ],
       "layout": {
        "barmode": "relative",
        "height": 600,
        "legend": {
         "title": {
          "text": "location"
         },
         "tracegroupgap": 0
        },
        "margin": {
         "t": 60
        },
        "template": {
         "data": {
          "bar": [
           {
            "error_x": {
             "color": "#2a3f5f"
            },
            "error_y": {
             "color": "#2a3f5f"
            },
            "marker": {
             "line": {
              "color": "#E5ECF6",
              "width": 0.5
             },
             "pattern": {
              "fillmode": "overlay",
              "size": 10,
              "solidity": 0.2
             }
            },
            "type": "bar"
           }
          ],
          "barpolar": [
           {
            "marker": {
             "line": {
              "color": "#E5ECF6",
              "width": 0.5
             },
             "pattern": {
              "fillmode": "overlay",
              "size": 10,
              "solidity": 0.2
             }
            },
            "type": "barpolar"
           }
          ],
          "carpet": [
           {
            "aaxis": {
             "endlinecolor": "#2a3f5f",
             "gridcolor": "white",
             "linecolor": "white",
             "minorgridcolor": "white",
             "startlinecolor": "#2a3f5f"
            },
            "baxis": {
             "endlinecolor": "#2a3f5f",
             "gridcolor": "white",
             "linecolor": "white",
             "minorgridcolor": "white",
             "startlinecolor": "#2a3f5f"
            },
            "type": "carpet"
           }
          ],
          "choropleth": [
           {
            "colorbar": {
             "outlinewidth": 0,
             "ticks": ""
            },
            "type": "choropleth"
           }
          ],
          "contour": [
           {
            "colorbar": {
             "outlinewidth": 0,
             "ticks": ""
            },
            "colorscale": [
             [
              0,
              "#0d0887"
             ],
             [
              0.1111111111111111,
              "#46039f"
             ],
             [
              0.2222222222222222,
              "#7201a8"
             ],
             [
              0.3333333333333333,
              "#9c179e"
             ],
             [
              0.4444444444444444,
              "#bd3786"
             ],
             [
              0.5555555555555556,
              "#d8576b"
             ],
             [
              0.6666666666666666,
              "#ed7953"
             ],
             [
              0.7777777777777778,
              "#fb9f3a"
             ],
             [
              0.8888888888888888,
              "#fdca26"
             ],
             [
              1,
              "#f0f921"
             ]
            ],
            "type": "contour"
           }
          ],
          "contourcarpet": [
           {
            "colorbar": {
             "outlinewidth": 0,
             "ticks": ""
            },
            "type": "contourcarpet"
           }
          ],
          "heatmap": [
           {
            "colorbar": {
             "outlinewidth": 0,
             "ticks": ""
            },
            "colorscale": [
             [
              0,
              "#0d0887"
             ],
             [
              0.1111111111111111,
              "#46039f"
             ],
             [
              0.2222222222222222,
              "#7201a8"
             ],
             [
              0.3333333333333333,
              "#9c179e"
             ],
             [
              0.4444444444444444,
              "#bd3786"
             ],
             [
              0.5555555555555556,
              "#d8576b"
             ],
             [
              0.6666666666666666,
              "#ed7953"
             ],
             [
              0.7777777777777778,
              "#fb9f3a"
             ],
             [
              0.8888888888888888,
              "#fdca26"
             ],
             [
              1,
              "#f0f921"
             ]
            ],
            "type": "heatmap"
           }
          ],
          "heatmapgl": [
           {
            "colorbar": {
             "outlinewidth": 0,
             "ticks": ""
            },
            "colorscale": [
             [
              0,
              "#0d0887"
             ],
             [
              0.1111111111111111,
              "#46039f"
             ],
             [
              0.2222222222222222,
              "#7201a8"
             ],
             [
              0.3333333333333333,
              "#9c179e"
             ],
             [
              0.4444444444444444,
              "#bd3786"
             ],
             [
              0.5555555555555556,
              "#d8576b"
             ],
             [
              0.6666666666666666,
              "#ed7953"
             ],
             [
              0.7777777777777778,
              "#fb9f3a"
             ],
             [
              0.8888888888888888,
              "#fdca26"
             ],
             [
              1,
              "#f0f921"
             ]
            ],
            "type": "heatmapgl"
           }
          ],
          "histogram": [
           {
            "marker": {
             "pattern": {
              "fillmode": "overlay",
              "size": 10,
              "solidity": 0.2
             }
            },
            "type": "histogram"
           }
          ],
          "histogram2d": [
           {
            "colorbar": {
             "outlinewidth": 0,
             "ticks": ""
            },
            "colorscale": [
             [
              0,
              "#0d0887"
             ],
             [
              0.1111111111111111,
              "#46039f"
             ],
             [
              0.2222222222222222,
              "#7201a8"
             ],
             [
              0.3333333333333333,
              "#9c179e"
             ],
             [
              0.4444444444444444,
              "#bd3786"
             ],
             [
              0.5555555555555556,
              "#d8576b"
             ],
             [
              0.6666666666666666,
              "#ed7953"
             ],
             [
              0.7777777777777778,
              "#fb9f3a"
             ],
             [
              0.8888888888888888,
              "#fdca26"
             ],
             [
              1,
              "#f0f921"
             ]
            ],
            "type": "histogram2d"
           }
          ],
          "histogram2dcontour": [
           {
            "colorbar": {
             "outlinewidth": 0,
             "ticks": ""
            },
            "colorscale": [
             [
              0,
              "#0d0887"
             ],
             [
              0.1111111111111111,
              "#46039f"
             ],
             [
              0.2222222222222222,
              "#7201a8"
             ],
             [
              0.3333333333333333,
              "#9c179e"
             ],
             [
              0.4444444444444444,
              "#bd3786"
             ],
             [
              0.5555555555555556,
              "#d8576b"
             ],
             [
              0.6666666666666666,
              "#ed7953"
             ],
             [
              0.7777777777777778,
              "#fb9f3a"
             ],
             [
              0.8888888888888888,
              "#fdca26"
             ],
             [
              1,
              "#f0f921"
             ]
            ],
            "type": "histogram2dcontour"
           }
          ],
          "mesh3d": [
           {
            "colorbar": {
             "outlinewidth": 0,
             "ticks": ""
            },
            "type": "mesh3d"
           }
          ],
          "parcoords": [
           {
            "line": {
             "colorbar": {
              "outlinewidth": 0,
              "ticks": ""
             }
            },
            "type": "parcoords"
           }
          ],
          "pie": [
           {
            "automargin": true,
            "type": "pie"
           }
          ],
          "scatter": [
           {
            "fillpattern": {
             "fillmode": "overlay",
             "size": 10,
             "solidity": 0.2
            },
            "type": "scatter"
           }
          ],
          "scatter3d": [
           {
            "line": {
             "colorbar": {
              "outlinewidth": 0,
              "ticks": ""
             }
            },
            "marker": {
             "colorbar": {
              "outlinewidth": 0,
              "ticks": ""
             }
            },
            "type": "scatter3d"
           }
          ],
          "scattercarpet": [
           {
            "marker": {
             "colorbar": {
              "outlinewidth": 0,
              "ticks": ""
             }
            },
            "type": "scattercarpet"
           }
          ],
          "scattergeo": [
           {
            "marker": {
             "colorbar": {
              "outlinewidth": 0,
              "ticks": ""
             }
            },
            "type": "scattergeo"
           }
          ],
          "scattergl": [
           {
            "marker": {
             "colorbar": {
              "outlinewidth": 0,
              "ticks": ""
             }
            },
            "type": "scattergl"
           }
          ],
          "scattermapbox": [
           {
            "marker": {
             "colorbar": {
              "outlinewidth": 0,
              "ticks": ""
             }
            },
            "type": "scattermapbox"
           }
          ],
          "scatterpolar": [
           {
            "marker": {
             "colorbar": {
              "outlinewidth": 0,
              "ticks": ""
             }
            },
            "type": "scatterpolar"
           }
          ],
          "scatterpolargl": [
           {
            "marker": {
             "colorbar": {
              "outlinewidth": 0,
              "ticks": ""
             }
            },
            "type": "scatterpolargl"
           }
          ],
          "scatterternary": [
           {
            "marker": {
             "colorbar": {
              "outlinewidth": 0,
              "ticks": ""
             }
            },
            "type": "scatterternary"
           }
          ],
          "surface": [
           {
            "colorbar": {
             "outlinewidth": 0,
             "ticks": ""
            },
            "colorscale": [
             [
              0,
              "#0d0887"
             ],
             [
              0.1111111111111111,
              "#46039f"
             ],
             [
              0.2222222222222222,
              "#7201a8"
             ],
             [
              0.3333333333333333,
              "#9c179e"
             ],
             [
              0.4444444444444444,
              "#bd3786"
             ],
             [
              0.5555555555555556,
              "#d8576b"
             ],
             [
              0.6666666666666666,
              "#ed7953"
             ],
             [
              0.7777777777777778,
              "#fb9f3a"
             ],
             [
              0.8888888888888888,
              "#fdca26"
             ],
             [
              1,
              "#f0f921"
             ]
            ],
            "type": "surface"
           }
          ],
          "table": [
           {
            "cells": {
             "fill": {
              "color": "#EBF0F8"
             },
             "line": {
              "color": "white"
             }
            },
            "header": {
             "fill": {
              "color": "#C8D4E3"
             },
             "line": {
              "color": "white"
             }
            },
            "type": "table"
           }
          ]
         },
         "layout": {
          "annotationdefaults": {
           "arrowcolor": "#2a3f5f",
           "arrowhead": 0,
           "arrowwidth": 1
          },
          "autotypenumbers": "strict",
          "coloraxis": {
           "colorbar": {
            "outlinewidth": 0,
            "ticks": ""
           }
          },
          "colorscale": {
           "diverging": [
            [
             0,
             "#8e0152"
            ],
            [
             0.1,
             "#c51b7d"
            ],
            [
             0.2,
             "#de77ae"
            ],
            [
             0.3,
             "#f1b6da"
            ],
            [
             0.4,
             "#fde0ef"
            ],
            [
             0.5,
             "#f7f7f7"
            ],
            [
             0.6,
             "#e6f5d0"
            ],
            [
             0.7,
             "#b8e186"
            ],
            [
             0.8,
             "#7fbc41"
            ],
            [
             0.9,
             "#4d9221"
            ],
            [
             1,
             "#276419"
            ]
           ],
           "sequential": [
            [
             0,
             "#0d0887"
            ],
            [
             0.1111111111111111,
             "#46039f"
            ],
            [
             0.2222222222222222,
             "#7201a8"
            ],
            [
             0.3333333333333333,
             "#9c179e"
            ],
            [
             0.4444444444444444,
             "#bd3786"
            ],
            [
             0.5555555555555556,
             "#d8576b"
            ],
            [
             0.6666666666666666,
             "#ed7953"
            ],
            [
             0.7777777777777778,
             "#fb9f3a"
            ],
            [
             0.8888888888888888,
             "#fdca26"
            ],
            [
             1,
             "#f0f921"
            ]
           ],
           "sequentialminus": [
            [
             0,
             "#0d0887"
            ],
            [
             0.1111111111111111,
             "#46039f"
            ],
            [
             0.2222222222222222,
             "#7201a8"
            ],
            [
             0.3333333333333333,
             "#9c179e"
            ],
            [
             0.4444444444444444,
             "#bd3786"
            ],
            [
             0.5555555555555556,
             "#d8576b"
            ],
            [
             0.6666666666666666,
             "#ed7953"
            ],
            [
             0.7777777777777778,
             "#fb9f3a"
            ],
            [
             0.8888888888888888,
             "#fdca26"
            ],
            [
             1,
             "#f0f921"
            ]
           ]
          },
          "colorway": [
           "#636efa",
           "#EF553B",
           "#00cc96",
           "#ab63fa",
           "#FFA15A",
           "#19d3f3",
           "#FF6692",
           "#B6E880",
           "#FF97FF",
           "#FECB52"
          ],
          "font": {
           "color": "#2a3f5f"
          },
          "geo": {
           "bgcolor": "white",
           "lakecolor": "white",
           "landcolor": "#E5ECF6",
           "showlakes": true,
           "showland": true,
           "subunitcolor": "white"
          },
          "hoverlabel": {
           "align": "left"
          },
          "hovermode": "closest",
          "mapbox": {
           "style": "light"
          },
          "paper_bgcolor": "white",
          "plot_bgcolor": "#E5ECF6",
          "polar": {
           "angularaxis": {
            "gridcolor": "white",
            "linecolor": "white",
            "ticks": ""
           },
           "bgcolor": "#E5ECF6",
           "radialaxis": {
            "gridcolor": "white",
            "linecolor": "white",
            "ticks": ""
           }
          },
          "scene": {
           "xaxis": {
            "backgroundcolor": "#E5ECF6",
            "gridcolor": "white",
            "gridwidth": 2,
            "linecolor": "white",
            "showbackground": true,
            "ticks": "",
            "zerolinecolor": "white"
           },
           "yaxis": {
            "backgroundcolor": "#E5ECF6",
            "gridcolor": "white",
            "gridwidth": 2,
            "linecolor": "white",
            "showbackground": true,
            "ticks": "",
            "zerolinecolor": "white"
           },
           "zaxis": {
            "backgroundcolor": "#E5ECF6",
            "gridcolor": "white",
            "gridwidth": 2,
            "linecolor": "white",
            "showbackground": true,
            "ticks": "",
            "zerolinecolor": "white"
           }
          },
          "shapedefaults": {
           "line": {
            "color": "#2a3f5f"
           }
          },
          "ternary": {
           "aaxis": {
            "gridcolor": "white",
            "linecolor": "white",
            "ticks": ""
           },
           "baxis": {
            "gridcolor": "white",
            "linecolor": "white",
            "ticks": ""
           },
           "bgcolor": "#E5ECF6",
           "caxis": {
            "gridcolor": "white",
            "linecolor": "white",
            "ticks": ""
           }
          },
          "title": {
           "x": 0.05
          },
          "xaxis": {
           "automargin": true,
           "gridcolor": "white",
           "linecolor": "white",
           "ticks": "",
           "title": {
            "standoff": 15
           },
           "zerolinecolor": "white",
           "zerolinewidth": 2
          },
          "yaxis": {
           "automargin": true,
           "gridcolor": "white",
           "linecolor": "white",
           "ticks": "",
           "title": {
            "standoff": 15
           },
           "zerolinecolor": "white",
           "zerolinewidth": 2
          }
         }
        },
        "xaxis": {
         "anchor": "y",
         "categoryarray": [
          "United States",
          "India",
          "Brazil",
          "Russia",
          "United Kingdom",
          "France",
          "Turkey",
          "Italy",
          "Spain",
          "Argentina",
          "Germany",
          "Colombia",
          "Mexico",
          "Poland",
          "Iran",
          "South Africa",
          "Peru",
          "Ukraine",
          "Netherlands",
          "Indonesia",
          "Czechia",
          "Belgium",
          "Romania",
          "Chile",
          "Iraq",
          "Canada",
          "Bangladesh",
          "Pakistan",
          "Philippines",
          "Switzerland",
          "Sweden",
          "Morocco",
          "Israel",
          "Portugal",
          "Saudi Arabia",
          "Austria",
          "Serbia",
          "Hungary",
          "Jordan",
          "Nepal",
          "Panama",
          "Japan",
          "Georgia",
          "Azerbaijan",
          "Ecuador",
          "Croatia",
          "United Arab Emirates",
          "Kazakhstan",
          "Bulgaria",
          "Belarus",
          "Slovakia",
          "Lebanon",
          "Dominican Republic",
          "Costa Rica",
          "Denmark",
          "Armenia",
          "Bolivia",
          "Palestine",
          "Kuwait",
          "Lithuania",
          "Moldova",
          "Qatar",
          "Greece",
          "Tunisia",
          "Guatemala",
          "Egypt",
          "Oman",
          "Myanmar",
          "Ethiopia",
          "Honduras",
          "Slovenia",
          "Venezuela",
          "Bosnia and Herzegovina",
          "Malaysia",
          "Paraguay",
          "Libya",
          "Algeria",
          "China",
          "Kenya",
          "Bahrain",
          "Ireland",
          "Nigeria",
          "Puerto Rico",
          "North Macedonia",
          "South Korea",
          "Singapore",
          "Albania",
          "Ghana",
          "Afghanistan",
          "Kosovo",
          "Norway",
          "El Salvador",
          "Sri Lanka",
          "Luxembourg",
          "Latvia",
          "Finland",
          "Uganda",
          "Montenegro",
          "Estonia",
          "Australia",
          "Cameroon",
          "Sudan",
          "Namibia",
          "Cyprus",
          "Cote d'Ivoire",
          "Zambia",
          "Senegal",
          "Mozambique",
          "Uruguay",
          "Madagascar",
          "Democratic Republic of Congo",
          "Angola",
          "French Polynesia",
          "Botswana",
          "Mauritania",
          "Maldives",
          "Guinea",
          "Tajikistan",
          "Zimbabwe",
          "French Guiana",
          "Jamaica",
          "Malta",
          "Cape Verde",
          "Cuba",
          "Syria",
          "Belize",
          "Haiti",
          "Gabon",
          "Eswatini",
          "Reunion",
          "Guadeloupe",
          "Rwanda",
          "Andorra",
          "Bahamas",
          "Trinidad and Tobago",
          "Guam",
          "Mali",
          "Thailand",
          "Burkina Faso",
          "Malawi",
          "Congo",
          "Guyana",
          "Suriname",
          "Martinique",
          "Mayotte",
          "Djibouti",
          "Central African Republic",
          "Iceland",
          "Aruba",
          "Equatorial Guinea",
          "Nicaragua",
          "Somalia",
          "Curacao",
          "Gambia",
          "Togo",
          "South Sudan",
          "Benin",
          "Niger",
          "Jersey",
          "Sierra Leone",
          "Lesotho",
          "Guinea-Bissau",
          "San Marino",
          "Liechtenstein",
          "Yemen",
          "Chad",
          "United States Virgin Islands",
          "Liberia",
          "New Zealand",
          "Gibraltar",
          "Vietnam",
          "Sint Maarten (Dutch part)",
          "Eritrea",
          "Mongolia",
          "Sao Tome and Principe",
          "Saint Martin (French part)",
          "Turks and Caicos Islands",
          "Burundi",
          "Papua New Guinea",
          "Monaco",
          "Comoros",
          "Bhutan",
          "Faeroe Islands",
          "Bermuda",
          "Mauritius",
          "Tanzania",
          "Isle of Man",
          "Barbados",
          "Cambodia",
          "Saint Lucia",
          "Cayman Islands",
          "Guernsey",
          "Seychelles",
          "Saint Barthelemy",
          "Bonaire Sint Eustatius and Saba",
          "Antigua and Barbuda",
          "Brunei",
          "Grenada",
          "Northern Mariana Islands",
          "Saint Vincent and the Grenadines",
          "Dominica",
          "British Virgin Islands",
          "Fiji",
          "Timor",
          "Laos",
          "New Caledonia",
          "Saint Kitts and Nevis",
          "Falkland Islands",
          "Greenland",
          "Vatican",
          "Solomon Islands",
          "Saint Pierre and Miquelon",
          "Anguilla",
          "Montserrat",
          "Uzbekistan",
          "Wallis and Futuna",
          "Marshall Islands",
          "Vanuatu",
          "Samoa",
          "American Samoa",
          "Cook Islands",
          "England",
          "Hong Kong",
          "Kiribati",
          "Kyrgyzstan",
          "Micronesia (country)",
          "Nauru",
          "Niue",
          "North Korea",
          "Northern Ireland",
          "Palau",
          "Pitcairn",
          "Saint Helena",
          "Scotland",
          "Taiwan",
          "Tokelau",
          "Tonga",
          "Turkmenistan",
          "Tuvalu",
          "Wales"
         ],
         "categoryorder": "array",
         "domain": [
          0,
          1
         ],
         "title": {
          "text": "location"
         }
        },
        "yaxis": {
         "anchor": "x",
         "domain": [
          0,
          1
         ],
         "title": {
          "text": "total_cases"
         }
        }
       }
      }
     },
     "metadata": {},
     "output_type": "display_data"
    }
   ],
   "source": [
    "fig=px.bar(grouped_df,x='location',y='total_cases',color='location',text='total_cases',height=600)\n",
    "fig.update_traces(textposition='outside')\n",
    "fig\n",
    "#loc=data_2020['location'].unique()"
   ]
  },
  {
   "cell_type": "markdown",
   "metadata": {},
   "source": [
    "countries who got most of new cases of covid19 in 2020"
   ]
  },
  {
   "cell_type": "code",
   "execution_count": 12,
   "metadata": {},
   "outputs": [
    {
     "data": {
      "text/html": [
       "<div>\n",
       "<style scoped>\n",
       "    .dataframe tbody tr th:only-of-type {\n",
       "        vertical-align: middle;\n",
       "    }\n",
       "\n",
       "    .dataframe tbody tr th {\n",
       "        vertical-align: top;\n",
       "    }\n",
       "\n",
       "    .dataframe thead th {\n",
       "        text-align: right;\n",
       "    }\n",
       "</style>\n",
       "<table border=\"1\" class=\"dataframe\">\n",
       "  <thead>\n",
       "    <tr style=\"text-align: right;\">\n",
       "      <th></th>\n",
       "      <th>location</th>\n",
       "      <th>new_cases</th>\n",
       "    </tr>\n",
       "  </thead>\n",
       "  <tbody>\n",
       "    <tr>\n",
       "      <th>72</th>\n",
       "      <td>France</td>\n",
       "      <td>332505.0</td>\n",
       "    </tr>\n",
       "    <tr>\n",
       "      <th>227</th>\n",
       "      <td>United States</td>\n",
       "      <td>246505.0</td>\n",
       "    </tr>\n",
       "    <tr>\n",
       "      <th>78</th>\n",
       "      <td>Germany</td>\n",
       "      <td>174589.0</td>\n",
       "    </tr>\n",
       "    <tr>\n",
       "      <th>202</th>\n",
       "      <td>Spain</td>\n",
       "      <td>144877.0</td>\n",
       "    </tr>\n",
       "    <tr>\n",
       "      <th>96</th>\n",
       "      <td>India</td>\n",
       "      <td>97894.0</td>\n",
       "    </tr>\n",
       "    <tr>\n",
       "      <th>...</th>\n",
       "      <td>...</td>\n",
       "      <td>...</td>\n",
       "    </tr>\n",
       "    <tr>\n",
       "      <th>93</th>\n",
       "      <td>Hong Kong</td>\n",
       "      <td>NaN</td>\n",
       "    </tr>\n",
       "    <tr>\n",
       "      <th>156</th>\n",
       "      <td>Northern Ireland</td>\n",
       "      <td>NaN</td>\n",
       "    </tr>\n",
       "    <tr>\n",
       "      <th>188</th>\n",
       "      <td>Scotland</td>\n",
       "      <td>NaN</td>\n",
       "    </tr>\n",
       "    <tr>\n",
       "      <th>209</th>\n",
       "      <td>Taiwan</td>\n",
       "      <td>NaN</td>\n",
       "    </tr>\n",
       "    <tr>\n",
       "      <th>235</th>\n",
       "      <td>Wales</td>\n",
       "      <td>NaN</td>\n",
       "    </tr>\n",
       "  </tbody>\n",
       "</table>\n",
       "<p>240 rows × 2 columns</p>\n",
       "</div>"
      ],
      "text/plain": [
       "             location  new_cases\n",
       "72             France   332505.0\n",
       "227     United States   246505.0\n",
       "78            Germany   174589.0\n",
       "202             Spain   144877.0\n",
       "96              India    97894.0\n",
       "..                ...        ...\n",
       "93          Hong Kong        NaN\n",
       "156  Northern Ireland        NaN\n",
       "188          Scotland        NaN\n",
       "209            Taiwan        NaN\n",
       "235             Wales        NaN\n",
       "\n",
       "[240 rows x 2 columns]"
      ]
     },
     "execution_count": 12,
     "metadata": {},
     "output_type": "execute_result"
    }
   ],
   "source": [
    "exclude_values = ['Lower middle income','Low income','European Union','World','Asia','Africa','High income','Europe','North America','South America','Upper middle income','Oceania']\n",
    "filtered_df = data_2020[~data_2020['location'].isin(exclude_values)]\n",
    "\n",
    "grouped_df = filtered_df.groupby('location')['new_cases'].max().reset_index().sort_values(by='new_cases',ascending=False)\n",
    "grouped_df"
   ]
  },
  {
   "cell_type": "code",
   "execution_count": 13,
   "metadata": {},
   "outputs": [
    {
     "data": {
      "application/vnd.plotly.v1+json": {
       "config": {
        "plotlyServerURL": "https://plot.ly"
       },
       "data": [
        {
         "alignmentgroup": "True",
         "hovertemplate": "location=%{x}<br>new_cases=%{text}<extra></extra>",
         "legendgroup": "France",
         "marker": {
          "color": "#636efa",
          "pattern": {
           "shape": ""
          }
         },
         "name": "France",
         "offsetgroup": "France",
         "orientation": "v",
         "showlegend": true,
         "text": [
          332505
         ],
         "textposition": "outside",
         "type": "bar",
         "x": [
          "France"
         ],
         "xaxis": "x",
         "y": [
          332505
         ],
         "yaxis": "y"
        },
        {
         "alignmentgroup": "True",
         "hovertemplate": "location=%{x}<br>new_cases=%{text}<extra></extra>",
         "legendgroup": "United States",
         "marker": {
          "color": "#EF553B",
          "pattern": {
           "shape": ""
          }
         },
         "name": "United States",
         "offsetgroup": "United States",
         "orientation": "v",
         "showlegend": true,
         "text": [
          246505
         ],
         "textposition": "outside",
         "type": "bar",
         "x": [
          "United States"
         ],
         "xaxis": "x",
         "y": [
          246505
         ],
         "yaxis": "y"
        },
        {
         "alignmentgroup": "True",
         "hovertemplate": "location=%{x}<br>new_cases=%{text}<extra></extra>",
         "legendgroup": "Germany",
         "marker": {
          "color": "#00cc96",
          "pattern": {
           "shape": ""
          }
         },
         "name": "Germany",
         "offsetgroup": "Germany",
         "orientation": "v",
         "showlegend": true,
         "text": [
          174589
         ],
         "textposition": "outside",
         "type": "bar",
         "x": [
          "Germany"
         ],
         "xaxis": "x",
         "y": [
          174589
         ],
         "yaxis": "y"
        },
        {
         "alignmentgroup": "True",
         "hovertemplate": "location=%{x}<br>new_cases=%{text}<extra></extra>",
         "legendgroup": "Spain",
         "marker": {
          "color": "#ab63fa",
          "pattern": {
           "shape": ""
          }
         },
         "name": "Spain",
         "offsetgroup": "Spain",
         "orientation": "v",
         "showlegend": true,
         "text": [
          144877
         ],
         "textposition": "outside",
         "type": "bar",
         "x": [
          "Spain"
         ],
         "xaxis": "x",
         "y": [
          144877
         ],
         "yaxis": "y"
        },
        {
         "alignmentgroup": "True",
         "hovertemplate": "location=%{x}<br>new_cases=%{text}<extra></extra>",
         "legendgroup": "India",
         "marker": {
          "color": "#FFA15A",
          "pattern": {
           "shape": ""
          }
         },
         "name": "India",
         "offsetgroup": "India",
         "orientation": "v",
         "showlegend": true,
         "text": [
          97894
         ],
         "textposition": "outside",
         "type": "bar",
         "x": [
          "India"
         ],
         "xaxis": "x",
         "y": [
          97894
         ],
         "yaxis": "y"
        },
        {
         "alignmentgroup": "True",
         "hovertemplate": "location=%{x}<br>new_cases=%{text}<extra></extra>",
         "legendgroup": "Ukraine",
         "marker": {
          "color": "#19d3f3",
          "pattern": {
           "shape": ""
          }
         },
         "name": "Ukraine",
         "offsetgroup": "Ukraine",
         "orientation": "v",
         "showlegend": true,
         "text": [
          95555
         ],
         "textposition": "outside",
         "type": "bar",
         "x": [
          "Ukraine"
         ],
         "xaxis": "x",
         "y": [
          95555
         ],
         "yaxis": "y"
        },
        {
         "alignmentgroup": "True",
         "hovertemplate": "location=%{x}<br>new_cases=%{text}<extra></extra>",
         "legendgroup": "United Kingdom",
         "marker": {
          "color": "#FF6692",
          "pattern": {
           "shape": ""
          }
         },
         "name": "United Kingdom",
         "offsetgroup": "United Kingdom",
         "orientation": "v",
         "showlegend": true,
         "text": [
          83090
         ],
         "textposition": "outside",
         "type": "bar",
         "x": [
          "United Kingdom"
         ],
         "xaxis": "x",
         "y": [
          83090
         ],
         "yaxis": "y"
        },
        {
         "alignmentgroup": "True",
         "hovertemplate": "location=%{x}<br>new_cases=%{text}<extra></extra>",
         "legendgroup": "Netherlands",
         "marker": {
          "color": "#B6E880",
          "pattern": {
           "shape": ""
          }
         },
         "name": "Netherlands",
         "offsetgroup": "Netherlands",
         "orientation": "v",
         "showlegend": true,
         "text": [
          78088
         ],
         "textposition": "outside",
         "type": "bar",
         "x": [
          "Netherlands"
         ],
         "xaxis": "x",
         "y": [
          78088
         ],
         "yaxis": "y"
        },
        {
         "alignmentgroup": "True",
         "hovertemplate": "location=%{x}<br>new_cases=%{text}<extra></extra>",
         "legendgroup": "Brazil",
         "marker": {
          "color": "#FF97FF",
          "pattern": {
           "shape": ""
          }
         },
         "name": "Brazil",
         "offsetgroup": "Brazil",
         "orientation": "v",
         "showlegend": true,
         "text": [
          70574
         ],
         "textposition": "outside",
         "type": "bar",
         "x": [
          "Brazil"
         ],
         "xaxis": "x",
         "y": [
          70574
         ],
         "yaxis": "y"
        },
        {
         "alignmentgroup": "True",
         "hovertemplate": "location=%{x}<br>new_cases=%{text}<extra></extra>",
         "legendgroup": "Italy",
         "marker": {
          "color": "#FECB52",
          "pattern": {
           "shape": ""
          }
         },
         "name": "Italy",
         "offsetgroup": "Italy",
         "orientation": "v",
         "showlegend": true,
         "text": [
          40902
         ],
         "textposition": "outside",
         "type": "bar",
         "x": [
          "Italy"
         ],
         "xaxis": "x",
         "y": [
          40902
         ],
         "yaxis": "y"
        },
        {
         "alignmentgroup": "True",
         "hovertemplate": "location=%{x}<br>new_cases=%{text}<extra></extra>",
         "legendgroup": "Portugal",
         "marker": {
          "color": "#636efa",
          "pattern": {
           "shape": ""
          }
         },
         "name": "Portugal",
         "offsetgroup": "Portugal",
         "orientation": "v",
         "showlegend": true,
         "text": [
          36898
         ],
         "textposition": "outside",
         "type": "bar",
         "x": [
          "Portugal"
         ],
         "xaxis": "x",
         "y": [
          36898
         ],
         "yaxis": "y"
        },
        {
         "alignmentgroup": "True",
         "hovertemplate": "location=%{x}<br>new_cases=%{text}<extra></extra>",
         "legendgroup": "Chile",
         "marker": {
          "color": "#EF553B",
          "pattern": {
           "shape": ""
          }
         },
         "name": "Chile",
         "offsetgroup": "Chile",
         "orientation": "v",
         "showlegend": true,
         "text": [
          36179
         ],
         "textposition": "outside",
         "type": "bar",
         "x": [
          "Chile"
         ],
         "xaxis": "x",
         "y": [
          36179
         ],
         "yaxis": "y"
        },
        {
         "alignmentgroup": "True",
         "hovertemplate": "location=%{x}<br>new_cases=%{text}<extra></extra>",
         "legendgroup": "Turkey",
         "marker": {
          "color": "#00cc96",
          "pattern": {
           "shape": ""
          }
         },
         "name": "Turkey",
         "offsetgroup": "Turkey",
         "orientation": "v",
         "showlegend": true,
         "text": [
          33198
         ],
         "textposition": "outside",
         "type": "bar",
         "x": [
          "Turkey"
         ],
         "xaxis": "x",
         "y": [
          33198
         ],
         "yaxis": "y"
        },
        {
         "alignmentgroup": "True",
         "hovertemplate": "location=%{x}<br>new_cases=%{text}<extra></extra>",
         "legendgroup": "Russia",
         "marker": {
          "color": "#ab63fa",
          "pattern": {
           "shape": ""
          }
         },
         "name": "Russia",
         "offsetgroup": "Russia",
         "orientation": "v",
         "showlegend": true,
         "text": [
          29935
         ],
         "textposition": "outside",
         "type": "bar",
         "x": [
          "Russia"
         ],
         "xaxis": "x",
         "y": [
          29935
         ],
         "yaxis": "y"
        },
        {
         "alignmentgroup": "True",
         "hovertemplate": "location=%{x}<br>new_cases=%{text}<extra></extra>",
         "legendgroup": "Poland",
         "marker": {
          "color": "#FFA15A",
          "pattern": {
           "shape": ""
          }
         },
         "name": "Poland",
         "offsetgroup": "Poland",
         "orientation": "v",
         "showlegend": true,
         "text": [
          29875
         ],
         "textposition": "outside",
         "type": "bar",
         "x": [
          "Poland"
         ],
         "xaxis": "x",
         "y": [
          29875
         ],
         "yaxis": "y"
        },
        {
         "alignmentgroup": "True",
         "hovertemplate": "location=%{x}<br>new_cases=%{text}<extra></extra>",
         "legendgroup": "Bulgaria",
         "marker": {
          "color": "#19d3f3",
          "pattern": {
           "shape": ""
          }
         },
         "name": "Bulgaria",
         "offsetgroup": "Bulgaria",
         "orientation": "v",
         "showlegend": true,
         "text": [
          23262
         ],
         "textposition": "outside",
         "type": "bar",
         "x": [
          "Bulgaria"
         ],
         "xaxis": "x",
         "y": [
          23262
         ],
         "yaxis": "y"
        },
        {
         "alignmentgroup": "True",
         "hovertemplate": "location=%{x}<br>new_cases=%{text}<extra></extra>",
         "legendgroup": "Belgium",
         "marker": {
          "color": "#FF6692",
          "pattern": {
           "shape": ""
          }
         },
         "name": "Belgium",
         "offsetgroup": "Belgium",
         "orientation": "v",
         "showlegend": true,
         "text": [
          22128
         ],
         "textposition": "outside",
         "type": "bar",
         "x": [
          "Belgium"
         ],
         "xaxis": "x",
         "y": [
          22128
         ],
         "yaxis": "y"
        },
        {
         "alignmentgroup": "True",
         "hovertemplate": "location=%{x}<br>new_cases=%{text}<extra></extra>",
         "legendgroup": "Greece",
         "marker": {
          "color": "#B6E880",
          "pattern": {
           "shape": ""
          }
         },
         "name": "Greece",
         "offsetgroup": "Greece",
         "orientation": "v",
         "showlegend": true,
         "text": [
          18934
         ],
         "textposition": "outside",
         "type": "bar",
         "x": [
          "Greece"
         ],
         "xaxis": "x",
         "y": [
          18934
         ],
         "yaxis": "y"
        },
        {
         "alignmentgroup": "True",
         "hovertemplate": "location=%{x}<br>new_cases=%{text}<extra></extra>",
         "legendgroup": "South Africa",
         "marker": {
          "color": "#FF97FF",
          "pattern": {
           "shape": ""
          }
         },
         "name": "South Africa",
         "offsetgroup": "South Africa",
         "orientation": "v",
         "showlegend": true,
         "text": [
          17710
         ],
         "textposition": "outside",
         "type": "bar",
         "x": [
          "South Africa"
         ],
         "xaxis": "x",
         "y": [
          17710
         ],
         "yaxis": "y"
        },
        {
         "alignmentgroup": "True",
         "hovertemplate": "location=%{x}<br>new_cases=%{text}<extra></extra>",
         "legendgroup": "Czechia",
         "marker": {
          "color": "#FECB52",
          "pattern": {
           "shape": ""
          }
         },
         "name": "Czechia",
         "offsetgroup": "Czechia",
         "orientation": "v",
         "showlegend": true,
         "text": [
          17231
         ],
         "textposition": "outside",
         "type": "bar",
         "x": [
          "Czechia"
         ],
         "xaxis": "x",
         "y": [
          17231
         ],
         "yaxis": "y"
        },
        {
         "alignmentgroup": "True",
         "hovertemplate": "location=%{x}<br>new_cases=%{text}<extra></extra>",
         "legendgroup": "Argentina",
         "marker": {
          "color": "#636efa",
          "pattern": {
           "shape": ""
          }
         },
         "name": "Argentina",
         "offsetgroup": "Argentina",
         "orientation": "v",
         "showlegend": true,
         "text": [
          17058
         ],
         "textposition": "outside",
         "type": "bar",
         "x": [
          "Argentina"
         ],
         "xaxis": "x",
         "y": [
          17058
         ],
         "yaxis": "y"
        },
        {
         "alignmentgroup": "True",
         "hovertemplate": "location=%{x}<br>new_cases=%{text}<extra></extra>",
         "legendgroup": "Mexico",
         "marker": {
          "color": "#EF553B",
          "pattern": {
           "shape": ""
          }
         },
         "name": "Mexico",
         "offsetgroup": "Mexico",
         "orientation": "v",
         "showlegend": true,
         "text": [
          16224
         ],
         "textposition": "outside",
         "type": "bar",
         "x": [
          "Mexico"
         ],
         "xaxis": "x",
         "y": [
          16224
         ],
         "yaxis": "y"
        },
        {
         "alignmentgroup": "True",
         "hovertemplate": "location=%{x}<br>new_cases=%{text}<extra></extra>",
         "legendgroup": "China",
         "marker": {
          "color": "#00cc96",
          "pattern": {
           "shape": ""
          }
         },
         "name": "China",
         "offsetgroup": "China",
         "orientation": "v",
         "showlegend": true,
         "text": [
          15152
         ],
         "textposition": "outside",
         "type": "bar",
         "x": [
          "China"
         ],
         "xaxis": "x",
         "y": [
          15152
         ],
         "yaxis": "y"
        },
        {
         "alignmentgroup": "True",
         "hovertemplate": "location=%{x}<br>new_cases=%{text}<extra></extra>",
         "legendgroup": "Colombia",
         "marker": {
          "color": "#ab63fa",
          "pattern": {
           "shape": ""
          }
         },
         "name": "Colombia",
         "offsetgroup": "Colombia",
         "orientation": "v",
         "showlegend": true,
         "text": [
          14941
         ],
         "textposition": "outside",
         "type": "bar",
         "x": [
          "Colombia"
         ],
         "xaxis": "x",
         "y": [
          14941
         ],
         "yaxis": "y"
        },
        {
         "alignmentgroup": "True",
         "hovertemplate": "location=%{x}<br>new_cases=%{text}<extra></extra>",
         "legendgroup": "Iran",
         "marker": {
          "color": "#FFA15A",
          "pattern": {
           "shape": ""
          }
         },
         "name": "Iran",
         "offsetgroup": "Iran",
         "orientation": "v",
         "showlegend": true,
         "text": [
          14051
         ],
         "textposition": "outside",
         "type": "bar",
         "x": [
          "Iran"
         ],
         "xaxis": "x",
         "y": [
          14051
         ],
         "yaxis": "y"
        },
        {
         "alignmentgroup": "True",
         "hovertemplate": "location=%{x}<br>new_cases=%{text}<extra></extra>",
         "legendgroup": "Slovenia",
         "marker": {
          "color": "#19d3f3",
          "pattern": {
           "shape": ""
          }
         },
         "name": "Slovenia",
         "offsetgroup": "Slovenia",
         "orientation": "v",
         "showlegend": true,
         "text": [
          12106
         ],
         "textposition": "outside",
         "type": "bar",
         "x": [
          "Slovenia"
         ],
         "xaxis": "x",
         "y": [
          12106
         ],
         "yaxis": "y"
        },
        {
         "alignmentgroup": "True",
         "hovertemplate": "location=%{x}<br>new_cases=%{text}<extra></extra>",
         "legendgroup": "Ecuador",
         "marker": {
          "color": "#FF6692",
          "pattern": {
           "shape": ""
          }
         },
         "name": "Ecuador",
         "offsetgroup": "Ecuador",
         "orientation": "v",
         "showlegend": true,
         "text": [
          11536
         ],
         "textposition": "outside",
         "type": "bar",
         "x": [
          "Ecuador"
         ],
         "xaxis": "x",
         "y": [
          11536
         ],
         "yaxis": "y"
        },
        {
         "alignmentgroup": "True",
         "hovertemplate": "location=%{x}<br>new_cases=%{text}<extra></extra>",
         "legendgroup": "Sweden",
         "marker": {
          "color": "#B6E880",
          "pattern": {
           "shape": ""
          }
         },
         "name": "Sweden",
         "offsetgroup": "Sweden",
         "orientation": "v",
         "showlegend": true,
         "text": [
          11376
         ],
         "textposition": "outside",
         "type": "bar",
         "x": [
          "Sweden"
         ],
         "xaxis": "x",
         "y": [
          11376
         ],
         "yaxis": "y"
        },
        {
         "alignmentgroup": "True",
         "hovertemplate": "location=%{x}<br>new_cases=%{text}<extra></extra>",
         "legendgroup": "Kazakhstan",
         "marker": {
          "color": "#FF97FF",
          "pattern": {
           "shape": ""
          }
         },
         "name": "Kazakhstan",
         "offsetgroup": "Kazakhstan",
         "orientation": "v",
         "showlegend": true,
         "text": [
          10897
         ],
         "textposition": "outside",
         "type": "bar",
         "x": [
          "Kazakhstan"
         ],
         "xaxis": "x",
         "y": [
          10897
         ],
         "yaxis": "y"
        },
        {
         "alignmentgroup": "True",
         "hovertemplate": "location=%{x}<br>new_cases=%{text}<extra></extra>",
         "legendgroup": "Switzerland",
         "marker": {
          "color": "#FECB52",
          "pattern": {
           "shape": ""
          }
         },
         "name": "Switzerland",
         "offsetgroup": "Switzerland",
         "orientation": "v",
         "showlegend": true,
         "text": [
          10517
         ],
         "textposition": "outside",
         "type": "bar",
         "x": [
          "Switzerland"
         ],
         "xaxis": "x",
         "y": [
          10517
         ],
         "yaxis": "y"
        },
        {
         "alignmentgroup": "True",
         "hovertemplate": "location=%{x}<br>new_cases=%{text}<extra></extra>",
         "legendgroup": "Romania",
         "marker": {
          "color": "#636efa",
          "pattern": {
           "shape": ""
          }
         },
         "name": "Romania",
         "offsetgroup": "Romania",
         "orientation": "v",
         "showlegend": true,
         "text": [
          10269
         ],
         "textposition": "outside",
         "type": "bar",
         "x": [
          "Romania"
         ],
         "xaxis": "x",
         "y": [
          10269
         ],
         "yaxis": "y"
        },
        {
         "alignmentgroup": "True",
         "hovertemplate": "location=%{x}<br>new_cases=%{text}<extra></extra>",
         "legendgroup": "Peru",
         "marker": {
          "color": "#EF553B",
          "pattern": {
           "shape": ""
          }
         },
         "name": "Peru",
         "offsetgroup": "Peru",
         "orientation": "v",
         "showlegend": true,
         "text": [
          10143
         ],
         "textposition": "outside",
         "type": "bar",
         "x": [
          "Peru"
         ],
         "xaxis": "x",
         "y": [
          10143
         ],
         "yaxis": "y"
        },
        {
         "alignmentgroup": "True",
         "hovertemplate": "location=%{x}<br>new_cases=%{text}<extra></extra>",
         "legendgroup": "Austria",
         "marker": {
          "color": "#00cc96",
          "pattern": {
           "shape": ""
          }
         },
         "name": "Austria",
         "offsetgroup": "Austria",
         "orientation": "v",
         "showlegend": true,
         "text": [
          9170
         ],
         "textposition": "outside",
         "type": "bar",
         "x": [
          "Austria"
         ],
         "xaxis": "x",
         "y": [
          9170
         ],
         "yaxis": "y"
        },
        {
         "alignmentgroup": "True",
         "hovertemplate": "location=%{x}<br>new_cases=%{text}<extra></extra>",
         "legendgroup": "Israel",
         "marker": {
          "color": "#ab63fa",
          "pattern": {
           "shape": ""
          }
         },
         "name": "Israel",
         "offsetgroup": "Israel",
         "orientation": "v",
         "showlegend": true,
         "text": [
          9051
         ],
         "textposition": "outside",
         "type": "bar",
         "x": [
          "Israel"
         ],
         "xaxis": "x",
         "y": [
          9051
         ],
         "yaxis": "y"
        },
        {
         "alignmentgroup": "True",
         "hovertemplate": "location=%{x}<br>new_cases=%{text}<extra></extra>",
         "legendgroup": "Indonesia",
         "marker": {
          "color": "#FFA15A",
          "pattern": {
           "shape": ""
          }
         },
         "name": "Indonesia",
         "offsetgroup": "Indonesia",
         "orientation": "v",
         "showlegend": true,
         "text": [
          8369
         ],
         "textposition": "outside",
         "type": "bar",
         "x": [
          "Indonesia"
         ],
         "xaxis": "x",
         "y": [
          8369
         ],
         "yaxis": "y"
        },
        {
         "alignmentgroup": "True",
         "hovertemplate": "location=%{x}<br>new_cases=%{text}<extra></extra>",
         "legendgroup": "Canada",
         "marker": {
          "color": "#19d3f3",
          "pattern": {
           "shape": ""
          }
         },
         "name": "Canada",
         "offsetgroup": "Canada",
         "orientation": "v",
         "showlegend": true,
         "text": [
          8129
         ],
         "textposition": "outside",
         "type": "bar",
         "x": [
          "Canada"
         ],
         "xaxis": "x",
         "y": [
          8129
         ],
         "yaxis": "y"
        },
        {
         "alignmentgroup": "True",
         "hovertemplate": "location=%{x}<br>new_cases=%{text}<extra></extra>",
         "legendgroup": "Serbia",
         "marker": {
          "color": "#FF6692",
          "pattern": {
           "shape": ""
          }
         },
         "name": "Serbia",
         "offsetgroup": "Serbia",
         "orientation": "v",
         "showlegend": true,
         "text": [
          7999
         ],
         "textposition": "outside",
         "type": "bar",
         "x": [
          "Serbia"
         ],
         "xaxis": "x",
         "y": [
          7999
         ],
         "yaxis": "y"
        },
        {
         "alignmentgroup": "True",
         "hovertemplate": "location=%{x}<br>new_cases=%{text}<extra></extra>",
         "legendgroup": "Jordan",
         "marker": {
          "color": "#B6E880",
          "pattern": {
           "shape": ""
          }
         },
         "name": "Jordan",
         "offsetgroup": "Jordan",
         "orientation": "v",
         "showlegend": true,
         "text": [
          7933
         ],
         "textposition": "outside",
         "type": "bar",
         "x": [
          "Jordan"
         ],
         "xaxis": "x",
         "y": [
          7933
         ],
         "yaxis": "y"
        },
        {
         "alignmentgroup": "True",
         "hovertemplate": "location=%{x}<br>new_cases=%{text}<extra></extra>",
         "legendgroup": "North Macedonia",
         "marker": {
          "color": "#FF97FF",
          "pattern": {
           "shape": ""
          }
         },
         "name": "North Macedonia",
         "offsetgroup": "North Macedonia",
         "orientation": "v",
         "showlegend": true,
         "text": [
          7483
         ],
         "textposition": "outside",
         "type": "bar",
         "x": [
          "North Macedonia"
         ],
         "xaxis": "x",
         "y": [
          7483
         ],
         "yaxis": "y"
        },
        {
         "alignmentgroup": "True",
         "hovertemplate": "location=%{x}<br>new_cases=%{text}<extra></extra>",
         "legendgroup": "Pakistan",
         "marker": {
          "color": "#FECB52",
          "pattern": {
           "shape": ""
          }
         },
         "name": "Pakistan",
         "offsetgroup": "Pakistan",
         "orientation": "v",
         "showlegend": true,
         "text": [
          6884
         ],
         "textposition": "outside",
         "type": "bar",
         "x": [
          "Pakistan"
         ],
         "xaxis": "x",
         "y": [
          6884
         ],
         "yaxis": "y"
        },
        {
         "alignmentgroup": "True",
         "hovertemplate": "location=%{x}<br>new_cases=%{text}<extra></extra>",
         "legendgroup": "Hungary",
         "marker": {
          "color": "#636efa",
          "pattern": {
           "shape": ""
          }
         },
         "name": "Hungary",
         "offsetgroup": "Hungary",
         "orientation": "v",
         "showlegend": true,
         "text": [
          6819
         ],
         "textposition": "outside",
         "type": "bar",
         "x": [
          "Hungary"
         ],
         "xaxis": "x",
         "y": [
          6819
         ],
         "yaxis": "y"
        },
        {
         "alignmentgroup": "True",
         "hovertemplate": "location=%{x}<br>new_cases=%{text}<extra></extra>",
         "legendgroup": "Philippines",
         "marker": {
          "color": "#EF553B",
          "pattern": {
           "shape": ""
          }
         },
         "name": "Philippines",
         "offsetgroup": "Philippines",
         "orientation": "v",
         "showlegend": true,
         "text": [
          6638
         ],
         "textposition": "outside",
         "type": "bar",
         "x": [
          "Philippines"
         ],
         "xaxis": "x",
         "y": [
          6638
         ],
         "yaxis": "y"
        },
        {
         "alignmentgroup": "True",
         "hovertemplate": "location=%{x}<br>new_cases=%{text}<extra></extra>",
         "legendgroup": "Slovakia",
         "marker": {
          "color": "#00cc96",
          "pattern": {
           "shape": ""
          }
         },
         "name": "Slovakia",
         "offsetgroup": "Slovakia",
         "orientation": "v",
         "showlegend": true,
         "text": [
          6315
         ],
         "textposition": "outside",
         "type": "bar",
         "x": [
          "Slovakia"
         ],
         "xaxis": "x",
         "y": [
          6315
         ],
         "yaxis": "y"
        },
        {
         "alignmentgroup": "True",
         "hovertemplate": "location=%{x}<br>new_cases=%{text}<extra></extra>",
         "legendgroup": "Morocco",
         "marker": {
          "color": "#ab63fa",
          "pattern": {
           "shape": ""
          }
         },
         "name": "Morocco",
         "offsetgroup": "Morocco",
         "orientation": "v",
         "showlegend": true,
         "text": [
          6195
         ],
         "textposition": "outside",
         "type": "bar",
         "x": [
          "Morocco"
         ],
         "xaxis": "x",
         "y": [
          6195
         ],
         "yaxis": "y"
        },
        {
         "alignmentgroup": "True",
         "hovertemplate": "location=%{x}<br>new_cases=%{text}<extra></extra>",
         "legendgroup": "Tunisia",
         "marker": {
          "color": "#FFA15A",
          "pattern": {
           "shape": ""
          }
         },
         "name": "Tunisia",
         "offsetgroup": "Tunisia",
         "orientation": "v",
         "showlegend": true,
         "text": [
          5752
         ],
         "textposition": "outside",
         "type": "bar",
         "x": [
          "Tunisia"
         ],
         "xaxis": "x",
         "y": [
          5752
         ],
         "yaxis": "y"
        },
        {
         "alignmentgroup": "True",
         "hovertemplate": "location=%{x}<br>new_cases=%{text}<extra></extra>",
         "legendgroup": "Nepal",
         "marker": {
          "color": "#19d3f3",
          "pattern": {
           "shape": ""
          }
         },
         "name": "Nepal",
         "offsetgroup": "Nepal",
         "orientation": "v",
         "showlegend": true,
         "text": [
          5743
         ],
         "textposition": "outside",
         "type": "bar",
         "x": [
          "Nepal"
         ],
         "xaxis": "x",
         "y": [
          5743
         ],
         "yaxis": "y"
        },
        {
         "alignmentgroup": "True",
         "hovertemplate": "location=%{x}<br>new_cases=%{text}<extra></extra>",
         "legendgroup": "Estonia",
         "marker": {
          "color": "#FF6692",
          "pattern": {
           "shape": ""
          }
         },
         "name": "Estonia",
         "offsetgroup": "Estonia",
         "orientation": "v",
         "showlegend": true,
         "text": [
          5570
         ],
         "textposition": "outside",
         "type": "bar",
         "x": [
          "Estonia"
         ],
         "xaxis": "x",
         "y": [
          5570
         ],
         "yaxis": "y"
        },
        {
         "alignmentgroup": "True",
         "hovertemplate": "location=%{x}<br>new_cases=%{text}<extra></extra>",
         "legendgroup": "Georgia",
         "marker": {
          "color": "#B6E880",
          "pattern": {
           "shape": ""
          }
         },
         "name": "Georgia",
         "offsetgroup": "Georgia",
         "orientation": "v",
         "showlegend": true,
         "text": [
          5450
         ],
         "textposition": "outside",
         "type": "bar",
         "x": [
          "Georgia"
         ],
         "xaxis": "x",
         "y": [
          5450
         ],
         "yaxis": "y"
        },
        {
         "alignmentgroup": "True",
         "hovertemplate": "location=%{x}<br>new_cases=%{text}<extra></extra>",
         "legendgroup": "Latvia",
         "marker": {
          "color": "#FF97FF",
          "pattern": {
           "shape": ""
          }
         },
         "name": "Latvia",
         "offsetgroup": "Latvia",
         "orientation": "v",
         "showlegend": true,
         "text": [
          5390
         ],
         "textposition": "outside",
         "type": "bar",
         "x": [
          "Latvia"
         ],
         "xaxis": "x",
         "y": [
          5390
         ],
         "yaxis": "y"
        },
        {
         "alignmentgroup": "True",
         "hovertemplate": "location=%{x}<br>new_cases=%{text}<extra></extra>",
         "legendgroup": "Iraq",
         "marker": {
          "color": "#FECB52",
          "pattern": {
           "shape": ""
          }
         },
         "name": "Iraq",
         "offsetgroup": "Iraq",
         "orientation": "v",
         "showlegend": true,
         "text": [
          5055
         ],
         "textposition": "outside",
         "type": "bar",
         "x": [
          "Iraq"
         ],
         "xaxis": "x",
         "y": [
          5055
         ],
         "yaxis": "y"
        },
        {
         "alignmentgroup": "True",
         "hovertemplate": "location=%{x}<br>new_cases=%{text}<extra></extra>",
         "legendgroup": "Saudi Arabia",
         "marker": {
          "color": "#636efa",
          "pattern": {
           "shape": ""
          }
         },
         "name": "Saudi Arabia",
         "offsetgroup": "Saudi Arabia",
         "orientation": "v",
         "showlegend": true,
         "text": [
          4919
         ],
         "textposition": "outside",
         "type": "bar",
         "x": [
          "Saudi Arabia"
         ],
         "xaxis": "x",
         "y": [
          4919
         ],
         "yaxis": "y"
        },
        {
         "alignmentgroup": "True",
         "hovertemplate": "location=%{x}<br>new_cases=%{text}<extra></extra>",
         "legendgroup": "Croatia",
         "marker": {
          "color": "#EF553B",
          "pattern": {
           "shape": ""
          }
         },
         "name": "Croatia",
         "offsetgroup": "Croatia",
         "orientation": "v",
         "showlegend": true,
         "text": [
          4620
         ],
         "textposition": "outside",
         "type": "bar",
         "x": [
          "Croatia"
         ],
         "xaxis": "x",
         "y": [
          4620
         ],
         "yaxis": "y"
        },
        {
         "alignmentgroup": "True",
         "hovertemplate": "location=%{x}<br>new_cases=%{text}<extra></extra>",
         "legendgroup": "Panama",
         "marker": {
          "color": "#00cc96",
          "pattern": {
           "shape": ""
          }
         },
         "name": "Panama",
         "offsetgroup": "Panama",
         "orientation": "v",
         "showlegend": true,
         "text": [
          4574
         ],
         "textposition": "outside",
         "type": "bar",
         "x": [
          "Panama"
         ],
         "xaxis": "x",
         "y": [
          4574
         ],
         "yaxis": "y"
        },
        {
         "alignmentgroup": "True",
         "hovertemplate": "location=%{x}<br>new_cases=%{text}<extra></extra>",
         "legendgroup": "Denmark",
         "marker": {
          "color": "#ab63fa",
          "pattern": {
           "shape": ""
          }
         },
         "name": "Denmark",
         "offsetgroup": "Denmark",
         "orientation": "v",
         "showlegend": true,
         "text": [
          4508
         ],
         "textposition": "outside",
         "type": "bar",
         "x": [
          "Denmark"
         ],
         "xaxis": "x",
         "y": [
          4508
         ],
         "yaxis": "y"
        },
        {
         "alignmentgroup": "True",
         "hovertemplate": "location=%{x}<br>new_cases=%{text}<extra></extra>",
         "legendgroup": "Azerbaijan",
         "marker": {
          "color": "#FFA15A",
          "pattern": {
           "shape": ""
          }
         },
         "name": "Azerbaijan",
         "offsetgroup": "Azerbaijan",
         "orientation": "v",
         "showlegend": true,
         "text": [
          4451
         ],
         "textposition": "outside",
         "type": "bar",
         "x": [
          "Azerbaijan"
         ],
         "xaxis": "x",
         "y": [
          4451
         ],
         "yaxis": "y"
        },
        {
         "alignmentgroup": "True",
         "hovertemplate": "location=%{x}<br>new_cases=%{text}<extra></extra>",
         "legendgroup": "Guatemala",
         "marker": {
          "color": "#19d3f3",
          "pattern": {
           "shape": ""
          }
         },
         "name": "Guatemala",
         "offsetgroup": "Guatemala",
         "orientation": "v",
         "showlegend": true,
         "text": [
          4233
         ],
         "textposition": "outside",
         "type": "bar",
         "x": [
          "Guatemala"
         ],
         "xaxis": "x",
         "y": [
          4233
         ],
         "yaxis": "y"
        },
        {
         "alignmentgroup": "True",
         "hovertemplate": "location=%{x}<br>new_cases=%{text}<extra></extra>",
         "legendgroup": "Bangladesh",
         "marker": {
          "color": "#FF6692",
          "pattern": {
           "shape": ""
          }
         },
         "name": "Bangladesh",
         "offsetgroup": "Bangladesh",
         "orientation": "v",
         "showlegend": true,
         "text": [
          4019
         ],
         "textposition": "outside",
         "type": "bar",
         "x": [
          "Bangladesh"
         ],
         "xaxis": "x",
         "y": [
          4019
         ],
         "yaxis": "y"
        },
        {
         "alignmentgroup": "True",
         "hovertemplate": "location=%{x}<br>new_cases=%{text}<extra></extra>",
         "legendgroup": "Lithuania",
         "marker": {
          "color": "#B6E880",
          "pattern": {
           "shape": ""
          }
         },
         "name": "Lithuania",
         "offsetgroup": "Lithuania",
         "orientation": "v",
         "showlegend": true,
         "text": [
          3968
         ],
         "textposition": "outside",
         "type": "bar",
         "x": [
          "Lithuania"
         ],
         "xaxis": "x",
         "y": [
          3968
         ],
         "yaxis": "y"
        },
        {
         "alignmentgroup": "True",
         "hovertemplate": "location=%{x}<br>new_cases=%{text}<extra></extra>",
         "legendgroup": "Japan",
         "marker": {
          "color": "#FF97FF",
          "pattern": {
           "shape": ""
          }
         },
         "name": "Japan",
         "offsetgroup": "Japan",
         "orientation": "v",
         "showlegend": true,
         "text": [
          3841
         ],
         "textposition": "outside",
         "type": "bar",
         "x": [
          "Japan"
         ],
         "xaxis": "x",
         "y": [
          3841
         ],
         "yaxis": "y"
        },
        {
         "alignmentgroup": "True",
         "hovertemplate": "location=%{x}<br>new_cases=%{text}<extra></extra>",
         "legendgroup": "Montenegro",
         "marker": {
          "color": "#FECB52",
          "pattern": {
           "shape": ""
          }
         },
         "name": "Montenegro",
         "offsetgroup": "Montenegro",
         "orientation": "v",
         "showlegend": true,
         "text": [
          3808
         ],
         "textposition": "outside",
         "type": "bar",
         "x": [
          "Montenegro"
         ],
         "xaxis": "x",
         "y": [
          3808
         ],
         "yaxis": "y"
        },
        {
         "alignmentgroup": "True",
         "hovertemplate": "location=%{x}<br>new_cases=%{text}<extra></extra>",
         "legendgroup": "Luxembourg",
         "marker": {
          "color": "#636efa",
          "pattern": {
           "shape": ""
          }
         },
         "name": "Luxembourg",
         "offsetgroup": "Luxembourg",
         "orientation": "v",
         "showlegend": true,
         "text": [
          3633
         ],
         "textposition": "outside",
         "type": "bar",
         "x": [
          "Luxembourg"
         ],
         "xaxis": "x",
         "y": [
          3633
         ],
         "yaxis": "y"
        },
        {
         "alignmentgroup": "True",
         "hovertemplate": "location=%{x}<br>new_cases=%{text}<extra></extra>",
         "legendgroup": "Lebanon",
         "marker": {
          "color": "#EF553B",
          "pattern": {
           "shape": ""
          }
         },
         "name": "Lebanon",
         "offsetgroup": "Lebanon",
         "orientation": "v",
         "showlegend": true,
         "text": [
          2878
         ],
         "textposition": "outside",
         "type": "bar",
         "x": [
          "Lebanon"
         ],
         "xaxis": "x",
         "y": [
          2878
         ],
         "yaxis": "y"
        },
        {
         "alignmentgroup": "True",
         "hovertemplate": "location=%{x}<br>new_cases=%{text}<extra></extra>",
         "legendgroup": "Palestine",
         "marker": {
          "color": "#00cc96",
          "pattern": {
           "shape": ""
          }
         },
         "name": "Palestine",
         "offsetgroup": "Palestine",
         "orientation": "v",
         "showlegend": true,
         "text": [
          2738
         ],
         "textposition": "outside",
         "type": "bar",
         "x": [
          "Palestine"
         ],
         "xaxis": "x",
         "y": [
          2738
         ],
         "yaxis": "y"
        },
        {
         "alignmentgroup": "True",
         "hovertemplate": "location=%{x}<br>new_cases=%{text}<extra></extra>",
         "legendgroup": "Oman",
         "marker": {
          "color": "#ab63fa",
          "pattern": {
           "shape": ""
          }
         },
         "name": "Oman",
         "offsetgroup": "Oman",
         "orientation": "v",
         "showlegend": true,
         "text": [
          2685
         ],
         "textposition": "outside",
         "type": "bar",
         "x": [
          "Oman"
         ],
         "xaxis": "x",
         "y": [
          2685
         ],
         "yaxis": "y"
        },
        {
         "alignmentgroup": "True",
         "hovertemplate": "location=%{x}<br>new_cases=%{text}<extra></extra>",
         "legendgroup": "Mauritania",
         "marker": {
          "color": "#FFA15A",
          "pattern": {
           "shape": ""
          }
         },
         "name": "Mauritania",
         "offsetgroup": "Mauritania",
         "orientation": "v",
         "showlegend": true,
         "text": [
          2545
         ],
         "textposition": "outside",
         "type": "bar",
         "x": [
          "Mauritania"
         ],
         "xaxis": "x",
         "y": [
          2545
         ],
         "yaxis": "y"
        },
        {
         "alignmentgroup": "True",
         "hovertemplate": "location=%{x}<br>new_cases=%{text}<extra></extra>",
         "legendgroup": "Armenia",
         "marker": {
          "color": "#19d3f3",
          "pattern": {
           "shape": ""
          }
         },
         "name": "Armenia",
         "offsetgroup": "Armenia",
         "orientation": "v",
         "showlegend": true,
         "text": [
          2476
         ],
         "textposition": "outside",
         "type": "bar",
         "x": [
          "Armenia"
         ],
         "xaxis": "x",
         "y": [
          2476
         ],
         "yaxis": "y"
        },
        {
         "alignmentgroup": "True",
         "hovertemplate": "location=%{x}<br>new_cases=%{text}<extra></extra>",
         "legendgroup": "Qatar",
         "marker": {
          "color": "#FF6692",
          "pattern": {
           "shape": ""
          }
         },
         "name": "Qatar",
         "offsetgroup": "Qatar",
         "orientation": "v",
         "showlegend": true,
         "text": [
          2355
         ],
         "textposition": "outside",
         "type": "bar",
         "x": [
          "Qatar"
         ],
         "xaxis": "x",
         "y": [
          2355
         ],
         "yaxis": "y"
        },
        {
         "alignmentgroup": "True",
         "hovertemplate": "location=%{x}<br>new_cases=%{text}<extra></extra>",
         "legendgroup": "Malaysia",
         "marker": {
          "color": "#B6E880",
          "pattern": {
           "shape": ""
          }
         },
         "name": "Malaysia",
         "offsetgroup": "Malaysia",
         "orientation": "v",
         "showlegend": true,
         "text": [
          2335
         ],
         "textposition": "outside",
         "type": "bar",
         "x": [
          "Malaysia"
         ],
         "xaxis": "x",
         "y": [
          2335
         ],
         "yaxis": "y"
        },
        {
         "alignmentgroup": "True",
         "hovertemplate": "location=%{x}<br>new_cases=%{text}<extra></extra>",
         "legendgroup": "Myanmar",
         "marker": {
          "color": "#FF97FF",
          "pattern": {
           "shape": ""
          }
         },
         "name": "Myanmar",
         "offsetgroup": "Myanmar",
         "orientation": "v",
         "showlegend": true,
         "text": [
          2158
         ],
         "textposition": "outside",
         "type": "bar",
         "x": [
          "Myanmar"
         ],
         "xaxis": "x",
         "y": [
          2158
         ],
         "yaxis": "y"
        },
        {
         "alignmentgroup": "True",
         "hovertemplate": "location=%{x}<br>new_cases=%{text}<extra></extra>",
         "legendgroup": "Dominican Republic",
         "marker": {
          "color": "#FECB52",
          "pattern": {
           "shape": ""
          }
         },
         "name": "Dominican Republic",
         "offsetgroup": "Dominican Republic",
         "orientation": "v",
         "showlegend": true,
         "text": [
          2147
         ],
         "textposition": "outside",
         "type": "bar",
         "x": [
          "Dominican Republic"
         ],
         "xaxis": "x",
         "y": [
          2147
         ],
         "yaxis": "y"
        },
        {
         "alignmentgroup": "True",
         "hovertemplate": "location=%{x}<br>new_cases=%{text}<extra></extra>",
         "legendgroup": "Bolivia",
         "marker": {
          "color": "#636efa",
          "pattern": {
           "shape": ""
          }
         },
         "name": "Bolivia",
         "offsetgroup": "Bolivia",
         "orientation": "v",
         "showlegend": true,
         "text": [
          2036
         ],
         "textposition": "outside",
         "type": "bar",
         "x": [
          "Bolivia"
         ],
         "xaxis": "x",
         "y": [
          2036
         ],
         "yaxis": "y"
        },
        {
         "alignmentgroup": "True",
         "hovertemplate": "location=%{x}<br>new_cases=%{text}<extra></extra>",
         "legendgroup": "Belarus",
         "marker": {
          "color": "#EF553B",
          "pattern": {
           "shape": ""
          }
         },
         "name": "Belarus",
         "offsetgroup": "Belarus",
         "orientation": "v",
         "showlegend": true,
         "text": [
          1988
         ],
         "textposition": "outside",
         "type": "bar",
         "x": [
          "Belarus"
         ],
         "xaxis": "x",
         "y": [
          1988
         ],
         "yaxis": "y"
        },
        {
         "alignmentgroup": "True",
         "hovertemplate": "location=%{x}<br>new_cases=%{text}<extra></extra>",
         "legendgroup": "Bosnia and Herzegovina",
         "marker": {
          "color": "#00cc96",
          "pattern": {
           "shape": ""
          }
         },
         "name": "Bosnia and Herzegovina",
         "offsetgroup": "Bosnia and Herzegovina",
         "orientation": "v",
         "showlegend": true,
         "text": [
          1953
         ],
         "textposition": "outside",
         "type": "bar",
         "x": [
          "Bosnia and Herzegovina"
         ],
         "xaxis": "x",
         "y": [
          1953
         ],
         "yaxis": "y"
        },
        {
         "alignmentgroup": "True",
         "hovertemplate": "location=%{x}<br>new_cases=%{text}<extra></extra>",
         "legendgroup": "Venezuela",
         "marker": {
          "color": "#ab63fa",
          "pattern": {
           "shape": ""
          }
         },
         "name": "Venezuela",
         "offsetgroup": "Venezuela",
         "orientation": "v",
         "showlegend": true,
         "text": [
          1939
         ],
         "textposition": "outside",
         "type": "bar",
         "x": [
          "Venezuela"
         ],
         "xaxis": "x",
         "y": [
          1939
         ],
         "yaxis": "y"
        },
        {
         "alignmentgroup": "True",
         "hovertemplate": "location=%{x}<br>new_cases=%{text}<extra></extra>",
         "legendgroup": "Ireland",
         "marker": {
          "color": "#FFA15A",
          "pattern": {
           "shape": ""
          }
         },
         "name": "Ireland",
         "offsetgroup": "Ireland",
         "orientation": "v",
         "showlegend": true,
         "text": [
          1851
         ],
         "textposition": "outside",
         "type": "bar",
         "x": [
          "Ireland"
         ],
         "xaxis": "x",
         "y": [
          1851
         ],
         "yaxis": "y"
        },
        {
         "alignmentgroup": "True",
         "hovertemplate": "location=%{x}<br>new_cases=%{text}<extra></extra>",
         "legendgroup": "Ethiopia",
         "marker": {
          "color": "#19d3f3",
          "pattern": {
           "shape": ""
          }
         },
         "name": "Ethiopia",
         "offsetgroup": "Ethiopia",
         "orientation": "v",
         "showlegend": true,
         "text": [
          1829
         ],
         "textposition": "outside",
         "type": "bar",
         "x": [
          "Ethiopia"
         ],
         "xaxis": "x",
         "y": [
          1829
         ],
         "yaxis": "y"
        },
        {
         "alignmentgroup": "True",
         "hovertemplate": "location=%{x}<br>new_cases=%{text}<extra></extra>",
         "legendgroup": "Botswana",
         "marker": {
          "color": "#FF6692",
          "pattern": {
           "shape": ""
          }
         },
         "name": "Botswana",
         "offsetgroup": "Botswana",
         "orientation": "v",
         "showlegend": true,
         "text": [
          1820
         ],
         "textposition": "outside",
         "type": "bar",
         "x": [
          "Botswana"
         ],
         "xaxis": "x",
         "y": [
          1820
         ],
         "yaxis": "y"
        },
        {
         "alignmentgroup": "True",
         "hovertemplate": "location=%{x}<br>new_cases=%{text}<extra></extra>",
         "legendgroup": "Egypt",
         "marker": {
          "color": "#B6E880",
          "pattern": {
           "shape": ""
          }
         },
         "name": "Egypt",
         "offsetgroup": "Egypt",
         "orientation": "v",
         "showlegend": true,
         "text": [
          1774
         ],
         "textposition": "outside",
         "type": "bar",
         "x": [
          "Egypt"
         ],
         "xaxis": "x",
         "y": [
          1774
         ],
         "yaxis": "y"
        },
        {
         "alignmentgroup": "True",
         "hovertemplate": "location=%{x}<br>new_cases=%{text}<extra></extra>",
         "legendgroup": "Moldova",
         "marker": {
          "color": "#FF97FF",
          "pattern": {
           "shape": ""
          }
         },
         "name": "Moldova",
         "offsetgroup": "Moldova",
         "orientation": "v",
         "showlegend": true,
         "text": [
          1766
         ],
         "textposition": "outside",
         "type": "bar",
         "x": [
          "Moldova"
         ],
         "xaxis": "x",
         "y": [
          1766
         ],
         "yaxis": "y"
        },
        {
         "alignmentgroup": "True",
         "hovertemplate": "location=%{x}<br>new_cases=%{text}<extra></extra>",
         "legendgroup": "United Arab Emirates",
         "marker": {
          "color": "#FECB52",
          "pattern": {
           "shape": ""
          }
         },
         "name": "United Arab Emirates",
         "offsetgroup": "United Arab Emirates",
         "orientation": "v",
         "showlegend": true,
         "text": [
          1723
         ],
         "textposition": "outside",
         "type": "bar",
         "x": [
          "United Arab Emirates"
         ],
         "xaxis": "x",
         "y": [
          1723
         ],
         "yaxis": "y"
        },
        {
         "alignmentgroup": "True",
         "hovertemplate": "location=%{x}<br>new_cases=%{text}<extra></extra>",
         "legendgroup": "Libya",
         "marker": {
          "color": "#636efa",
          "pattern": {
           "shape": ""
          }
         },
         "name": "Libya",
         "offsetgroup": "Libya",
         "orientation": "v",
         "showlegend": true,
         "text": [
          1639
         ],
         "textposition": "outside",
         "type": "bar",
         "x": [
          "Libya"
         ],
         "xaxis": "x",
         "y": [
          1639
         ],
         "yaxis": "y"
        },
        {
         "alignmentgroup": "True",
         "hovertemplate": "location=%{x}<br>new_cases=%{text}<extra></extra>",
         "legendgroup": "Costa Rica",
         "marker": {
          "color": "#EF553B",
          "pattern": {
           "shape": ""
          }
         },
         "name": "Costa Rica",
         "offsetgroup": "Costa Rica",
         "orientation": "v",
         "showlegend": true,
         "text": [
          1556
         ],
         "textposition": "outside",
         "type": "bar",
         "x": [
          "Costa Rica"
         ],
         "xaxis": "x",
         "y": [
          1556
         ],
         "yaxis": "y"
        },
        {
         "alignmentgroup": "True",
         "hovertemplate": "location=%{x}<br>new_cases=%{text}<extra></extra>",
         "legendgroup": "Kenya",
         "marker": {
          "color": "#00cc96",
          "pattern": {
           "shape": ""
          }
         },
         "name": "Kenya",
         "offsetgroup": "Kenya",
         "orientation": "v",
         "showlegend": true,
         "text": [
          1554
         ],
         "textposition": "outside",
         "type": "bar",
         "x": [
          "Kenya"
         ],
         "xaxis": "x",
         "y": [
          1554
         ],
         "yaxis": "y"
        },
        {
         "alignmentgroup": "True",
         "hovertemplate": "location=%{x}<br>new_cases=%{text}<extra></extra>",
         "legendgroup": "Singapore",
         "marker": {
          "color": "#ab63fa",
          "pattern": {
           "shape": ""
          }
         },
         "name": "Singapore",
         "offsetgroup": "Singapore",
         "orientation": "v",
         "showlegend": true,
         "text": [
          1426
         ],
         "textposition": "outside",
         "type": "bar",
         "x": [
          "Singapore"
         ],
         "xaxis": "x",
         "y": [
          1426
         ],
         "yaxis": "y"
        },
        {
         "alignmentgroup": "True",
         "hovertemplate": "location=%{x}<br>new_cases=%{text}<extra></extra>",
         "legendgroup": "French Polynesia",
         "marker": {
          "color": "#FFA15A",
          "pattern": {
           "shape": ""
          }
         },
         "name": "French Polynesia",
         "offsetgroup": "French Polynesia",
         "orientation": "v",
         "showlegend": true,
         "text": [
          1384
         ],
         "textposition": "outside",
         "type": "bar",
         "x": [
          "French Polynesia"
         ],
         "xaxis": "x",
         "y": [
          1384
         ],
         "yaxis": "y"
        },
        {
         "alignmentgroup": "True",
         "hovertemplate": "location=%{x}<br>new_cases=%{text}<extra></extra>",
         "legendgroup": "Puerto Rico",
         "marker": {
          "color": "#19d3f3",
          "pattern": {
           "shape": ""
          }
         },
         "name": "Puerto Rico",
         "offsetgroup": "Puerto Rico",
         "orientation": "v",
         "showlegend": true,
         "text": [
          1363
         ],
         "textposition": "outside",
         "type": "bar",
         "x": [
          "Puerto Rico"
         ],
         "xaxis": "x",
         "y": [
          1363
         ],
         "yaxis": "y"
        },
        {
         "alignmentgroup": "True",
         "hovertemplate": "location=%{x}<br>new_cases=%{text}<extra></extra>",
         "legendgroup": "Paraguay",
         "marker": {
          "color": "#FF6692",
          "pattern": {
           "shape": ""
          }
         },
         "name": "Paraguay",
         "offsetgroup": "Paraguay",
         "orientation": "v",
         "showlegend": true,
         "text": [
          1268
         ],
         "textposition": "outside",
         "type": "bar",
         "x": [
          "Paraguay"
         ],
         "xaxis": "x",
         "y": [
          1268
         ],
         "yaxis": "y"
        },
        {
         "alignmentgroup": "True",
         "hovertemplate": "location=%{x}<br>new_cases=%{text}<extra></extra>",
         "legendgroup": "Ghana",
         "marker": {
          "color": "#B6E880",
          "pattern": {
           "shape": ""
          }
         },
         "name": "Ghana",
         "offsetgroup": "Ghana",
         "orientation": "v",
         "showlegend": true,
         "text": [
          1254
         ],
         "textposition": "outside",
         "type": "bar",
         "x": [
          "Ghana"
         ],
         "xaxis": "x",
         "y": [
          1254
         ],
         "yaxis": "y"
        },
        {
         "alignmentgroup": "True",
         "hovertemplate": "location=%{x}<br>new_cases=%{text}<extra></extra>",
         "legendgroup": "Afghanistan",
         "marker": {
          "color": "#FF97FF",
          "pattern": {
           "shape": ""
          }
         },
         "name": "Afghanistan",
         "offsetgroup": "Afghanistan",
         "orientation": "v",
         "showlegend": true,
         "text": [
          1241
         ],
         "textposition": "outside",
         "type": "bar",
         "x": [
          "Afghanistan"
         ],
         "xaxis": "x",
         "y": [
          1241
         ],
         "yaxis": "y"
        },
        {
         "alignmentgroup": "True",
         "hovertemplate": "location=%{x}<br>new_cases=%{text}<extra></extra>",
         "legendgroup": "South Korea",
         "marker": {
          "color": "#FECB52",
          "pattern": {
           "shape": ""
          }
         },
         "name": "South Korea",
         "offsetgroup": "South Korea",
         "orientation": "v",
         "showlegend": true,
         "text": [
          1235
         ],
         "textposition": "outside",
         "type": "bar",
         "x": [
          "South Korea"
         ],
         "xaxis": "x",
         "y": [
          1235
         ],
         "yaxis": "y"
        },
        {
         "alignmentgroup": "True",
         "hovertemplate": "location=%{x}<br>new_cases=%{text}<extra></extra>",
         "legendgroup": "Uganda",
         "marker": {
          "color": "#636efa",
          "pattern": {
           "shape": ""
          }
         },
         "name": "Uganda",
         "offsetgroup": "Uganda",
         "orientation": "v",
         "showlegend": true,
         "text": [
          1197
         ],
         "textposition": "outside",
         "type": "bar",
         "x": [
          "Uganda"
         ],
         "xaxis": "x",
         "y": [
          1197
         ],
         "yaxis": "y"
        },
        {
         "alignmentgroup": "True",
         "hovertemplate": "location=%{x}<br>new_cases=%{text}<extra></extra>",
         "legendgroup": "Nigeria",
         "marker": {
          "color": "#EF553B",
          "pattern": {
           "shape": ""
          }
         },
         "name": "Nigeria",
         "offsetgroup": "Nigeria",
         "orientation": "v",
         "showlegend": true,
         "text": [
          1145
         ],
         "textposition": "outside",
         "type": "bar",
         "x": [
          "Nigeria"
         ],
         "xaxis": "x",
         "y": [
          1145
         ],
         "yaxis": "y"
        },
        {
         "alignmentgroup": "True",
         "hovertemplate": "location=%{x}<br>new_cases=%{text}<extra></extra>",
         "legendgroup": "Belize",
         "marker": {
          "color": "#00cc96",
          "pattern": {
           "shape": ""
          }
         },
         "name": "Belize",
         "offsetgroup": "Belize",
         "orientation": "v",
         "showlegend": true,
         "text": [
          1141
         ],
         "textposition": "outside",
         "type": "bar",
         "x": [
          "Belize"
         ],
         "xaxis": "x",
         "y": [
          1141
         ],
         "yaxis": "y"
        },
        {
         "alignmentgroup": "True",
         "hovertemplate": "location=%{x}<br>new_cases=%{text}<extra></extra>",
         "legendgroup": "Honduras",
         "marker": {
          "color": "#ab63fa",
          "pattern": {
           "shape": ""
          }
         },
         "name": "Honduras",
         "offsetgroup": "Honduras",
         "orientation": "v",
         "showlegend": true,
         "text": [
          1141
         ],
         "textposition": "outside",
         "type": "bar",
         "x": [
          "Honduras"
         ],
         "xaxis": "x",
         "y": [
          1141
         ],
         "yaxis": "y"
        },
        {
         "alignmentgroup": "True",
         "hovertemplate": "location=%{x}<br>new_cases=%{text}<extra></extra>",
         "legendgroup": "Algeria",
         "marker": {
          "color": "#FFA15A",
          "pattern": {
           "shape": ""
          }
         },
         "name": "Algeria",
         "offsetgroup": "Algeria",
         "orientation": "v",
         "showlegend": true,
         "text": [
          1133
         ],
         "textposition": "outside",
         "type": "bar",
         "x": [
          "Algeria"
         ],
         "xaxis": "x",
         "y": [
          1133
         ],
         "yaxis": "y"
        },
        {
         "alignmentgroup": "True",
         "hovertemplate": "location=%{x}<br>new_cases=%{text}<extra></extra>",
         "legendgroup": "Kuwait",
         "marker": {
          "color": "#19d3f3",
          "pattern": {
           "shape": ""
          }
         },
         "name": "Kuwait",
         "offsetgroup": "Kuwait",
         "orientation": "v",
         "showlegend": true,
         "text": [
          1073
         ],
         "textposition": "outside",
         "type": "bar",
         "x": [
          "Kuwait"
         ],
         "xaxis": "x",
         "y": [
          1073
         ],
         "yaxis": "y"
        },
        {
         "alignmentgroup": "True",
         "hovertemplate": "location=%{x}<br>new_cases=%{text}<extra></extra>",
         "legendgroup": "Guadeloupe",
         "marker": {
          "color": "#FF6692",
          "pattern": {
           "shape": ""
          }
         },
         "name": "Guadeloupe",
         "offsetgroup": "Guadeloupe",
         "orientation": "v",
         "showlegend": true,
         "text": [
          1061
         ],
         "textposition": "outside",
         "type": "bar",
         "x": [
          "Guadeloupe"
         ],
         "xaxis": "x",
         "y": [
          1061
         ],
         "yaxis": "y"
        },
        {
         "alignmentgroup": "True",
         "hovertemplate": "location=%{x}<br>new_cases=%{text}<extra></extra>",
         "legendgroup": "Cyprus",
         "marker": {
          "color": "#B6E880",
          "pattern": {
           "shape": ""
          }
         },
         "name": "Cyprus",
         "offsetgroup": "Cyprus",
         "orientation": "v",
         "showlegend": true,
         "text": [
          1031
         ],
         "textposition": "outside",
         "type": "bar",
         "x": [
          "Cyprus"
         ],
         "xaxis": "x",
         "y": [
          1031
         ],
         "yaxis": "y"
        },
        {
         "alignmentgroup": "True",
         "hovertemplate": "location=%{x}<br>new_cases=%{text}<extra></extra>",
         "legendgroup": "Kosovo",
         "marker": {
          "color": "#FF97FF",
          "pattern": {
           "shape": ""
          }
         },
         "name": "Kosovo",
         "offsetgroup": "Kosovo",
         "orientation": "v",
         "showlegend": true,
         "text": [
          963
         ],
         "textposition": "outside",
         "type": "bar",
         "x": [
          "Kosovo"
         ],
         "xaxis": "x",
         "y": [
          963
         ],
         "yaxis": "y"
        },
        {
         "alignmentgroup": "True",
         "hovertemplate": "location=%{x}<br>new_cases=%{text}<extra></extra>",
         "legendgroup": "Malta",
         "marker": {
          "color": "#FECB52",
          "pattern": {
           "shape": ""
          }
         },
         "name": "Malta",
         "offsetgroup": "Malta",
         "orientation": "v",
         "showlegend": true,
         "text": [
          907
         ],
         "textposition": "outside",
         "type": "bar",
         "x": [
          "Malta"
         ],
         "xaxis": "x",
         "y": [
          907
         ],
         "yaxis": "y"
        },
        {
         "alignmentgroup": "True",
         "hovertemplate": "location=%{x}<br>new_cases=%{text}<extra></extra>",
         "legendgroup": "El Salvador",
         "marker": {
          "color": "#636efa",
          "pattern": {
           "shape": ""
          }
         },
         "name": "El Salvador",
         "offsetgroup": "El Salvador",
         "orientation": "v",
         "showlegend": true,
         "text": [
          885
         ],
         "textposition": "outside",
         "type": "bar",
         "x": [
          "El Salvador"
         ],
         "xaxis": "x",
         "y": [
          885
         ],
         "yaxis": "y"
        },
        {
         "alignmentgroup": "True",
         "hovertemplate": "location=%{x}<br>new_cases=%{text}<extra></extra>",
         "legendgroup": "Cameroon",
         "marker": {
          "color": "#EF553B",
          "pattern": {
           "shape": ""
          }
         },
         "name": "Cameroon",
         "offsetgroup": "Cameroon",
         "orientation": "v",
         "showlegend": true,
         "text": [
          884
         ],
         "textposition": "outside",
         "type": "bar",
         "x": [
          "Cameroon"
         ],
         "xaxis": "x",
         "y": [
          884
         ],
         "yaxis": "y"
        },
        {
         "alignmentgroup": "True",
         "hovertemplate": "location=%{x}<br>new_cases=%{text}<extra></extra>",
         "legendgroup": "Albania",
         "marker": {
          "color": "#00cc96",
          "pattern": {
           "shape": ""
          }
         },
         "name": "Albania",
         "offsetgroup": "Albania",
         "orientation": "v",
         "showlegend": true,
         "text": [
          879
         ],
         "textposition": "outside",
         "type": "bar",
         "x": [
          "Albania"
         ],
         "xaxis": "x",
         "y": [
          879
         ],
         "yaxis": "y"
        },
        {
         "alignmentgroup": "True",
         "hovertemplate": "location=%{x}<br>new_cases=%{text}<extra></extra>",
         "legendgroup": "Sri Lanka",
         "marker": {
          "color": "#ab63fa",
          "pattern": {
           "shape": ""
          }
         },
         "name": "Sri Lanka",
         "offsetgroup": "Sri Lanka",
         "orientation": "v",
         "showlegend": true,
         "text": [
          878
         ],
         "textposition": "outside",
         "type": "bar",
         "x": [
          "Sri Lanka"
         ],
         "xaxis": "x",
         "y": [
          878
         ],
         "yaxis": "y"
        },
        {
         "alignmentgroup": "True",
         "hovertemplate": "location=%{x}<br>new_cases=%{text}<extra></extra>",
         "legendgroup": "Bahrain",
         "marker": {
          "color": "#FFA15A",
          "pattern": {
           "shape": ""
          }
         },
         "name": "Bahrain",
         "offsetgroup": "Bahrain",
         "orientation": "v",
         "showlegend": true,
         "text": [
          841
         ],
         "textposition": "outside",
         "type": "bar",
         "x": [
          "Bahrain"
         ],
         "xaxis": "x",
         "y": [
          841
         ],
         "yaxis": "y"
        },
        {
         "alignmentgroup": "True",
         "hovertemplate": "location=%{x}<br>new_cases=%{text}<extra></extra>",
         "legendgroup": "Norway",
         "marker": {
          "color": "#19d3f3",
          "pattern": {
           "shape": ""
          }
         },
         "name": "Norway",
         "offsetgroup": "Norway",
         "orientation": "v",
         "showlegend": true,
         "text": [
          778
         ],
         "textposition": "outside",
         "type": "bar",
         "x": [
          "Norway"
         ],
         "xaxis": "x",
         "y": [
          778
         ],
         "yaxis": "y"
        },
        {
         "alignmentgroup": "True",
         "hovertemplate": "location=%{x}<br>new_cases=%{text}<extra></extra>",
         "legendgroup": "Martinique",
         "marker": {
          "color": "#FF6692",
          "pattern": {
           "shape": ""
          }
         },
         "name": "Martinique",
         "offsetgroup": "Martinique",
         "orientation": "v",
         "showlegend": true,
         "text": [
          752
         ],
         "textposition": "outside",
         "type": "bar",
         "x": [
          "Martinique"
         ],
         "xaxis": "x",
         "y": [
          752
         ],
         "yaxis": "y"
        },
        {
         "alignmentgroup": "True",
         "hovertemplate": "location=%{x}<br>new_cases=%{text}<extra></extra>",
         "legendgroup": "Uruguay",
         "marker": {
          "color": "#B6E880",
          "pattern": {
           "shape": ""
          }
         },
         "name": "Uruguay",
         "offsetgroup": "Uruguay",
         "orientation": "v",
         "showlegend": true,
         "text": [
          747
         ],
         "textposition": "outside",
         "type": "bar",
         "x": [
          "Uruguay"
         ],
         "xaxis": "x",
         "y": [
          747
         ],
         "yaxis": "y"
        },
        {
         "alignmentgroup": "True",
         "hovertemplate": "location=%{x}<br>new_cases=%{text}<extra></extra>",
         "legendgroup": "Australia",
         "marker": {
          "color": "#FF97FF",
          "pattern": {
           "shape": ""
          }
         },
         "name": "Australia",
         "offsetgroup": "Australia",
         "orientation": "v",
         "showlegend": true,
         "text": [
          721
         ],
         "textposition": "outside",
         "type": "bar",
         "x": [
          "Australia"
         ],
         "xaxis": "x",
         "y": [
          721
         ],
         "yaxis": "y"
        },
        {
         "alignmentgroup": "True",
         "hovertemplate": "location=%{x}<br>new_cases=%{text}<extra></extra>",
         "legendgroup": "Namibia",
         "marker": {
          "color": "#FECB52",
          "pattern": {
           "shape": ""
          }
         },
         "name": "Namibia",
         "offsetgroup": "Namibia",
         "orientation": "v",
         "showlegend": true,
         "text": [
          683
         ],
         "textposition": "outside",
         "type": "bar",
         "x": [
          "Namibia"
         ],
         "xaxis": "x",
         "y": [
          683
         ],
         "yaxis": "y"
        },
        {
         "alignmentgroup": "True",
         "hovertemplate": "location=%{x}<br>new_cases=%{text}<extra></extra>",
         "legendgroup": "Congo",
         "marker": {
          "color": "#636efa",
          "pattern": {
           "shape": ""
          }
         },
         "name": "Congo",
         "offsetgroup": "Congo",
         "orientation": "v",
         "showlegend": true,
         "text": [
          649
         ],
         "textposition": "outside",
         "type": "bar",
         "x": [
          "Congo"
         ],
         "xaxis": "x",
         "y": [
          649
         ],
         "yaxis": "y"
        },
        {
         "alignmentgroup": "True",
         "hovertemplate": "location=%{x}<br>new_cases=%{text}<extra></extra>",
         "legendgroup": "Finland",
         "marker": {
          "color": "#EF553B",
          "pattern": {
           "shape": ""
          }
         },
         "name": "Finland",
         "offsetgroup": "Finland",
         "orientation": "v",
         "showlegend": true,
         "text": [
          619
         ],
         "textposition": "outside",
         "type": "bar",
         "x": [
          "Finland"
         ],
         "xaxis": "x",
         "y": [
          619
         ],
         "yaxis": "y"
        },
        {
         "alignmentgroup": "True",
         "hovertemplate": "location=%{x}<br>new_cases=%{text}<extra></extra>",
         "legendgroup": "Madagascar",
         "marker": {
          "color": "#00cc96",
          "pattern": {
           "shape": ""
          }
         },
         "name": "Madagascar",
         "offsetgroup": "Madagascar",
         "orientation": "v",
         "showlegend": true,
         "text": [
          614
         ],
         "textposition": "outside",
         "type": "bar",
         "x": [
          "Madagascar"
         ],
         "xaxis": "x",
         "y": [
          614
         ],
         "yaxis": "y"
        },
        {
         "alignmentgroup": "True",
         "hovertemplate": "location=%{x}<br>new_cases=%{text}<extra></extra>",
         "legendgroup": "Iceland",
         "marker": {
          "color": "#ab63fa",
          "pattern": {
           "shape": ""
          }
         },
         "name": "Iceland",
         "offsetgroup": "Iceland",
         "orientation": "v",
         "showlegend": true,
         "text": [
          603
         ],
         "textposition": "outside",
         "type": "bar",
         "x": [
          "Iceland"
         ],
         "xaxis": "x",
         "y": [
          603
         ],
         "yaxis": "y"
        },
        {
         "alignmentgroup": "True",
         "hovertemplate": "location=%{x}<br>new_cases=%{text}<extra></extra>",
         "legendgroup": "Thailand",
         "marker": {
          "color": "#FFA15A",
          "pattern": {
           "shape": ""
          }
         },
         "name": "Thailand",
         "offsetgroup": "Thailand",
         "orientation": "v",
         "showlegend": true,
         "text": [
          576
         ],
         "textposition": "outside",
         "type": "bar",
         "x": [
          "Thailand"
         ],
         "xaxis": "x",
         "y": [
          576
         ],
         "yaxis": "y"
        },
        {
         "alignmentgroup": "True",
         "hovertemplate": "location=%{x}<br>new_cases=%{text}<extra></extra>",
         "legendgroup": "Gabon",
         "marker": {
          "color": "#19d3f3",
          "pattern": {
           "shape": ""
          }
         },
         "name": "Gabon",
         "offsetgroup": "Gabon",
         "orientation": "v",
         "showlegend": true,
         "text": [
          570
         ],
         "textposition": "outside",
         "type": "bar",
         "x": [
          "Gabon"
         ],
         "xaxis": "x",
         "y": [
          570
         ],
         "yaxis": "y"
        },
        {
         "alignmentgroup": "True",
         "hovertemplate": "location=%{x}<br>new_cases=%{text}<extra></extra>",
         "legendgroup": "Cote d'Ivoire",
         "marker": {
          "color": "#FF6692",
          "pattern": {
           "shape": ""
          }
         },
         "name": "Cote d'Ivoire",
         "offsetgroup": "Cote d'Ivoire",
         "orientation": "v",
         "showlegend": true,
         "text": [
          548
         ],
         "textposition": "outside",
         "type": "bar",
         "x": [
          "Cote d'Ivoire"
         ],
         "xaxis": "x",
         "y": [
          548
         ],
         "yaxis": "y"
        },
        {
         "alignmentgroup": "True",
         "hovertemplate": "location=%{x}<br>new_cases=%{text}<extra></extra>",
         "legendgroup": "Zambia",
         "marker": {
          "color": "#B6E880",
          "pattern": {
           "shape": ""
          }
         },
         "name": "Zambia",
         "offsetgroup": "Zambia",
         "orientation": "v",
         "showlegend": true,
         "text": [
          493
         ],
         "textposition": "outside",
         "type": "bar",
         "x": [
          "Zambia"
         ],
         "xaxis": "x",
         "y": [
          493
         ],
         "yaxis": "y"
        },
        {
         "alignmentgroup": "True",
         "hovertemplate": "location=%{x}<br>new_cases=%{text}<extra></extra>",
         "legendgroup": "Zimbabwe",
         "marker": {
          "color": "#FF97FF",
          "pattern": {
           "shape": ""
          }
         },
         "name": "Zimbabwe",
         "offsetgroup": "Zimbabwe",
         "orientation": "v",
         "showlegend": true,
         "text": [
          490
         ],
         "textposition": "outside",
         "type": "bar",
         "x": [
          "Zimbabwe"
         ],
         "xaxis": "x",
         "y": [
          490
         ],
         "yaxis": "y"
        },
        {
         "alignmentgroup": "True",
         "hovertemplate": "location=%{x}<br>new_cases=%{text}<extra></extra>",
         "legendgroup": "Democratic Republic of Congo",
         "marker": {
          "color": "#FECB52",
          "pattern": {
           "shape": ""
          }
         },
         "name": "Democratic Republic of Congo",
         "offsetgroup": "Democratic Republic of Congo",
         "orientation": "v",
         "showlegend": true,
         "text": [
          481
         ],
         "textposition": "outside",
         "type": "bar",
         "x": [
          "Democratic Republic of Congo"
         ],
         "xaxis": "x",
         "y": [
          481
         ],
         "yaxis": "y"
        },
        {
         "alignmentgroup": "True",
         "hovertemplate": "location=%{x}<br>new_cases=%{text}<extra></extra>",
         "legendgroup": "Nicaragua",
         "marker": {
          "color": "#636efa",
          "pattern": {
           "shape": ""
          }
         },
         "name": "Nicaragua",
         "offsetgroup": "Nicaragua",
         "orientation": "v",
         "showlegend": true,
         "text": [
          480
         ],
         "textposition": "outside",
         "type": "bar",
         "x": [
          "Nicaragua"
         ],
         "xaxis": "x",
         "y": [
          480
         ],
         "yaxis": "y"
        },
        {
         "alignmentgroup": "True",
         "hovertemplate": "location=%{x}<br>new_cases=%{text}<extra></extra>",
         "legendgroup": "Sudan",
         "marker": {
          "color": "#EF553B",
          "pattern": {
           "shape": ""
          }
         },
         "name": "Sudan",
         "offsetgroup": "Sudan",
         "orientation": "v",
         "showlegend": true,
         "text": [
          410
         ],
         "textposition": "outside",
         "type": "bar",
         "x": [
          "Sudan"
         ],
         "xaxis": "x",
         "y": [
          410
         ],
         "yaxis": "y"
        },
        {
         "alignmentgroup": "True",
         "hovertemplate": "location=%{x}<br>new_cases=%{text}<extra></extra>",
         "legendgroup": "Tajikistan",
         "marker": {
          "color": "#00cc96",
          "pattern": {
           "shape": ""
          }
         },
         "name": "Tajikistan",
         "offsetgroup": "Tajikistan",
         "orientation": "v",
         "showlegend": true,
         "text": [
          407
         ],
         "textposition": "outside",
         "type": "bar",
         "x": [
          "Tajikistan"
         ],
         "xaxis": "x",
         "y": [
          407
         ],
         "yaxis": "y"
        },
        {
         "alignmentgroup": "True",
         "hovertemplate": "location=%{x}<br>new_cases=%{text}<extra></extra>",
         "legendgroup": "Cuba",
         "marker": {
          "color": "#ab63fa",
          "pattern": {
           "shape": ""
          }
         },
         "name": "Cuba",
         "offsetgroup": "Cuba",
         "orientation": "v",
         "showlegend": true,
         "text": [
          400
         ],
         "textposition": "outside",
         "type": "bar",
         "x": [
          "Cuba"
         ],
         "xaxis": "x",
         "y": [
          400
         ],
         "yaxis": "y"
        },
        {
         "alignmentgroup": "True",
         "hovertemplate": "location=%{x}<br>new_cases=%{text}<extra></extra>",
         "legendgroup": "Curacao",
         "marker": {
          "color": "#FFA15A",
          "pattern": {
           "shape": ""
          }
         },
         "name": "Curacao",
         "offsetgroup": "Curacao",
         "orientation": "v",
         "showlegend": true,
         "text": [
          396
         ],
         "textposition": "outside",
         "type": "bar",
         "x": [
          "Curacao"
         ],
         "xaxis": "x",
         "y": [
          396
         ],
         "yaxis": "y"
        },
        {
         "alignmentgroup": "True",
         "hovertemplate": "location=%{x}<br>new_cases=%{text}<extra></extra>",
         "legendgroup": "Angola",
         "marker": {
          "color": "#19d3f3",
          "pattern": {
           "shape": ""
          }
         },
         "name": "Angola",
         "offsetgroup": "Angola",
         "orientation": "v",
         "showlegend": true,
         "text": [
          355
         ],
         "textposition": "outside",
         "type": "bar",
         "x": [
          "Angola"
         ],
         "xaxis": "x",
         "y": [
          355
         ],
         "yaxis": "y"
        },
        {
         "alignmentgroup": "True",
         "hovertemplate": "location=%{x}<br>new_cases=%{text}<extra></extra>",
         "legendgroup": "French Guiana",
         "marker": {
          "color": "#FF6692",
          "pattern": {
           "shape": ""
          }
         },
         "name": "French Guiana",
         "offsetgroup": "French Guiana",
         "orientation": "v",
         "showlegend": true,
         "text": [
          355
         ],
         "textposition": "outside",
         "type": "bar",
         "x": [
          "French Guiana"
         ],
         "xaxis": "x",
         "y": [
          355
         ],
         "yaxis": "y"
        },
        {
         "alignmentgroup": "True",
         "hovertemplate": "location=%{x}<br>new_cases=%{text}<extra></extra>",
         "legendgroup": "Mayotte",
         "marker": {
          "color": "#B6E880",
          "pattern": {
           "shape": ""
          }
         },
         "name": "Mayotte",
         "offsetgroup": "Mayotte",
         "orientation": "v",
         "showlegend": true,
         "text": [
          318
         ],
         "textposition": "outside",
         "type": "bar",
         "x": [
          "Mayotte"
         ],
         "xaxis": "x",
         "y": [
          318
         ],
         "yaxis": "y"
        },
        {
         "alignmentgroup": "True",
         "hovertemplate": "location=%{x}<br>new_cases=%{text}<extra></extra>",
         "legendgroup": "Reunion",
         "marker": {
          "color": "#FF97FF",
          "pattern": {
           "shape": ""
          }
         },
         "name": "Reunion",
         "offsetgroup": "Reunion",
         "orientation": "v",
         "showlegend": true,
         "text": [
          308
         ],
         "textposition": "outside",
         "type": "bar",
         "x": [
          "Reunion"
         ],
         "xaxis": "x",
         "y": [
          308
         ],
         "yaxis": "y"
        },
        {
         "alignmentgroup": "True",
         "hovertemplate": "location=%{x}<br>new_cases=%{text}<extra></extra>",
         "legendgroup": "Mozambique",
         "marker": {
          "color": "#FECB52",
          "pattern": {
           "shape": ""
          }
         },
         "name": "Mozambique",
         "offsetgroup": "Mozambique",
         "orientation": "v",
         "showlegend": true,
         "text": [
          305
         ],
         "textposition": "outside",
         "type": "bar",
         "x": [
          "Mozambique"
         ],
         "xaxis": "x",
         "y": [
          305
         ],
         "yaxis": "y"
        },
        {
         "alignmentgroup": "True",
         "hovertemplate": "location=%{x}<br>new_cases=%{text}<extra></extra>",
         "legendgroup": "Aruba",
         "marker": {
          "color": "#636efa",
          "pattern": {
           "shape": ""
          }
         },
         "name": "Aruba",
         "offsetgroup": "Aruba",
         "orientation": "v",
         "showlegend": true,
         "text": [
          300
         ],
         "textposition": "outside",
         "type": "bar",
         "x": [
          "Aruba"
         ],
         "xaxis": "x",
         "y": [
          300
         ],
         "yaxis": "y"
        },
        {
         "alignmentgroup": "True",
         "hovertemplate": "location=%{x}<br>new_cases=%{text}<extra></extra>",
         "legendgroup": "Andorra",
         "marker": {
          "color": "#EF553B",
          "pattern": {
           "shape": ""
          }
         },
         "name": "Andorra",
         "offsetgroup": "Andorra",
         "orientation": "v",
         "showlegend": true,
         "text": [
          299
         ],
         "textposition": "outside",
         "type": "bar",
         "x": [
          "Andorra"
         ],
         "xaxis": "x",
         "y": [
          299
         ],
         "yaxis": "y"
        },
        {
         "alignmentgroup": "True",
         "hovertemplate": "location=%{x}<br>new_cases=%{text}<extra></extra>",
         "legendgroup": "Lesotho",
         "marker": {
          "color": "#00cc96",
          "pattern": {
           "shape": ""
          }
         },
         "name": "Lesotho",
         "offsetgroup": "Lesotho",
         "orientation": "v",
         "showlegend": true,
         "text": [
          292
         ],
         "textposition": "outside",
         "type": "bar",
         "x": [
          "Lesotho"
         ],
         "xaxis": "x",
         "y": [
          292
         ],
         "yaxis": "y"
        },
        {
         "alignmentgroup": "True",
         "hovertemplate": "location=%{x}<br>new_cases=%{text}<extra></extra>",
         "legendgroup": "Burkina Faso",
         "marker": {
          "color": "#ab63fa",
          "pattern": {
           "shape": ""
          }
         },
         "name": "Burkina Faso",
         "offsetgroup": "Burkina Faso",
         "orientation": "v",
         "showlegend": true,
         "text": [
          292
         ],
         "textposition": "outside",
         "type": "bar",
         "x": [
          "Burkina Faso"
         ],
         "xaxis": "x",
         "y": [
          292
         ],
         "yaxis": "y"
        },
        {
         "alignmentgroup": "True",
         "hovertemplate": "location=%{x}<br>new_cases=%{text}<extra></extra>",
         "legendgroup": "Somalia",
         "marker": {
          "color": "#FFA15A",
          "pattern": {
           "shape": ""
          }
         },
         "name": "Somalia",
         "offsetgroup": "Somalia",
         "orientation": "v",
         "showlegend": true,
         "text": [
          288
         ],
         "textposition": "outside",
         "type": "bar",
         "x": [
          "Somalia"
         ],
         "xaxis": "x",
         "y": [
          288
         ],
         "yaxis": "y"
        },
        {
         "alignmentgroup": "True",
         "hovertemplate": "location=%{x}<br>new_cases=%{text}<extra></extra>",
         "legendgroup": "Haiti",
         "marker": {
          "color": "#19d3f3",
          "pattern": {
           "shape": ""
          }
         },
         "name": "Haiti",
         "offsetgroup": "Haiti",
         "orientation": "v",
         "showlegend": true,
         "text": [
          284
         ],
         "textposition": "outside",
         "type": "bar",
         "x": [
          "Haiti"
         ],
         "xaxis": "x",
         "y": [
          284
         ],
         "yaxis": "y"
        },
        {
         "alignmentgroup": "True",
         "hovertemplate": "location=%{x}<br>new_cases=%{text}<extra></extra>",
         "legendgroup": "Djibouti",
         "marker": {
          "color": "#FF6692",
          "pattern": {
           "shape": ""
          }
         },
         "name": "Djibouti",
         "offsetgroup": "Djibouti",
         "orientation": "v",
         "showlegend": true,
         "text": [
          280
         ],
         "textposition": "outside",
         "type": "bar",
         "x": [
          "Djibouti"
         ],
         "xaxis": "x",
         "y": [
          280
         ],
         "yaxis": "y"
        },
        {
         "alignmentgroup": "True",
         "hovertemplate": "location=%{x}<br>new_cases=%{text}<extra></extra>",
         "legendgroup": "Central African Republic",
         "marker": {
          "color": "#B6E880",
          "pattern": {
           "shape": ""
          }
         },
         "name": "Central African Republic",
         "offsetgroup": "Central African Republic",
         "orientation": "v",
         "showlegend": true,
         "text": [
          259
         ],
         "textposition": "outside",
         "type": "bar",
         "x": [
          "Central African Republic"
         ],
         "xaxis": "x",
         "y": [
          259
         ],
         "yaxis": "y"
        },
        {
         "alignmentgroup": "True",
         "hovertemplate": "location=%{x}<br>new_cases=%{text}<extra></extra>",
         "legendgroup": "Eswatini",
         "marker": {
          "color": "#FF97FF",
          "pattern": {
           "shape": ""
          }
         },
         "name": "Eswatini",
         "offsetgroup": "Eswatini",
         "orientation": "v",
         "showlegend": true,
         "text": [
          245
         ],
         "textposition": "outside",
         "type": "bar",
         "x": [
          "Eswatini"
         ],
         "xaxis": "x",
         "y": [
          245
         ],
         "yaxis": "y"
        },
        {
         "alignmentgroup": "True",
         "hovertemplate": "location=%{x}<br>new_cases=%{text}<extra></extra>",
         "legendgroup": "Jamaica",
         "marker": {
          "color": "#FECB52",
          "pattern": {
           "shape": ""
          }
         },
         "name": "Jamaica",
         "offsetgroup": "Jamaica",
         "orientation": "v",
         "showlegend": true,
         "text": [
          244
         ],
         "textposition": "outside",
         "type": "bar",
         "x": [
          "Jamaica"
         ],
         "xaxis": "x",
         "y": [
          244
         ],
         "yaxis": "y"
        },
        {
         "alignmentgroup": "True",
         "hovertemplate": "location=%{x}<br>new_cases=%{text}<extra></extra>",
         "legendgroup": "Gambia",
         "marker": {
          "color": "#636efa",
          "pattern": {
           "shape": ""
          }
         },
         "name": "Gambia",
         "offsetgroup": "Gambia",
         "orientation": "v",
         "showlegend": true,
         "text": [
          244
         ],
         "textposition": "outside",
         "type": "bar",
         "x": [
          "Gambia"
         ],
         "xaxis": "x",
         "y": [
          244
         ],
         "yaxis": "y"
        },
        {
         "alignmentgroup": "True",
         "hovertemplate": "location=%{x}<br>new_cases=%{text}<extra></extra>",
         "legendgroup": "Mali",
         "marker": {
          "color": "#EF553B",
          "pattern": {
           "shape": ""
          }
         },
         "name": "Mali",
         "offsetgroup": "Mali",
         "orientation": "v",
         "showlegend": true,
         "text": [
          233
         ],
         "textposition": "outside",
         "type": "bar",
         "x": [
          "Mali"
         ],
         "xaxis": "x",
         "y": [
          233
         ],
         "yaxis": "y"
        },
        {
         "alignmentgroup": "True",
         "hovertemplate": "location=%{x}<br>new_cases=%{text}<extra></extra>",
         "legendgroup": "Rwanda",
         "marker": {
          "color": "#00cc96",
          "pattern": {
           "shape": ""
          }
         },
         "name": "Rwanda",
         "offsetgroup": "Rwanda",
         "orientation": "v",
         "showlegend": true,
         "text": [
          231
         ],
         "textposition": "outside",
         "type": "bar",
         "x": [
          "Rwanda"
         ],
         "xaxis": "x",
         "y": [
          231
         ],
         "yaxis": "y"
        },
        {
         "alignmentgroup": "True",
         "hovertemplate": "location=%{x}<br>new_cases=%{text}<extra></extra>",
         "legendgroup": "Trinidad and Tobago",
         "marker": {
          "color": "#ab63fa",
          "pattern": {
           "shape": ""
          }
         },
         "name": "Trinidad and Tobago",
         "offsetgroup": "Trinidad and Tobago",
         "orientation": "v",
         "showlegend": true,
         "text": [
          227
         ],
         "textposition": "outside",
         "type": "bar",
         "x": [
          "Trinidad and Tobago"
         ],
         "xaxis": "x",
         "y": [
          227
         ],
         "yaxis": "y"
        },
        {
         "alignmentgroup": "True",
         "hovertemplate": "location=%{x}<br>new_cases=%{text}<extra></extra>",
         "legendgroup": "Senegal",
         "marker": {
          "color": "#FFA15A",
          "pattern": {
           "shape": ""
          }
         },
         "name": "Senegal",
         "offsetgroup": "Senegal",
         "orientation": "v",
         "showlegend": true,
         "text": [
          223
         ],
         "textposition": "outside",
         "type": "bar",
         "x": [
          "Senegal"
         ],
         "xaxis": "x",
         "y": [
          223
         ],
         "yaxis": "y"
        },
        {
         "alignmentgroup": "True",
         "hovertemplate": "location=%{x}<br>new_cases=%{text}<extra></extra>",
         "legendgroup": "Guam",
         "marker": {
          "color": "#19d3f3",
          "pattern": {
           "shape": ""
          }
         },
         "name": "Guam",
         "offsetgroup": "Guam",
         "orientation": "v",
         "showlegend": true,
         "text": [
          221
         ],
         "textposition": "outside",
         "type": "bar",
         "x": [
          "Guam"
         ],
         "xaxis": "x",
         "y": [
          221
         ],
         "yaxis": "y"
        },
        {
         "alignmentgroup": "True",
         "hovertemplate": "location=%{x}<br>new_cases=%{text}<extra></extra>",
         "legendgroup": "Guinea-Bissau",
         "marker": {
          "color": "#FF6692",
          "pattern": {
           "shape": ""
          }
         },
         "name": "Guinea-Bissau",
         "offsetgroup": "Guinea-Bissau",
         "orientation": "v",
         "showlegend": true,
         "text": [
          216
         ],
         "textposition": "outside",
         "type": "bar",
         "x": [
          "Guinea-Bissau"
         ],
         "xaxis": "x",
         "y": [
          216
         ],
         "yaxis": "y"
        },
        {
         "alignmentgroup": "True",
         "hovertemplate": "location=%{x}<br>new_cases=%{text}<extra></extra>",
         "legendgroup": "Maldives",
         "marker": {
          "color": "#B6E880",
          "pattern": {
           "shape": ""
          }
         },
         "name": "Maldives",
         "offsetgroup": "Maldives",
         "orientation": "v",
         "showlegend": true,
         "text": [
          215
         ],
         "textposition": "outside",
         "type": "bar",
         "x": [
          "Maldives"
         ],
         "xaxis": "x",
         "y": [
          215
         ],
         "yaxis": "y"
        },
        {
         "alignmentgroup": "True",
         "hovertemplate": "location=%{x}<br>new_cases=%{text}<extra></extra>",
         "legendgroup": "Guinea",
         "marker": {
          "color": "#FF97FF",
          "pattern": {
           "shape": ""
          }
         },
         "name": "Guinea",
         "offsetgroup": "Guinea",
         "orientation": "v",
         "showlegend": true,
         "text": [
          201
         ],
         "textposition": "outside",
         "type": "bar",
         "x": [
          "Guinea"
         ],
         "xaxis": "x",
         "y": [
          201
         ],
         "yaxis": "y"
        },
        {
         "alignmentgroup": "True",
         "hovertemplate": "location=%{x}<br>new_cases=%{text}<extra></extra>",
         "legendgroup": "Bahamas",
         "marker": {
          "color": "#FECB52",
          "pattern": {
           "shape": ""
          }
         },
         "name": "Bahamas",
         "offsetgroup": "Bahamas",
         "orientation": "v",
         "showlegend": true,
         "text": [
          194
         ],
         "textposition": "outside",
         "type": "bar",
         "x": [
          "Bahamas"
         ],
         "xaxis": "x",
         "y": [
          194
         ],
         "yaxis": "y"
        },
        {
         "alignmentgroup": "True",
         "hovertemplate": "location=%{x}<br>new_cases=%{text}<extra></extra>",
         "legendgroup": "Malawi",
         "marker": {
          "color": "#636efa",
          "pattern": {
           "shape": ""
          }
         },
         "name": "Malawi",
         "offsetgroup": "Malawi",
         "orientation": "v",
         "showlegend": true,
         "text": [
          192
         ],
         "textposition": "outside",
         "type": "bar",
         "x": [
          "Malawi"
         ],
         "xaxis": "x",
         "y": [
          192
         ],
         "yaxis": "y"
        },
        {
         "alignmentgroup": "True",
         "hovertemplate": "location=%{x}<br>new_cases=%{text}<extra></extra>",
         "legendgroup": "South Sudan",
         "marker": {
          "color": "#EF553B",
          "pattern": {
           "shape": ""
          }
         },
         "name": "South Sudan",
         "offsetgroup": "South Sudan",
         "orientation": "v",
         "showlegend": true,
         "text": [
          189
         ],
         "textposition": "outside",
         "type": "bar",
         "x": [
          "South Sudan"
         ],
         "xaxis": "x",
         "y": [
          189
         ],
         "yaxis": "y"
        },
        {
         "alignmentgroup": "True",
         "hovertemplate": "location=%{x}<br>new_cases=%{text}<extra></extra>",
         "legendgroup": "Eritrea",
         "marker": {
          "color": "#00cc96",
          "pattern": {
           "shape": ""
          }
         },
         "name": "Eritrea",
         "offsetgroup": "Eritrea",
         "orientation": "v",
         "showlegend": true,
         "text": [
          181
         ],
         "textposition": "outside",
         "type": "bar",
         "x": [
          "Eritrea"
         ],
         "xaxis": "x",
         "y": [
          181
         ],
         "yaxis": "y"
        },
        {
         "alignmentgroup": "True",
         "hovertemplate": "location=%{x}<br>new_cases=%{text}<extra></extra>",
         "legendgroup": "Tanzania",
         "marker": {
          "color": "#ab63fa",
          "pattern": {
           "shape": ""
          }
         },
         "name": "Tanzania",
         "offsetgroup": "Tanzania",
         "orientation": "v",
         "showlegend": true,
         "text": [
          180
         ],
         "textposition": "outside",
         "type": "bar",
         "x": [
          "Tanzania"
         ],
         "xaxis": "x",
         "y": [
          180
         ],
         "yaxis": "y"
        },
        {
         "alignmentgroup": "True",
         "hovertemplate": "location=%{x}<br>new_cases=%{text}<extra></extra>",
         "legendgroup": "Syria",
         "marker": {
          "color": "#FFA15A",
          "pattern": {
           "shape": ""
          }
         },
         "name": "Syria",
         "offsetgroup": "Syria",
         "orientation": "v",
         "showlegend": true,
         "text": [
          169
         ],
         "textposition": "outside",
         "type": "bar",
         "x": [
          "Syria"
         ],
         "xaxis": "x",
         "y": [
          169
         ],
         "yaxis": "y"
        },
        {
         "alignmentgroup": "True",
         "hovertemplate": "location=%{x}<br>new_cases=%{text}<extra></extra>",
         "legendgroup": "Cape Verde",
         "marker": {
          "color": "#19d3f3",
          "pattern": {
           "shape": ""
          }
         },
         "name": "Cape Verde",
         "offsetgroup": "Cape Verde",
         "orientation": "v",
         "showlegend": true,
         "text": [
          159
         ],
         "textposition": "outside",
         "type": "bar",
         "x": [
          "Cape Verde"
         ],
         "xaxis": "x",
         "y": [
          159
         ],
         "yaxis": "y"
        },
        {
         "alignmentgroup": "True",
         "hovertemplate": "location=%{x}<br>new_cases=%{text}<extra></extra>",
         "legendgroup": "Equatorial Guinea",
         "marker": {
          "color": "#FF6692",
          "pattern": {
           "shape": ""
          }
         },
         "name": "Equatorial Guinea",
         "offsetgroup": "Equatorial Guinea",
         "orientation": "v",
         "showlegend": true,
         "text": [
          157
         ],
         "textposition": "outside",
         "type": "bar",
         "x": [
          "Equatorial Guinea"
         ],
         "xaxis": "x",
         "y": [
          157
         ],
         "yaxis": "y"
        },
        {
         "alignmentgroup": "True",
         "hovertemplate": "location=%{x}<br>new_cases=%{text}<extra></extra>",
         "legendgroup": "Benin",
         "marker": {
          "color": "#B6E880",
          "pattern": {
           "shape": ""
          }
         },
         "name": "Benin",
         "offsetgroup": "Benin",
         "orientation": "v",
         "showlegend": true,
         "text": [
          151
         ],
         "textposition": "outside",
         "type": "bar",
         "x": [
          "Benin"
         ],
         "xaxis": "x",
         "y": [
          151
         ],
         "yaxis": "y"
        },
        {
         "alignmentgroup": "True",
         "hovertemplate": "location=%{x}<br>new_cases=%{text}<extra></extra>",
         "legendgroup": "Sao Tome and Principe",
         "marker": {
          "color": "#FF97FF",
          "pattern": {
           "shape": ""
          }
         },
         "name": "Sao Tome and Principe",
         "offsetgroup": "Sao Tome and Principe",
         "orientation": "v",
         "showlegend": true,
         "text": [
          142
         ],
         "textposition": "outside",
         "type": "bar",
         "x": [
          "Sao Tome and Principe"
         ],
         "xaxis": "x",
         "y": [
          142
         ],
         "yaxis": "y"
        },
        {
         "alignmentgroup": "True",
         "hovertemplate": "location=%{x}<br>new_cases=%{text}<extra></extra>",
         "legendgroup": "Suriname",
         "marker": {
          "color": "#FECB52",
          "pattern": {
           "shape": ""
          }
         },
         "name": "Suriname",
         "offsetgroup": "Suriname",
         "orientation": "v",
         "showlegend": true,
         "text": [
          139
         ],
         "textposition": "outside",
         "type": "bar",
         "x": [
          "Suriname"
         ],
         "xaxis": "x",
         "y": [
          139
         ],
         "yaxis": "y"
        },
        {
         "alignmentgroup": "True",
         "hovertemplate": "location=%{x}<br>new_cases=%{text}<extra></extra>",
         "legendgroup": "Guyana",
         "marker": {
          "color": "#636efa",
          "pattern": {
           "shape": ""
          }
         },
         "name": "Guyana",
         "offsetgroup": "Guyana",
         "orientation": "v",
         "showlegend": true,
         "text": [
          133
         ],
         "textposition": "outside",
         "type": "bar",
         "x": [
          "Guyana"
         ],
         "xaxis": "x",
         "y": [
          133
         ],
         "yaxis": "y"
        },
        {
         "alignmentgroup": "True",
         "hovertemplate": "location=%{x}<br>new_cases=%{text}<extra></extra>",
         "legendgroup": "Jersey",
         "marker": {
          "color": "#EF553B",
          "pattern": {
           "shape": ""
          }
         },
         "name": "Jersey",
         "offsetgroup": "Jersey",
         "orientation": "v",
         "showlegend": true,
         "text": [
          124
         ],
         "textposition": "outside",
         "type": "bar",
         "x": [
          "Jersey"
         ],
         "xaxis": "x",
         "y": [
          124
         ],
         "yaxis": "y"
        },
        {
         "alignmentgroup": "True",
         "hovertemplate": "location=%{x}<br>new_cases=%{text}<extra></extra>",
         "legendgroup": "Yemen",
         "marker": {
          "color": "#00cc96",
          "pattern": {
           "shape": ""
          }
         },
         "name": "Yemen",
         "offsetgroup": "Yemen",
         "orientation": "v",
         "showlegend": true,
         "text": [
          116
         ],
         "textposition": "outside",
         "type": "bar",
         "x": [
          "Yemen"
         ],
         "xaxis": "x",
         "y": [
          116
         ],
         "yaxis": "y"
        },
        {
         "alignmentgroup": "True",
         "hovertemplate": "location=%{x}<br>new_cases=%{text}<extra></extra>",
         "legendgroup": "Niger",
         "marker": {
          "color": "#ab63fa",
          "pattern": {
           "shape": ""
          }
         },
         "name": "Niger",
         "offsetgroup": "Niger",
         "orientation": "v",
         "showlegend": true,
         "text": [
          109
         ],
         "textposition": "outside",
         "type": "bar",
         "x": [
          "Niger"
         ],
         "xaxis": "x",
         "y": [
          109
         ],
         "yaxis": "y"
        },
        {
         "alignmentgroup": "True",
         "hovertemplate": "location=%{x}<br>new_cases=%{text}<extra></extra>",
         "legendgroup": "Sierra Leone",
         "marker": {
          "color": "#FFA15A",
          "pattern": {
           "shape": ""
          }
         },
         "name": "Sierra Leone",
         "offsetgroup": "Sierra Leone",
         "orientation": "v",
         "showlegend": true,
         "text": [
          100
         ],
         "textposition": "outside",
         "type": "bar",
         "x": [
          "Sierra Leone"
         ],
         "xaxis": "x",
         "y": [
          100
         ],
         "yaxis": "y"
        },
        {
         "alignmentgroup": "True",
         "hovertemplate": "location=%{x}<br>new_cases=%{text}<extra></extra>",
         "legendgroup": "Saint Martin (French part)",
         "marker": {
          "color": "#19d3f3",
          "pattern": {
           "shape": ""
          }
         },
         "name": "Saint Martin (French part)",
         "offsetgroup": "Saint Martin (French part)",
         "orientation": "v",
         "showlegend": true,
         "text": [
          94
         ],
         "textposition": "outside",
         "type": "bar",
         "x": [
          "Saint Martin (French part)"
         ],
         "xaxis": "x",
         "y": [
          94
         ],
         "yaxis": "y"
        },
        {
         "alignmentgroup": "True",
         "hovertemplate": "location=%{x}<br>new_cases=%{text}<extra></extra>",
         "legendgroup": "Gibraltar",
         "marker": {
          "color": "#FF6692",
          "pattern": {
           "shape": ""
          }
         },
         "name": "Gibraltar",
         "offsetgroup": "Gibraltar",
         "orientation": "v",
         "showlegend": true,
         "text": [
          87
         ],
         "textposition": "outside",
         "type": "bar",
         "x": [
          "Gibraltar"
         ],
         "xaxis": "x",
         "y": [
          87
         ],
         "yaxis": "y"
        },
        {
         "alignmentgroup": "True",
         "hovertemplate": "location=%{x}<br>new_cases=%{text}<extra></extra>",
         "legendgroup": "Chad",
         "marker": {
          "color": "#B6E880",
          "pattern": {
           "shape": ""
          }
         },
         "name": "Chad",
         "offsetgroup": "Chad",
         "orientation": "v",
         "showlegend": true,
         "text": [
          83
         ],
         "textposition": "outside",
         "type": "bar",
         "x": [
          "Chad"
         ],
         "xaxis": "x",
         "y": [
          83
         ],
         "yaxis": "y"
        },
        {
         "alignmentgroup": "True",
         "hovertemplate": "location=%{x}<br>new_cases=%{text}<extra></extra>",
         "legendgroup": "New Zealand",
         "marker": {
          "color": "#FF97FF",
          "pattern": {
           "shape": ""
          }
         },
         "name": "New Zealand",
         "offsetgroup": "New Zealand",
         "orientation": "v",
         "showlegend": true,
         "text": [
          78
         ],
         "textposition": "outside",
         "type": "bar",
         "x": [
          "New Zealand"
         ],
         "xaxis": "x",
         "y": [
          78
         ],
         "yaxis": "y"
        },
        {
         "alignmentgroup": "True",
         "hovertemplate": "location=%{x}<br>new_cases=%{text}<extra></extra>",
         "legendgroup": "United States Virgin Islands",
         "marker": {
          "color": "#FECB52",
          "pattern": {
           "shape": ""
          }
         },
         "name": "United States Virgin Islands",
         "offsetgroup": "United States Virgin Islands",
         "orientation": "v",
         "showlegend": true,
         "text": [
          63
         ],
         "textposition": "outside",
         "type": "bar",
         "x": [
          "United States Virgin Islands"
         ],
         "xaxis": "x",
         "y": [
          63
         ],
         "yaxis": "y"
        },
        {
         "alignmentgroup": "True",
         "hovertemplate": "location=%{x}<br>new_cases=%{text}<extra></extra>",
         "legendgroup": "Liechtenstein",
         "marker": {
          "color": "#636efa",
          "pattern": {
           "shape": ""
          }
         },
         "name": "Liechtenstein",
         "offsetgroup": "Liechtenstein",
         "orientation": "v",
         "showlegend": true,
         "text": [
          59
         ],
         "textposition": "outside",
         "type": "bar",
         "x": [
          "Liechtenstein"
         ],
         "xaxis": "x",
         "y": [
          59
         ],
         "yaxis": "y"
        },
        {
         "alignmentgroup": "True",
         "hovertemplate": "location=%{x}<br>new_cases=%{text}<extra></extra>",
         "legendgroup": "Togo",
         "marker": {
          "color": "#EF553B",
          "pattern": {
           "shape": ""
          }
         },
         "name": "Togo",
         "offsetgroup": "Togo",
         "orientation": "v",
         "showlegend": true,
         "text": [
          58
         ],
         "textposition": "outside",
         "type": "bar",
         "x": [
          "Togo"
         ],
         "xaxis": "x",
         "y": [
          58
         ],
         "yaxis": "y"
        },
        {
         "alignmentgroup": "True",
         "hovertemplate": "location=%{x}<br>new_cases=%{text}<extra></extra>",
         "legendgroup": "San Marino",
         "marker": {
          "color": "#00cc96",
          "pattern": {
           "shape": ""
          }
         },
         "name": "San Marino",
         "offsetgroup": "San Marino",
         "orientation": "v",
         "showlegend": true,
         "text": [
          58
         ],
         "textposition": "outside",
         "type": "bar",
         "x": [
          "San Marino"
         ],
         "xaxis": "x",
         "y": [
          58
         ],
         "yaxis": "y"
        },
        {
         "alignmentgroup": "True",
         "hovertemplate": "location=%{x}<br>new_cases=%{text}<extra></extra>",
         "legendgroup": "Mongolia",
         "marker": {
          "color": "#ab63fa",
          "pattern": {
           "shape": ""
          }
         },
         "name": "Mongolia",
         "offsetgroup": "Mongolia",
         "orientation": "v",
         "showlegend": true,
         "text": [
          57
         ],
         "textposition": "outside",
         "type": "bar",
         "x": [
          "Mongolia"
         ],
         "xaxis": "x",
         "y": [
          57
         ],
         "yaxis": "y"
        },
        {
         "alignmentgroup": "True",
         "hovertemplate": "location=%{x}<br>new_cases=%{text}<extra></extra>",
         "legendgroup": "Papua New Guinea",
         "marker": {
          "color": "#FFA15A",
          "pattern": {
           "shape": ""
          }
         },
         "name": "Papua New Guinea",
         "offsetgroup": "Papua New Guinea",
         "orientation": "v",
         "showlegend": true,
         "text": [
          55
         ],
         "textposition": "outside",
         "type": "bar",
         "x": [
          "Papua New Guinea"
         ],
         "xaxis": "x",
         "y": [
          55
         ],
         "yaxis": "y"
        },
        {
         "alignmentgroup": "True",
         "hovertemplate": "location=%{x}<br>new_cases=%{text}<extra></extra>",
         "legendgroup": "Sint Maarten (Dutch part)",
         "marker": {
          "color": "#19d3f3",
          "pattern": {
           "shape": ""
          }
         },
         "name": "Sint Maarten (Dutch part)",
         "offsetgroup": "Sint Maarten (Dutch part)",
         "orientation": "v",
         "showlegend": true,
         "text": [
          54
         ],
         "textposition": "outside",
         "type": "bar",
         "x": [
          "Sint Maarten (Dutch part)"
         ],
         "xaxis": "x",
         "y": [
          54
         ],
         "yaxis": "y"
        },
        {
         "alignmentgroup": "True",
         "hovertemplate": "location=%{x}<br>new_cases=%{text}<extra></extra>",
         "legendgroup": "Seychelles",
         "marker": {
          "color": "#FF6692",
          "pattern": {
           "shape": ""
          }
         },
         "name": "Seychelles",
         "offsetgroup": "Seychelles",
         "orientation": "v",
         "showlegend": true,
         "text": [
          50
         ],
         "textposition": "outside",
         "type": "bar",
         "x": [
          "Seychelles"
         ],
         "xaxis": "x",
         "y": [
          50
         ],
         "yaxis": "y"
        },
        {
         "alignmentgroup": "True",
         "hovertemplate": "location=%{x}<br>new_cases=%{text}<extra></extra>",
         "legendgroup": "Vietnam",
         "marker": {
          "color": "#B6E880",
          "pattern": {
           "shape": ""
          }
         },
         "name": "Vietnam",
         "offsetgroup": "Vietnam",
         "orientation": "v",
         "showlegend": true,
         "text": [
          50
         ],
         "textposition": "outside",
         "type": "bar",
         "x": [
          "Vietnam"
         ],
         "xaxis": "x",
         "y": [
          50
         ],
         "yaxis": "y"
        },
        {
         "alignmentgroup": "True",
         "hovertemplate": "location=%{x}<br>new_cases=%{text}<extra></extra>",
         "legendgroup": "Turks and Caicos Islands",
         "marker": {
          "color": "#FF97FF",
          "pattern": {
           "shape": ""
          }
         },
         "name": "Turks and Caicos Islands",
         "offsetgroup": "Turks and Caicos Islands",
         "orientation": "v",
         "showlegend": true,
         "text": [
          48
         ],
         "textposition": "outside",
         "type": "bar",
         "x": [
          "Turks and Caicos Islands"
         ],
         "xaxis": "x",
         "y": [
          48
         ],
         "yaxis": "y"
        },
        {
         "alignmentgroup": "True",
         "hovertemplate": "location=%{x}<br>new_cases=%{text}<extra></extra>",
         "legendgroup": "Mauritius",
         "marker": {
          "color": "#FECB52",
          "pattern": {
           "shape": ""
          }
         },
         "name": "Mauritius",
         "offsetgroup": "Mauritius",
         "orientation": "v",
         "showlegend": true,
         "text": [
          41
         ],
         "textposition": "outside",
         "type": "bar",
         "x": [
          "Mauritius"
         ],
         "xaxis": "x",
         "y": [
          41
         ],
         "yaxis": "y"
        },
        {
         "alignmentgroup": "True",
         "hovertemplate": "location=%{x}<br>new_cases=%{text}<extra></extra>",
         "legendgroup": "Liberia",
         "marker": {
          "color": "#636efa",
          "pattern": {
           "shape": ""
          }
         },
         "name": "Liberia",
         "offsetgroup": "Liberia",
         "orientation": "v",
         "showlegend": true,
         "text": [
          40
         ],
         "textposition": "outside",
         "type": "bar",
         "x": [
          "Liberia"
         ],
         "xaxis": "x",
         "y": [
          40
         ],
         "yaxis": "y"
        },
        {
         "alignmentgroup": "True",
         "hovertemplate": "location=%{x}<br>new_cases=%{text}<extra></extra>",
         "legendgroup": "Burundi",
         "marker": {
          "color": "#EF553B",
          "pattern": {
           "shape": ""
          }
         },
         "name": "Burundi",
         "offsetgroup": "Burundi",
         "orientation": "v",
         "showlegend": true,
         "text": [
          40
         ],
         "textposition": "outside",
         "type": "bar",
         "x": [
          "Burundi"
         ],
         "xaxis": "x",
         "y": [
          40
         ],
         "yaxis": "y"
        },
        {
         "alignmentgroup": "True",
         "hovertemplate": "location=%{x}<br>new_cases=%{text}<extra></extra>",
         "legendgroup": "Bermuda",
         "marker": {
          "color": "#00cc96",
          "pattern": {
           "shape": ""
          }
         },
         "name": "Bermuda",
         "offsetgroup": "Bermuda",
         "orientation": "v",
         "showlegend": true,
         "text": [
          40
         ],
         "textposition": "outside",
         "type": "bar",
         "x": [
          "Bermuda"
         ],
         "xaxis": "x",
         "y": [
          40
         ],
         "yaxis": "y"
        },
        {
         "alignmentgroup": "True",
         "hovertemplate": "location=%{x}<br>new_cases=%{text}<extra></extra>",
         "legendgroup": "Antigua and Barbuda",
         "marker": {
          "color": "#ab63fa",
          "pattern": {
           "shape": ""
          }
         },
         "name": "Antigua and Barbuda",
         "offsetgroup": "Antigua and Barbuda",
         "orientation": "v",
         "showlegend": true,
         "text": [
          39
         ],
         "textposition": "outside",
         "type": "bar",
         "x": [
          "Antigua and Barbuda"
         ],
         "xaxis": "x",
         "y": [
          39
         ],
         "yaxis": "y"
        },
        {
         "alignmentgroup": "True",
         "hovertemplate": "location=%{x}<br>new_cases=%{text}<extra></extra>",
         "legendgroup": "Faeroe Islands",
         "marker": {
          "color": "#FFA15A",
          "pattern": {
           "shape": ""
          }
         },
         "name": "Faeroe Islands",
         "offsetgroup": "Faeroe Islands",
         "orientation": "v",
         "showlegend": true,
         "text": [
          38
         ],
         "textposition": "outside",
         "type": "bar",
         "x": [
          "Faeroe Islands"
         ],
         "xaxis": "x",
         "y": [
          38
         ],
         "yaxis": "y"
        },
        {
         "alignmentgroup": "True",
         "hovertemplate": "location=%{x}<br>new_cases=%{text}<extra></extra>",
         "legendgroup": "Comoros",
         "marker": {
          "color": "#19d3f3",
          "pattern": {
           "shape": ""
          }
         },
         "name": "Comoros",
         "offsetgroup": "Comoros",
         "orientation": "v",
         "showlegend": true,
         "text": [
          37
         ],
         "textposition": "outside",
         "type": "bar",
         "x": [
          "Comoros"
         ],
         "xaxis": "x",
         "y": [
          37
         ],
         "yaxis": "y"
        },
        {
         "alignmentgroup": "True",
         "hovertemplate": "location=%{x}<br>new_cases=%{text}<extra></extra>",
         "legendgroup": "Bhutan",
         "marker": {
          "color": "#FF6692",
          "pattern": {
           "shape": ""
          }
         },
         "name": "Bhutan",
         "offsetgroup": "Bhutan",
         "orientation": "v",
         "showlegend": true,
         "text": [
          37
         ],
         "textposition": "outside",
         "type": "bar",
         "x": [
          "Bhutan"
         ],
         "xaxis": "x",
         "y": [
          37
         ],
         "yaxis": "y"
        },
        {
         "alignmentgroup": "True",
         "hovertemplate": "location=%{x}<br>new_cases=%{text}<extra></extra>",
         "legendgroup": "Monaco",
         "marker": {
          "color": "#B6E880",
          "pattern": {
           "shape": ""
          }
         },
         "name": "Monaco",
         "offsetgroup": "Monaco",
         "orientation": "v",
         "showlegend": true,
         "text": [
          32
         ],
         "textposition": "outside",
         "type": "bar",
         "x": [
          "Monaco"
         ],
         "xaxis": "x",
         "y": [
          32
         ],
         "yaxis": "y"
        },
        {
         "alignmentgroup": "True",
         "hovertemplate": "location=%{x}<br>new_cases=%{text}<extra></extra>",
         "legendgroup": "Isle of Man",
         "marker": {
          "color": "#FF97FF",
          "pattern": {
           "shape": ""
          }
         },
         "name": "Isle of Man",
         "offsetgroup": "Isle of Man",
         "orientation": "v",
         "showlegend": true,
         "text": [
          31
         ],
         "textposition": "outside",
         "type": "bar",
         "x": [
          "Isle of Man"
         ],
         "xaxis": "x",
         "y": [
          31
         ],
         "yaxis": "y"
        },
        {
         "alignmentgroup": "True",
         "hovertemplate": "location=%{x}<br>new_cases=%{text}<extra></extra>",
         "legendgroup": "Cambodia",
         "marker": {
          "color": "#FECB52",
          "pattern": {
           "shape": ""
          }
         },
         "name": "Cambodia",
         "offsetgroup": "Cambodia",
         "orientation": "v",
         "showlegend": true,
         "text": [
          31
         ],
         "textposition": "outside",
         "type": "bar",
         "x": [
          "Cambodia"
         ],
         "xaxis": "x",
         "y": [
          31
         ],
         "yaxis": "y"
        },
        {
         "alignmentgroup": "True",
         "hovertemplate": "location=%{x}<br>new_cases=%{text}<extra></extra>",
         "legendgroup": "Grenada",
         "marker": {
          "color": "#636efa",
          "pattern": {
           "shape": ""
          }
         },
         "name": "Grenada",
         "offsetgroup": "Grenada",
         "orientation": "v",
         "showlegend": true,
         "text": [
          26
         ],
         "textposition": "outside",
         "type": "bar",
         "x": [
          "Grenada"
         ],
         "xaxis": "x",
         "y": [
          26
         ],
         "yaxis": "y"
        },
        {
         "alignmentgroup": "True",
         "hovertemplate": "location=%{x}<br>new_cases=%{text}<extra></extra>",
         "legendgroup": "Saint Lucia",
         "marker": {
          "color": "#EF553B",
          "pattern": {
           "shape": ""
          }
         },
         "name": "Saint Lucia",
         "offsetgroup": "Saint Lucia",
         "orientation": "v",
         "showlegend": true,
         "text": [
          26
         ],
         "textposition": "outside",
         "type": "bar",
         "x": [
          "Saint Lucia"
         ],
         "xaxis": "x",
         "y": [
          26
         ],
         "yaxis": "y"
        },
        {
         "alignmentgroup": "True",
         "hovertemplate": "location=%{x}<br>new_cases=%{text}<extra></extra>",
         "legendgroup": "Saint Barthelemy",
         "marker": {
          "color": "#00cc96",
          "pattern": {
           "shape": ""
          }
         },
         "name": "Saint Barthelemy",
         "offsetgroup": "Saint Barthelemy",
         "orientation": "v",
         "showlegend": true,
         "text": [
          25
         ],
         "textposition": "outside",
         "type": "bar",
         "x": [
          "Saint Barthelemy"
         ],
         "xaxis": "x",
         "y": [
          25
         ],
         "yaxis": "y"
        },
        {
         "alignmentgroup": "True",
         "hovertemplate": "location=%{x}<br>new_cases=%{text}<extra></extra>",
         "legendgroup": "Guernsey",
         "marker": {
          "color": "#ab63fa",
          "pattern": {
           "shape": ""
          }
         },
         "name": "Guernsey",
         "offsetgroup": "Guernsey",
         "orientation": "v",
         "showlegend": true,
         "text": [
          24
         ],
         "textposition": "outside",
         "type": "bar",
         "x": [
          "Guernsey"
         ],
         "xaxis": "x",
         "y": [
          24
         ],
         "yaxis": "y"
        },
        {
         "alignmentgroup": "True",
         "hovertemplate": "location=%{x}<br>new_cases=%{text}<extra></extra>",
         "legendgroup": "Bonaire Sint Eustatius and Saba",
         "marker": {
          "color": "#FFA15A",
          "pattern": {
           "shape": ""
          }
         },
         "name": "Bonaire Sint Eustatius and Saba",
         "offsetgroup": "Bonaire Sint Eustatius and Saba",
         "orientation": "v",
         "showlegend": true,
         "text": [
          21
         ],
         "textposition": "outside",
         "type": "bar",
         "x": [
          "Bonaire Sint Eustatius and Saba"
         ],
         "xaxis": "x",
         "y": [
          21
         ],
         "yaxis": "y"
        },
        {
         "alignmentgroup": "True",
         "hovertemplate": "location=%{x}<br>new_cases=%{text}<extra></extra>",
         "legendgroup": "Cayman Islands",
         "marker": {
          "color": "#19d3f3",
          "pattern": {
           "shape": ""
          }
         },
         "name": "Cayman Islands",
         "offsetgroup": "Cayman Islands",
         "orientation": "v",
         "showlegend": true,
         "text": [
          17
         ],
         "textposition": "outside",
         "type": "bar",
         "x": [
          "Cayman Islands"
         ],
         "xaxis": "x",
         "y": [
          17
         ],
         "yaxis": "y"
        },
        {
         "alignmentgroup": "True",
         "hovertemplate": "location=%{x}<br>new_cases=%{text}<extra></extra>",
         "legendgroup": "Barbados",
         "marker": {
          "color": "#FF6692",
          "pattern": {
           "shape": ""
          }
         },
         "name": "Barbados",
         "offsetgroup": "Barbados",
         "orientation": "v",
         "showlegend": true,
         "text": [
          16
         ],
         "textposition": "outside",
         "type": "bar",
         "x": [
          "Barbados"
         ],
         "xaxis": "x",
         "y": [
          16
         ],
         "yaxis": "y"
        },
        {
         "alignmentgroup": "True",
         "hovertemplate": "location=%{x}<br>new_cases=%{text}<extra></extra>",
         "legendgroup": "British Virgin Islands",
         "marker": {
          "color": "#B6E880",
          "pattern": {
           "shape": ""
          }
         },
         "name": "British Virgin Islands",
         "offsetgroup": "British Virgin Islands",
         "orientation": "v",
         "showlegend": true,
         "text": [
          16
         ],
         "textposition": "outside",
         "type": "bar",
         "x": [
          "British Virgin Islands"
         ],
         "xaxis": "x",
         "y": [
          16
         ],
         "yaxis": "y"
        },
        {
         "alignmentgroup": "True",
         "hovertemplate": "location=%{x}<br>new_cases=%{text}<extra></extra>",
         "legendgroup": "Laos",
         "marker": {
          "color": "#FF97FF",
          "pattern": {
           "shape": ""
          }
         },
         "name": "Laos",
         "offsetgroup": "Laos",
         "orientation": "v",
         "showlegend": true,
         "text": [
          14
         ],
         "textposition": "outside",
         "type": "bar",
         "x": [
          "Laos"
         ],
         "xaxis": "x",
         "y": [
          14
         ],
         "yaxis": "y"
        },
        {
         "alignmentgroup": "True",
         "hovertemplate": "location=%{x}<br>new_cases=%{text}<extra></extra>",
         "legendgroup": "Brunei",
         "marker": {
          "color": "#FECB52",
          "pattern": {
           "shape": ""
          }
         },
         "name": "Brunei",
         "offsetgroup": "Brunei",
         "orientation": "v",
         "showlegend": true,
         "text": [
          14
         ],
         "textposition": "outside",
         "type": "bar",
         "x": [
          "Brunei"
         ],
         "xaxis": "x",
         "y": [
          14
         ],
         "yaxis": "y"
        },
        {
         "alignmentgroup": "True",
         "hovertemplate": "location=%{x}<br>new_cases=%{text}<extra></extra>",
         "legendgroup": "Dominica",
         "marker": {
          "color": "#636efa",
          "pattern": {
           "shape": ""
          }
         },
         "name": "Dominica",
         "offsetgroup": "Dominica",
         "orientation": "v",
         "showlegend": true,
         "text": [
          13
         ],
         "textposition": "outside",
         "type": "bar",
         "x": [
          "Dominica"
         ],
         "xaxis": "x",
         "y": [
          13
         ],
         "yaxis": "y"
        },
        {
         "alignmentgroup": "True",
         "hovertemplate": "location=%{x}<br>new_cases=%{text}<extra></extra>",
         "legendgroup": "Saint Vincent and the Grenadines",
         "marker": {
          "color": "#EF553B",
          "pattern": {
           "shape": ""
          }
         },
         "name": "Saint Vincent and the Grenadines",
         "offsetgroup": "Saint Vincent and the Grenadines",
         "orientation": "v",
         "showlegend": true,
         "text": [
          12
         ],
         "textposition": "outside",
         "type": "bar",
         "x": [
          "Saint Vincent and the Grenadines"
         ],
         "xaxis": "x",
         "y": [
          12
         ],
         "yaxis": "y"
        },
        {
         "alignmentgroup": "True",
         "hovertemplate": "location=%{x}<br>new_cases=%{text}<extra></extra>",
         "legendgroup": "Timor",
         "marker": {
          "color": "#00cc96",
          "pattern": {
           "shape": ""
          }
         },
         "name": "Timor",
         "offsetgroup": "Timor",
         "orientation": "v",
         "showlegend": true,
         "text": [
          10
         ],
         "textposition": "outside",
         "type": "bar",
         "x": [
          "Timor"
         ],
         "xaxis": "x",
         "y": [
          10
         ],
         "yaxis": "y"
        },
        {
         "alignmentgroup": "True",
         "hovertemplate": "location=%{x}<br>new_cases=%{text}<extra></extra>",
         "legendgroup": "Vatican",
         "marker": {
          "color": "#ab63fa",
          "pattern": {
           "shape": ""
          }
         },
         "name": "Vatican",
         "offsetgroup": "Vatican",
         "orientation": "v",
         "showlegend": true,
         "text": [
          7
         ],
         "textposition": "outside",
         "type": "bar",
         "x": [
          "Vatican"
         ],
         "xaxis": "x",
         "y": [
          7
         ],
         "yaxis": "y"
        },
        {
         "alignmentgroup": "True",
         "hovertemplate": "location=%{x}<br>new_cases=%{text}<extra></extra>",
         "legendgroup": "Saint Kitts and Nevis",
         "marker": {
          "color": "#FFA15A",
          "pattern": {
           "shape": ""
          }
         },
         "name": "Saint Kitts and Nevis",
         "offsetgroup": "Saint Kitts and Nevis",
         "orientation": "v",
         "showlegend": true,
         "text": [
          6
         ],
         "textposition": "outside",
         "type": "bar",
         "x": [
          "Saint Kitts and Nevis"
         ],
         "xaxis": "x",
         "y": [
          6
         ],
         "yaxis": "y"
        },
        {
         "alignmentgroup": "True",
         "hovertemplate": "location=%{x}<br>new_cases=%{text}<extra></extra>",
         "legendgroup": "Northern Mariana Islands",
         "marker": {
          "color": "#19d3f3",
          "pattern": {
           "shape": ""
          }
         },
         "name": "Northern Mariana Islands",
         "offsetgroup": "Northern Mariana Islands",
         "orientation": "v",
         "showlegend": true,
         "text": [
          6
         ],
         "textposition": "outside",
         "type": "bar",
         "x": [
          "Northern Mariana Islands"
         ],
         "xaxis": "x",
         "y": [
          6
         ],
         "yaxis": "y"
        },
        {
         "alignmentgroup": "True",
         "hovertemplate": "location=%{x}<br>new_cases=%{text}<extra></extra>",
         "legendgroup": "Falkland Islands",
         "marker": {
          "color": "#FF6692",
          "pattern": {
           "shape": ""
          }
         },
         "name": "Falkland Islands",
         "offsetgroup": "Falkland Islands",
         "orientation": "v",
         "showlegend": true,
         "text": [
          6
         ],
         "textposition": "outside",
         "type": "bar",
         "x": [
          "Falkland Islands"
         ],
         "xaxis": "x",
         "y": [
          6
         ],
         "yaxis": "y"
        },
        {
         "alignmentgroup": "True",
         "hovertemplate": "location=%{x}<br>new_cases=%{text}<extra></extra>",
         "legendgroup": "Uzbekistan",
         "marker": {
          "color": "#B6E880",
          "pattern": {
           "shape": ""
          }
         },
         "name": "Uzbekistan",
         "offsetgroup": "Uzbekistan",
         "orientation": "v",
         "showlegend": true,
         "text": [
          5
         ],
         "textposition": "outside",
         "type": "bar",
         "x": [
          "Uzbekistan"
         ],
         "xaxis": "x",
         "y": [
          5
         ],
         "yaxis": "y"
        },
        {
         "alignmentgroup": "True",
         "hovertemplate": "location=%{x}<br>new_cases=%{text}<extra></extra>",
         "legendgroup": "Greenland",
         "marker": {
          "color": "#FF97FF",
          "pattern": {
           "shape": ""
          }
         },
         "name": "Greenland",
         "offsetgroup": "Greenland",
         "orientation": "v",
         "showlegend": true,
         "text": [
          5
         ],
         "textposition": "outside",
         "type": "bar",
         "x": [
          "Greenland"
         ],
         "xaxis": "x",
         "y": [
          5
         ],
         "yaxis": "y"
        },
        {
         "alignmentgroup": "True",
         "hovertemplate": "location=%{x}<br>new_cases=%{text}<extra></extra>",
         "legendgroup": "Fiji",
         "marker": {
          "color": "#FECB52",
          "pattern": {
           "shape": ""
          }
         },
         "name": "Fiji",
         "offsetgroup": "Fiji",
         "orientation": "v",
         "showlegend": true,
         "text": [
          5
         ],
         "textposition": "outside",
         "type": "bar",
         "x": [
          "Fiji"
         ],
         "xaxis": "x",
         "y": [
          5
         ],
         "yaxis": "y"
        },
        {
         "alignmentgroup": "True",
         "hovertemplate": "location=%{x}<br>new_cases=%{text}<extra></extra>",
         "legendgroup": "Solomon Islands",
         "marker": {
          "color": "#636efa",
          "pattern": {
           "shape": ""
          }
         },
         "name": "Solomon Islands",
         "offsetgroup": "Solomon Islands",
         "orientation": "v",
         "showlegend": true,
         "text": [
          5
         ],
         "textposition": "outside",
         "type": "bar",
         "x": [
          "Solomon Islands"
         ],
         "xaxis": "x",
         "y": [
          5
         ],
         "yaxis": "y"
        },
        {
         "alignmentgroup": "True",
         "hovertemplate": "location=%{x}<br>new_cases=%{text}<extra></extra>",
         "legendgroup": "New Caledonia",
         "marker": {
          "color": "#EF553B",
          "pattern": {
           "shape": ""
          }
         },
         "name": "New Caledonia",
         "offsetgroup": "New Caledonia",
         "orientation": "v",
         "showlegend": true,
         "text": [
          4
         ],
         "textposition": "outside",
         "type": "bar",
         "x": [
          "New Caledonia"
         ],
         "xaxis": "x",
         "y": [
          4
         ],
         "yaxis": "y"
        },
        {
         "alignmentgroup": "True",
         "hovertemplate": "location=%{x}<br>new_cases=%{text}<extra></extra>",
         "legendgroup": "Marshall Islands",
         "marker": {
          "color": "#00cc96",
          "pattern": {
           "shape": ""
          }
         },
         "name": "Marshall Islands",
         "offsetgroup": "Marshall Islands",
         "orientation": "v",
         "showlegend": true,
         "text": [
          3
         ],
         "textposition": "outside",
         "type": "bar",
         "x": [
          "Marshall Islands"
         ],
         "xaxis": "x",
         "y": [
          3
         ],
         "yaxis": "y"
        },
        {
         "alignmentgroup": "True",
         "hovertemplate": "location=%{x}<br>new_cases=%{text}<extra></extra>",
         "legendgroup": "Montserrat",
         "marker": {
          "color": "#ab63fa",
          "pattern": {
           "shape": ""
          }
         },
         "name": "Montserrat",
         "offsetgroup": "Montserrat",
         "orientation": "v",
         "showlegend": true,
         "text": [
          3
         ],
         "textposition": "outside",
         "type": "bar",
         "x": [
          "Montserrat"
         ],
         "xaxis": "x",
         "y": [
          3
         ],
         "yaxis": "y"
        },
        {
         "alignmentgroup": "True",
         "hovertemplate": "location=%{x}<br>new_cases=%{text}<extra></extra>",
         "legendgroup": "Saint Pierre and Miquelon",
         "marker": {
          "color": "#FFA15A",
          "pattern": {
           "shape": ""
          }
         },
         "name": "Saint Pierre and Miquelon",
         "offsetgroup": "Saint Pierre and Miquelon",
         "orientation": "v",
         "showlegend": true,
         "text": [
          2
         ],
         "textposition": "outside",
         "type": "bar",
         "x": [
          "Saint Pierre and Miquelon"
         ],
         "xaxis": "x",
         "y": [
          2
         ],
         "yaxis": "y"
        },
        {
         "alignmentgroup": "True",
         "hovertemplate": "location=%{x}<br>new_cases=%{text}<extra></extra>",
         "legendgroup": "Anguilla",
         "marker": {
          "color": "#19d3f3",
          "pattern": {
           "shape": ""
          }
         },
         "name": "Anguilla",
         "offsetgroup": "Anguilla",
         "orientation": "v",
         "showlegend": true,
         "text": [
          2
         ],
         "textposition": "outside",
         "type": "bar",
         "x": [
          "Anguilla"
         ],
         "xaxis": "x",
         "y": [
          2
         ],
         "yaxis": "y"
        },
        {
         "alignmentgroup": "True",
         "hovertemplate": "location=%{x}<br>new_cases=%{text}<extra></extra>",
         "legendgroup": "Samoa",
         "marker": {
          "color": "#FF6692",
          "pattern": {
           "shape": ""
          }
         },
         "name": "Samoa",
         "offsetgroup": "Samoa",
         "orientation": "v",
         "showlegend": true,
         "text": [
          1
         ],
         "textposition": "outside",
         "type": "bar",
         "x": [
          "Samoa"
         ],
         "xaxis": "x",
         "y": [
          1
         ],
         "yaxis": "y"
        },
        {
         "alignmentgroup": "True",
         "hovertemplate": "location=%{x}<br>new_cases=%{text}<extra></extra>",
         "legendgroup": "Wallis and Futuna",
         "marker": {
          "color": "#B6E880",
          "pattern": {
           "shape": ""
          }
         },
         "name": "Wallis and Futuna",
         "offsetgroup": "Wallis and Futuna",
         "orientation": "v",
         "showlegend": true,
         "text": [
          1
         ],
         "textposition": "outside",
         "type": "bar",
         "x": [
          "Wallis and Futuna"
         ],
         "xaxis": "x",
         "y": [
          1
         ],
         "yaxis": "y"
        },
        {
         "alignmentgroup": "True",
         "hovertemplate": "location=%{x}<br>new_cases=%{text}<extra></extra>",
         "legendgroup": "Vanuatu",
         "marker": {
          "color": "#FF97FF",
          "pattern": {
           "shape": ""
          }
         },
         "name": "Vanuatu",
         "offsetgroup": "Vanuatu",
         "orientation": "v",
         "showlegend": true,
         "text": [
          1
         ],
         "textposition": "outside",
         "type": "bar",
         "x": [
          "Vanuatu"
         ],
         "xaxis": "x",
         "y": [
          1
         ],
         "yaxis": "y"
        },
        {
         "alignmentgroup": "True",
         "hovertemplate": "location=%{x}<br>new_cases=%{text}<extra></extra>",
         "legendgroup": "American Samoa",
         "marker": {
          "color": "#FECB52",
          "pattern": {
           "shape": ""
          }
         },
         "name": "American Samoa",
         "offsetgroup": "American Samoa",
         "orientation": "v",
         "showlegend": true,
         "text": [
          0
         ],
         "textposition": "outside",
         "type": "bar",
         "x": [
          "American Samoa"
         ],
         "xaxis": "x",
         "y": [
          0
         ],
         "yaxis": "y"
        },
        {
         "alignmentgroup": "True",
         "hovertemplate": "location=%{x}<br>new_cases=%{text}<extra></extra>",
         "legendgroup": "Palau",
         "marker": {
          "color": "#636efa",
          "pattern": {
           "shape": ""
          }
         },
         "name": "Palau",
         "offsetgroup": "Palau",
         "orientation": "v",
         "showlegend": true,
         "text": [
          0
         ],
         "textposition": "outside",
         "type": "bar",
         "x": [
          "Palau"
         ],
         "xaxis": "x",
         "y": [
          0
         ],
         "yaxis": "y"
        },
        {
         "alignmentgroup": "True",
         "hovertemplate": "location=%{x}<br>new_cases=%{text}<extra></extra>",
         "legendgroup": "North Korea",
         "marker": {
          "color": "#EF553B",
          "pattern": {
           "shape": ""
          }
         },
         "name": "North Korea",
         "offsetgroup": "North Korea",
         "orientation": "v",
         "showlegend": true,
         "text": [
          0
         ],
         "textposition": "outside",
         "type": "bar",
         "x": [
          "North Korea"
         ],
         "xaxis": "x",
         "y": [
          0
         ],
         "yaxis": "y"
        },
        {
         "alignmentgroup": "True",
         "hovertemplate": "location=%{x}<br>new_cases=%{text}<extra></extra>",
         "legendgroup": "Tonga",
         "marker": {
          "color": "#00cc96",
          "pattern": {
           "shape": ""
          }
         },
         "name": "Tonga",
         "offsetgroup": "Tonga",
         "orientation": "v",
         "showlegend": true,
         "text": [
          0
         ],
         "textposition": "outside",
         "type": "bar",
         "x": [
          "Tonga"
         ],
         "xaxis": "x",
         "y": [
          0
         ],
         "yaxis": "y"
        },
        {
         "alignmentgroup": "True",
         "hovertemplate": "location=%{x}<br>new_cases=%{text}<extra></extra>",
         "legendgroup": "Pitcairn",
         "marker": {
          "color": "#ab63fa",
          "pattern": {
           "shape": ""
          }
         },
         "name": "Pitcairn",
         "offsetgroup": "Pitcairn",
         "orientation": "v",
         "showlegend": true,
         "text": [
          0
         ],
         "textposition": "outside",
         "type": "bar",
         "x": [
          "Pitcairn"
         ],
         "xaxis": "x",
         "y": [
          0
         ],
         "yaxis": "y"
        },
        {
         "alignmentgroup": "True",
         "hovertemplate": "location=%{x}<br>new_cases=%{text}<extra></extra>",
         "legendgroup": "Cook Islands",
         "marker": {
          "color": "#FFA15A",
          "pattern": {
           "shape": ""
          }
         },
         "name": "Cook Islands",
         "offsetgroup": "Cook Islands",
         "orientation": "v",
         "showlegend": true,
         "text": [
          0
         ],
         "textposition": "outside",
         "type": "bar",
         "x": [
          "Cook Islands"
         ],
         "xaxis": "x",
         "y": [
          0
         ],
         "yaxis": "y"
        },
        {
         "alignmentgroup": "True",
         "hovertemplate": "location=%{x}<br>new_cases=%{text}<extra></extra>",
         "legendgroup": "Tuvalu",
         "marker": {
          "color": "#19d3f3",
          "pattern": {
           "shape": ""
          }
         },
         "name": "Tuvalu",
         "offsetgroup": "Tuvalu",
         "orientation": "v",
         "showlegend": true,
         "text": [
          0
         ],
         "textposition": "outside",
         "type": "bar",
         "x": [
          "Tuvalu"
         ],
         "xaxis": "x",
         "y": [
          0
         ],
         "yaxis": "y"
        },
        {
         "alignmentgroup": "True",
         "hovertemplate": "location=%{x}<br>new_cases=%{text}<extra></extra>",
         "legendgroup": "Turkmenistan",
         "marker": {
          "color": "#FF6692",
          "pattern": {
           "shape": ""
          }
         },
         "name": "Turkmenistan",
         "offsetgroup": "Turkmenistan",
         "orientation": "v",
         "showlegend": true,
         "text": [
          0
         ],
         "textposition": "outside",
         "type": "bar",
         "x": [
          "Turkmenistan"
         ],
         "xaxis": "x",
         "y": [
          0
         ],
         "yaxis": "y"
        },
        {
         "alignmentgroup": "True",
         "hovertemplate": "location=%{x}<br>new_cases=%{text}<extra></extra>",
         "legendgroup": "Kiribati",
         "marker": {
          "color": "#B6E880",
          "pattern": {
           "shape": ""
          }
         },
         "name": "Kiribati",
         "offsetgroup": "Kiribati",
         "orientation": "v",
         "showlegend": true,
         "text": [
          0
         ],
         "textposition": "outside",
         "type": "bar",
         "x": [
          "Kiribati"
         ],
         "xaxis": "x",
         "y": [
          0
         ],
         "yaxis": "y"
        },
        {
         "alignmentgroup": "True",
         "hovertemplate": "location=%{x}<br>new_cases=%{text}<extra></extra>",
         "legendgroup": "Kyrgyzstan",
         "marker": {
          "color": "#FF97FF",
          "pattern": {
           "shape": ""
          }
         },
         "name": "Kyrgyzstan",
         "offsetgroup": "Kyrgyzstan",
         "orientation": "v",
         "showlegend": true,
         "text": [
          0
         ],
         "textposition": "outside",
         "type": "bar",
         "x": [
          "Kyrgyzstan"
         ],
         "xaxis": "x",
         "y": [
          0
         ],
         "yaxis": "y"
        },
        {
         "alignmentgroup": "True",
         "hovertemplate": "location=%{x}<br>new_cases=%{text}<extra></extra>",
         "legendgroup": "Tokelau",
         "marker": {
          "color": "#FECB52",
          "pattern": {
           "shape": ""
          }
         },
         "name": "Tokelau",
         "offsetgroup": "Tokelau",
         "orientation": "v",
         "showlegend": true,
         "text": [
          0
         ],
         "textposition": "outside",
         "type": "bar",
         "x": [
          "Tokelau"
         ],
         "xaxis": "x",
         "y": [
          0
         ],
         "yaxis": "y"
        },
        {
         "alignmentgroup": "True",
         "hovertemplate": "location=%{x}<br>new_cases=%{text}<extra></extra>",
         "legendgroup": "Niue",
         "marker": {
          "color": "#636efa",
          "pattern": {
           "shape": ""
          }
         },
         "name": "Niue",
         "offsetgroup": "Niue",
         "orientation": "v",
         "showlegend": true,
         "text": [
          0
         ],
         "textposition": "outside",
         "type": "bar",
         "x": [
          "Niue"
         ],
         "xaxis": "x",
         "y": [
          0
         ],
         "yaxis": "y"
        },
        {
         "alignmentgroup": "True",
         "hovertemplate": "location=%{x}<br>new_cases=%{text}<extra></extra>",
         "legendgroup": "Micronesia (country)",
         "marker": {
          "color": "#EF553B",
          "pattern": {
           "shape": ""
          }
         },
         "name": "Micronesia (country)",
         "offsetgroup": "Micronesia (country)",
         "orientation": "v",
         "showlegend": true,
         "text": [
          0
         ],
         "textposition": "outside",
         "type": "bar",
         "x": [
          "Micronesia (country)"
         ],
         "xaxis": "x",
         "y": [
          0
         ],
         "yaxis": "y"
        },
        {
         "alignmentgroup": "True",
         "hovertemplate": "location=%{x}<br>new_cases=%{text}<extra></extra>",
         "legendgroup": "Nauru",
         "marker": {
          "color": "#00cc96",
          "pattern": {
           "shape": ""
          }
         },
         "name": "Nauru",
         "offsetgroup": "Nauru",
         "orientation": "v",
         "showlegend": true,
         "text": [
          0
         ],
         "textposition": "outside",
         "type": "bar",
         "x": [
          "Nauru"
         ],
         "xaxis": "x",
         "y": [
          0
         ],
         "yaxis": "y"
        },
        {
         "alignmentgroup": "True",
         "hovertemplate": "location=%{x}<br>new_cases=%{text}<extra></extra>",
         "legendgroup": "Saint Helena",
         "marker": {
          "color": "#ab63fa",
          "pattern": {
           "shape": ""
          }
         },
         "name": "Saint Helena",
         "offsetgroup": "Saint Helena",
         "orientation": "v",
         "showlegend": true,
         "text": [
          0
         ],
         "textposition": "outside",
         "type": "bar",
         "x": [
          "Saint Helena"
         ],
         "xaxis": "x",
         "y": [
          0
         ],
         "yaxis": "y"
        },
        {
         "alignmentgroup": "True",
         "hovertemplate": "location=%{x}<br>new_cases=%{text}<extra></extra>",
         "legendgroup": "England",
         "marker": {
          "color": "#FFA15A",
          "pattern": {
           "shape": ""
          }
         },
         "name": "England",
         "offsetgroup": "England",
         "orientation": "v",
         "showlegend": true,
         "text": [
          null
         ],
         "textposition": "outside",
         "type": "bar",
         "x": [
          "England"
         ],
         "xaxis": "x",
         "y": [
          null
         ],
         "yaxis": "y"
        },
        {
         "alignmentgroup": "True",
         "hovertemplate": "location=%{x}<br>new_cases=%{text}<extra></extra>",
         "legendgroup": "Hong Kong",
         "marker": {
          "color": "#19d3f3",
          "pattern": {
           "shape": ""
          }
         },
         "name": "Hong Kong",
         "offsetgroup": "Hong Kong",
         "orientation": "v",
         "showlegend": true,
         "text": [
          null
         ],
         "textposition": "outside",
         "type": "bar",
         "x": [
          "Hong Kong"
         ],
         "xaxis": "x",
         "y": [
          null
         ],
         "yaxis": "y"
        },
        {
         "alignmentgroup": "True",
         "hovertemplate": "location=%{x}<br>new_cases=%{text}<extra></extra>",
         "legendgroup": "Northern Ireland",
         "marker": {
          "color": "#FF6692",
          "pattern": {
           "shape": ""
          }
         },
         "name": "Northern Ireland",
         "offsetgroup": "Northern Ireland",
         "orientation": "v",
         "showlegend": true,
         "text": [
          null
         ],
         "textposition": "outside",
         "type": "bar",
         "x": [
          "Northern Ireland"
         ],
         "xaxis": "x",
         "y": [
          null
         ],
         "yaxis": "y"
        },
        {
         "alignmentgroup": "True",
         "hovertemplate": "location=%{x}<br>new_cases=%{text}<extra></extra>",
         "legendgroup": "Scotland",
         "marker": {
          "color": "#B6E880",
          "pattern": {
           "shape": ""
          }
         },
         "name": "Scotland",
         "offsetgroup": "Scotland",
         "orientation": "v",
         "showlegend": true,
         "text": [
          null
         ],
         "textposition": "outside",
         "type": "bar",
         "x": [
          "Scotland"
         ],
         "xaxis": "x",
         "y": [
          null
         ],
         "yaxis": "y"
        },
        {
         "alignmentgroup": "True",
         "hovertemplate": "location=%{x}<br>new_cases=%{text}<extra></extra>",
         "legendgroup": "Taiwan",
         "marker": {
          "color": "#FF97FF",
          "pattern": {
           "shape": ""
          }
         },
         "name": "Taiwan",
         "offsetgroup": "Taiwan",
         "orientation": "v",
         "showlegend": true,
         "text": [
          null
         ],
         "textposition": "outside",
         "type": "bar",
         "x": [
          "Taiwan"
         ],
         "xaxis": "x",
         "y": [
          null
         ],
         "yaxis": "y"
        },
        {
         "alignmentgroup": "True",
         "hovertemplate": "location=%{x}<br>new_cases=%{text}<extra></extra>",
         "legendgroup": "Wales",
         "marker": {
          "color": "#FECB52",
          "pattern": {
           "shape": ""
          }
         },
         "name": "Wales",
         "offsetgroup": "Wales",
         "orientation": "v",
         "showlegend": true,
         "text": [
          null
         ],
         "textposition": "outside",
         "type": "bar",
         "x": [
          "Wales"
         ],
         "xaxis": "x",
         "y": [
          null
         ],
         "yaxis": "y"
        }
       ],
       "layout": {
        "barmode": "relative",
        "height": 600,
        "legend": {
         "title": {
          "text": "location"
         },
         "tracegroupgap": 0
        },
        "template": {
         "data": {
          "bar": [
           {
            "error_x": {
             "color": "#2a3f5f"
            },
            "error_y": {
             "color": "#2a3f5f"
            },
            "marker": {
             "line": {
              "color": "#E5ECF6",
              "width": 0.5
             },
             "pattern": {
              "fillmode": "overlay",
              "size": 10,
              "solidity": 0.2
             }
            },
            "type": "bar"
           }
          ],
          "barpolar": [
           {
            "marker": {
             "line": {
              "color": "#E5ECF6",
              "width": 0.5
             },
             "pattern": {
              "fillmode": "overlay",
              "size": 10,
              "solidity": 0.2
             }
            },
            "type": "barpolar"
           }
          ],
          "carpet": [
           {
            "aaxis": {
             "endlinecolor": "#2a3f5f",
             "gridcolor": "white",
             "linecolor": "white",
             "minorgridcolor": "white",
             "startlinecolor": "#2a3f5f"
            },
            "baxis": {
             "endlinecolor": "#2a3f5f",
             "gridcolor": "white",
             "linecolor": "white",
             "minorgridcolor": "white",
             "startlinecolor": "#2a3f5f"
            },
            "type": "carpet"
           }
          ],
          "choropleth": [
           {
            "colorbar": {
             "outlinewidth": 0,
             "ticks": ""
            },
            "type": "choropleth"
           }
          ],
          "contour": [
           {
            "colorbar": {
             "outlinewidth": 0,
             "ticks": ""
            },
            "colorscale": [
             [
              0,
              "#0d0887"
             ],
             [
              0.1111111111111111,
              "#46039f"
             ],
             [
              0.2222222222222222,
              "#7201a8"
             ],
             [
              0.3333333333333333,
              "#9c179e"
             ],
             [
              0.4444444444444444,
              "#bd3786"
             ],
             [
              0.5555555555555556,
              "#d8576b"
             ],
             [
              0.6666666666666666,
              "#ed7953"
             ],
             [
              0.7777777777777778,
              "#fb9f3a"
             ],
             [
              0.8888888888888888,
              "#fdca26"
             ],
             [
              1,
              "#f0f921"
             ]
            ],
            "type": "contour"
           }
          ],
          "contourcarpet": [
           {
            "colorbar": {
             "outlinewidth": 0,
             "ticks": ""
            },
            "type": "contourcarpet"
           }
          ],
          "heatmap": [
           {
            "colorbar": {
             "outlinewidth": 0,
             "ticks": ""
            },
            "colorscale": [
             [
              0,
              "#0d0887"
             ],
             [
              0.1111111111111111,
              "#46039f"
             ],
             [
              0.2222222222222222,
              "#7201a8"
             ],
             [
              0.3333333333333333,
              "#9c179e"
             ],
             [
              0.4444444444444444,
              "#bd3786"
             ],
             [
              0.5555555555555556,
              "#d8576b"
             ],
             [
              0.6666666666666666,
              "#ed7953"
             ],
             [
              0.7777777777777778,
              "#fb9f3a"
             ],
             [
              0.8888888888888888,
              "#fdca26"
             ],
             [
              1,
              "#f0f921"
             ]
            ],
            "type": "heatmap"
           }
          ],
          "heatmapgl": [
           {
            "colorbar": {
             "outlinewidth": 0,
             "ticks": ""
            },
            "colorscale": [
             [
              0,
              "#0d0887"
             ],
             [
              0.1111111111111111,
              "#46039f"
             ],
             [
              0.2222222222222222,
              "#7201a8"
             ],
             [
              0.3333333333333333,
              "#9c179e"
             ],
             [
              0.4444444444444444,
              "#bd3786"
             ],
             [
              0.5555555555555556,
              "#d8576b"
             ],
             [
              0.6666666666666666,
              "#ed7953"
             ],
             [
              0.7777777777777778,
              "#fb9f3a"
             ],
             [
              0.8888888888888888,
              "#fdca26"
             ],
             [
              1,
              "#f0f921"
             ]
            ],
            "type": "heatmapgl"
           }
          ],
          "histogram": [
           {
            "marker": {
             "pattern": {
              "fillmode": "overlay",
              "size": 10,
              "solidity": 0.2
             }
            },
            "type": "histogram"
           }
          ],
          "histogram2d": [
           {
            "colorbar": {
             "outlinewidth": 0,
             "ticks": ""
            },
            "colorscale": [
             [
              0,
              "#0d0887"
             ],
             [
              0.1111111111111111,
              "#46039f"
             ],
             [
              0.2222222222222222,
              "#7201a8"
             ],
             [
              0.3333333333333333,
              "#9c179e"
             ],
             [
              0.4444444444444444,
              "#bd3786"
             ],
             [
              0.5555555555555556,
              "#d8576b"
             ],
             [
              0.6666666666666666,
              "#ed7953"
             ],
             [
              0.7777777777777778,
              "#fb9f3a"
             ],
             [
              0.8888888888888888,
              "#fdca26"
             ],
             [
              1,
              "#f0f921"
             ]
            ],
            "type": "histogram2d"
           }
          ],
          "histogram2dcontour": [
           {
            "colorbar": {
             "outlinewidth": 0,
             "ticks": ""
            },
            "colorscale": [
             [
              0,
              "#0d0887"
             ],
             [
              0.1111111111111111,
              "#46039f"
             ],
             [
              0.2222222222222222,
              "#7201a8"
             ],
             [
              0.3333333333333333,
              "#9c179e"
             ],
             [
              0.4444444444444444,
              "#bd3786"
             ],
             [
              0.5555555555555556,
              "#d8576b"
             ],
             [
              0.6666666666666666,
              "#ed7953"
             ],
             [
              0.7777777777777778,
              "#fb9f3a"
             ],
             [
              0.8888888888888888,
              "#fdca26"
             ],
             [
              1,
              "#f0f921"
             ]
            ],
            "type": "histogram2dcontour"
           }
          ],
          "mesh3d": [
           {
            "colorbar": {
             "outlinewidth": 0,
             "ticks": ""
            },
            "type": "mesh3d"
           }
          ],
          "parcoords": [
           {
            "line": {
             "colorbar": {
              "outlinewidth": 0,
              "ticks": ""
             }
            },
            "type": "parcoords"
           }
          ],
          "pie": [
           {
            "automargin": true,
            "type": "pie"
           }
          ],
          "scatter": [
           {
            "fillpattern": {
             "fillmode": "overlay",
             "size": 10,
             "solidity": 0.2
            },
            "type": "scatter"
           }
          ],
          "scatter3d": [
           {
            "line": {
             "colorbar": {
              "outlinewidth": 0,
              "ticks": ""
             }
            },
            "marker": {
             "colorbar": {
              "outlinewidth": 0,
              "ticks": ""
             }
            },
            "type": "scatter3d"
           }
          ],
          "scattercarpet": [
           {
            "marker": {
             "colorbar": {
              "outlinewidth": 0,
              "ticks": ""
             }
            },
            "type": "scattercarpet"
           }
          ],
          "scattergeo": [
           {
            "marker": {
             "colorbar": {
              "outlinewidth": 0,
              "ticks": ""
             }
            },
            "type": "scattergeo"
           }
          ],
          "scattergl": [
           {
            "marker": {
             "colorbar": {
              "outlinewidth": 0,
              "ticks": ""
             }
            },
            "type": "scattergl"
           }
          ],
          "scattermapbox": [
           {
            "marker": {
             "colorbar": {
              "outlinewidth": 0,
              "ticks": ""
             }
            },
            "type": "scattermapbox"
           }
          ],
          "scatterpolar": [
           {
            "marker": {
             "colorbar": {
              "outlinewidth": 0,
              "ticks": ""
             }
            },
            "type": "scatterpolar"
           }
          ],
          "scatterpolargl": [
           {
            "marker": {
             "colorbar": {
              "outlinewidth": 0,
              "ticks": ""
             }
            },
            "type": "scatterpolargl"
           }
          ],
          "scatterternary": [
           {
            "marker": {
             "colorbar": {
              "outlinewidth": 0,
              "ticks": ""
             }
            },
            "type": "scatterternary"
           }
          ],
          "surface": [
           {
            "colorbar": {
             "outlinewidth": 0,
             "ticks": ""
            },
            "colorscale": [
             [
              0,
              "#0d0887"
             ],
             [
              0.1111111111111111,
              "#46039f"
             ],
             [
              0.2222222222222222,
              "#7201a8"
             ],
             [
              0.3333333333333333,
              "#9c179e"
             ],
             [
              0.4444444444444444,
              "#bd3786"
             ],
             [
              0.5555555555555556,
              "#d8576b"
             ],
             [
              0.6666666666666666,
              "#ed7953"
             ],
             [
              0.7777777777777778,
              "#fb9f3a"
             ],
             [
              0.8888888888888888,
              "#fdca26"
             ],
             [
              1,
              "#f0f921"
             ]
            ],
            "type": "surface"
           }
          ],
          "table": [
           {
            "cells": {
             "fill": {
              "color": "#EBF0F8"
             },
             "line": {
              "color": "white"
             }
            },
            "header": {
             "fill": {
              "color": "#C8D4E3"
             },
             "line": {
              "color": "white"
             }
            },
            "type": "table"
           }
          ]
         },
         "layout": {
          "annotationdefaults": {
           "arrowcolor": "#2a3f5f",
           "arrowhead": 0,
           "arrowwidth": 1
          },
          "autotypenumbers": "strict",
          "coloraxis": {
           "colorbar": {
            "outlinewidth": 0,
            "ticks": ""
           }
          },
          "colorscale": {
           "diverging": [
            [
             0,
             "#8e0152"
            ],
            [
             0.1,
             "#c51b7d"
            ],
            [
             0.2,
             "#de77ae"
            ],
            [
             0.3,
             "#f1b6da"
            ],
            [
             0.4,
             "#fde0ef"
            ],
            [
             0.5,
             "#f7f7f7"
            ],
            [
             0.6,
             "#e6f5d0"
            ],
            [
             0.7,
             "#b8e186"
            ],
            [
             0.8,
             "#7fbc41"
            ],
            [
             0.9,
             "#4d9221"
            ],
            [
             1,
             "#276419"
            ]
           ],
           "sequential": [
            [
             0,
             "#0d0887"
            ],
            [
             0.1111111111111111,
             "#46039f"
            ],
            [
             0.2222222222222222,
             "#7201a8"
            ],
            [
             0.3333333333333333,
             "#9c179e"
            ],
            [
             0.4444444444444444,
             "#bd3786"
            ],
            [
             0.5555555555555556,
             "#d8576b"
            ],
            [
             0.6666666666666666,
             "#ed7953"
            ],
            [
             0.7777777777777778,
             "#fb9f3a"
            ],
            [
             0.8888888888888888,
             "#fdca26"
            ],
            [
             1,
             "#f0f921"
            ]
           ],
           "sequentialminus": [
            [
             0,
             "#0d0887"
            ],
            [
             0.1111111111111111,
             "#46039f"
            ],
            [
             0.2222222222222222,
             "#7201a8"
            ],
            [
             0.3333333333333333,
             "#9c179e"
            ],
            [
             0.4444444444444444,
             "#bd3786"
            ],
            [
             0.5555555555555556,
             "#d8576b"
            ],
            [
             0.6666666666666666,
             "#ed7953"
            ],
            [
             0.7777777777777778,
             "#fb9f3a"
            ],
            [
             0.8888888888888888,
             "#fdca26"
            ],
            [
             1,
             "#f0f921"
            ]
           ]
          },
          "colorway": [
           "#636efa",
           "#EF553B",
           "#00cc96",
           "#ab63fa",
           "#FFA15A",
           "#19d3f3",
           "#FF6692",
           "#B6E880",
           "#FF97FF",
           "#FECB52"
          ],
          "font": {
           "color": "#2a3f5f"
          },
          "geo": {
           "bgcolor": "white",
           "lakecolor": "white",
           "landcolor": "#E5ECF6",
           "showlakes": true,
           "showland": true,
           "subunitcolor": "white"
          },
          "hoverlabel": {
           "align": "left"
          },
          "hovermode": "closest",
          "mapbox": {
           "style": "light"
          },
          "paper_bgcolor": "white",
          "plot_bgcolor": "#E5ECF6",
          "polar": {
           "angularaxis": {
            "gridcolor": "white",
            "linecolor": "white",
            "ticks": ""
           },
           "bgcolor": "#E5ECF6",
           "radialaxis": {
            "gridcolor": "white",
            "linecolor": "white",
            "ticks": ""
           }
          },
          "scene": {
           "xaxis": {
            "backgroundcolor": "#E5ECF6",
            "gridcolor": "white",
            "gridwidth": 2,
            "linecolor": "white",
            "showbackground": true,
            "ticks": "",
            "zerolinecolor": "white"
           },
           "yaxis": {
            "backgroundcolor": "#E5ECF6",
            "gridcolor": "white",
            "gridwidth": 2,
            "linecolor": "white",
            "showbackground": true,
            "ticks": "",
            "zerolinecolor": "white"
           },
           "zaxis": {
            "backgroundcolor": "#E5ECF6",
            "gridcolor": "white",
            "gridwidth": 2,
            "linecolor": "white",
            "showbackground": true,
            "ticks": "",
            "zerolinecolor": "white"
           }
          },
          "shapedefaults": {
           "line": {
            "color": "#2a3f5f"
           }
          },
          "ternary": {
           "aaxis": {
            "gridcolor": "white",
            "linecolor": "white",
            "ticks": ""
           },
           "baxis": {
            "gridcolor": "white",
            "linecolor": "white",
            "ticks": ""
           },
           "bgcolor": "#E5ECF6",
           "caxis": {
            "gridcolor": "white",
            "linecolor": "white",
            "ticks": ""
           }
          },
          "title": {
           "x": 0.05
          },
          "xaxis": {
           "automargin": true,
           "gridcolor": "white",
           "linecolor": "white",
           "ticks": "",
           "title": {
            "standoff": 15
           },
           "zerolinecolor": "white",
           "zerolinewidth": 2
          },
          "yaxis": {
           "automargin": true,
           "gridcolor": "white",
           "linecolor": "white",
           "ticks": "",
           "title": {
            "standoff": 15
           },
           "zerolinecolor": "white",
           "zerolinewidth": 2
          }
         }
        },
        "title": {
         "text": "Max New Cases by Location"
        },
        "xaxis": {
         "anchor": "y",
         "categoryarray": [
          "France",
          "United States",
          "Germany",
          "Spain",
          "India",
          "Ukraine",
          "United Kingdom",
          "Netherlands",
          "Brazil",
          "Italy",
          "Portugal",
          "Chile",
          "Turkey",
          "Russia",
          "Poland",
          "Bulgaria",
          "Belgium",
          "Greece",
          "South Africa",
          "Czechia",
          "Argentina",
          "Mexico",
          "China",
          "Colombia",
          "Iran",
          "Slovenia",
          "Ecuador",
          "Sweden",
          "Kazakhstan",
          "Switzerland",
          "Romania",
          "Peru",
          "Austria",
          "Israel",
          "Indonesia",
          "Canada",
          "Serbia",
          "Jordan",
          "North Macedonia",
          "Pakistan",
          "Hungary",
          "Philippines",
          "Slovakia",
          "Morocco",
          "Tunisia",
          "Nepal",
          "Estonia",
          "Georgia",
          "Latvia",
          "Iraq",
          "Saudi Arabia",
          "Croatia",
          "Panama",
          "Denmark",
          "Azerbaijan",
          "Guatemala",
          "Bangladesh",
          "Lithuania",
          "Japan",
          "Montenegro",
          "Luxembourg",
          "Lebanon",
          "Palestine",
          "Oman",
          "Mauritania",
          "Armenia",
          "Qatar",
          "Malaysia",
          "Myanmar",
          "Dominican Republic",
          "Bolivia",
          "Belarus",
          "Bosnia and Herzegovina",
          "Venezuela",
          "Ireland",
          "Ethiopia",
          "Botswana",
          "Egypt",
          "Moldova",
          "United Arab Emirates",
          "Libya",
          "Costa Rica",
          "Kenya",
          "Singapore",
          "French Polynesia",
          "Puerto Rico",
          "Paraguay",
          "Ghana",
          "Afghanistan",
          "South Korea",
          "Uganda",
          "Nigeria",
          "Belize",
          "Honduras",
          "Algeria",
          "Kuwait",
          "Guadeloupe",
          "Cyprus",
          "Kosovo",
          "Malta",
          "El Salvador",
          "Cameroon",
          "Albania",
          "Sri Lanka",
          "Bahrain",
          "Norway",
          "Martinique",
          "Uruguay",
          "Australia",
          "Namibia",
          "Congo",
          "Finland",
          "Madagascar",
          "Iceland",
          "Thailand",
          "Gabon",
          "Cote d'Ivoire",
          "Zambia",
          "Zimbabwe",
          "Democratic Republic of Congo",
          "Nicaragua",
          "Sudan",
          "Tajikistan",
          "Cuba",
          "Curacao",
          "Angola",
          "French Guiana",
          "Mayotte",
          "Reunion",
          "Mozambique",
          "Aruba",
          "Andorra",
          "Lesotho",
          "Burkina Faso",
          "Somalia",
          "Haiti",
          "Djibouti",
          "Central African Republic",
          "Eswatini",
          "Jamaica",
          "Gambia",
          "Mali",
          "Rwanda",
          "Trinidad and Tobago",
          "Senegal",
          "Guam",
          "Guinea-Bissau",
          "Maldives",
          "Guinea",
          "Bahamas",
          "Malawi",
          "South Sudan",
          "Eritrea",
          "Tanzania",
          "Syria",
          "Cape Verde",
          "Equatorial Guinea",
          "Benin",
          "Sao Tome and Principe",
          "Suriname",
          "Guyana",
          "Jersey",
          "Yemen",
          "Niger",
          "Sierra Leone",
          "Saint Martin (French part)",
          "Gibraltar",
          "Chad",
          "New Zealand",
          "United States Virgin Islands",
          "Liechtenstein",
          "Togo",
          "San Marino",
          "Mongolia",
          "Papua New Guinea",
          "Sint Maarten (Dutch part)",
          "Seychelles",
          "Vietnam",
          "Turks and Caicos Islands",
          "Mauritius",
          "Liberia",
          "Burundi",
          "Bermuda",
          "Antigua and Barbuda",
          "Faeroe Islands",
          "Comoros",
          "Bhutan",
          "Monaco",
          "Isle of Man",
          "Cambodia",
          "Grenada",
          "Saint Lucia",
          "Saint Barthelemy",
          "Guernsey",
          "Bonaire Sint Eustatius and Saba",
          "Cayman Islands",
          "Barbados",
          "British Virgin Islands",
          "Laos",
          "Brunei",
          "Dominica",
          "Saint Vincent and the Grenadines",
          "Timor",
          "Vatican",
          "Saint Kitts and Nevis",
          "Northern Mariana Islands",
          "Falkland Islands",
          "Uzbekistan",
          "Greenland",
          "Fiji",
          "Solomon Islands",
          "New Caledonia",
          "Marshall Islands",
          "Montserrat",
          "Saint Pierre and Miquelon",
          "Anguilla",
          "Samoa",
          "Wallis and Futuna",
          "Vanuatu",
          "American Samoa",
          "Palau",
          "North Korea",
          "Tonga",
          "Pitcairn",
          "Cook Islands",
          "Tuvalu",
          "Turkmenistan",
          "Kiribati",
          "Kyrgyzstan",
          "Tokelau",
          "Niue",
          "Micronesia (country)",
          "Nauru",
          "Saint Helena",
          "England",
          "Hong Kong",
          "Northern Ireland",
          "Scotland",
          "Taiwan",
          "Wales"
         ],
         "categoryorder": "array",
         "domain": [
          0,
          1
         ],
         "title": {
          "text": "location"
         }
        },
        "yaxis": {
         "anchor": "x",
         "domain": [
          0,
          1
         ],
         "title": {
          "text": "new_cases"
         }
        }
       }
      }
     },
     "metadata": {},
     "output_type": "display_data"
    }
   ],
   "source": [
    "fig = px.bar(grouped_df, x='location', y='new_cases', color='location',title='Max New Cases by Location',text='new_cases',height=600)\n",
    "fig.update_traces(textposition='outside')\n",
    "labels=({'location': 'Location', 'new_cases': 'Max New Cases'})\n",
    "fig"
   ]
  },
  {
   "cell_type": "code",
   "execution_count": 14,
   "metadata": {},
   "outputs": [
    {
     "data": {
      "text/html": [
       "<div>\n",
       "<style scoped>\n",
       "    .dataframe tbody tr th:only-of-type {\n",
       "        vertical-align: middle;\n",
       "    }\n",
       "\n",
       "    .dataframe tbody tr th {\n",
       "        vertical-align: top;\n",
       "    }\n",
       "\n",
       "    .dataframe thead th {\n",
       "        text-align: right;\n",
       "    }\n",
       "</style>\n",
       "<table border=\"1\" class=\"dataframe\">\n",
       "  <thead>\n",
       "    <tr style=\"text-align: right;\">\n",
       "      <th></th>\n",
       "      <th>location</th>\n",
       "      <th>new_deaths</th>\n",
       "    </tr>\n",
       "  </thead>\n",
       "  <tbody>\n",
       "    <tr>\n",
       "      <th>78</th>\n",
       "      <td>Germany</td>\n",
       "      <td>6460.0</td>\n",
       "    </tr>\n",
       "    <tr>\n",
       "      <th>202</th>\n",
       "      <td>Spain</td>\n",
       "      <td>5841.0</td>\n",
       "    </tr>\n",
       "    <tr>\n",
       "      <th>72</th>\n",
       "      <td>France</td>\n",
       "      <td>5602.0</td>\n",
       "    </tr>\n",
       "    <tr>\n",
       "      <th>59</th>\n",
       "      <td>Ecuador</td>\n",
       "      <td>3800.0</td>\n",
       "    </tr>\n",
       "    <tr>\n",
       "      <th>227</th>\n",
       "      <td>United States</td>\n",
       "      <td>3389.0</td>\n",
       "    </tr>\n",
       "    <tr>\n",
       "      <th>...</th>\n",
       "      <td>...</td>\n",
       "      <td>...</td>\n",
       "    </tr>\n",
       "    <tr>\n",
       "      <th>93</th>\n",
       "      <td>Hong Kong</td>\n",
       "      <td>NaN</td>\n",
       "    </tr>\n",
       "    <tr>\n",
       "      <th>156</th>\n",
       "      <td>Northern Ireland</td>\n",
       "      <td>NaN</td>\n",
       "    </tr>\n",
       "    <tr>\n",
       "      <th>188</th>\n",
       "      <td>Scotland</td>\n",
       "      <td>NaN</td>\n",
       "    </tr>\n",
       "    <tr>\n",
       "      <th>209</th>\n",
       "      <td>Taiwan</td>\n",
       "      <td>NaN</td>\n",
       "    </tr>\n",
       "    <tr>\n",
       "      <th>235</th>\n",
       "      <td>Wales</td>\n",
       "      <td>NaN</td>\n",
       "    </tr>\n",
       "  </tbody>\n",
       "</table>\n",
       "<p>240 rows × 2 columns</p>\n",
       "</div>"
      ],
      "text/plain": [
       "             location  new_deaths\n",
       "78            Germany      6460.0\n",
       "202             Spain      5841.0\n",
       "72             France      5602.0\n",
       "59            Ecuador      3800.0\n",
       "227     United States      3389.0\n",
       "..                ...         ...\n",
       "93          Hong Kong         NaN\n",
       "156  Northern Ireland         NaN\n",
       "188          Scotland         NaN\n",
       "209            Taiwan         NaN\n",
       "235             Wales         NaN\n",
       "\n",
       "[240 rows x 2 columns]"
      ]
     },
     "execution_count": 14,
     "metadata": {},
     "output_type": "execute_result"
    }
   ],
   "source": [
    "exclude_values = ['Lower middle income','Low income','European Union','World','Asia','Africa','High income','Europe','North America','South America','Upper middle income','Oceania']\n",
    "filtered_df = data_2020[~data_2020['location'].isin(exclude_values)]\n",
    "\n",
    "grouped_df = filtered_df.groupby('location')['new_deaths'].max().reset_index().sort_values(by='new_deaths',ascending=False)\n",
    "grouped_df"
   ]
  },
  {
   "cell_type": "code",
   "execution_count": 15,
   "metadata": {},
   "outputs": [
    {
     "data": {
      "application/vnd.plotly.v1+json": {
       "config": {
        "plotlyServerURL": "https://plot.ly"
       },
       "data": [
        {
         "fillpattern": {
          "shape": ""
         },
         "hovertemplate": "location=%{x}<br>new_deaths=%{y}<extra></extra>",
         "legendgroup": "",
         "line": {
          "color": "#636efa"
         },
         "marker": {
          "symbol": "circle"
         },
         "mode": "lines",
         "name": "",
         "orientation": "v",
         "showlegend": false,
         "stackgroup": "1",
         "type": "scatter",
         "x": [
          "Germany",
          "Spain",
          "France",
          "Ecuador",
          "United States",
          "India",
          "Ukraine",
          "Bolivia",
          "Brazil",
          "United Kingdom",
          "China",
          "Netherlands",
          "Chile",
          "Italy",
          "Bulgaria",
          "Mexico",
          "Poland",
          "Greece",
          "Peru",
          "Russia",
          "Portugal",
          "South Africa",
          "Argentina",
          "Iran",
          "Slovenia",
          "Colombia",
          "Belgium",
          "Kazakhstan",
          "Pakistan",
          "Ghana",
          "Sudan",
          "North Macedonia",
          "Czechia",
          "Philippines",
          "Turkey",
          "Indonesia",
          "Canada",
          "Romania",
          "Democratic Republic of Congo",
          "Tunisia",
          "Hungary",
          "Mauritania",
          "Austria",
          "Senegal",
          "Latvia",
          "Iraq",
          "Sweden",
          "Gambia",
          "Switzerland",
          "Slovakia",
          "Morocco",
          "Moldova",
          "Egypt",
          "Croatia",
          "Japan",
          "Jordan",
          "Bosnia and Herzegovina",
          "Estonia",
          "Serbia",
          "Bangladesh",
          "Lithuania",
          "Guatemala",
          "Oman",
          "Thailand",
          "Saudi Arabia",
          "Ireland",
          "Honduras",
          "Niger",
          "Yemen",
          "Georgia",
          "Panama",
          "Montenegro",
          "Afghanistan",
          "Myanmar",
          "Israel",
          "Azerbaijan",
          "Dominican Republic",
          "Cameroon",
          "Equatorial Guinea",
          "Nepal",
          "Armenia",
          "South Korea",
          "Paraguay",
          "Palestine",
          "Zambia",
          "Luxembourg",
          "Nigeria",
          "Algeria",
          "Denmark",
          "Australia",
          "Ethiopia",
          "Malta",
          "Kenya",
          "Kosovo",
          "Libya",
          "Costa Rica",
          "Lebanon",
          "Norway",
          "Puerto Rico",
          "Syria",
          "Lesotho",
          "Albania",
          "Guadeloupe",
          "Nicaragua",
          "Zimbabwe",
          "Venezuela",
          "Finland",
          "Bahamas",
          "El Salvador",
          "Belize",
          "Belarus",
          "Liberia",
          "United Arab Emirates",
          "Chad",
          "Malawi",
          "Congo",
          "Malaysia",
          "Mali",
          "Eswatini",
          "Uruguay",
          "Kuwait",
          "French Polynesia",
          "Madagascar",
          "Burkina Faso",
          "Tajikistan",
          "Jamaica",
          "Sri Lanka",
          "Angola",
          "Suriname",
          "Somalia",
          "Bahrain",
          "Haiti",
          "Qatar",
          "Uganda",
          "Rwanda",
          "Iceland",
          "Central African Republic",
          "Andorra",
          "Tanzania",
          "Mozambique",
          "San Marino",
          "Namibia",
          "Cuba",
          "South Sudan",
          "Isle of Man",
          "Cyprus",
          "Cape Verde",
          "Gabon",
          "Sierra Leone",
          "Guinea-Bissau",
          "Trinidad and Tobago",
          "French Guiana",
          "Guam",
          "Sint Maarten (Dutch part)",
          "Reunion",
          "Sao Tome and Principe",
          "Martinique",
          "Jersey",
          "Liechtenstein",
          "Vietnam",
          "Guyana",
          "Cote d'Ivoire",
          "Djibouti",
          "New Zealand",
          "Mayotte",
          "Benin",
          "Saint Martin (French part)",
          "Botswana",
          "Guinea",
          "Curacao",
          "Aruba",
          "Togo",
          "Antigua and Barbuda",
          "Maldives",
          "Bermuda",
          "Guernsey",
          "Singapore",
          "United States Virgin Islands",
          "Comoros",
          "Mauritius",
          "British Virgin Islands",
          "Gibraltar",
          "Bonaire Sint Eustatius and Saba",
          "Barbados",
          "Turks and Caicos Islands",
          "Mongolia",
          "Monaco",
          "Burundi",
          "Montserrat",
          "Eritrea",
          "Northern Mariana Islands",
          "Papua New Guinea",
          "Fiji",
          "Cayman Islands",
          "Brunei",
          "Saint Lucia",
          "Bhutan",
          "Turkmenistan",
          "Tuvalu",
          "North Korea",
          "Niue",
          "Micronesia (country)",
          "Anguilla",
          "New Caledonia",
          "Dominica",
          "Nauru",
          "Uzbekistan",
          "Vanuatu",
          "Vatican",
          "Faeroe Islands",
          "Saint Vincent and the Grenadines",
          "Wallis and Futuna",
          "Samoa",
          "American Samoa",
          "Saint Pierre and Miquelon",
          "Falkland Islands",
          "Saint Barthelemy",
          "Palau",
          "Saint Helena",
          "Cambodia",
          "Laos",
          "Kyrgyzstan",
          "Marshall Islands",
          "Kiribati",
          "Solomon Islands",
          "Greenland",
          "Grenada",
          "Pitcairn",
          "Saint Kitts and Nevis",
          "Timor",
          "Seychelles",
          "Tonga",
          "Cook Islands",
          "Tokelau",
          "England",
          "Hong Kong",
          "Northern Ireland",
          "Scotland",
          "Taiwan",
          "Wales"
         ],
         "xaxis": "x",
         "y": [
          6460,
          5841,
          5602,
          3800,
          3389,
          2003,
          1620,
          1610,
          1595,
          1459,
          1290,
          1185,
          1057,
          993,
          980,
          971,
          728,
          702,
          671,
          635,
          609,
          572,
          487,
          486,
          404,
          400,
          324,
          324,
          313,
          301,
          278,
          273,
          261,
          259,
          259,
          258,
          222,
          213,
          209,
          205,
          193,
          149,
          145,
          137,
          127,
          122,
          121,
          113,
          110,
          106,
          105,
          99,
          97,
          92,
          91,
          91,
          86,
          73,
          69,
          64,
          62,
          61,
          61,
          60,
          58,
          57,
          56,
          55,
          53,
          53,
          52,
          49,
          49,
          48,
          47,
          47,
          47,
          44,
          42,
          42,
          41,
          40,
          33,
          33,
          32,
          32,
          31,
          30,
          30,
          28,
          28,
          26,
          26,
          26,
          26,
          25,
          24,
          21,
          20,
          20,
          19,
          19,
          18,
          18,
          18,
          17,
          17,
          17,
          16,
          14,
          14,
          14,
          13,
          12,
          12,
          12,
          12,
          11,
          11,
          11,
          11,
          10,
          10,
          10,
          9,
          9,
          9,
          9,
          9,
          8,
          7,
          7,
          7,
          7,
          7,
          7,
          7,
          6,
          6,
          6,
          6,
          6,
          6,
          6,
          6,
          5,
          5,
          5,
          5,
          5,
          5,
          4,
          4,
          4,
          4,
          4,
          4,
          4,
          4,
          4,
          4,
          4,
          4,
          4,
          3,
          3,
          3,
          3,
          3,
          3,
          3,
          3,
          2,
          2,
          2,
          2,
          2,
          2,
          2,
          2,
          1,
          1,
          1,
          1,
          1,
          1,
          1,
          1,
          1,
          1,
          1,
          1,
          1,
          1,
          1,
          1,
          0,
          0,
          0,
          0,
          0,
          0,
          0,
          0,
          0,
          0,
          0,
          0,
          0,
          0,
          0,
          0,
          0,
          0,
          0,
          0,
          0,
          0,
          0,
          0,
          0,
          0,
          0,
          0,
          0,
          0,
          0,
          0,
          0,
          0,
          0,
          0,
          0,
          0,
          null,
          null,
          null,
          null,
          null,
          null
         ],
         "yaxis": "y"
        }
       ],
       "layout": {
        "legend": {
         "tracegroupgap": 0
        },
        "margin": {
         "t": 60
        },
        "template": {
         "data": {
          "bar": [
           {
            "error_x": {
             "color": "#2a3f5f"
            },
            "error_y": {
             "color": "#2a3f5f"
            },
            "marker": {
             "line": {
              "color": "#E5ECF6",
              "width": 0.5
             },
             "pattern": {
              "fillmode": "overlay",
              "size": 10,
              "solidity": 0.2
             }
            },
            "type": "bar"
           }
          ],
          "barpolar": [
           {
            "marker": {
             "line": {
              "color": "#E5ECF6",
              "width": 0.5
             },
             "pattern": {
              "fillmode": "overlay",
              "size": 10,
              "solidity": 0.2
             }
            },
            "type": "barpolar"
           }
          ],
          "carpet": [
           {
            "aaxis": {
             "endlinecolor": "#2a3f5f",
             "gridcolor": "white",
             "linecolor": "white",
             "minorgridcolor": "white",
             "startlinecolor": "#2a3f5f"
            },
            "baxis": {
             "endlinecolor": "#2a3f5f",
             "gridcolor": "white",
             "linecolor": "white",
             "minorgridcolor": "white",
             "startlinecolor": "#2a3f5f"
            },
            "type": "carpet"
           }
          ],
          "choropleth": [
           {
            "colorbar": {
             "outlinewidth": 0,
             "ticks": ""
            },
            "type": "choropleth"
           }
          ],
          "contour": [
           {
            "colorbar": {
             "outlinewidth": 0,
             "ticks": ""
            },
            "colorscale": [
             [
              0,
              "#0d0887"
             ],
             [
              0.1111111111111111,
              "#46039f"
             ],
             [
              0.2222222222222222,
              "#7201a8"
             ],
             [
              0.3333333333333333,
              "#9c179e"
             ],
             [
              0.4444444444444444,
              "#bd3786"
             ],
             [
              0.5555555555555556,
              "#d8576b"
             ],
             [
              0.6666666666666666,
              "#ed7953"
             ],
             [
              0.7777777777777778,
              "#fb9f3a"
             ],
             [
              0.8888888888888888,
              "#fdca26"
             ],
             [
              1,
              "#f0f921"
             ]
            ],
            "type": "contour"
           }
          ],
          "contourcarpet": [
           {
            "colorbar": {
             "outlinewidth": 0,
             "ticks": ""
            },
            "type": "contourcarpet"
           }
          ],
          "heatmap": [
           {
            "colorbar": {
             "outlinewidth": 0,
             "ticks": ""
            },
            "colorscale": [
             [
              0,
              "#0d0887"
             ],
             [
              0.1111111111111111,
              "#46039f"
             ],
             [
              0.2222222222222222,
              "#7201a8"
             ],
             [
              0.3333333333333333,
              "#9c179e"
             ],
             [
              0.4444444444444444,
              "#bd3786"
             ],
             [
              0.5555555555555556,
              "#d8576b"
             ],
             [
              0.6666666666666666,
              "#ed7953"
             ],
             [
              0.7777777777777778,
              "#fb9f3a"
             ],
             [
              0.8888888888888888,
              "#fdca26"
             ],
             [
              1,
              "#f0f921"
             ]
            ],
            "type": "heatmap"
           }
          ],
          "heatmapgl": [
           {
            "colorbar": {
             "outlinewidth": 0,
             "ticks": ""
            },
            "colorscale": [
             [
              0,
              "#0d0887"
             ],
             [
              0.1111111111111111,
              "#46039f"
             ],
             [
              0.2222222222222222,
              "#7201a8"
             ],
             [
              0.3333333333333333,
              "#9c179e"
             ],
             [
              0.4444444444444444,
              "#bd3786"
             ],
             [
              0.5555555555555556,
              "#d8576b"
             ],
             [
              0.6666666666666666,
              "#ed7953"
             ],
             [
              0.7777777777777778,
              "#fb9f3a"
             ],
             [
              0.8888888888888888,
              "#fdca26"
             ],
             [
              1,
              "#f0f921"
             ]
            ],
            "type": "heatmapgl"
           }
          ],
          "histogram": [
           {
            "marker": {
             "pattern": {
              "fillmode": "overlay",
              "size": 10,
              "solidity": 0.2
             }
            },
            "type": "histogram"
           }
          ],
          "histogram2d": [
           {
            "colorbar": {
             "outlinewidth": 0,
             "ticks": ""
            },
            "colorscale": [
             [
              0,
              "#0d0887"
             ],
             [
              0.1111111111111111,
              "#46039f"
             ],
             [
              0.2222222222222222,
              "#7201a8"
             ],
             [
              0.3333333333333333,
              "#9c179e"
             ],
             [
              0.4444444444444444,
              "#bd3786"
             ],
             [
              0.5555555555555556,
              "#d8576b"
             ],
             [
              0.6666666666666666,
              "#ed7953"
             ],
             [
              0.7777777777777778,
              "#fb9f3a"
             ],
             [
              0.8888888888888888,
              "#fdca26"
             ],
             [
              1,
              "#f0f921"
             ]
            ],
            "type": "histogram2d"
           }
          ],
          "histogram2dcontour": [
           {
            "colorbar": {
             "outlinewidth": 0,
             "ticks": ""
            },
            "colorscale": [
             [
              0,
              "#0d0887"
             ],
             [
              0.1111111111111111,
              "#46039f"
             ],
             [
              0.2222222222222222,
              "#7201a8"
             ],
             [
              0.3333333333333333,
              "#9c179e"
             ],
             [
              0.4444444444444444,
              "#bd3786"
             ],
             [
              0.5555555555555556,
              "#d8576b"
             ],
             [
              0.6666666666666666,
              "#ed7953"
             ],
             [
              0.7777777777777778,
              "#fb9f3a"
             ],
             [
              0.8888888888888888,
              "#fdca26"
             ],
             [
              1,
              "#f0f921"
             ]
            ],
            "type": "histogram2dcontour"
           }
          ],
          "mesh3d": [
           {
            "colorbar": {
             "outlinewidth": 0,
             "ticks": ""
            },
            "type": "mesh3d"
           }
          ],
          "parcoords": [
           {
            "line": {
             "colorbar": {
              "outlinewidth": 0,
              "ticks": ""
             }
            },
            "type": "parcoords"
           }
          ],
          "pie": [
           {
            "automargin": true,
            "type": "pie"
           }
          ],
          "scatter": [
           {
            "fillpattern": {
             "fillmode": "overlay",
             "size": 10,
             "solidity": 0.2
            },
            "type": "scatter"
           }
          ],
          "scatter3d": [
           {
            "line": {
             "colorbar": {
              "outlinewidth": 0,
              "ticks": ""
             }
            },
            "marker": {
             "colorbar": {
              "outlinewidth": 0,
              "ticks": ""
             }
            },
            "type": "scatter3d"
           }
          ],
          "scattercarpet": [
           {
            "marker": {
             "colorbar": {
              "outlinewidth": 0,
              "ticks": ""
             }
            },
            "type": "scattercarpet"
           }
          ],
          "scattergeo": [
           {
            "marker": {
             "colorbar": {
              "outlinewidth": 0,
              "ticks": ""
             }
            },
            "type": "scattergeo"
           }
          ],
          "scattergl": [
           {
            "marker": {
             "colorbar": {
              "outlinewidth": 0,
              "ticks": ""
             }
            },
            "type": "scattergl"
           }
          ],
          "scattermapbox": [
           {
            "marker": {
             "colorbar": {
              "outlinewidth": 0,
              "ticks": ""
             }
            },
            "type": "scattermapbox"
           }
          ],
          "scatterpolar": [
           {
            "marker": {
             "colorbar": {
              "outlinewidth": 0,
              "ticks": ""
             }
            },
            "type": "scatterpolar"
           }
          ],
          "scatterpolargl": [
           {
            "marker": {
             "colorbar": {
              "outlinewidth": 0,
              "ticks": ""
             }
            },
            "type": "scatterpolargl"
           }
          ],
          "scatterternary": [
           {
            "marker": {
             "colorbar": {
              "outlinewidth": 0,
              "ticks": ""
             }
            },
            "type": "scatterternary"
           }
          ],
          "surface": [
           {
            "colorbar": {
             "outlinewidth": 0,
             "ticks": ""
            },
            "colorscale": [
             [
              0,
              "#0d0887"
             ],
             [
              0.1111111111111111,
              "#46039f"
             ],
             [
              0.2222222222222222,
              "#7201a8"
             ],
             [
              0.3333333333333333,
              "#9c179e"
             ],
             [
              0.4444444444444444,
              "#bd3786"
             ],
             [
              0.5555555555555556,
              "#d8576b"
             ],
             [
              0.6666666666666666,
              "#ed7953"
             ],
             [
              0.7777777777777778,
              "#fb9f3a"
             ],
             [
              0.8888888888888888,
              "#fdca26"
             ],
             [
              1,
              "#f0f921"
             ]
            ],
            "type": "surface"
           }
          ],
          "table": [
           {
            "cells": {
             "fill": {
              "color": "#EBF0F8"
             },
             "line": {
              "color": "white"
             }
            },
            "header": {
             "fill": {
              "color": "#C8D4E3"
             },
             "line": {
              "color": "white"
             }
            },
            "type": "table"
           }
          ]
         },
         "layout": {
          "annotationdefaults": {
           "arrowcolor": "#2a3f5f",
           "arrowhead": 0,
           "arrowwidth": 1
          },
          "autotypenumbers": "strict",
          "coloraxis": {
           "colorbar": {
            "outlinewidth": 0,
            "ticks": ""
           }
          },
          "colorscale": {
           "diverging": [
            [
             0,
             "#8e0152"
            ],
            [
             0.1,
             "#c51b7d"
            ],
            [
             0.2,
             "#de77ae"
            ],
            [
             0.3,
             "#f1b6da"
            ],
            [
             0.4,
             "#fde0ef"
            ],
            [
             0.5,
             "#f7f7f7"
            ],
            [
             0.6,
             "#e6f5d0"
            ],
            [
             0.7,
             "#b8e186"
            ],
            [
             0.8,
             "#7fbc41"
            ],
            [
             0.9,
             "#4d9221"
            ],
            [
             1,
             "#276419"
            ]
           ],
           "sequential": [
            [
             0,
             "#0d0887"
            ],
            [
             0.1111111111111111,
             "#46039f"
            ],
            [
             0.2222222222222222,
             "#7201a8"
            ],
            [
             0.3333333333333333,
             "#9c179e"
            ],
            [
             0.4444444444444444,
             "#bd3786"
            ],
            [
             0.5555555555555556,
             "#d8576b"
            ],
            [
             0.6666666666666666,
             "#ed7953"
            ],
            [
             0.7777777777777778,
             "#fb9f3a"
            ],
            [
             0.8888888888888888,
             "#fdca26"
            ],
            [
             1,
             "#f0f921"
            ]
           ],
           "sequentialminus": [
            [
             0,
             "#0d0887"
            ],
            [
             0.1111111111111111,
             "#46039f"
            ],
            [
             0.2222222222222222,
             "#7201a8"
            ],
            [
             0.3333333333333333,
             "#9c179e"
            ],
            [
             0.4444444444444444,
             "#bd3786"
            ],
            [
             0.5555555555555556,
             "#d8576b"
            ],
            [
             0.6666666666666666,
             "#ed7953"
            ],
            [
             0.7777777777777778,
             "#fb9f3a"
            ],
            [
             0.8888888888888888,
             "#fdca26"
            ],
            [
             1,
             "#f0f921"
            ]
           ]
          },
          "colorway": [
           "#636efa",
           "#EF553B",
           "#00cc96",
           "#ab63fa",
           "#FFA15A",
           "#19d3f3",
           "#FF6692",
           "#B6E880",
           "#FF97FF",
           "#FECB52"
          ],
          "font": {
           "color": "#2a3f5f"
          },
          "geo": {
           "bgcolor": "white",
           "lakecolor": "white",
           "landcolor": "#E5ECF6",
           "showlakes": true,
           "showland": true,
           "subunitcolor": "white"
          },
          "hoverlabel": {
           "align": "left"
          },
          "hovermode": "closest",
          "mapbox": {
           "style": "light"
          },
          "paper_bgcolor": "white",
          "plot_bgcolor": "#E5ECF6",
          "polar": {
           "angularaxis": {
            "gridcolor": "white",
            "linecolor": "white",
            "ticks": ""
           },
           "bgcolor": "#E5ECF6",
           "radialaxis": {
            "gridcolor": "white",
            "linecolor": "white",
            "ticks": ""
           }
          },
          "scene": {
           "xaxis": {
            "backgroundcolor": "#E5ECF6",
            "gridcolor": "white",
            "gridwidth": 2,
            "linecolor": "white",
            "showbackground": true,
            "ticks": "",
            "zerolinecolor": "white"
           },
           "yaxis": {
            "backgroundcolor": "#E5ECF6",
            "gridcolor": "white",
            "gridwidth": 2,
            "linecolor": "white",
            "showbackground": true,
            "ticks": "",
            "zerolinecolor": "white"
           },
           "zaxis": {
            "backgroundcolor": "#E5ECF6",
            "gridcolor": "white",
            "gridwidth": 2,
            "linecolor": "white",
            "showbackground": true,
            "ticks": "",
            "zerolinecolor": "white"
           }
          },
          "shapedefaults": {
           "line": {
            "color": "#2a3f5f"
           }
          },
          "ternary": {
           "aaxis": {
            "gridcolor": "white",
            "linecolor": "white",
            "ticks": ""
           },
           "baxis": {
            "gridcolor": "white",
            "linecolor": "white",
            "ticks": ""
           },
           "bgcolor": "#E5ECF6",
           "caxis": {
            "gridcolor": "white",
            "linecolor": "white",
            "ticks": ""
           }
          },
          "title": {
           "x": 0.05
          },
          "xaxis": {
           "automargin": true,
           "gridcolor": "white",
           "linecolor": "white",
           "ticks": "",
           "title": {
            "standoff": 15
           },
           "zerolinecolor": "white",
           "zerolinewidth": 2
          },
          "yaxis": {
           "automargin": true,
           "gridcolor": "white",
           "linecolor": "white",
           "ticks": "",
           "title": {
            "standoff": 15
           },
           "zerolinecolor": "white",
           "zerolinewidth": 2
          }
         }
        },
        "xaxis": {
         "anchor": "y",
         "domain": [
          0,
          1
         ],
         "title": {
          "text": "location"
         }
        },
        "yaxis": {
         "anchor": "x",
         "domain": [
          0,
          1
         ],
         "title": {
          "text": "new_deaths"
         }
        }
       }
      }
     },
     "metadata": {},
     "output_type": "display_data"
    }
   ],
   "source": [
    "px.area(grouped_df,x='location',y='new_deaths',facet_col_wrap=25)"
   ]
  },
  {
   "cell_type": "markdown",
   "metadata": {},
   "source": [
    "#continent and new_deaths"
   ]
  },
  {
   "cell_type": "code",
   "execution_count": 16,
   "metadata": {},
   "outputs": [
    {
     "data": {
      "text/html": [
       "<div>\n",
       "<style scoped>\n",
       "    .dataframe tbody tr th:only-of-type {\n",
       "        vertical-align: middle;\n",
       "    }\n",
       "\n",
       "    .dataframe tbody tr th {\n",
       "        vertical-align: top;\n",
       "    }\n",
       "\n",
       "    .dataframe thead th {\n",
       "        text-align: right;\n",
       "    }\n",
       "</style>\n",
       "<table border=\"1\" class=\"dataframe\">\n",
       "  <thead>\n",
       "    <tr style=\"text-align: right;\">\n",
       "      <th></th>\n",
       "      <th>continent</th>\n",
       "      <th>total_deaths</th>\n",
       "    </tr>\n",
       "  </thead>\n",
       "  <tbody>\n",
       "    <tr>\n",
       "      <th>4</th>\n",
       "      <td>Oceania</td>\n",
       "      <td>160576.0</td>\n",
       "    </tr>\n",
       "    <tr>\n",
       "      <th>0</th>\n",
       "      <td>Africa</td>\n",
       "      <td>7367275.0</td>\n",
       "    </tr>\n",
       "    <tr>\n",
       "      <th>1</th>\n",
       "      <td>Asia</td>\n",
       "      <td>37989440.0</td>\n",
       "    </tr>\n",
       "    <tr>\n",
       "      <th>5</th>\n",
       "      <td>South America</td>\n",
       "      <td>57472140.0</td>\n",
       "    </tr>\n",
       "    <tr>\n",
       "      <th>2</th>\n",
       "      <td>Europe</td>\n",
       "      <td>66426459.0</td>\n",
       "    </tr>\n",
       "    <tr>\n",
       "      <th>3</th>\n",
       "      <td>North America</td>\n",
       "      <td>70671477.0</td>\n",
       "    </tr>\n",
       "  </tbody>\n",
       "</table>\n",
       "</div>"
      ],
      "text/plain": [
       "       continent  total_deaths\n",
       "4        Oceania      160576.0\n",
       "0         Africa     7367275.0\n",
       "1           Asia    37989440.0\n",
       "5  South America    57472140.0\n",
       "2         Europe    66426459.0\n",
       "3  North America    70671477.0"
      ]
     },
     "execution_count": 16,
     "metadata": {},
     "output_type": "execute_result"
    }
   ],
   "source": [
    "continent_deaths=data_2020.groupby('continent')['total_deaths'].sum().reset_index().sort_values(by='total_deaths',ascending=True)\n",
    "continent_deaths"
   ]
  },
  {
   "cell_type": "code",
   "execution_count": 17,
   "metadata": {},
   "outputs": [
    {
     "data": {
      "text/plain": [
       "<Axes: ylabel='continent'>"
      ]
     },
     "execution_count": 17,
     "metadata": {},
     "output_type": "execute_result"
    },
    {
     "data": {
      "image/png": "[encoded data removed]",
      "text/plain": [
       "<Figure size 640x480 with 1 Axes>"
      ]
     },
     "metadata": {},
     "output_type": "display_data"
    }
   ],
   "source": [
    "continent_deaths.plot(kind='barh',x='continent',y='total_deaths')\n"
   ]
  },
  {
   "cell_type": "markdown",
   "metadata": {},
   "source": [
    "#months most people died "
   ]
  },
  {
   "cell_type": "code",
   "execution_count": 18,
   "metadata": {},
   "outputs": [],
   "source": [
    "exclude_values = ['Lower middle income','Low income','European Union','World','Asia','Africa','High income','Europe','North America','South America','Upper middle income','Oceania']\n",
    "filtered_df = data_2020[~data_2020['location'].isin(exclude_values)]\n",
    "mont=filtered_df.groupby(['month','location'])['total_deaths'].sum().reset_index().sort_values(by='total_deaths',ascending=False)\n"
   ]
  },
  {
   "cell_type": "code",
   "execution_count": 20,
   "metadata": {},
   "outputs": [
    {
     "data": {
      "application/vnd.plotly.v1+json": {
       "config": {
        "plotlyServerURL": "https://plot.ly"
       },
       "data": [
        {
         "fillpattern": {
          "shape": ""
         },
         "hovertemplate": "month=%{x}<br>total_deaths=%{y}<extra></extra>",
         "legendgroup": "",
         "line": {
          "color": "#636efa"
         },
         "marker": {
          "symbol": "circle"
         },
         "mode": "lines",
         "name": "",
         "orientation": "v",
         "showlegend": false,
         "stackgroup": "1",
         "type": "scatter",
         "x": [
          12,
          11,
          10,
          9,
          12,
          8,
          11,
          10,
          12,
          7,
          12,
          9,
          11,
          6,
          11,
          10,
          8,
          10,
          12,
          9,
          5,
          11,
          10,
          12,
          9,
          9,
          8,
          7,
          11,
          12,
          8,
          10,
          8,
          7,
          12,
          9,
          6,
          12,
          7,
          12,
          8,
          12,
          5,
          12,
          7,
          11,
          11,
          6,
          11,
          11,
          12,
          10,
          10,
          11,
          8,
          12,
          7,
          9,
          10,
          6,
          11,
          11,
          9,
          5,
          8,
          10,
          7,
          4,
          6,
          6,
          10,
          5,
          6,
          7,
          12,
          10,
          12,
          10,
          9,
          9,
          9,
          4,
          4,
          11,
          9,
          10,
          8,
          7,
          12,
          8,
          12,
          6,
          9,
          4,
          9,
          12,
          5,
          11,
          12,
          8,
          5,
          11,
          8,
          11,
          11,
          8,
          12,
          12,
          8,
          12,
          7,
          10,
          12,
          12,
          11,
          10,
          10,
          7,
          9,
          5,
          5,
          11,
          11,
          10,
          10,
          11,
          12,
          8,
          11,
          6,
          12,
          10,
          8,
          9,
          7,
          9,
          10,
          8,
          9,
          7,
          6,
          10,
          12,
          12,
          8,
          6,
          9,
          4,
          5,
          12,
          5,
          9,
          7,
          6,
          11,
          11,
          11,
          12,
          10,
          9,
          6,
          7,
          11,
          12,
          7,
          12,
          11,
          12,
          9,
          6,
          10,
          5,
          9,
          12,
          10,
          11,
          7,
          10,
          11,
          8,
          11,
          12,
          8,
          7,
          9,
          11,
          9,
          8,
          10,
          8,
          12,
          11,
          8,
          6,
          12,
          10,
          7,
          8,
          8,
          10,
          5,
          7,
          4,
          9,
          12,
          10,
          12,
          9,
          11,
          7,
          7,
          5,
          7,
          8,
          10,
          6,
          12,
          10,
          8,
          6,
          7,
          5,
          9,
          4,
          11,
          11,
          9,
          6,
          12,
          4,
          9,
          9,
          9,
          7,
          5,
          7,
          12,
          8,
          5,
          11,
          6,
          4,
          8,
          12,
          10,
          10,
          11,
          12,
          12,
          7,
          12,
          8,
          3,
          11,
          4,
          3,
          10,
          6,
          11,
          12,
          12,
          8,
          9,
          5,
          10,
          12,
          11,
          12,
          11,
          12,
          6,
          11,
          5,
          6,
          8,
          12,
          12,
          12,
          12,
          10,
          10,
          12,
          7,
          12,
          5,
          11,
          12,
          8,
          12,
          7,
          6,
          12,
          11,
          11,
          11,
          10,
          12,
          9,
          10,
          6,
          10,
          10,
          9,
          11,
          9,
          11,
          12,
          11,
          12,
          12,
          7,
          10,
          12,
          11,
          12,
          9,
          7,
          9,
          8,
          11,
          10,
          11,
          9,
          10,
          12,
          11,
          8,
          4,
          8,
          9,
          7,
          8,
          7,
          8,
          9,
          11,
          6,
          9,
          6,
          5,
          6,
          11,
          7,
          10,
          6,
          7,
          3,
          7,
          12,
          9,
          10,
          11,
          9,
          8,
          10,
          11,
          11,
          4,
          11,
          4,
          2,
          5,
          11,
          10,
          12,
          12,
          8,
          6,
          8,
          11,
          12,
          9,
          12,
          9,
          6,
          8,
          8,
          4,
          10,
          12,
          7,
          11,
          12,
          5,
          4,
          12,
          6,
          12,
          12,
          11,
          6,
          12,
          9,
          12,
          11,
          5,
          10,
          12,
          10,
          11,
          10,
          9,
          10,
          8,
          4,
          11,
          10,
          4,
          10,
          10,
          7,
          6,
          9,
          5,
          7,
          11,
          11,
          11,
          3,
          11,
          12,
          11,
          12,
          8,
          9,
          10,
          7,
          6,
          11,
          7,
          10,
          8,
          12,
          11,
          10,
          7,
          12,
          10,
          10,
          12,
          10,
          6,
          8,
          9,
          11,
          5,
          10,
          10,
          7,
          11,
          5,
          9,
          8,
          10,
          11,
          5,
          11,
          9,
          9,
          10,
          8,
          11,
          8,
          11,
          5,
          10,
          9,
          10,
          9,
          6,
          8,
          7,
          11,
          6,
          7,
          9,
          11,
          10,
          9,
          9,
          5,
          10,
          10,
          10,
          9,
          8,
          6,
          7,
          7,
          8,
          12,
          9,
          9,
          10,
          11,
          10,
          8,
          10,
          5,
          12,
          9,
          7,
          4,
          5,
          8,
          9,
          12,
          8,
          9,
          7,
          11,
          6,
          10,
          7,
          8,
          3,
          6,
          7,
          11,
          4,
          6,
          9,
          9,
          9,
          8,
          12,
          9,
          8,
          12,
          9,
          6,
          5,
          8,
          5,
          5,
          9,
          8,
          12,
          11,
          11,
          8,
          3,
          8,
          10,
          8,
          9,
          11,
          5,
          10,
          11,
          7,
          9,
          10,
          8,
          8,
          8,
          6,
          10,
          12,
          10,
          4,
          12,
          10,
          5,
          6,
          10,
          9,
          3,
          6,
          7,
          8,
          10,
          7,
          4,
          6,
          11,
          7,
          12,
          5,
          9,
          7,
          12,
          8,
          6,
          7,
          9,
          8,
          7,
          12,
          9,
          7,
          4,
          12,
          8,
          8,
          12,
          6,
          11,
          9,
          7,
          10,
          8,
          3,
          7,
          12,
          4,
          9,
          12,
          5,
          4,
          6,
          10,
          11,
          10,
          11,
          7,
          12,
          10,
          12,
          11,
          4,
          9,
          11,
          6,
          7,
          11,
          10,
          12,
          8,
          9,
          11,
          10,
          4,
          6,
          7,
          11,
          10,
          8,
          9,
          8,
          9,
          11,
          6,
          5,
          7,
          11,
          9,
          6,
          5,
          6,
          7,
          6,
          7,
          5,
          11,
          5,
          7,
          9,
          10,
          4,
          6,
          6,
          4,
          6,
          4,
          10,
          12,
          8,
          7,
          11,
          6,
          7,
          12,
          5,
          8,
          5,
          6,
          8,
          9,
          12,
          5,
          4,
          7,
          9,
          11,
          8,
          9,
          6,
          12,
          8,
          12,
          11,
          7,
          5,
          10,
          10,
          6,
          10,
          12,
          10,
          10,
          12,
          11,
          8,
          11,
          5,
          6,
          10,
          11,
          9,
          5,
          7,
          8,
          9,
          9,
          4,
          5,
          9,
          9,
          10,
          6,
          12,
          5,
          5,
          9,
          12,
          3,
          6,
          7,
          7,
          5,
          8,
          8,
          12,
          6,
          4,
          12,
          10,
          10,
          11,
          6,
          11,
          12,
          7,
          3,
          10,
          9,
          4,
          8,
          4,
          5,
          6,
          12,
          8,
          12,
          12,
          6,
          5,
          5,
          8,
          5,
          4,
          12,
          10,
          11,
          8,
          10,
          11,
          5,
          12,
          9,
          11,
          11,
          5,
          6,
          7,
          8,
          4,
          11,
          12,
          4,
          4,
          10,
          9,
          10,
          12,
          12,
          10,
          8,
          7,
          7,
          11,
          7,
          7,
          5,
          9,
          9,
          11,
          12,
          8,
          9,
          11,
          8,
          10,
          6,
          5,
          9,
          8,
          8,
          5,
          8,
          5,
          5,
          11,
          11,
          9,
          4,
          8,
          11,
          8,
          10,
          9,
          12,
          12,
          12,
          4,
          7,
          10,
          7,
          8,
          7,
          4,
          5,
          11,
          10,
          12,
          6,
          12,
          4,
          7,
          9,
          7,
          6,
          10,
          10,
          11,
          10,
          4,
          5,
          4,
          11,
          6,
          7,
          10,
          8,
          12,
          5,
          11,
          5,
          9,
          11,
          10,
          12,
          9,
          11,
          10,
          6,
          5,
          12,
          6,
          10,
          6,
          6,
          10,
          12,
          8,
          10,
          7,
          5,
          5,
          10,
          5,
          4,
          12,
          11,
          11,
          7,
          9,
          6,
          7,
          4,
          12,
          9,
          8,
          4,
          4,
          8,
          10,
          10,
          8,
          11,
          10,
          7,
          7,
          9,
          4,
          5,
          11,
          3,
          6,
          10,
          7,
          11,
          9,
          11,
          12,
          8,
          12,
          10,
          9,
          11,
          6,
          7,
          7,
          8,
          7,
          11,
          9,
          12,
          12,
          3,
          9,
          6,
          8,
          8,
          10,
          5,
          11,
          11,
          6,
          6,
          9,
          6,
          10,
          12,
          9,
          10,
          12,
          9,
          8,
          7,
          5,
          12,
          4,
          4,
          10,
          5,
          6,
          10,
          12,
          9,
          11,
          11,
          11,
          4,
          6,
          12,
          9,
          9,
          8,
          4,
          10,
          9,
          10,
          8,
          6,
          8,
          6,
          11,
          12,
          11,
          4,
          8,
          9,
          5,
          4,
          4,
          7,
          8,
          9,
          8,
          11,
          10,
          10,
          12,
          12,
          7,
          12,
          7,
          12,
          10,
          9,
          4,
          11,
          9,
          10,
          12,
          8,
          11,
          10,
          12,
          12,
          11,
          9,
          10,
          11,
          8,
          11,
          10,
          8,
          9,
          11,
          7,
          8,
          6,
          9,
          10,
          7,
          4,
          6,
          11,
          7,
          4,
          7,
          5,
          11,
          6,
          9,
          8,
          7,
          9,
          10,
          7,
          8,
          5,
          12,
          11,
          7,
          12,
          7,
          8,
          8,
          9,
          8,
          9,
          6,
          6,
          10,
          10,
          9,
          7,
          5,
          7,
          6,
          9,
          9,
          8,
          9,
          5,
          4,
          9,
          7,
          6,
          5,
          7,
          6,
          12,
          5,
          3,
          6,
          12,
          7,
          9,
          5,
          11,
          7,
          10,
          10,
          6,
          7,
          12,
          12,
          9,
          8,
          8,
          7,
          10,
          7,
          5,
          8,
          7,
          10,
          4,
          12,
          11,
          12,
          11,
          11,
          5,
          11,
          10,
          11,
          5,
          7,
          6,
          11,
          9,
          10,
          10,
          8,
          4,
          8,
          9,
          9,
          8,
          7,
          4,
          4,
          6,
          9,
          12,
          8,
          6,
          9,
          5,
          5,
          7,
          9,
          9,
          10,
          11,
          12,
          4,
          11,
          4,
          12,
          10,
          12,
          4,
          9,
          8,
          10,
          7,
          6,
          11,
          9,
          11,
          4,
          8,
          9,
          6,
          5,
          8,
          10,
          10,
          5,
          10,
          3,
          4,
          8,
          8,
          5,
          7,
          7,
          9,
          11,
          8,
          9,
          7,
          4,
          7,
          11,
          8,
          6,
          5,
          1,
          4,
          6,
          12,
          4,
          4,
          7,
          7,
          11,
          4,
          7,
          6,
          6,
          7,
          5,
          10,
          6,
          9,
          12,
          6,
          11,
          6,
          8,
          9,
          5,
          5,
          7,
          6,
          12,
          9,
          4,
          3,
          9,
          6,
          4,
          12,
          5,
          6,
          7,
          7,
          5,
          8,
          3,
          5,
          12,
          10,
          6,
          8,
          6,
          5,
          4,
          10,
          10,
          6,
          11,
          5,
          5,
          9,
          7,
          5,
          6,
          12,
          8,
          8,
          11,
          11,
          9,
          4,
          11,
          8,
          7,
          10,
          7,
          3,
          6,
          7,
          8,
          10,
          12,
          5,
          9,
          5,
          9,
          10,
          10,
          3,
          11,
          6,
          9,
          5,
          3,
          8,
          3,
          3,
          5,
          4,
          8,
          7,
          6,
          5,
          5,
          5,
          7,
          9,
          4,
          7,
          4,
          8,
          7,
          9,
          9,
          8,
          6,
          9,
          10,
          9,
          5,
          6,
          8,
          9,
          7,
          12,
          4,
          8,
          5,
          3,
          3,
          7,
          10,
          5,
          8,
          12,
          11,
          8,
          7,
          6,
          9,
          11,
          7,
          5,
          10,
          7,
          8,
          10,
          7,
          6,
          5,
          9,
          6,
          8,
          3,
          5,
          4,
          10,
          8,
          5,
          7,
          7,
          6,
          6,
          4,
          7,
          6,
          5,
          6,
          5,
          6,
          4,
          6,
          9,
          5,
          12,
          8,
          6,
          4,
          6,
          8,
          3,
          11,
          8,
          10,
          4,
          6,
          5,
          6,
          5,
          7,
          7,
          5,
          5,
          6,
          6,
          3,
          5,
          9,
          5,
          3,
          7,
          5,
          4,
          7,
          7,
          7,
          8,
          8,
          10,
          5,
          5,
          12,
          5,
          8,
          9,
          6,
          11,
          9,
          6,
          12,
          3,
          6,
          8,
          4,
          4,
          4,
          8,
          7,
          12,
          4,
          7,
          10,
          8,
          3,
          7,
          5,
          6,
          5,
          9,
          5,
          3,
          4,
          4,
          6,
          6,
          9,
          6,
          11,
          4,
          6,
          2,
          6,
          5,
          4,
          4,
          4,
          10,
          4,
          5,
          5,
          5,
          7,
          4,
          5,
          5,
          5,
          4,
          12,
          4,
          11,
          3,
          6,
          6,
          3,
          4,
          3,
          4,
          3,
          4,
          3,
          4,
          5,
          12,
          4,
          4,
          3,
          6,
          8,
          7,
          5,
          10,
          12,
          8,
          7,
          10,
          10,
          4,
          6,
          11,
          9,
          11,
          9,
          11,
          6,
          4,
          4,
          6,
          6,
          7,
          4,
          4,
          3,
          3,
          9,
          8,
          4,
          5,
          10,
          12,
          4,
          8,
          7,
          4,
          4,
          6,
          11,
          6,
          3,
          9,
          4,
          12,
          4,
          3,
          5,
          5,
          6,
          4,
          5,
          5,
          7,
          3,
          4,
          6,
          6,
          3,
          9,
          3,
          8,
          8,
          6,
          6,
          12,
          3,
          4,
          4,
          8,
          4,
          5,
          4,
          8,
          2,
          7,
          5,
          3,
          12,
          3,
          4,
          3,
          6,
          4,
          4,
          4,
          5,
          7,
          11,
          4,
          3,
          4,
          5,
          8,
          3,
          8,
          5,
          6,
          4,
          1,
          5,
          3,
          3,
          10,
          8,
          7,
          10,
          12,
          12,
          8,
          5,
          4,
          7,
          12,
          7,
          5,
          7,
          9,
          6,
          11,
          7,
          6,
          6,
          11,
          9,
          4,
          3,
          5,
          4,
          3,
          5,
          2,
          6,
          5,
          11,
          3,
          2,
          4,
          9,
          3,
          10,
          3,
          3,
          8,
          11,
          4,
          5,
          10,
          12,
          5,
          8,
          12,
          7,
          12,
          7,
          4,
          7,
          7,
          5,
          10,
          10,
          2,
          9,
          6,
          11,
          6,
          3,
          11,
          6,
          9,
          3,
          5,
          6,
          5,
          4,
          11,
          4,
          5,
          3,
          4,
          4,
          3,
          3,
          4,
          4,
          12,
          3,
          3,
          11,
          5,
          4,
          3,
          4,
          11,
          4,
          8,
          3,
          3,
          6,
          7,
          5,
          9,
          4,
          10,
          4,
          3,
          5,
          8,
          5,
          5,
          8,
          8,
          8,
          8,
          8,
          8,
          5,
          5,
          5,
          7,
          5,
          7,
          10,
          10,
          7,
          5,
          10,
          10,
          7,
          7,
          5,
          12,
          7,
          5,
          10,
          5,
          12,
          5,
          7,
          6,
          4,
          4,
          6,
          9,
          9,
          11,
          6,
          6,
          6,
          11,
          4,
          4,
          9,
          6,
          9,
          6,
          6,
          6,
          11,
          9,
          3,
          9,
          4,
          3,
          2,
          2,
          3,
          3,
          3,
          4,
          4,
          3,
          3,
          3,
          3,
          4,
          3,
          3,
          3,
          3,
          3,
          4,
          7,
          3,
          3,
          4,
          3,
          3,
          9,
          3,
          4,
          2,
          3,
          12,
          3,
          3,
          3,
          4,
          5,
          3,
          4,
          5,
          3,
          3,
          4,
          5,
          3,
          12,
          3,
          3,
          3,
          3,
          4,
          3,
          3,
          3,
          3,
          3,
          3,
          3,
          4,
          3,
          3,
          3,
          3,
          3,
          4,
          3,
          7,
          3,
          3,
          3,
          3,
          3,
          5,
          3,
          3,
          2,
          3,
          2,
          1,
          1,
          2,
          11,
          2,
          2,
          1,
          11,
          2,
          12,
          2,
          1,
          1,
          2,
          2,
          2,
          2,
          2,
          1,
          2,
          1,
          1,
          1,
          2,
          1,
          2,
          11,
          2,
          2,
          11,
          1,
          2,
          11,
          2,
          2,
          1,
          2,
          2,
          1,
          2,
          10,
          2,
          2,
          10,
          2,
          10,
          10,
          10,
          10,
          10,
          10,
          10,
          2,
          2,
          10,
          2,
          2,
          10,
          2,
          12,
          2,
          10,
          2,
          2,
          12,
          2,
          2,
          2,
          2,
          2,
          2,
          2,
          2,
          2,
          10,
          2,
          1,
          10,
          2,
          2,
          10,
          2,
          2,
          2,
          2,
          2,
          10,
          2,
          10,
          2,
          2,
          2,
          1,
          10,
          2,
          2,
          2,
          2,
          2,
          12,
          2,
          10,
          2,
          2,
          12,
          10,
          2,
          10,
          10,
          10,
          2,
          12,
          2,
          12,
          2,
          1,
          1,
          2,
          11,
          1,
          12,
          2,
          2,
          2,
          2,
          2,
          2,
          12,
          1,
          2,
          2,
          2,
          2,
          11,
          2,
          2,
          2,
          2,
          2,
          2,
          12,
          2,
          2,
          2,
          11,
          2,
          2,
          2,
          2,
          1,
          2,
          10,
          10,
          10,
          1,
          2,
          10,
          2,
          2,
          10,
          10,
          2,
          2,
          10,
          2,
          12,
          1,
          1,
          2,
          2,
          11,
          2,
          2,
          1,
          2,
          11,
          2,
          2,
          2,
          1,
          2,
          2,
          1,
          2,
          1,
          1,
          1,
          1,
          12,
          1,
          1,
          1,
          1,
          1,
          1,
          1,
          1,
          1,
          12,
          1,
          1,
          1,
          1,
          1,
          1,
          12,
          1,
          1,
          1,
          1,
          1,
          1,
          1,
          1,
          1,
          1,
          1,
          12,
          1,
          1,
          1,
          1,
          1,
          12,
          1,
          1,
          1,
          11,
          11,
          11,
          1,
          1,
          1,
          1,
          12,
          1,
          1,
          11,
          1,
          1,
          1,
          12,
          1,
          1,
          1,
          12,
          1,
          1,
          1,
          12,
          1,
          12,
          12,
          1,
          1,
          1,
          1,
          12,
          1,
          1,
          1,
          1,
          1,
          12,
          12,
          12,
          1,
          12,
          1,
          1,
          1,
          1,
          1,
          1,
          1,
          1,
          12,
          1,
          1,
          1,
          1,
          1,
          1,
          1,
          1,
          1,
          1,
          1,
          1,
          12,
          1,
          1,
          1,
          1,
          1,
          1,
          1,
          1,
          12,
          1,
          1,
          1,
          1,
          1,
          1,
          1,
          12,
          1,
          1,
          1,
          1,
          1,
          1,
          1,
          1,
          1,
          12,
          1,
          12,
          1,
          1,
          1,
          1,
          1,
          1,
          1,
          1,
          12,
          1,
          11,
          11,
          1,
          1,
          1,
          1,
          1,
          1,
          1,
          1,
          1,
          1,
          1,
          1,
          12,
          1,
          1,
          11,
          1,
          11,
          12,
          1,
          1,
          1,
          11,
          1,
          1,
          1,
          1,
          1,
          11,
          12,
          1,
          11,
          1,
          12,
          11,
          1,
          1,
          1,
          2,
          2,
          11,
          2,
          2,
          2,
          2,
          2,
          2,
          2,
          2,
          11,
          11,
          2,
          12,
          2,
          11,
          1,
          1,
          1,
          1,
          1,
          1,
          12,
          1,
          2,
          1,
          2,
          1,
          2,
          1,
          2,
          11,
          1,
          1,
          1,
          1,
          1,
          1,
          1,
          11,
          1,
          1,
          1,
          1,
          12,
          1,
          1,
          11,
          1,
          1,
          1,
          1,
          1,
          1,
          1,
          1,
          11,
          11,
          1,
          11,
          1,
          1,
          1,
          11,
          1,
          1,
          1,
          1,
          1,
          1,
          1,
          1,
          1,
          11,
          1,
          1,
          1,
          1,
          11,
          1,
          1,
          1,
          1,
          11,
          11,
          11,
          1,
          12,
          1,
          1,
          11,
          1,
          1,
          11,
          11,
          11,
          12,
          1,
          11,
          11,
          11,
          1,
          1,
          12,
          11,
          3,
          2,
          7,
          4,
          7,
          7,
          4,
          7,
          4,
          4,
          4,
          4,
          4,
          7,
          7,
          7,
          7,
          7,
          4,
          4,
          4,
          7,
          7,
          4,
          4,
          7,
          4,
          7,
          7,
          7,
          7,
          7,
          7,
          4,
          7,
          4,
          7,
          4,
          6,
          7,
          4,
          4,
          7,
          1,
          7,
          4,
          4,
          4,
          6,
          6,
          6,
          6,
          6,
          6,
          4,
          4,
          4,
          7,
          4,
          7,
          7,
          7,
          7,
          7,
          4,
          4,
          7,
          7,
          4,
          4,
          7,
          4,
          4,
          4,
          4,
          7,
          7,
          3,
          3,
          3,
          3,
          8,
          3,
          3,
          3,
          3,
          8,
          3,
          3,
          3,
          8,
          8,
          8,
          3,
          3,
          8,
          3,
          8,
          8,
          8,
          8,
          3,
          8,
          8,
          3,
          8,
          8,
          3,
          8,
          3,
          3,
          3,
          3,
          7,
          7,
          7,
          7,
          7,
          4,
          4,
          7,
          7,
          7,
          7,
          7,
          7,
          7,
          7,
          7,
          7,
          3,
          8,
          3,
          3,
          3,
          3,
          8,
          3,
          4,
          7,
          4,
          7,
          7,
          7,
          4,
          7,
          6,
          6,
          8,
          5,
          5,
          5,
          5,
          5,
          5,
          5,
          5,
          5,
          5,
          5,
          5,
          5,
          5,
          5,
          5,
          5,
          5,
          6,
          6,
          4,
          4,
          4,
          6,
          4,
          4,
          5,
          6,
          5,
          6,
          6,
          6,
          5,
          5,
          5,
          5,
          4,
          5,
          5,
          5,
          5,
          5,
          5,
          5,
          5,
          5,
          5,
          5,
          5,
          5,
          5,
          5,
          5,
          5,
          5,
          5,
          5,
          5,
          5,
          5,
          5,
          5,
          5,
          5,
          5,
          5,
          5,
          5,
          5,
          5,
          5,
          6,
          6,
          4,
          4,
          6,
          6,
          4,
          4,
          4,
          4,
          4,
          4,
          6,
          4,
          6,
          4,
          6,
          4,
          4,
          6,
          6,
          6,
          4,
          6,
          6,
          6,
          4,
          6,
          4,
          4,
          6,
          6,
          6,
          4,
          6,
          6,
          6,
          6,
          4,
          6,
          4,
          4,
          6,
          4,
          4,
          6,
          6,
          6,
          4,
          6,
          6,
          6,
          6,
          6,
          6,
          4,
          4,
          6,
          6,
          4,
          4,
          6,
          6,
          6,
          6,
          4,
          4,
          6,
          4,
          6,
          6,
          6,
          6,
          3,
          3,
          10,
          9,
          2,
          2,
          10,
          2,
          2,
          10,
          2,
          2,
          2,
          2,
          2,
          2,
          9,
          9,
          2,
          2,
          2,
          2,
          2,
          2,
          2,
          2,
          2,
          2,
          10,
          2,
          2,
          2,
          10,
          2,
          2,
          2,
          2,
          9,
          9,
          9,
          2,
          2,
          9,
          3,
          9,
          3,
          9,
          3,
          9,
          9,
          9,
          9,
          9,
          9,
          9,
          3,
          2,
          2,
          2,
          9,
          2,
          2,
          9,
          9,
          2,
          2,
          9,
          2,
          9,
          2,
          2,
          9,
          2,
          2,
          2,
          2,
          2,
          2,
          2,
          2,
          2,
          2,
          2,
          2,
          2,
          2,
          2,
          2,
          10,
          2,
          2,
          2,
          2,
          2,
          2,
          2,
          2,
          2,
          2,
          2,
          2,
          2,
          2,
          2,
          10,
          2,
          2,
          10,
          10,
          2,
          2,
          2,
          2,
          2,
          2,
          2,
          2,
          2,
          2,
          10,
          2,
          2,
          2,
          2,
          2,
          2,
          2,
          2,
          10,
          10,
          10,
          10,
          2,
          10,
          2,
          10,
          2,
          2,
          2,
          2,
          2,
          2,
          2,
          10,
          10,
          2,
          2,
          3,
          3,
          3,
          3,
          3,
          3,
          8,
          3,
          8,
          3,
          3,
          8,
          3,
          8,
          8,
          8,
          8,
          8,
          8,
          3,
          8,
          3,
          3,
          8,
          8,
          3,
          8,
          8,
          8,
          3,
          8,
          8,
          8,
          3,
          3,
          8,
          8,
          8,
          3,
          3,
          3,
          8,
          3,
          8,
          3,
          3,
          8,
          8,
          8,
          3,
          3,
          3,
          3,
          3,
          3,
          3,
          8,
          3,
          8,
          3,
          3,
          8,
          3,
          3,
          3,
          8,
          3,
          3,
          8,
          8,
          8,
          3,
          3,
          8,
          3,
          3,
          3,
          3,
          3,
          3,
          3,
          3,
          9,
          9,
          3,
          3,
          9,
          3,
          3,
          3,
          9,
          3,
          3,
          9,
          3,
          3,
          9,
          9,
          3,
          3,
          3,
          9,
          3,
          9,
          9,
          3,
          3,
          9,
          9,
          3,
          9,
          9,
          9,
          3,
          3,
          3,
          5,
          9,
          3,
          3,
          3,
          9,
          3,
          9,
          3,
          3,
          9,
          9,
          3,
          3,
          3,
          9,
          3,
          3,
          9,
          3,
          3,
          9,
          9,
          3,
          9,
          3,
          9,
          9,
          3,
          3,
          3,
          1
         ],
         "xaxis": "x",
         "y": [
          9716018,
          7569393,
          6869198,
          6007226,
          5659701,
          5402211,
          4960389,
          4701239,
          4457379,
          4387347,
          4202954,
          3960582,
          3894165,
          3517682,
          3500696,
          3457615,
          3287134,
          3171135,
          2828864,
          2705780,
          2686498,
          2644482,
          2621842,
          2619425,
          2443374,
          2347908,
          2304865,
          2304646,
          2095241,
          2027648,
          2007519,
          1872988,
          1784102,
          1758884,
          1758864,
          1743107,
          1633063,
          1621611,
          1615385,
          1596688,
          1553468,
          1508227,
          1437575,
          1432778,
          1425993,
          1368140,
          1315569,
          1293658,
          1257591,
          1240169,
          1220843,
          1135111,
          1122528,
          1119280,
          1094804,
          1094067,
          1084553,
          1069468,
          1051966,
          1027549,
          1012846,
          1009123,
          968507,
          968137,
          939402,
          925339,
          924333,
          923589,
          901956,
          884821,
          878348,
          861157,
          860846,
          793511,
          744725,
          742571,
          733230,
          724861,
          706511,
          696352,
          685253,
          637523,
          628632,
          622560,
          620779,
          620379,
          618407,
          605892,
          600212,
          600179,
          570496,
          568143,
          567650,
          554572,
          540370,
          527070,
          520021,
          519922,
          494628,
          485219,
          461282,
          459696,
          447421,
          443442,
          435970,
          430691,
          429478,
          422026,
          421222,
          419068,
          418711,
          417784,
          392108,
          390319,
          389966,
          383299,
          377888,
          367042,
          360131,
          356831,
          350920,
          348618,
          348505,
          328060,
          327154,
          325885,
          324996,
          321953,
          320364,
          319760,
          315763,
          311810,
          307195,
          303690,
          302839,
          301633,
          298867,
          293855,
          289731,
          289390,
          288474,
          283114,
          279821,
          278693,
          278385,
          276204,
          274472,
          273312,
          272975,
          272893,
          272872,
          272524,
          271101,
          270922,
          268277,
          265141,
          261871,
          259738,
          259306,
          243674,
          240234,
          235488,
          234081,
          229109,
          224925,
          221327,
          217869,
          217476,
          215749,
          215557,
          214122,
          213896,
          208527,
          207237,
          205294,
          204501,
          201959,
          199241,
          193895,
          193724,
          193505,
          193008,
          192605,
          192219,
          191604,
          190810,
          190701,
          190454,
          188875,
          188800,
          187952,
          187421,
          185067,
          183845,
          182969,
          182712,
          182305,
          180706,
          178497,
          177414,
          175893,
          174510,
          174477,
          174472,
          174458,
          174118,
          172702,
          170161,
          169475,
          167784,
          163423,
          161754,
          159416,
          158744,
          158271,
          152692,
          147694,
          147126,
          145817,
          144859,
          144234,
          143968,
          143910,
          143045,
          142690,
          142453,
          142229,
          139372,
          139272,
          138193,
          134970,
          129648,
          126604,
          123421,
          122997,
          122962,
          122477,
          122104,
          118832,
          118046,
          117905,
          117169,
          114101,
          113919,
          108569,
          107451,
          106203,
          106150,
          105869,
          105079,
          104654,
          104471,
          104167,
          100517,
          98687,
          98525,
          97461,
          97337,
          95473,
          95126,
          92889,
          91362,
          90042,
          89793,
          87659,
          87117,
          85754,
          84383,
          83995,
          83946,
          83349,
          82332,
          82313,
          82054,
          81035,
          80901,
          80598,
          79952,
          78705,
          78210,
          78202,
          77781,
          77720,
          74838,
          73956,
          73830,
          73485,
          73038,
          71948,
          71566,
          70883,
          70711,
          70125,
          69053,
          68563,
          67670,
          67192,
          66952,
          66754,
          66560,
          66554,
          65944,
          65196,
          64800,
          62770,
          62252,
          62050,
          61474,
          61410,
          60901,
          60651,
          60034,
          59952,
          59672,
          59506,
          59423,
          59270,
          58835,
          57955,
          57142,
          56957,
          56896,
          56551,
          56538,
          56289,
          56065,
          55043,
          54997,
          54557,
          54092,
          53935,
          53838,
          53474,
          53290,
          53224,
          53074,
          52765,
          52640,
          52417,
          52381,
          51853,
          51833,
          51530,
          51380,
          50496,
          49841,
          49685,
          49326,
          49311,
          49229,
          48983,
          48777,
          48682,
          48206,
          47839,
          47361,
          47088,
          46997,
          46860,
          46632,
          46431,
          46338,
          46157,
          46147,
          45550,
          45543,
          45186,
          45001,
          43996,
          43764,
          43651,
          43401,
          42931,
          42884,
          42884,
          41853,
          41814,
          41667,
          41161,
          40841,
          40363,
          39965,
          39756,
          38654,
          38307,
          38027,
          37805,
          37728,
          37503,
          37228,
          37194,
          36843,
          36604,
          36264,
          35806,
          35759,
          35632,
          35421,
          34994,
          34827,
          34768,
          34679,
          34665,
          34511,
          34388,
          33757,
          33744,
          33336,
          33236,
          32808,
          32779,
          32743,
          32367,
          32070,
          32050,
          31791,
          31782,
          31566,
          31353,
          31229,
          31110,
          31088,
          31042,
          30901,
          30682,
          30600,
          30567,
          30376,
          30290,
          30238,
          29937,
          29883,
          29714,
          28945,
          28855,
          28745,
          28499,
          28237,
          28236,
          28221,
          28129,
          28022,
          27686,
          27637,
          27494,
          26995,
          26296,
          25924,
          25772,
          25629,
          25492,
          25472,
          25394,
          25347,
          25332,
          25104,
          25055,
          25011,
          24993,
          24806,
          24687,
          24532,
          24502,
          24340,
          23985,
          23972,
          23907,
          23802,
          23596,
          23458,
          23287,
          23241,
          23122,
          23044,
          23011,
          22644,
          22454,
          22045,
          22006,
          21636,
          21597,
          21404,
          21278,
          21259,
          21182,
          20920,
          20742,
          20681,
          20650,
          20474,
          20310,
          20289,
          19981,
          19829,
          19586,
          19430,
          19405,
          19284,
          19270,
          19224,
          19220,
          19094,
          19023,
          18980,
          18962,
          18962,
          18825,
          18802,
          18705,
          18701,
          18642,
          18533,
          18481,
          18388,
          18385,
          18360,
          18159,
          18131,
          18102,
          18069,
          18016,
          17930,
          17445,
          17394,
          17342,
          17026,
          17016,
          17014,
          17006,
          16856,
          16771,
          16699,
          16676,
          16631,
          16605,
          16526,
          16475,
          16286,
          15955,
          15661,
          15601,
          15521,
          15386,
          15333,
          15307,
          15152,
          15117,
          15006,
          14979,
          14823,
          14807,
          14777,
          14659,
          14644,
          14638,
          14561,
          14377,
          14358,
          14113,
          14091,
          14067,
          13821,
          13660,
          13609,
          13515,
          13491,
          13475,
          13428,
          13418,
          13412,
          13135,
          13122,
          13099,
          13061,
          13008,
          13007,
          12914,
          12889,
          12781,
          12781,
          12770,
          12725,
          12507,
          12496,
          12487,
          12478,
          12430,
          12357,
          12179,
          11972,
          11774,
          11757,
          11633,
          11612,
          11594,
          11482,
          11440,
          11415,
          11401,
          11331,
          11312,
          11278,
          11224,
          11154,
          11103,
          10998,
          10989,
          10756,
          10746,
          10732,
          10633,
          10609,
          10582,
          10537,
          10371,
          10345,
          10270,
          10248,
          10229,
          10086,
          10084,
          10080,
          9997,
          9983,
          9937,
          9846,
          9831,
          9721,
          9713,
          9672,
          9657,
          9656,
          9611,
          9606,
          9592,
          9578,
          9548,
          9534,
          9523,
          9468,
          9464,
          9337,
          9322,
          9291,
          9260,
          9232,
          9231,
          9217,
          9199,
          9172,
          9119,
          9043,
          9038,
          9014,
          8982,
          8976,
          8954,
          8939,
          8915,
          8791,
          8748,
          8744,
          8731,
          8716,
          8667,
          8601,
          8593,
          8591,
          8541,
          8538,
          8326,
          8294,
          8265,
          8234,
          8161,
          8081,
          8070,
          8063,
          8001,
          7996,
          7969,
          7915,
          7854,
          7828,
          7796,
          7729,
          7697,
          7663,
          7553,
          7514,
          7480,
          7463,
          7460,
          7435,
          7398,
          7372,
          7290,
          7262,
          7254,
          7246,
          7145,
          7132,
          7025,
          7018,
          6960,
          6959,
          6911,
          6894,
          6884,
          6866,
          6849,
          6714,
          6692,
          6630,
          6527,
          6525,
          6497,
          6437,
          6394,
          6366,
          6365,
          6349,
          6272,
          6253,
          6209,
          6129,
          6049,
          6046,
          6043,
          5976,
          5883,
          5829,
          5783,
          5782,
          5700,
          5671,
          5623,
          5617,
          5578,
          5541,
          5539,
          5537,
          5519,
          5466,
          5443,
          5356,
          5321,
          5298,
          5271,
          5261,
          5254,
          5205,
          5117,
          5082,
          5040,
          5032,
          4984,
          4980,
          4899,
          4891,
          4879,
          4857,
          4854,
          4832,
          4785,
          4767,
          4764,
          4746,
          4731,
          4728,
          4715,
          4706,
          4697,
          4616,
          4585,
          4581,
          4558,
          4504,
          4496,
          4487,
          4470,
          4456,
          4418,
          4355,
          4317,
          4278,
          4272,
          4257,
          4256,
          4249,
          4247,
          4234,
          4229,
          4218,
          4209,
          4197,
          4176,
          4161,
          4159,
          4144,
          4140,
          4133,
          4112,
          4100,
          4091,
          4075,
          4064,
          4011,
          3999,
          3996,
          3974,
          3973,
          3963,
          3931,
          3926,
          3886,
          3885,
          3876,
          3874,
          3873,
          3870,
          3841,
          3816,
          3808,
          3807,
          3793,
          3788,
          3780,
          3770,
          3761,
          3745,
          3709,
          3664,
          3653,
          3647,
          3645,
          3644,
          3633,
          3621,
          3613,
          3612,
          3571,
          3570,
          3563,
          3558,
          3553,
          3546,
          3479,
          3430,
          3424,
          3424,
          3414,
          3406,
          3402,
          3394,
          3376,
          3372,
          3368,
          3366,
          3354,
          3339,
          3338,
          3273,
          3272,
          3254,
          3220,
          3216,
          3204,
          3201,
          3195,
          3179,
          3174,
          3131,
          3123,
          3120,
          3119,
          3112,
          3111,
          3102,
          3098,
          3093,
          3066,
          3059,
          3052,
          3039,
          3029,
          3022,
          3017,
          3010,
          2998,
          2990,
          2954,
          2934,
          2934,
          2903,
          2899,
          2893,
          2886,
          2883,
          2883,
          2878,
          2869,
          2866,
          2863,
          2862,
          2861,
          2843,
          2841,
          2836,
          2828,
          2827,
          2824,
          2806,
          2790,
          2782,
          2759,
          2759,
          2733,
          2728,
          2716,
          2705,
          2699,
          2698,
          2686,
          2686,
          2668,
          2647,
          2640,
          2640,
          2640,
          2590,
          2576,
          2575,
          2574,
          2573,
          2573,
          2569,
          2544,
          2536,
          2524,
          2496,
          2490,
          2490,
          2483,
          2470,
          2469,
          2463,
          2447,
          2445,
          2418,
          2375,
          2367,
          2346,
          2335,
          2334,
          2326,
          2320,
          2291,
          2288,
          2274,
          2267,
          2265,
          2250,
          2234,
          2232,
          2211,
          2197,
          2181,
          2161,
          2158,
          2152,
          2149,
          2141,
          2131,
          2124,
          2118,
          2118,
          2101,
          2100,
          2050,
          2029,
          2026,
          2025,
          2017,
          2012,
          2004,
          2002,
          1998,
          1985,
          1984,
          1978,
          1965,
          1962,
          1959,
          1953,
          1951,
          1945,
          1940,
          1935,
          1935,
          1922,
          1903,
          1895,
          1893,
          1892,
          1891,
          1891,
          1877,
          1877,
          1873,
          1863,
          1861,
          1860,
          1860,
          1844,
          1841,
          1837,
          1830,
          1829,
          1828,
          1824,
          1815,
          1798,
          1798,
          1763,
          1752,
          1745,
          1744,
          1741,
          1739,
          1735,
          1733,
          1733,
          1731,
          1730,
          1720,
          1704,
          1694,
          1688,
          1681,
          1679,
          1677,
          1643,
          1631,
          1629,
          1628,
          1622,
          1621,
          1612,
          1612,
          1605,
          1603,
          1599,
          1592,
          1590,
          1590,
          1582,
          1577,
          1567,
          1565,
          1557,
          1551,
          1550,
          1544,
          1526,
          1524,
          1517,
          1515,
          1510,
          1508,
          1505,
          1504,
          1496,
          1494,
          1484,
          1480,
          1478,
          1475,
          1447,
          1438,
          1436,
          1431,
          1426,
          1403,
          1400,
          1397,
          1389,
          1387,
          1379,
          1375,
          1375,
          1363,
          1363,
          1358,
          1344,
          1341,
          1335,
          1331,
          1304,
          1302,
          1302,
          1302,
          1288,
          1286,
          1284,
          1284,
          1283,
          1280,
          1279,
          1279,
          1271,
          1266,
          1261,
          1261,
          1260,
          1260,
          1260,
          1249,
          1231,
          1213,
          1210,
          1206,
          1202,
          1201,
          1199,
          1194,
          1188,
          1181,
          1180,
          1172,
          1169,
          1168,
          1167,
          1163,
          1151,
          1150,
          1149,
          1146,
          1137,
          1105,
          1096,
          1090,
          1087,
          1087,
          1085,
          1085,
          1085,
          1085,
          1071,
          1056,
          1054,
          1054,
          1054,
          1052,
          1050,
          1047,
          1042,
          1031,
          1025,
          1020,
          1020,
          1013,
          1002,
          1001,
          996,
          994,
          992,
          985,
          980,
          975,
          975,
          970,
          964,
          961,
          960,
          960,
          959,
          959,
          950,
          949,
          940,
          931,
          930,
          926,
          919,
          911,
          909,
          909,
          899,
          893,
          891,
          880,
          879,
          878,
          874,
          869,
          868,
          867,
          863,
          858,
          856,
          856,
          854,
          851,
          842,
          842,
          840,
          837,
          836,
          832,
          829,
          823,
          821,
          815,
          815,
          812,
          811,
          810,
          809,
          807,
          799,
          796,
          795,
          792,
          788,
          784,
          783,
          781,
          776,
          775,
          775,
          770,
          766,
          760,
          756,
          756,
          754,
          753,
          753,
          750,
          749,
          735,
          727,
          720,
          717,
          716,
          713,
          711,
          709,
          702,
          696,
          689,
          688,
          683,
          682,
          682,
          682,
          672,
          662,
          660,
          651,
          651,
          651,
          651,
          649,
          649,
          647,
          646,
          643,
          635,
          632,
          630,
          630,
          630,
          630,
          621,
          621,
          614,
          612,
          603,
          602,
          601,
          600,
          595,
          594,
          592,
          590,
          589,
          586,
          583,
          576,
          574,
          571,
          564,
          563,
          561,
          560,
          554,
          554,
          553,
          550,
          548,
          546,
          541,
          540,
          533,
          527,
          522,
          514,
          504,
          503,
          497,
          496,
          496,
          496,
          496,
          496,
          490,
          488,
          481,
          480,
          480,
          480,
          478,
          473,
          467,
          465,
          465,
          465,
          454,
          454,
          451,
          450,
          450,
          449,
          447,
          447,
          443,
          442,
          442,
          434,
          434,
          427,
          420,
          420,
          418,
          417,
          408,
          404,
          396,
          394,
          390,
          389,
          383,
          376,
          376,
          372,
          368,
          362,
          361,
          360,
          350,
          348,
          348,
          345,
          345,
          344,
          343,
          343,
          342,
          341,
          341,
          341,
          335,
          334,
          330,
          330,
          328,
          327,
          323,
          321,
          321,
          320,
          317,
          311,
          310,
          310,
          310,
          310,
          310,
          310,
          310,
          310,
          310,
          308,
          307,
          300,
          300,
          300,
          300,
          300,
          298,
          297,
          295,
          292,
          292,
          290,
          289,
          287,
          285,
          283,
          283,
          279,
          279,
          279,
          279,
          279,
          278,
          277,
          277,
          277,
          274,
          273,
          270,
          270,
          270,
          270,
          270,
          270,
          270,
          268,
          266,
          265,
          261,
          259,
          259,
          257,
          253,
          251,
          250,
          249,
          249,
          248,
          248,
          248,
          248,
          248,
          247,
          247,
          247,
          246,
          243,
          243,
          240,
          234,
          234,
          231,
          231,
          231,
          229,
          229,
          225,
          223,
          222,
          221,
          219,
          219,
          219,
          219,
          217,
          217,
          217,
          217,
          217,
          217,
          217,
          217,
          217,
          211,
          210,
          210,
          210,
          210,
          210,
          210,
          207,
          207,
          207,
          200,
          197,
          197,
          197,
          197,
          195,
          192,
          191,
          190,
          188,
          186,
          186,
          186,
          186,
          186,
          186,
          184,
          184,
          180,
          180,
          180,
          179,
          177,
          175,
          171,
          169,
          168,
          164,
          162,
          157,
          156,
          155,
          155,
          155,
          153,
          151,
          151,
          150,
          149,
          145,
          143,
          143,
          142,
          142,
          141,
          141,
          141,
          137,
          137,
          134,
          134,
          131,
          130,
          129,
          125,
          125,
          124,
          119,
          118,
          116,
          115,
          113,
          112,
          112,
          111,
          108,
          108,
          107,
          106,
          106,
          105,
          103,
          102,
          101,
          101,
          101,
          101,
          99,
          99,
          99,
          97,
          96,
          95,
          93,
          93,
          93,
          93,
          93,
          93,
          93,
          93,
          93,
          93,
          93,
          93,
          93,
          93,
          90,
          90,
          90,
          90,
          90,
          90,
          90,
          90,
          89,
          88,
          85,
          81,
          81,
          78,
          75,
          74,
          73,
          73,
          72,
          72,
          71,
          70,
          69,
          69,
          67,
          67,
          66,
          65,
          65,
          63,
          62,
          62,
          62,
          62,
          62,
          62,
          62,
          62,
          62,
          62,
          62,
          62,
          62,
          62,
          61,
          60,
          60,
          60,
          60,
          60,
          60,
          60,
          60,
          59,
          58,
          58,
          56,
          55,
          53,
          52,
          51,
          51,
          51,
          50,
          48,
          47,
          46,
          44,
          43,
          43,
          43,
          43,
          43,
          43,
          42,
          39,
          39,
          39,
          37,
          37,
          36,
          36,
          35,
          35,
          35,
          34,
          34,
          33,
          32,
          32,
          31,
          31,
          31,
          31,
          31,
          31,
          31,
          31,
          31,
          31,
          31,
          31,
          31,
          31,
          31,
          31,
          31,
          31,
          31,
          31,
          31,
          31,
          31,
          31,
          31,
          31,
          31,
          31,
          31,
          31,
          31,
          31,
          30,
          30,
          30,
          30,
          30,
          30,
          30,
          30,
          30,
          30,
          30,
          30,
          30,
          30,
          30,
          30,
          30,
          30,
          30,
          30,
          30,
          30,
          30,
          29,
          28,
          28,
          28,
          28,
          28,
          26,
          26,
          25,
          25,
          24,
          24,
          24,
          24,
          23,
          23,
          21,
          21,
          20,
          20,
          19,
          19,
          19,
          18,
          17,
          17,
          16,
          15,
          14,
          14,
          14,
          14,
          13,
          12,
          11,
          11,
          11,
          10,
          10,
          10,
          10,
          10,
          10,
          9,
          9,
          9,
          9,
          9,
          9,
          8,
          8,
          7,
          7,
          6,
          6,
          6,
          5,
          5,
          5,
          4,
          4,
          4,
          4,
          4,
          4,
          3,
          3,
          3,
          3,
          2,
          2,
          2,
          1,
          1,
          1,
          1,
          1,
          0,
          0,
          0,
          0,
          0,
          0,
          0,
          0,
          0,
          0,
          0,
          0,
          0,
          0,
          0,
          0,
          0,
          0,
          0,
          0,
          0,
          0,
          0,
          0,
          0,
          0,
          0,
          0,
          0,
          0,
          0,
          0,
          0,
          0,
          0,
          0,
          0,
          0,
          0,
          0,
          0,
          0,
          0,
          0,
          0,
          0,
          0,
          0,
          0,
          0,
          0,
          0,
          0,
          0,
          0,
          0,
          0,
          0,
          0,
          0,
          0,
          0,
          0,
          0,
          0,
          0,
          0,
          0,
          0,
          0,
          0,
          0,
          0,
          0,
          0,
          0,
          0,
          0,
          0,
          0,
          0,
          0,
          0,
          0,
          0,
          0,
          0,
          0,
          0,
          0,
          0,
          0,
          0,
          0,
          0,
          0,
          0,
          0,
          0,
          0,
          0,
          0,
          0,
          0,
          0,
          0,
          0,
          0,
          0,
          0,
          0,
          0,
          0,
          0,
          0,
          0,
          0,
          0,
          0,
          0,
          0,
          0,
          0,
          0,
          0,
          0,
          0,
          0,
          0,
          0,
          0,
          0,
          0,
          0,
          0,
          0,
          0,
          0,
          0,
          0,
          0,
          0,
          0,
          0,
          0,
          0,
          0,
          0,
          0,
          0,
          0,
          0,
          0,
          0,
          0,
          0,
          0,
          0,
          0,
          0,
          0,
          0,
          0,
          0,
          0,
          0,
          0,
          0,
          0,
          0,
          0,
          0,
          0,
          0,
          0,
          0,
          0,
          0,
          0,
          0,
          0,
          0,
          0,
          0,
          0,
          0,
          0,
          0,
          0,
          0,
          0,
          0,
          0,
          0,
          0,
          0,
          0,
          0,
          0,
          0,
          0,
          0,
          0,
          0,
          0,
          0,
          0,
          0,
          0,
          0,
          0,
          0,
          0,
          0,
          0,
          0,
          0,
          0,
          0,
          0,
          0,
          0,
          0,
          0,
          0,
          0,
          0,
          0,
          0,
          0,
          0,
          0,
          0,
          0,
          0,
          0,
          0,
          0,
          0,
          0,
          0,
          0,
          0,
          0,
          0,
          0,
          0,
          0,
          0,
          0,
          0,
          0,
          0,
          0,
          0,
          0,
          0,
          0,
          0,
          0,
          0,
          0,
          0,
          0,
          0,
          0,
          0,
          0,
          0,
          0,
          0,
          0,
          0,
          0,
          0,
          0,
          0,
          0,
          0,
          0,
          0,
          0,
          0,
          0,
          0,
          0,
          0,
          0,
          0,
          0,
          0,
          0,
          0,
          0,
          0,
          0,
          0,
          0,
          0,
          0,
          0,
          0,
          0,
          0,
          0,
          0,
          0,
          0,
          0,
          0,
          0,
          0,
          0,
          0,
          0,
          0,
          0,
          0,
          0,
          0,
          0,
          0,
          0,
          0,
          0,
          0,
          0,
          0,
          0,
          0,
          0,
          0,
          0,
          0,
          0,
          0,
          0,
          0,
          0,
          0,
          0,
          0,
          0,
          0,
          0,
          0,
          0,
          0,
          0,
          0,
          0,
          0,
          0,
          0,
          0,
          0,
          0,
          0,
          0,
          0,
          0,
          0,
          0,
          0,
          0,
          0,
          0,
          0,
          0,
          0,
          0,
          0,
          0,
          0,
          0,
          0,
          0,
          0,
          0,
          0,
          0,
          0,
          0,
          0,
          0,
          0,
          0,
          0,
          0,
          0,
          0,
          0,
          0,
          0,
          0,
          0,
          0,
          0,
          0,
          0,
          0,
          0,
          0,
          0,
          0,
          0,
          0,
          0,
          0,
          0,
          0,
          0,
          0,
          0,
          0,
          0,
          0,
          0,
          0,
          0,
          0,
          0,
          0,
          0,
          0,
          0,
          0,
          0,
          0,
          0,
          0,
          0,
          0,
          0,
          0,
          0,
          0,
          0,
          0,
          0,
          0,
          0,
          0,
          0,
          0,
          0,
          0,
          0,
          0,
          0,
          0,
          0,
          0,
          0,
          0,
          0,
          0,
          0,
          0,
          0,
          0,
          0,
          0,
          0,
          0,
          0,
          0,
          0,
          0,
          0,
          0,
          0,
          0,
          0,
          0,
          0,
          0,
          0,
          0,
          0,
          0,
          0,
          0,
          0,
          0,
          0,
          0,
          0,
          0,
          0,
          0,
          0,
          0,
          0,
          0,
          0,
          0,
          0,
          0,
          0,
          0,
          0,
          0,
          0,
          0,
          0,
          0,
          0,
          0,
          0,
          0,
          0,
          0,
          0,
          0,
          0,
          0,
          0,
          0,
          0,
          0,
          0,
          0,
          0,
          0,
          0,
          0,
          0,
          0,
          0,
          0,
          0,
          0,
          0,
          0,
          0,
          0,
          0,
          0,
          0,
          0,
          0,
          0,
          0,
          0,
          0,
          0,
          0,
          0,
          0,
          0,
          0,
          0,
          0,
          0,
          0,
          0,
          0,
          0,
          0,
          0,
          0,
          0,
          0,
          0,
          0,
          0,
          0,
          0,
          0,
          0,
          0,
          0,
          0,
          0,
          0,
          0,
          0,
          0,
          0,
          0,
          0,
          0,
          0,
          0,
          0,
          0,
          0,
          0,
          0,
          0,
          0,
          0,
          0,
          0,
          0,
          0,
          0,
          0,
          0,
          0,
          0,
          0,
          0,
          0,
          0,
          0,
          0,
          0,
          0,
          0,
          0,
          0,
          0,
          0,
          0,
          0,
          0,
          0,
          0,
          0,
          0,
          0,
          0,
          0,
          0,
          0,
          0,
          0,
          0,
          0,
          0,
          0,
          0,
          0,
          0,
          0,
          0,
          0,
          0,
          0,
          0,
          0,
          0,
          0,
          0,
          0,
          0,
          0,
          0,
          0,
          0,
          0,
          0,
          0,
          0,
          0,
          0,
          0,
          0,
          0,
          0,
          0,
          0,
          0,
          0,
          0,
          0,
          0,
          0,
          0,
          0,
          0,
          0,
          0,
          0,
          0,
          0,
          0,
          0,
          0,
          0,
          0,
          0,
          0,
          0,
          0,
          0,
          0,
          0,
          0,
          0,
          0,
          0,
          0,
          0,
          0,
          0,
          0,
          0,
          0,
          0,
          0,
          0,
          0,
          0,
          0,
          0,
          0,
          0,
          0,
          0,
          0,
          0,
          0,
          0,
          0,
          0,
          0,
          0,
          0,
          0,
          0,
          0,
          0,
          0,
          0,
          0,
          0,
          0,
          0,
          0,
          0,
          0,
          0,
          0,
          0,
          0,
          0,
          0,
          0,
          0,
          0,
          0,
          0,
          0,
          0,
          0,
          0,
          0,
          0,
          0,
          0,
          0,
          0,
          0,
          0,
          0,
          0,
          0,
          0,
          0,
          0,
          0,
          0,
          0,
          0,
          0,
          0,
          0,
          0,
          0,
          0,
          0,
          0,
          0,
          0,
          0,
          0,
          0,
          0,
          0,
          0,
          0,
          0,
          0,
          0,
          0,
          0,
          0,
          0,
          0,
          0,
          0,
          0,
          0,
          0,
          0,
          0,
          0,
          0,
          0,
          0,
          0,
          0,
          0,
          0,
          0,
          0,
          0,
          0,
          0,
          0,
          0,
          0,
          0,
          0,
          0,
          0,
          0,
          0,
          0,
          0,
          0,
          0,
          0,
          0,
          0,
          0,
          0,
          0,
          0,
          0,
          0,
          0,
          0,
          0,
          0,
          0,
          0,
          0,
          0,
          0,
          0,
          0,
          0,
          0,
          0,
          0,
          0,
          0,
          0,
          0,
          0,
          0,
          0,
          0,
          0,
          0,
          0,
          0,
          0,
          0,
          0,
          0,
          0,
          0,
          0,
          0,
          0,
          0,
          0,
          0,
          0,
          0,
          0,
          0,
          0,
          0,
          0,
          0,
          0,
          0,
          0,
          0,
          0,
          0,
          0,
          0,
          0,
          0,
          0,
          0,
          0,
          0,
          0,
          0,
          0,
          0,
          0,
          0,
          0,
          0,
          0,
          0,
          0,
          0,
          0,
          0,
          0,
          0,
          0,
          0,
          0,
          0,
          0,
          0,
          0,
          0,
          0,
          0,
          0,
          0,
          0,
          0,
          0,
          0,
          0,
          0,
          0,
          0,
          0,
          0,
          0,
          0,
          0,
          0,
          0,
          0,
          0,
          0,
          0,
          0,
          0,
          0,
          0,
          0,
          0,
          0,
          0,
          0,
          0,
          0,
          0,
          0,
          0,
          0,
          0,
          0,
          0,
          0,
          0,
          0,
          0,
          0,
          0,
          0,
          0,
          0,
          0,
          0,
          0,
          0,
          0,
          0,
          0,
          0,
          0,
          0,
          0,
          0,
          0,
          0,
          0,
          0,
          0,
          0,
          0,
          0,
          0,
          0,
          0,
          0,
          0,
          0,
          0,
          0,
          0,
          0,
          0,
          0,
          0,
          0,
          0,
          0,
          0,
          0,
          0,
          0,
          0,
          0,
          0,
          0,
          0,
          0,
          0,
          0,
          0,
          0,
          0,
          0,
          0,
          0,
          0,
          0,
          0,
          0,
          0,
          0,
          0,
          0,
          0,
          0,
          0,
          0,
          0,
          0,
          0,
          0,
          0,
          0,
          0,
          0,
          0,
          0,
          0,
          0,
          0,
          0,
          0,
          0,
          0,
          0,
          0,
          0,
          0,
          0,
          0,
          0,
          0,
          0,
          0,
          0,
          0
         ],
         "yaxis": "y"
        }
       ],
       "layout": {
        "legend": {
         "tracegroupgap": 0
        },
        "margin": {
         "t": 60
        },
        "template": {
         "data": {
          "bar": [
           {
            "error_x": {
             "color": "#2a3f5f"
            },
            "error_y": {
             "color": "#2a3f5f"
            },
            "marker": {
             "line": {
              "color": "#E5ECF6",
              "width": 0.5
             },
             "pattern": {
              "fillmode": "overlay",
              "size": 10,
              "solidity": 0.2
             }
            },
            "type": "bar"
           }
          ],
          "barpolar": [
           {
            "marker": {
             "line": {
              "color": "#E5ECF6",
              "width": 0.5
             },
             "pattern": {
              "fillmode": "overlay",
              "size": 10,
              "solidity": 0.2
             }
            },
            "type": "barpolar"
           }
          ],
          "carpet": [
           {
            "aaxis": {
             "endlinecolor": "#2a3f5f",
             "gridcolor": "white",
             "linecolor": "white",
             "minorgridcolor": "white",
             "startlinecolor": "#2a3f5f"
            },
            "baxis": {
             "endlinecolor": "#2a3f5f",
             "gridcolor": "white",
             "linecolor": "white",
             "minorgridcolor": "white",
             "startlinecolor": "#2a3f5f"
            },
            "type": "carpet"
           }
          ],
          "choropleth": [
           {
            "colorbar": {
             "outlinewidth": 0,
             "ticks": ""
            },
            "type": "choropleth"
           }
          ],
          "contour": [
           {
            "colorbar": {
             "outlinewidth": 0,
             "ticks": ""
            },
            "colorscale": [
             [
              0,
              "#0d0887"
             ],
             [
              0.1111111111111111,
              "#46039f"
             ],
             [
              0.2222222222222222,
              "#7201a8"
             ],
             [
              0.3333333333333333,
              "#9c179e"
             ],
             [
              0.4444444444444444,
              "#bd3786"
             ],
             [
              0.5555555555555556,
              "#d8576b"
             ],
             [
              0.6666666666666666,
              "#ed7953"
             ],
             [
              0.7777777777777778,
              "#fb9f3a"
             ],
             [
              0.8888888888888888,
              "#fdca26"
             ],
             [
              1,
              "#f0f921"
             ]
            ],
            "type": "contour"
           }
          ],
          "contourcarpet": [
           {
            "colorbar": {
             "outlinewidth": 0,
             "ticks": ""
            },
            "type": "contourcarpet"
           }
          ],
          "heatmap": [
           {
            "colorbar": {
             "outlinewidth": 0,
             "ticks": ""
            },
            "colorscale": [
             [
              0,
              "#0d0887"
             ],
             [
              0.1111111111111111,
              "#46039f"
             ],
             [
              0.2222222222222222,
              "#7201a8"
             ],
             [
              0.3333333333333333,
              "#9c179e"
             ],
             [
              0.4444444444444444,
              "#bd3786"
             ],
             [
              0.5555555555555556,
              "#d8576b"
             ],
             [
              0.6666666666666666,
              "#ed7953"
             ],
             [
              0.7777777777777778,
              "#fb9f3a"
             ],
             [
              0.8888888888888888,
              "#fdca26"
             ],
             [
              1,
              "#f0f921"
             ]
            ],
            "type": "heatmap"
           }
          ],
          "heatmapgl": [
           {
            "colorbar": {
             "outlinewidth": 0,
             "ticks": ""
            },
            "colorscale": [
             [
              0,
              "#0d0887"
             ],
             [
              0.1111111111111111,
              "#46039f"
             ],
             [
              0.2222222222222222,
              "#7201a8"
             ],
             [
              0.3333333333333333,
              "#9c179e"
             ],
             [
              0.4444444444444444,
              "#bd3786"
             ],
             [
              0.5555555555555556,
              "#d8576b"
             ],
             [
              0.6666666666666666,
              "#ed7953"
             ],
             [
              0.7777777777777778,
              "#fb9f3a"
             ],
             [
              0.8888888888888888,
              "#fdca26"
             ],
             [
              1,
              "#f0f921"
             ]
            ],
            "type": "heatmapgl"
           }
          ],
          "histogram": [
           {
            "marker": {
             "pattern": {
              "fillmode": "overlay",
              "size": 10,
              "solidity": 0.2
             }
            },
            "type": "histogram"
           }
          ],
          "histogram2d": [
           {
            "colorbar": {
             "outlinewidth": 0,
             "ticks": ""
            },
            "colorscale": [
             [
              0,
              "#0d0887"
             ],
             [
              0.1111111111111111,
              "#46039f"
             ],
             [
              0.2222222222222222,
              "#7201a8"
             ],
             [
              0.3333333333333333,
              "#9c179e"
             ],
             [
              0.4444444444444444,
              "#bd3786"
             ],
             [
              0.5555555555555556,
              "#d8576b"
             ],
             [
              0.6666666666666666,
              "#ed7953"
             ],
             [
              0.7777777777777778,
              "#fb9f3a"
             ],
             [
              0.8888888888888888,
              "#fdca26"
             ],
             [
              1,
              "#f0f921"
             ]
            ],
            "type": "histogram2d"
           }
          ],
          "histogram2dcontour": [
           {
            "colorbar": {
             "outlinewidth": 0,
             "ticks": ""
            },
            "colorscale": [
             [
              0,
              "#0d0887"
             ],
             [
              0.1111111111111111,
              "#46039f"
             ],
             [
              0.2222222222222222,
              "#7201a8"
             ],
             [
              0.3333333333333333,
              "#9c179e"
             ],
             [
              0.4444444444444444,
              "#bd3786"
             ],
             [
              0.5555555555555556,
              "#d8576b"
             ],
             [
              0.6666666666666666,
              "#ed7953"
             ],
             [
              0.7777777777777778,
              "#fb9f3a"
             ],
             [
              0.8888888888888888,
              "#fdca26"
             ],
             [
              1,
              "#f0f921"
             ]
            ],
            "type": "histogram2dcontour"
           }
          ],
          "mesh3d": [
           {
            "colorbar": {
             "outlinewidth": 0,
             "ticks": ""
            },
            "type": "mesh3d"
           }
          ],
          "parcoords": [
           {
            "line": {
             "colorbar": {
              "outlinewidth": 0,
              "ticks": ""
             }
            },
            "type": "parcoords"
           }
          ],
          "pie": [
           {
            "automargin": true,
            "type": "pie"
           }
          ],
          "scatter": [
           {
            "fillpattern": {
             "fillmode": "overlay",
             "size": 10,
             "solidity": 0.2
            },
            "type": "scatter"
           }
          ],
          "scatter3d": [
           {
            "line": {
             "colorbar": {
              "outlinewidth": 0,
              "ticks": ""
             }
            },
            "marker": {
             "colorbar": {
              "outlinewidth": 0,
              "ticks": ""
             }
            },
            "type": "scatter3d"
           }
          ],
          "scattercarpet": [
           {
            "marker": {
             "colorbar": {
              "outlinewidth": 0,
              "ticks": ""
             }
            },
            "type": "scattercarpet"
           }
          ],
          "scattergeo": [
           {
            "marker": {
             "colorbar": {
              "outlinewidth": 0,
              "ticks": ""
             }
            },
            "type": "scattergeo"
           }
          ],
          "scattergl": [
           {
            "marker": {
             "colorbar": {
              "outlinewidth": 0,
              "ticks": ""
             }
            },
            "type": "scattergl"
           }
          ],
          "scattermapbox": [
           {
            "marker": {
             "colorbar": {
              "outlinewidth": 0,
              "ticks": ""
             }
            },
            "type": "scattermapbox"
           }
          ],
          "scatterpolar": [
           {
            "marker": {
             "colorbar": {
              "outlinewidth": 0,
              "ticks": ""
             }
            },
            "type": "scatterpolar"
           }
          ],
          "scatterpolargl": [
           {
            "marker": {
             "colorbar": {
              "outlinewidth": 0,
              "ticks": ""
             }
            },
            "type": "scatterpolargl"
           }
          ],
          "scatterternary": [
           {
            "marker": {
             "colorbar": {
              "outlinewidth": 0,
              "ticks": ""
             }
            },
            "type": "scatterternary"
           }
          ],
          "surface": [
           {
            "colorbar": {
             "outlinewidth": 0,
             "ticks": ""
            },
            "colorscale": [
             [
              0,
              "#0d0887"
             ],
             [
              0.1111111111111111,
              "#46039f"
             ],
             [
              0.2222222222222222,
              "#7201a8"
             ],
             [
              0.3333333333333333,
              "#9c179e"
             ],
             [
              0.4444444444444444,
              "#bd3786"
             ],
             [
              0.5555555555555556,
              "#d8576b"
             ],
             [
              0.6666666666666666,
              "#ed7953"
             ],
             [
              0.7777777777777778,
              "#fb9f3a"
             ],
             [
              0.8888888888888888,
              "#fdca26"
             ],
             [
              1,
              "#f0f921"
             ]
            ],
            "type": "surface"
           }
          ],
          "table": [
           {
            "cells": {
             "fill": {
              "color": "#EBF0F8"
             },
             "line": {
              "color": "white"
             }
            },
            "header": {
             "fill": {
              "color": "#C8D4E3"
             },
             "line": {
              "color": "white"
             }
            },
            "type": "table"
           }
          ]
         },
         "layout": {
          "annotationdefaults": {
           "arrowcolor": "#2a3f5f",
           "arrowhead": 0,
           "arrowwidth": 1
          },
          "autotypenumbers": "strict",
          "coloraxis": {
           "colorbar": {
            "outlinewidth": 0,
            "ticks": ""
           }
          },
          "colorscale": {
           "diverging": [
            [
             0,
             "#8e0152"
            ],
            [
             0.1,
             "#c51b7d"
            ],
            [
             0.2,
             "#de77ae"
            ],
            [
             0.3,
             "#f1b6da"
            ],
            [
             0.4,
             "#fde0ef"
            ],
            [
             0.5,
             "#f7f7f7"
            ],
            [
             0.6,
             "#e6f5d0"
            ],
            [
             0.7,
             "#b8e186"
            ],
            [
             0.8,
             "#7fbc41"
            ],
            [
             0.9,
             "#4d9221"
            ],
            [
             1,
             "#276419"
            ]
           ],
           "sequential": [
            [
             0,
             "#0d0887"
            ],
            [
             0.1111111111111111,
             "#46039f"
            ],
            [
             0.2222222222222222,
             "#7201a8"
            ],
            [
             0.3333333333333333,
             "#9c179e"
            ],
            [
             0.4444444444444444,
             "#bd3786"
            ],
            [
             0.5555555555555556,
             "#d8576b"
            ],
            [
             0.6666666666666666,
             "#ed7953"
            ],
            [
             0.7777777777777778,
             "#fb9f3a"
            ],
            [
             0.8888888888888888,
             "#fdca26"
            ],
            [
             1,
             "#f0f921"
            ]
           ],
           "sequentialminus": [
            [
             0,
             "#0d0887"
            ],
            [
             0.1111111111111111,
             "#46039f"
            ],
            [
             0.2222222222222222,
             "#7201a8"
            ],
            [
             0.3333333333333333,
             "#9c179e"
            ],
            [
             0.4444444444444444,
             "#bd3786"
            ],
            [
             0.5555555555555556,
             "#d8576b"
            ],
            [
             0.6666666666666666,
             "#ed7953"
            ],
            [
             0.7777777777777778,
             "#fb9f3a"
            ],
            [
             0.8888888888888888,
             "#fdca26"
            ],
            [
             1,
             "#f0f921"
            ]
           ]
          },
          "colorway": [
           "#636efa",
           "#EF553B",
           "#00cc96",
           "#ab63fa",
           "#FFA15A",
           "#19d3f3",
           "#FF6692",
           "#B6E880",
           "#FF97FF",
           "#FECB52"
          ],
          "font": {
           "color": "#2a3f5f"
          },
          "geo": {
           "bgcolor": "white",
           "lakecolor": "white",
           "landcolor": "#E5ECF6",
           "showlakes": true,
           "showland": true,
           "subunitcolor": "white"
          },
          "hoverlabel": {
           "align": "left"
          },
          "hovermode": "closest",
          "mapbox": {
           "style": "light"
          },
          "paper_bgcolor": "white",
          "plot_bgcolor": "#E5ECF6",
          "polar": {
           "angularaxis": {
            "gridcolor": "white",
            "linecolor": "white",
            "ticks": ""
           },
           "bgcolor": "#E5ECF6",
           "radialaxis": {
            "gridcolor": "white",
            "linecolor": "white",
            "ticks": ""
           }
          },
          "scene": {
           "xaxis": {
            "backgroundcolor": "#E5ECF6",
            "gridcolor": "white",
            "gridwidth": 2,
            "linecolor": "white",
            "showbackground": true,
            "ticks": "",
            "zerolinecolor": "white"
           },
           "yaxis": {
            "backgroundcolor": "#E5ECF6",
            "gridcolor": "white",
            "gridwidth": 2,
            "linecolor": "white",
            "showbackground": true,
            "ticks": "",
            "zerolinecolor": "white"
           },
           "zaxis": {
            "backgroundcolor": "#E5ECF6",
            "gridcolor": "white",
            "gridwidth": 2,
            "linecolor": "white",
            "showbackground": true,
            "ticks": "",
            "zerolinecolor": "white"
           }
          },
          "shapedefaults": {
           "line": {
            "color": "#2a3f5f"
           }
          },
          "ternary": {
           "aaxis": {
            "gridcolor": "white",
            "linecolor": "white",
            "ticks": ""
           },
           "baxis": {
            "gridcolor": "white",
            "linecolor": "white",
            "ticks": ""
           },
           "bgcolor": "#E5ECF6",
           "caxis": {
            "gridcolor": "white",
            "linecolor": "white",
            "ticks": ""
           }
          },
          "title": {
           "x": 0.05
          },
          "xaxis": {
           "automargin": true,
           "gridcolor": "white",
           "linecolor": "white",
           "ticks": "",
           "title": {
            "standoff": 15
           },
           "zerolinecolor": "white",
           "zerolinewidth": 2
          },
          "yaxis": {
           "automargin": true,
           "gridcolor": "white",
           "linecolor": "white",
           "ticks": "",
           "title": {
            "standoff": 15
           },
           "zerolinecolor": "white",
           "zerolinewidth": 2
          }
         }
        },
        "xaxis": {
         "anchor": "y",
         "domain": [
          0,
          1
         ],
         "title": {
          "text": "month"
         }
        },
        "yaxis": {
         "anchor": "x",
         "domain": [
          0,
          1
         ],
         "title": {
          "text": "total_deaths"
         }
        }
       }
      }
     },
     "metadata": {},
     "output_type": "display_data"
    }
   ],
   "source": [
    "fig=px.area(mont,x='month',y='total_deaths')\n",
    " \n",
    "fig"
   ]
  },
  {
   "cell_type": "markdown",
   "metadata": {},
   "source": [
    "what is the day that most people died in 2020?"
   ]
  },
  {
   "cell_type": "code",
   "execution_count": 21,
   "metadata": {},
   "outputs": [
    {
     "data": {
      "text/html": [
       "<div>\n",
       "<style scoped>\n",
       "    .dataframe tbody tr th:only-of-type {\n",
       "        vertical-align: middle;\n",
       "    }\n",
       "\n",
       "    .dataframe tbody tr th {\n",
       "        vertical-align: top;\n",
       "    }\n",
       "\n",
       "    .dataframe thead th {\n",
       "        text-align: right;\n",
       "    }\n",
       "</style>\n",
       "<table border=\"1\" class=\"dataframe\">\n",
       "  <thead>\n",
       "    <tr style=\"text-align: right;\">\n",
       "      <th></th>\n",
       "      <th>day</th>\n",
       "      <th>location</th>\n",
       "      <th>total_deaths</th>\n",
       "    </tr>\n",
       "  </thead>\n",
       "  <tbody>\n",
       "    <tr>\n",
       "      <th>7187</th>\n",
       "      <td>30</td>\n",
       "      <td>United States</td>\n",
       "      <td>1705415.0</td>\n",
       "    </tr>\n",
       "    <tr>\n",
       "      <th>6947</th>\n",
       "      <td>29</td>\n",
       "      <td>United States</td>\n",
       "      <td>1693712.0</td>\n",
       "    </tr>\n",
       "    <tr>\n",
       "      <th>6707</th>\n",
       "      <td>28</td>\n",
       "      <td>United States</td>\n",
       "      <td>1683022.0</td>\n",
       "    </tr>\n",
       "    <tr>\n",
       "      <th>6467</th>\n",
       "      <td>27</td>\n",
       "      <td>United States</td>\n",
       "      <td>1672946.0</td>\n",
       "    </tr>\n",
       "    <tr>\n",
       "      <th>6227</th>\n",
       "      <td>26</td>\n",
       "      <td>United States</td>\n",
       "      <td>1659600.0</td>\n",
       "    </tr>\n",
       "    <tr>\n",
       "      <th>...</th>\n",
       "      <td>...</td>\n",
       "      <td>...</td>\n",
       "      <td>...</td>\n",
       "    </tr>\n",
       "    <tr>\n",
       "      <th>5393</th>\n",
       "      <td>23</td>\n",
       "      <td>Kyrgyzstan</td>\n",
       "      <td>0.0</td>\n",
       "    </tr>\n",
       "    <tr>\n",
       "      <th>1748</th>\n",
       "      <td>8</td>\n",
       "      <td>Faeroe Islands</td>\n",
       "      <td>0.0</td>\n",
       "    </tr>\n",
       "    <tr>\n",
       "      <th>1749</th>\n",
       "      <td>8</td>\n",
       "      <td>Falkland Islands</td>\n",
       "      <td>0.0</td>\n",
       "    </tr>\n",
       "    <tr>\n",
       "      <th>5390</th>\n",
       "      <td>23</td>\n",
       "      <td>Kiribati</td>\n",
       "      <td>0.0</td>\n",
       "    </tr>\n",
       "    <tr>\n",
       "      <th>5441</th>\n",
       "      <td>23</td>\n",
       "      <td>Palau</td>\n",
       "      <td>0.0</td>\n",
       "    </tr>\n",
       "  </tbody>\n",
       "</table>\n",
       "<p>7440 rows × 3 columns</p>\n",
       "</div>"
      ],
      "text/plain": [
       "      day          location  total_deaths\n",
       "7187   30     United States     1705415.0\n",
       "6947   29     United States     1693712.0\n",
       "6707   28     United States     1683022.0\n",
       "6467   27     United States     1672946.0\n",
       "6227   26     United States     1659600.0\n",
       "...   ...               ...           ...\n",
       "5393   23        Kyrgyzstan           0.0\n",
       "1748    8    Faeroe Islands           0.0\n",
       "1749    8  Falkland Islands           0.0\n",
       "5390   23          Kiribati           0.0\n",
       "5441   23             Palau           0.0\n",
       "\n",
       "[7440 rows x 3 columns]"
      ]
     },
     "execution_count": 21,
     "metadata": {},
     "output_type": "execute_result"
    }
   ],
   "source": [
    "exclude_values = ['Lower middle income','Low income','European Union','World','Asia','Africa','High income','Europe','North America','South America','Upper middle income','Oceania']\n",
    "filtered_df = data_2020[~data_2020['location'].isin(exclude_values)]\n",
    "mont=filtered_df.groupby(['day','location'])['total_deaths'].sum().reset_index().sort_values(by='total_deaths',ascending=False)\n",
    "mont"
   ]
  },
  {
   "cell_type": "code",
   "execution_count": null,
   "metadata": {},
   "outputs": [],
   "source": []
  },
  {
   "cell_type": "markdown",
   "metadata": {},
   "source": [
    "2021 data"
   ]
  },
  {
   "cell_type": "code",
   "execution_count": 20,
   "metadata": {},
   "outputs": [
    {
     "data": {
      "text/html": [
       "<div>\n",
       "<style scoped>\n",
       "    .dataframe tbody tr th:only-of-type {\n",
       "        vertical-align: middle;\n",
       "    }\n",
       "\n",
       "    .dataframe tbody tr th {\n",
       "        vertical-align: top;\n",
       "    }\n",
       "\n",
       "    .dataframe thead th {\n",
       "        text-align: right;\n",
       "    }\n",
       "</style>\n",
       "<table border=\"1\" class=\"dataframe\">\n",
       "  <thead>\n",
       "    <tr style=\"text-align: right;\">\n",
       "      <th></th>\n",
       "      <th>iso_code</th>\n",
       "      <th>continent</th>\n",
       "      <th>location</th>\n",
       "      <th>date</th>\n",
       "      <th>population</th>\n",
       "      <th>total_cases</th>\n",
       "      <th>new_cases</th>\n",
       "      <th>total_deaths</th>\n",
       "      <th>new_deaths</th>\n",
       "    </tr>\n",
       "  </thead>\n",
       "  <tbody>\n",
       "    <tr>\n",
       "      <th>364</th>\n",
       "      <td>AFG</td>\n",
       "      <td>Asia</td>\n",
       "      <td>Afghanistan</td>\n",
       "      <td>2021-01-01</td>\n",
       "      <td>41128772</td>\n",
       "      <td>52513.0</td>\n",
       "      <td>183.0</td>\n",
       "      <td>2201.0</td>\n",
       "      <td>12.0</td>\n",
       "    </tr>\n",
       "    <tr>\n",
       "      <th>365</th>\n",
       "      <td>AFG</td>\n",
       "      <td>Asia</td>\n",
       "      <td>Afghanistan</td>\n",
       "      <td>2021-01-02</td>\n",
       "      <td>41128772</td>\n",
       "      <td>52586.0</td>\n",
       "      <td>73.0</td>\n",
       "      <td>2211.0</td>\n",
       "      <td>10.0</td>\n",
       "    </tr>\n",
       "    <tr>\n",
       "      <th>366</th>\n",
       "      <td>AFG</td>\n",
       "      <td>Asia</td>\n",
       "      <td>Afghanistan</td>\n",
       "      <td>2021-01-03</td>\n",
       "      <td>41128772</td>\n",
       "      <td>52709.0</td>\n",
       "      <td>123.0</td>\n",
       "      <td>2221.0</td>\n",
       "      <td>10.0</td>\n",
       "    </tr>\n",
       "    <tr>\n",
       "      <th>367</th>\n",
       "      <td>AFG</td>\n",
       "      <td>Asia</td>\n",
       "      <td>Afghanistan</td>\n",
       "      <td>2021-01-04</td>\n",
       "      <td>41128772</td>\n",
       "      <td>52909.0</td>\n",
       "      <td>200.0</td>\n",
       "      <td>2230.0</td>\n",
       "      <td>9.0</td>\n",
       "    </tr>\n",
       "    <tr>\n",
       "      <th>368</th>\n",
       "      <td>AFG</td>\n",
       "      <td>Asia</td>\n",
       "      <td>Afghanistan</td>\n",
       "      <td>2021-01-05</td>\n",
       "      <td>41128772</td>\n",
       "      <td>53011.0</td>\n",
       "      <td>102.0</td>\n",
       "      <td>2237.0</td>\n",
       "      <td>7.0</td>\n",
       "    </tr>\n",
       "    <tr>\n",
       "      <th>...</th>\n",
       "      <td>...</td>\n",
       "      <td>...</td>\n",
       "      <td>...</td>\n",
       "      <td>...</td>\n",
       "      <td>...</td>\n",
       "      <td>...</td>\n",
       "      <td>...</td>\n",
       "      <td>...</td>\n",
       "      <td>...</td>\n",
       "    </tr>\n",
       "    <tr>\n",
       "      <th>331932</th>\n",
       "      <td>ZWE</td>\n",
       "      <td>Africa</td>\n",
       "      <td>Zimbabwe</td>\n",
       "      <td>2021-12-27</td>\n",
       "      <td>16320539</td>\n",
       "      <td>204351.0</td>\n",
       "      <td>605.0</td>\n",
       "      <td>4891.0</td>\n",
       "      <td>6.0</td>\n",
       "    </tr>\n",
       "    <tr>\n",
       "      <th>331933</th>\n",
       "      <td>ZWE</td>\n",
       "      <td>Africa</td>\n",
       "      <td>Zimbabwe</td>\n",
       "      <td>2021-12-28</td>\n",
       "      <td>16320539</td>\n",
       "      <td>205449.0</td>\n",
       "      <td>1098.0</td>\n",
       "      <td>4908.0</td>\n",
       "      <td>17.0</td>\n",
       "    </tr>\n",
       "    <tr>\n",
       "      <th>331934</th>\n",
       "      <td>ZWE</td>\n",
       "      <td>Africa</td>\n",
       "      <td>Zimbabwe</td>\n",
       "      <td>2021-12-29</td>\n",
       "      <td>16320539</td>\n",
       "      <td>207548.0</td>\n",
       "      <td>2099.0</td>\n",
       "      <td>4940.0</td>\n",
       "      <td>32.0</td>\n",
       "    </tr>\n",
       "    <tr>\n",
       "      <th>331935</th>\n",
       "      <td>ZWE</td>\n",
       "      <td>Africa</td>\n",
       "      <td>Zimbabwe</td>\n",
       "      <td>2021-12-30</td>\n",
       "      <td>16320539</td>\n",
       "      <td>209655.0</td>\n",
       "      <td>2107.0</td>\n",
       "      <td>4967.0</td>\n",
       "      <td>27.0</td>\n",
       "    </tr>\n",
       "    <tr>\n",
       "      <th>331936</th>\n",
       "      <td>ZWE</td>\n",
       "      <td>Africa</td>\n",
       "      <td>Zimbabwe</td>\n",
       "      <td>2021-12-31</td>\n",
       "      <td>16320539</td>\n",
       "      <td>211728.0</td>\n",
       "      <td>2073.0</td>\n",
       "      <td>4997.0</td>\n",
       "      <td>30.0</td>\n",
       "    </tr>\n",
       "  </tbody>\n",
       "</table>\n",
       "<p>92659 rows × 9 columns</p>\n",
       "</div>"
      ],
      "text/plain": [
       "       iso_code continent     location       date  population  total_cases  \\\n",
       "364         AFG      Asia  Afghanistan 2021-01-01    41128772      52513.0   \n",
       "365         AFG      Asia  Afghanistan 2021-01-02    41128772      52586.0   \n",
       "366         AFG      Asia  Afghanistan 2021-01-03    41128772      52709.0   \n",
       "367         AFG      Asia  Afghanistan 2021-01-04    41128772      52909.0   \n",
       "368         AFG      Asia  Afghanistan 2021-01-05    41128772      53011.0   \n",
       "...         ...       ...          ...        ...         ...          ...   \n",
       "331932      ZWE    Africa     Zimbabwe 2021-12-27    16320539     204351.0   \n",
       "331933      ZWE    Africa     Zimbabwe 2021-12-28    16320539     205449.0   \n",
       "331934      ZWE    Africa     Zimbabwe 2021-12-29    16320539     207548.0   \n",
       "331935      ZWE    Africa     Zimbabwe 2021-12-30    16320539     209655.0   \n",
       "331936      ZWE    Africa     Zimbabwe 2021-12-31    16320539     211728.0   \n",
       "\n",
       "        new_cases  total_deaths  new_deaths  \n",
       "364         183.0        2201.0        12.0  \n",
       "365          73.0        2211.0        10.0  \n",
       "366         123.0        2221.0        10.0  \n",
       "367         200.0        2230.0         9.0  \n",
       "368         102.0        2237.0         7.0  \n",
       "...           ...           ...         ...  \n",
       "331932      605.0        4891.0         6.0  \n",
       "331933     1098.0        4908.0        17.0  \n",
       "331934     2099.0        4940.0        32.0  \n",
       "331935     2107.0        4967.0        27.0  \n",
       "331936     2073.0        4997.0        30.0  \n",
       "\n",
       "[92659 rows x 9 columns]"
      ]
     },
     "execution_count": 20,
     "metadata": {},
     "output_type": "execute_result"
    }
   ],
   "source": [
    "desired_year=2021\n",
    "data_2021=df[df['date'].dt.year==desired_year]\n",
    "data_2021"
   ]
  },
  {
   "cell_type": "markdown",
   "metadata": {},
   "source": [
    "2022 data"
   ]
  },
  {
   "cell_type": "code",
   "execution_count": 21,
   "metadata": {},
   "outputs": [
    {
     "data": {
      "text/html": [
       "<div>\n",
       "<style scoped>\n",
       "    .dataframe tbody tr th:only-of-type {\n",
       "        vertical-align: middle;\n",
       "    }\n",
       "\n",
       "    .dataframe tbody tr th {\n",
       "        vertical-align: top;\n",
       "    }\n",
       "\n",
       "    .dataframe thead th {\n",
       "        text-align: right;\n",
       "    }\n",
       "</style>\n",
       "<table border=\"1\" class=\"dataframe\">\n",
       "  <thead>\n",
       "    <tr style=\"text-align: right;\">\n",
       "      <th></th>\n",
       "      <th>iso_code</th>\n",
       "      <th>continent</th>\n",
       "      <th>location</th>\n",
       "      <th>date</th>\n",
       "      <th>population</th>\n",
       "      <th>total_cases</th>\n",
       "      <th>new_cases</th>\n",
       "      <th>total_deaths</th>\n",
       "      <th>new_deaths</th>\n",
       "    </tr>\n",
       "  </thead>\n",
       "  <tbody>\n",
       "    <tr>\n",
       "      <th>729</th>\n",
       "      <td>AFG</td>\n",
       "      <td>Asia</td>\n",
       "      <td>Afghanistan</td>\n",
       "      <td>2022-01-01</td>\n",
       "      <td>41128772</td>\n",
       "      <td>158059.0</td>\n",
       "      <td>0.0</td>\n",
       "      <td>7356.0</td>\n",
       "      <td>0.0</td>\n",
       "    </tr>\n",
       "    <tr>\n",
       "      <th>730</th>\n",
       "      <td>AFG</td>\n",
       "      <td>Asia</td>\n",
       "      <td>Afghanistan</td>\n",
       "      <td>2022-01-02</td>\n",
       "      <td>41128772</td>\n",
       "      <td>158112.0</td>\n",
       "      <td>53.0</td>\n",
       "      <td>7356.0</td>\n",
       "      <td>0.0</td>\n",
       "    </tr>\n",
       "    <tr>\n",
       "      <th>731</th>\n",
       "      <td>AFG</td>\n",
       "      <td>Asia</td>\n",
       "      <td>Afghanistan</td>\n",
       "      <td>2022-01-03</td>\n",
       "      <td>41128772</td>\n",
       "      <td>158156.0</td>\n",
       "      <td>44.0</td>\n",
       "      <td>7361.0</td>\n",
       "      <td>5.0</td>\n",
       "    </tr>\n",
       "    <tr>\n",
       "      <th>732</th>\n",
       "      <td>AFG</td>\n",
       "      <td>Asia</td>\n",
       "      <td>Afghanistan</td>\n",
       "      <td>2022-01-04</td>\n",
       "      <td>41128772</td>\n",
       "      <td>158171.0</td>\n",
       "      <td>15.0</td>\n",
       "      <td>7364.0</td>\n",
       "      <td>3.0</td>\n",
       "    </tr>\n",
       "    <tr>\n",
       "      <th>733</th>\n",
       "      <td>AFG</td>\n",
       "      <td>Asia</td>\n",
       "      <td>Afghanistan</td>\n",
       "      <td>2022-01-05</td>\n",
       "      <td>41128772</td>\n",
       "      <td>158207.0</td>\n",
       "      <td>36.0</td>\n",
       "      <td>7366.0</td>\n",
       "      <td>2.0</td>\n",
       "    </tr>\n",
       "    <tr>\n",
       "      <th>...</th>\n",
       "      <td>...</td>\n",
       "      <td>...</td>\n",
       "      <td>...</td>\n",
       "      <td>...</td>\n",
       "      <td>...</td>\n",
       "      <td>...</td>\n",
       "      <td>...</td>\n",
       "      <td>...</td>\n",
       "      <td>...</td>\n",
       "    </tr>\n",
       "    <tr>\n",
       "      <th>332297</th>\n",
       "      <td>ZWE</td>\n",
       "      <td>Africa</td>\n",
       "      <td>Zimbabwe</td>\n",
       "      <td>2022-12-27</td>\n",
       "      <td>16320539</td>\n",
       "      <td>259969.0</td>\n",
       "      <td>22.0</td>\n",
       "      <td>5635.0</td>\n",
       "      <td>0.0</td>\n",
       "    </tr>\n",
       "    <tr>\n",
       "      <th>332298</th>\n",
       "      <td>ZWE</td>\n",
       "      <td>Africa</td>\n",
       "      <td>Zimbabwe</td>\n",
       "      <td>2022-12-28</td>\n",
       "      <td>16320539</td>\n",
       "      <td>259982.0</td>\n",
       "      <td>13.0</td>\n",
       "      <td>5635.0</td>\n",
       "      <td>0.0</td>\n",
       "    </tr>\n",
       "    <tr>\n",
       "      <th>332299</th>\n",
       "      <td>ZWE</td>\n",
       "      <td>Africa</td>\n",
       "      <td>Zimbabwe</td>\n",
       "      <td>2022-12-29</td>\n",
       "      <td>16320539</td>\n",
       "      <td>260015.0</td>\n",
       "      <td>33.0</td>\n",
       "      <td>5635.0</td>\n",
       "      <td>0.0</td>\n",
       "    </tr>\n",
       "    <tr>\n",
       "      <th>332300</th>\n",
       "      <td>ZWE</td>\n",
       "      <td>Africa</td>\n",
       "      <td>Zimbabwe</td>\n",
       "      <td>2022-12-30</td>\n",
       "      <td>16320539</td>\n",
       "      <td>260059.0</td>\n",
       "      <td>44.0</td>\n",
       "      <td>5636.0</td>\n",
       "      <td>1.0</td>\n",
       "    </tr>\n",
       "    <tr>\n",
       "      <th>332301</th>\n",
       "      <td>ZWE</td>\n",
       "      <td>Africa</td>\n",
       "      <td>Zimbabwe</td>\n",
       "      <td>2022-12-31</td>\n",
       "      <td>16320539</td>\n",
       "      <td>260100.0</td>\n",
       "      <td>41.0</td>\n",
       "      <td>5637.0</td>\n",
       "      <td>1.0</td>\n",
       "    </tr>\n",
       "  </tbody>\n",
       "</table>\n",
       "<p>92685 rows × 9 columns</p>\n",
       "</div>"
      ],
      "text/plain": [
       "       iso_code continent     location       date  population  total_cases  \\\n",
       "729         AFG      Asia  Afghanistan 2022-01-01    41128772     158059.0   \n",
       "730         AFG      Asia  Afghanistan 2022-01-02    41128772     158112.0   \n",
       "731         AFG      Asia  Afghanistan 2022-01-03    41128772     158156.0   \n",
       "732         AFG      Asia  Afghanistan 2022-01-04    41128772     158171.0   \n",
       "733         AFG      Asia  Afghanistan 2022-01-05    41128772     158207.0   \n",
       "...         ...       ...          ...        ...         ...          ...   \n",
       "332297      ZWE    Africa     Zimbabwe 2022-12-27    16320539     259969.0   \n",
       "332298      ZWE    Africa     Zimbabwe 2022-12-28    16320539     259982.0   \n",
       "332299      ZWE    Africa     Zimbabwe 2022-12-29    16320539     260015.0   \n",
       "332300      ZWE    Africa     Zimbabwe 2022-12-30    16320539     260059.0   \n",
       "332301      ZWE    Africa     Zimbabwe 2022-12-31    16320539     260100.0   \n",
       "\n",
       "        new_cases  total_deaths  new_deaths  \n",
       "729           0.0        7356.0         0.0  \n",
       "730          53.0        7356.0         0.0  \n",
       "731          44.0        7361.0         5.0  \n",
       "732          15.0        7364.0         3.0  \n",
       "733          36.0        7366.0         2.0  \n",
       "...           ...           ...         ...  \n",
       "332297       22.0        5635.0         0.0  \n",
       "332298       13.0        5635.0         0.0  \n",
       "332299       33.0        5635.0         0.0  \n",
       "332300       44.0        5636.0         1.0  \n",
       "332301       41.0        5637.0         1.0  \n",
       "\n",
       "[92685 rows x 9 columns]"
      ]
     },
     "execution_count": 21,
     "metadata": {},
     "output_type": "execute_result"
    }
   ],
   "source": [
    "desired_year=2022\n",
    "data_2022=df[df['date'].dt.year==desired_year]\n",
    "data_2022"
   ]
  },
  {
   "cell_type": "markdown",
   "metadata": {},
   "source": [
    "2023 data"
   ]
  },
  {
   "cell_type": "code",
   "execution_count": 22,
   "metadata": {},
   "outputs": [
    {
     "data": {
      "text/html": [
       "<div>\n",
       "<style scoped>\n",
       "    .dataframe tbody tr th:only-of-type {\n",
       "        vertical-align: middle;\n",
       "    }\n",
       "\n",
       "    .dataframe tbody tr th {\n",
       "        vertical-align: top;\n",
       "    }\n",
       "\n",
       "    .dataframe thead th {\n",
       "        text-align: right;\n",
       "    }\n",
       "</style>\n",
       "<table border=\"1\" class=\"dataframe\">\n",
       "  <thead>\n",
       "    <tr style=\"text-align: right;\">\n",
       "      <th></th>\n",
       "      <th>iso_code</th>\n",
       "      <th>continent</th>\n",
       "      <th>location</th>\n",
       "      <th>date</th>\n",
       "      <th>population</th>\n",
       "      <th>total_cases</th>\n",
       "      <th>new_cases</th>\n",
       "      <th>total_deaths</th>\n",
       "      <th>new_deaths</th>\n",
       "    </tr>\n",
       "  </thead>\n",
       "  <tbody>\n",
       "    <tr>\n",
       "      <th>1094</th>\n",
       "      <td>AFG</td>\n",
       "      <td>Asia</td>\n",
       "      <td>Afghanistan</td>\n",
       "      <td>2023-01-01</td>\n",
       "      <td>41128772</td>\n",
       "      <td>207579.0</td>\n",
       "      <td>25.0</td>\n",
       "      <td>7849.0</td>\n",
       "      <td>0.0</td>\n",
       "    </tr>\n",
       "    <tr>\n",
       "      <th>1095</th>\n",
       "      <td>AFG</td>\n",
       "      <td>Asia</td>\n",
       "      <td>Afghanistan</td>\n",
       "      <td>2023-01-02</td>\n",
       "      <td>41128772</td>\n",
       "      <td>207585.0</td>\n",
       "      <td>6.0</td>\n",
       "      <td>7849.0</td>\n",
       "      <td>0.0</td>\n",
       "    </tr>\n",
       "    <tr>\n",
       "      <th>1096</th>\n",
       "      <td>AFG</td>\n",
       "      <td>Asia</td>\n",
       "      <td>Afghanistan</td>\n",
       "      <td>2023-01-03</td>\n",
       "      <td>41128772</td>\n",
       "      <td>207644.0</td>\n",
       "      <td>59.0</td>\n",
       "      <td>7849.0</td>\n",
       "      <td>0.0</td>\n",
       "    </tr>\n",
       "    <tr>\n",
       "      <th>1097</th>\n",
       "      <td>AFG</td>\n",
       "      <td>Asia</td>\n",
       "      <td>Afghanistan</td>\n",
       "      <td>2023-01-04</td>\n",
       "      <td>41128772</td>\n",
       "      <td>207696.0</td>\n",
       "      <td>52.0</td>\n",
       "      <td>7850.0</td>\n",
       "      <td>1.0</td>\n",
       "    </tr>\n",
       "    <tr>\n",
       "      <th>1098</th>\n",
       "      <td>AFG</td>\n",
       "      <td>Asia</td>\n",
       "      <td>Afghanistan</td>\n",
       "      <td>2023-01-05</td>\n",
       "      <td>41128772</td>\n",
       "      <td>207714.0</td>\n",
       "      <td>18.0</td>\n",
       "      <td>7850.0</td>\n",
       "      <td>0.0</td>\n",
       "    </tr>\n",
       "    <tr>\n",
       "      <th>...</th>\n",
       "      <td>...</td>\n",
       "      <td>...</td>\n",
       "      <td>...</td>\n",
       "      <td>...</td>\n",
       "      <td>...</td>\n",
       "      <td>...</td>\n",
       "      <td>...</td>\n",
       "      <td>...</td>\n",
       "      <td>...</td>\n",
       "    </tr>\n",
       "    <tr>\n",
       "      <th>332518</th>\n",
       "      <td>ZWE</td>\n",
       "      <td>Africa</td>\n",
       "      <td>Zimbabwe</td>\n",
       "      <td>2023-08-05</td>\n",
       "      <td>16320539</td>\n",
       "      <td>265693.0</td>\n",
       "      <td>0.0</td>\n",
       "      <td>5712.0</td>\n",
       "      <td>0.0</td>\n",
       "    </tr>\n",
       "    <tr>\n",
       "      <th>332519</th>\n",
       "      <td>ZWE</td>\n",
       "      <td>Africa</td>\n",
       "      <td>Zimbabwe</td>\n",
       "      <td>2023-08-06</td>\n",
       "      <td>16320539</td>\n",
       "      <td>265693.0</td>\n",
       "      <td>0.0</td>\n",
       "      <td>5712.0</td>\n",
       "      <td>0.0</td>\n",
       "    </tr>\n",
       "    <tr>\n",
       "      <th>332520</th>\n",
       "      <td>ZWE</td>\n",
       "      <td>Africa</td>\n",
       "      <td>Zimbabwe</td>\n",
       "      <td>2023-08-07</td>\n",
       "      <td>16320539</td>\n",
       "      <td>265693.0</td>\n",
       "      <td>0.0</td>\n",
       "      <td>5712.0</td>\n",
       "      <td>0.0</td>\n",
       "    </tr>\n",
       "    <tr>\n",
       "      <th>332521</th>\n",
       "      <td>ZWE</td>\n",
       "      <td>Africa</td>\n",
       "      <td>Zimbabwe</td>\n",
       "      <td>2023-08-08</td>\n",
       "      <td>16320539</td>\n",
       "      <td>265693.0</td>\n",
       "      <td>0.0</td>\n",
       "      <td>5712.0</td>\n",
       "      <td>0.0</td>\n",
       "    </tr>\n",
       "    <tr>\n",
       "      <th>332522</th>\n",
       "      <td>ZWE</td>\n",
       "      <td>Africa</td>\n",
       "      <td>Zimbabwe</td>\n",
       "      <td>2023-08-09</td>\n",
       "      <td>16320539</td>\n",
       "      <td>265693.0</td>\n",
       "      <td>0.0</td>\n",
       "      <td>5712.0</td>\n",
       "      <td>0.0</td>\n",
       "    </tr>\n",
       "  </tbody>\n",
       "</table>\n",
       "<p>55790 rows × 9 columns</p>\n",
       "</div>"
      ],
      "text/plain": [
       "       iso_code continent     location       date  population  total_cases  \\\n",
       "1094        AFG      Asia  Afghanistan 2023-01-01    41128772     207579.0   \n",
       "1095        AFG      Asia  Afghanistan 2023-01-02    41128772     207585.0   \n",
       "1096        AFG      Asia  Afghanistan 2023-01-03    41128772     207644.0   \n",
       "1097        AFG      Asia  Afghanistan 2023-01-04    41128772     207696.0   \n",
       "1098        AFG      Asia  Afghanistan 2023-01-05    41128772     207714.0   \n",
       "...         ...       ...          ...        ...         ...          ...   \n",
       "332518      ZWE    Africa     Zimbabwe 2023-08-05    16320539     265693.0   \n",
       "332519      ZWE    Africa     Zimbabwe 2023-08-06    16320539     265693.0   \n",
       "332520      ZWE    Africa     Zimbabwe 2023-08-07    16320539     265693.0   \n",
       "332521      ZWE    Africa     Zimbabwe 2023-08-08    16320539     265693.0   \n",
       "332522      ZWE    Africa     Zimbabwe 2023-08-09    16320539     265693.0   \n",
       "\n",
       "        new_cases  total_deaths  new_deaths  \n",
       "1094         25.0        7849.0         0.0  \n",
       "1095          6.0        7849.0         0.0  \n",
       "1096         59.0        7849.0         0.0  \n",
       "1097         52.0        7850.0         1.0  \n",
       "1098         18.0        7850.0         0.0  \n",
       "...           ...           ...         ...  \n",
       "332518        0.0        5712.0         0.0  \n",
       "332519        0.0        5712.0         0.0  \n",
       "332520        0.0        5712.0         0.0  \n",
       "332521        0.0        5712.0         0.0  \n",
       "332522        0.0        5712.0         0.0  \n",
       "\n",
       "[55790 rows x 9 columns]"
      ]
     },
     "execution_count": 22,
     "metadata": {},
     "output_type": "execute_result"
    }
   ],
   "source": [
    "desired_year=2023\n",
    "data_2023=df[df['date'].dt.year==desired_year]\n",
    "data_2023"
   ]
  },
  {
   "cell_type": "code",
   "execution_count": null,
   "metadata": {},
   "outputs": [],
   "source": []
  }
 ],
 "metadata": {
  "kernelspec": {
   "display_name": "Python 3",
   "language": "python",
   "name": "python3"
  },
  "language_info": {
   "codemirror_mode": {
    "name": "ipython",
    "version": 3
   },
   "file_extension": ".py",
   "mimetype": "text/x-python",
   "name": "python",
   "nbconvert_exporter": "python",
   "pygments_lexer": "ipython3",
   "version": "3.10.10"
  }
 },
 "nbformat": 4,
 "nbformat_minor": 2
}
